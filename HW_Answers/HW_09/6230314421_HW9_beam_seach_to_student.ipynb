{
  "cells": [
    {
      "cell_type": "markdown",
      "source": [
        "# HW9: Beam Search Decoding - News Headline Generation"
      ],
      "metadata": {
        "id": "pDRbfJqgPfdr"
      },
      "id": "pDRbfJqgPfdr"
    },
    {
      "cell_type": "markdown",
      "source": [
        "In this exercise, you are going to learn and implement decoding techniques for sequence generation. Usually, the sequence is generated word-by-word from a model. In each step, the model predicted the most likely word based on the predicted words in previous steps (this is called auto-regressive decoding).\n",
        "\n",
        "As such, it is very important how you decide on what to predicted at each step, as it will be conditioned on to predicted all of the following steps. We will implement two of main decoding techniques introduced in the lecture: **Greedy Decoding** and **Beam Search Decoding**. Greedy Decoding immediately chooses the word with best score at each step, while Beam Search Decoding focuses on the sequence that give the best score overall.\n",
        "\n",
        "To complete this exercise, you will need to complete the methods for decoding for a text generation model trained on [New York Times Comments and Headlines dataset](https://www.kaggle.com/aashita/nyt-comments). The model is trained to predict a headline for the news given seed text. You do not need to train any model model in this exercise as we provide both the pretrained model and dictionary.\n"
      ],
      "metadata": {
        "id": "fSDxXAqSPeBB"
      },
      "id": "fSDxXAqSPeBB"
    },
    {
      "cell_type": "markdown",
      "source": [
        "## Download model and vocab and setup"
      ],
      "metadata": {
        "id": "YFlSAvCfiZXf"
      },
      "id": "YFlSAvCfiZXf"
    },
    {
      "cell_type": "code",
      "source": [
        "!wget -O vocab.txt https://www.dropbox.com/s/ht12ua9vpkep6l8/hw9_vocab.txt?dl=0\n",
        "!wget -O model.bin https://www.dropbox.com/s/okmri7cnd729rr5/hw9_model.bin?dl=0"
      ],
      "metadata": {
        "id": "q5gRmwtdiYjp",
        "colab": {
          "base_uri": "https://localhost:8080/"
        },
        "outputId": "81eab2e5-7db0-47b9-eb8b-cc9f31cf2ceb"
      },
      "id": "q5gRmwtdiYjp",
      "execution_count": 1,
      "outputs": [
        {
          "output_type": "stream",
          "name": "stdout",
          "text": [
            "--2023-03-28 13:45:51--  https://www.dropbox.com/s/ht12ua9vpkep6l8/hw9_vocab.txt?dl=0\n",
            "Resolving www.dropbox.com (www.dropbox.com)... 162.125.81.18, 2620:100:6031:18::a27d:5112\n",
            "Connecting to www.dropbox.com (www.dropbox.com)|162.125.81.18|:443... connected.\n",
            "HTTP request sent, awaiting response... 302 Found\n",
            "Location: /s/raw/ht12ua9vpkep6l8/hw9_vocab.txt [following]\n",
            "--2023-03-28 13:45:51--  https://www.dropbox.com/s/raw/ht12ua9vpkep6l8/hw9_vocab.txt\n",
            "Reusing existing connection to www.dropbox.com:443.\n",
            "HTTP request sent, awaiting response... 302 Found\n",
            "Location: https://uccb9e6f332615e11bcbc3bd8b15.dl.dropboxusercontent.com/cd/0/inline/B5FTOY0PLEVm4W4C9cN0z6sdeD5K7_cGLtIqrLasi6I6eUR2S5nu_5DVHiphLinXec80LBixA1P6cWklxJF8Qb3WxAWH6gX0TyBQQZd38AWTLa1SnijNDq_HH1wEHMMaFtu4g9ZmCC55ptSFTuKrrYlj1-B6o-nXlqQ9Zf7rv16FYg/file# [following]\n",
            "--2023-03-28 13:45:52--  https://uccb9e6f332615e11bcbc3bd8b15.dl.dropboxusercontent.com/cd/0/inline/B5FTOY0PLEVm4W4C9cN0z6sdeD5K7_cGLtIqrLasi6I6eUR2S5nu_5DVHiphLinXec80LBixA1P6cWklxJF8Qb3WxAWH6gX0TyBQQZd38AWTLa1SnijNDq_HH1wEHMMaFtu4g9ZmCC55ptSFTuKrrYlj1-B6o-nXlqQ9Zf7rv16FYg/file\n",
            "Resolving uccb9e6f332615e11bcbc3bd8b15.dl.dropboxusercontent.com (uccb9e6f332615e11bcbc3bd8b15.dl.dropboxusercontent.com)... 162.125.64.15, 2620:100:6025:15::a27d:450f\n",
            "Connecting to uccb9e6f332615e11bcbc3bd8b15.dl.dropboxusercontent.com (uccb9e6f332615e11bcbc3bd8b15.dl.dropboxusercontent.com)|162.125.64.15|:443... connected.\n",
            "HTTP request sent, awaiting response... 200 OK\n",
            "Length: 78729 (77K) [text/plain]\n",
            "Saving to: ‘vocab.txt’\n",
            "\n",
            "vocab.txt           100%[===================>]  76.88K   132KB/s    in 0.6s    \n",
            "\n",
            "2023-03-28 13:45:54 (132 KB/s) - ‘vocab.txt’ saved [78729/78729]\n",
            "\n",
            "--2023-03-28 13:45:54--  https://www.dropbox.com/s/okmri7cnd729rr5/hw9_model.bin?dl=0\n",
            "Resolving www.dropbox.com (www.dropbox.com)... 162.125.81.18, 2620:100:6031:18::a27d:5112\n",
            "Connecting to www.dropbox.com (www.dropbox.com)|162.125.81.18|:443... connected.\n",
            "HTTP request sent, awaiting response... 302 Found\n",
            "Location: /s/raw/okmri7cnd729rr5/hw9_model.bin [following]\n",
            "--2023-03-28 13:45:54--  https://www.dropbox.com/s/raw/okmri7cnd729rr5/hw9_model.bin\n",
            "Reusing existing connection to www.dropbox.com:443.\n",
            "HTTP request sent, awaiting response... 302 Found\n",
            "Location: https://uc1b619466a16a7391c40a5b0159.dl.dropboxusercontent.com/cd/0/inline/B5G4iRU2uFexOxWe13wpdhQq0XenFX2d23fAaUw_StdIhU630ZNAAhJRfSndV3VvGQigYnifxNCr9i8DB3KTKBI2q3UNQpAP-VZ6W_-Jy7lRqB2CGOdaRHHNy_KGiA4DZLqfz9jH8pAiSv1T8U8YR4Qq7K9UEzfwsfLyPpZh4M3zqQ/file# [following]\n",
            "--2023-03-28 13:45:55--  https://uc1b619466a16a7391c40a5b0159.dl.dropboxusercontent.com/cd/0/inline/B5G4iRU2uFexOxWe13wpdhQq0XenFX2d23fAaUw_StdIhU630ZNAAhJRfSndV3VvGQigYnifxNCr9i8DB3KTKBI2q3UNQpAP-VZ6W_-Jy7lRqB2CGOdaRHHNy_KGiA4DZLqfz9jH8pAiSv1T8U8YR4Qq7K9UEzfwsfLyPpZh4M3zqQ/file\n",
            "Resolving uc1b619466a16a7391c40a5b0159.dl.dropboxusercontent.com (uc1b619466a16a7391c40a5b0159.dl.dropboxusercontent.com)... 162.125.67.15, 2620:100:6031:15::a27d:510f\n",
            "Connecting to uc1b619466a16a7391c40a5b0159.dl.dropboxusercontent.com (uc1b619466a16a7391c40a5b0159.dl.dropboxusercontent.com)|162.125.67.15|:443... connected.\n",
            "HTTP request sent, awaiting response... 302 Found\n",
            "Location: /cd/0/inline2/B5EF-H-6kpRcsAUTfLNh3kicoHymCWoX6tytMJakeU3-QZKxHBnqgew7cvx6oZuUjvJIZQIyDxvaM86pbZM8z4yelOoeRgp1eEw_ezz8i7iYCoPAZTDvkiiNnFDM58aSAeK25Dw6cziwxV79sAm68ilGaM4R0VibNYDjiVzA1RqAlWDWxxtrmkeOVJYsNfmQEsuyZMhDbr1S-stw-B1_LPoMHZUo5R1XWmspur3g8ViES639GYqf6YyjwXo3k1GPGzIpBYM-eYFxwrILOqOnNugmkH9c7r6J_J2BpxmyaNxVXmecUtHKg13k5cSCj_-BjkbjMekLm_1O5jqKIA9xad8WuPLMWyu7RAO-Vkhv5xIfXycGoaHXtyrqDMEVKp1KeFdWsk60Vl-n3rFgv6cR1Je2B61Srp_OEyJPrltpI0gw8g/file [following]\n",
            "--2023-03-28 13:45:56--  https://uc1b619466a16a7391c40a5b0159.dl.dropboxusercontent.com/cd/0/inline2/B5EF-H-6kpRcsAUTfLNh3kicoHymCWoX6tytMJakeU3-QZKxHBnqgew7cvx6oZuUjvJIZQIyDxvaM86pbZM8z4yelOoeRgp1eEw_ezz8i7iYCoPAZTDvkiiNnFDM58aSAeK25Dw6cziwxV79sAm68ilGaM4R0VibNYDjiVzA1RqAlWDWxxtrmkeOVJYsNfmQEsuyZMhDbr1S-stw-B1_LPoMHZUo5R1XWmspur3g8ViES639GYqf6YyjwXo3k1GPGzIpBYM-eYFxwrILOqOnNugmkH9c7r6J_J2BpxmyaNxVXmecUtHKg13k5cSCj_-BjkbjMekLm_1O5jqKIA9xad8WuPLMWyu7RAO-Vkhv5xIfXycGoaHXtyrqDMEVKp1KeFdWsk60Vl-n3rFgv6cR1Je2B61Srp_OEyJPrltpI0gw8g/file\n",
            "Reusing existing connection to uc1b619466a16a7391c40a5b0159.dl.dropboxusercontent.com:443.\n",
            "HTTP request sent, awaiting response... 200 OK\n",
            "Length: 8690974 (8.3M) [application/octet-stream]\n",
            "Saving to: ‘model.bin’\n",
            "\n",
            "model.bin           100%[===================>]   8.29M  3.86MB/s    in 2.1s    \n",
            "\n",
            "2023-03-28 13:45:59 (3.86 MB/s) - ‘model.bin’ saved [8690974/8690974]\n",
            "\n"
          ]
        }
      ]
    },
    {
      "cell_type": "code",
      "source": [
        "import torchtext\n",
        "import torch\n",
        "import torch.nn as nn\n",
        "import numpy as np"
      ],
      "metadata": {
        "id": "i9ITxmo5i-s6"
      },
      "id": "i9ITxmo5i-s6",
      "execution_count": 2,
      "outputs": []
    },
    {
      "cell_type": "code",
      "source": [
        "class RNNmodel(nn.Module):\n",
        "    def __init__(self, vocab_size, embedding_dim, dropout_rate):\n",
        "                \n",
        "        super().__init__()\n",
        "        self.embedding_dim = embedding_dim\n",
        "\n",
        "        self.embedding = nn.Embedding(vocab_size, embedding_dim)\n",
        "        self.rnn = nn.LSTM(embedding_dim, 128, num_layers=2, \n",
        "                     batch_first=True)\n",
        "        self.dropout = nn.Dropout(dropout_rate)\n",
        "        self.fc2 = nn.Linear(128, vocab_size)\n",
        "\n",
        "    def forward(self, src):\n",
        "        embedding = self.embedding(src)\n",
        "        output,_ = self.rnn(embedding)         \n",
        "        output = self.dropout(output) \n",
        "        prediction = self.fc2(output)\n",
        "        return prediction"
      ],
      "metadata": {
        "id": "VcDZCYkEi0b4"
      },
      "id": "VcDZCYkEi0b4",
      "execution_count": 3,
      "outputs": []
    },
    {
      "cell_type": "code",
      "source": [
        "with open(\"vocab.txt\") as f:\n",
        "  vocab_file = f.readlines()\n",
        "embedding_dim = 64             \n",
        "dropout_rate = 0.2              \n",
        "\n",
        "model = RNNmodel(len(vocab_file), embedding_dim, dropout_rate)\n",
        "model.load_state_dict(torch.load(\"model.bin\",map_location='cpu'))\n",
        "model.eval()"
      ],
      "metadata": {
        "colab": {
          "base_uri": "https://localhost:8080/"
        },
        "id": "6bZt9R0JjL8l",
        "outputId": "2cc216dc-1210-47e8-f594-d9b5019fe5c0"
      },
      "id": "6bZt9R0JjL8l",
      "execution_count": 4,
      "outputs": [
        {
          "output_type": "execute_result",
          "data": {
            "text/plain": [
              "RNNmodel(\n",
              "  (embedding): Embedding(10054, 64)\n",
              "  (rnn): LSTM(64, 128, num_layers=2, batch_first=True)\n",
              "  (dropout): Dropout(p=0.2, inplace=False)\n",
              "  (fc2): Linear(in_features=128, out_features=10054, bias=True)\n",
              ")"
            ]
          },
          "metadata": {},
          "execution_count": 4
        }
      ]
    },
    {
      "cell_type": "code",
      "source": [
        "vocab = torchtext.vocab.vocab({})\n",
        "for v in vocab_file: vocab.append_token(v.strip()) "
      ],
      "metadata": {
        "id": "mOEWXsXzjpn6"
      },
      "id": "mOEWXsXzjpn6",
      "execution_count": 5,
      "outputs": []
    },
    {
      "cell_type": "markdown",
      "source": [
        "## 1. TODO: Greedy decode\n",
        "Normally, in sequence generation task, the model will continue generating tokens until an end-of-sequence symbol appear or the maximum length is reached. For this task:\n",
        "- The end-of-sequence symbol is \"< eos >\" and its index is 2\n",
        "- Use the maximum generation length of 15"
      ],
      "metadata": {
        "id": "rSt1yuR19co-"
      },
      "id": "rSt1yuR19co-"
    },
    {
      "cell_type": "code",
      "source": [
        "eos_token = '<eos>'\n",
        "max_gen_length = 15"
      ],
      "metadata": {
        "id": "oUCajb2BvKnN"
      },
      "id": "oUCajb2BvKnN",
      "execution_count": 102,
      "outputs": []
    },
    {
      "cell_type": "code",
      "execution_count": 132,
      "id": "e6638613",
      "metadata": {
        "id": "e6638613"
      },
      "outputs": [],
      "source": [
        "def greedy_decode(seed_text, vocab, max_gen_length=15):\n",
        "    \"\"\"Greedy decodes with seed text.\n",
        "\n",
        "        Args:\n",
        "        seed_text: The seed string to be used as initial input to the model.\n",
        "        vocab: The vocab for converting word to index and back.\n",
        "\n",
        "        Your code should do the followings:\n",
        "          1. Convert current_text to sequences of indices \n",
        "          2. Predict the next token using the model and choose the token with the highest score as output\n",
        "          3. Append the predicted index to current_text\n",
        "          4. Loop until completion\n",
        "          5. Return text prediction and a list of probabilities of each step\n",
        "\n",
        "        You do not need to stop early when end-of-sequence token is generated and can continue decoding\n",
        "        until max_gen_length is reached. We can filter the eos token out later.\n",
        "    \"\"\"\n",
        "    word_to_idx = vocab.get_stoi()\n",
        "    idx_to_word = vocab.get_itos()\n",
        "    output = [seed_text]\n",
        "    probs = []\n",
        "    output_tensor = torch.LongTensor([word_to_idx[seed_text]])\n",
        "    with torch.no_grad():\n",
        "      while output_tensor.shape[0] <= max_gen_length:\n",
        "        pred = torch.softmax(model(output_tensor), dim=1)\n",
        "        pred_id, pred_prob = pred[-1].max(dim=0).indices, pred[-1].max(dim=0).values\n",
        "        output += [idx_to_word[pred_id]]\n",
        "        probs += [pred_prob.item()]\n",
        "        output_tensor = torch.LongTensor([word_to_idx[t] for t in output])\n",
        "    return output, probs"
      ]
    },
    {
      "cell_type": "code",
      "execution_count": 133,
      "id": "9f78f6c8",
      "metadata": {
        "id": "9f78f6c8"
      },
      "outputs": [],
      "source": [
        "def clean_output(text, eos_token):\n",
        "    \"\"\"Drop eos_token and every words that follow\"\"\"\n",
        "    return ' '.join(text[:text.index(eos_token)]) if eos_token in text else ' '.join(text)"
      ]
    },
    {
      "cell_type": "code",
      "execution_count": 134,
      "id": "bdd42c8a",
      "metadata": {
        "id": "bdd42c8a",
        "colab": {
          "base_uri": "https://localhost:8080/"
        },
        "outputId": "fbf57a11-ca68-4e83-f899-380c16698176"
      },
      "outputs": [
        {
          "output_type": "stream",
          "name": "stdout",
          "text": [
            "to encourage creativity in the new york bill\n",
            "america s lethal export\n",
            "people to balloon to make a criminal with a dog with a callous rival\n",
            "next phenom english clubs 2 call another deal in the same arrivals\n",
            "picture perfect chapter a spot of view of banning care\n",
            "on the catwalk in saudi arabia\n"
          ]
        }
      ],
      "source": [
        "sample_seeds = [\"to\", \"america\", \"people\", \"next\", \"picture\", \"on\"]\n",
        "for seed in sample_seeds:\n",
        "    output, probs = greedy_decode(seed, vocab)\n",
        "    print(clean_output(output, eos_token))\n",
        "    "
      ]
    },
    {
      "cell_type": "markdown",
      "source": [
        "Your output should be:\n",
        "\n",
        "*   to encourage creativity in the new york bill \n",
        "*   america s lethal export\n",
        "*   people to balloon to make a criminal with a dog with a callous rival \n",
        "*   next phenom english clubs 2 call another deal in the same arrivals\n",
        "*   picture perfect chapter a spot of view of banning care  \n",
        "*   on the catwalk in saudi arabia\n",
        " \n",
        "\n",
        " \n",
        "\n",
        " \n"
      ],
      "metadata": {
        "id": "h99jCVvjUvFT"
      },
      "id": "h99jCVvjUvFT"
    },
    {
      "cell_type": "markdown",
      "id": "7553f608",
      "metadata": {
        "id": "7553f608"
      },
      "source": [
        "## 2. TODO: Beam search decode\n",
        "\n",
        "Another well-known decoding method is beam search decoding that focuses more on the overall sequence score.\n",
        "\n",
        "Instead of greedily choosing the token with the highest score for each step, beam search decoding expands all possible next tokens and keeps the __k__ most likely sequence at each step, where __k__ is a user-specified beam size. A sequence score is also calculated according user-specified cal_score() function.\n",
        "The beam with the highest score after the decoding process is done will be the output."
      ]
    },
    {
      "cell_type": "markdown",
      "source": [
        "There are a few things that you need to know before implementing a beam search decoder:\n",
        "- When the eos token is produced, you can stop expanding that beam\n",
        "- However, the ended beams must be sorted together with active beams\n",
        "- The decoding ends when every beams are either ended or reached the maximum length, but for this task, you can continue decoding until the max_gen_len is reached\n",
        "- We usually work with probability in log scale to avoid numerical underflow. You should use np.log(score) before any calculation\n",
        "- **As probabilities for some classes will be very small, you must add a very small value to the score before taking log e.g np.log(prob + 0.00000001)**"
      ],
      "metadata": {
        "id": "8kArvA-6xLmQ"
      },
      "id": "8kArvA-6xLmQ"
    },
    {
      "cell_type": "markdown",
      "source": [
        "#### Sequence Score\n",
        "The naive way to calculate the sequence score is to __multiply every token scores__ together. However, doing so will make the decoder prefer shorter sequence as you multiply the sequence score with a value between \\[0,1\\] for every tokens in the sequence. Thus, we usually normalize the sequence score with its length by calculating its __geometric mean__ instead.\n",
        "\n",
        "**You should do this in log scale**"
      ],
      "metadata": {
        "id": "MQRZftUYxcCU"
      },
      "id": "MQRZftUYxcCU"
    },
    {
      "cell_type": "code",
      "execution_count": 135,
      "id": "d76c6f52",
      "metadata": {
        "id": "d76c6f52"
      },
      "outputs": [],
      "source": [
        "def cal_score(score_list, length, normalized=False): #cal score for each beam from a list of probs\n",
        "    eps = 0.00000001\n",
        "    if normalized:\n",
        "        score = np.log(np.array(score_list) + eps).sum()/length\n",
        "    else:\n",
        "        score = np.log(np.array(score_list) + eps).sum()\n",
        "    return score"
      ]
    },
    {
      "cell_type": "code",
      "execution_count": 136,
      "id": "bb1dd75a",
      "metadata": {
        "id": "bb1dd75a"
      },
      "outputs": [],
      "source": [
        "def beam_search_decode(seed_text, max_gen_len, vocab, beam_size=5, normalized=False):\n",
        "    \"\"\"We will do beam search decoding using seed text in this function.\n",
        "\n",
        "    Output:\n",
        "    beams: A list of top k beams after the decoding ended, each beam is a list of \n",
        "      [seed_text, list of scores, length]\n",
        "\n",
        "    Your code should do the followings:\n",
        "    1.Loop until max_gen_len is reached.\n",
        "    2.During each step, loop through each beam and use it to predict the next word.\n",
        "      If a beam is already ended, continues without expanding.\n",
        "    3.Sort all hypotheses according to cal_score().\n",
        "    4.Keep top k hypotheses to be used at the next step.\n",
        "    \"\"\"\n",
        "    # For each beam we will store (generated text, list of scores, and current length, is_finished)\n",
        "    # Add initial beam\n",
        "    word_to_idx = vocab.get_stoi()\n",
        "    idx_to_word = vocab.get_itos()\n",
        "    beams = [[[seed_text], [], 0, False]]\n",
        "    for _ in range(max_gen_len):\n",
        "      candidate_beams = []\n",
        "      for beam in beams:\n",
        "        texts, scores, curr_len, finish_flag = beam\n",
        "        if finish_flag:\n",
        "          candidate_beams.append(beam)\n",
        "          continue\n",
        "        texts_tensor = torch.LongTensor([word_to_idx[t] for t in texts])\n",
        "        # print(texts_tensor)\n",
        "        with torch.no_grad():\n",
        "          pred = torch.softmax(model(texts_tensor), dim=1)\n",
        "          candidate_idx = pred[-1].argsort(dim=0, descending=True)[:beam_size]\n",
        "          candidate_probs = pred[-1][candidate_idx]\n",
        "          # print(candidate_idx)\n",
        "          # print([idx_to_word[id] for id in candidate_idx])\n",
        "          # print(candidate_probs)\n",
        "        for c_idx, c_prob in zip(candidate_idx.tolist(), candidate_probs.tolist()):\n",
        "          # print(c_idx, c_prob)\n",
        "          if idx_to_word[c_idx] == '<eos>':\n",
        "            next_finish_flag = True\n",
        "            candidate_beams.append([\n",
        "              texts,\n",
        "              scores + [c_prob],\n",
        "              curr_len + 1,\n",
        "              next_finish_flag \n",
        "              ])\n",
        "          else:\n",
        "            next_finish_flag = False\n",
        "            candidate_beams.append([\n",
        "              texts + [idx_to_word[c_idx]],\n",
        "              scores + [c_prob],\n",
        "              curr_len + 1,\n",
        "              next_finish_flag \n",
        "              ])\n",
        "        candidate_beams.sort(reverse=True, key=lambda beam: cal_score(beam[1], beam[2], normalized=normalized))\n",
        "        candidate_beams = candidate_beams[:beam_size]\n",
        "        # print(candidate_beams)\n",
        "        beams = candidate_beams[:]\n",
        "        # for b in beams:\n",
        "        #   print(\" \".join(b[0]), cal_score(b[1], b[2], normalized))\n",
        "        # print()\n",
        "        # print([(\" \".join(cb[0]), cal_score(cb[1], cb[2])) for cb in candidate_beams])\n",
        "      # print()\n",
        "\n",
        "    return beams"
      ]
    },
    {
      "cell_type": "markdown",
      "source": [
        "## 3. Generate!\n",
        "Generate 6 sentences based on the given seed texts.\n",
        "\n",
        "Decode with the provided seed texts with beam_size 5. Compare the results between greedy, normalized, and unnormalized decoding.\n",
        "\n",
        "Print the result using greedy decoding and top 2 results each using unnormalized and normalized decoing for each seed text.\n",
        "\n",
        "Also, print scores of each candidate according to cal_score(). Use normalization for greedy decoding."
      ],
      "metadata": {
        "id": "i_eqGDA09zqk"
      },
      "id": "i_eqGDA09zqk"
    },
    {
      "cell_type": "code",
      "execution_count": 137,
      "id": "d40a3cb0",
      "metadata": {
        "id": "d40a3cb0",
        "colab": {
          "base_uri": "https://localhost:8080/"
        },
        "outputId": "98918d44-e277-4619-cd18-905785fd08e9"
      },
      "outputs": [
        {
          "output_type": "stream",
          "name": "stdout",
          "text": [
            "-Greedy-\n",
            "to encourage creativity in the new york bill\n",
            "-Unnormalized-\n",
            "to consult exploring recipes for new jersey 0.0\n",
            "to consult exploring recipes up the pacific northwest 0.0\n",
            "-Normalized-\n",
            "to consult exploring recipes up the pacific northwest 0.22\n",
            "to consult exploring recipes up the least of the week 0.19\n",
            "\n",
            "-Greedy-\n",
            "america s lethal export\n",
            "-Unnormalized-\n",
            "america s lethal export 0.01\n",
            "america s desert aisles 0.01\n",
            "-Normalized-\n",
            "america s lethal export 0.35\n",
            "america s desert aisles 0.3\n",
            "\n",
            "-Greedy-\n",
            "people to balloon to make a criminal with a dog with a callous rival\n",
            "-Unnormalized-\n",
            "people to balloon for a criminal 0.0\n",
            "people to balloon for a criminal with trump 0.0\n",
            "-Normalized-\n",
            "people to balloon for a criminal with a second fiddle 0.16\n",
            "people to balloon for a criminal with trump 0.16\n",
            "\n",
            "-Greedy-\n",
            "next phenom english clubs 2 call another deal in the same arrivals\n",
            "-Unnormalized-\n",
            "next s blist revue 0.0\n",
            "next phenom english clubs 1 a chance to be back 0.0\n",
            "-Normalized-\n",
            "next s blist revue 0.23\n",
            "next phenom english clubs 1 a chance to be back 0.16\n",
            "\n",
            "-Greedy-\n",
            "picture perfect chapter a spot of view of banning care\n",
            "-Unnormalized-\n",
            "picture perfect use coffee 0.0\n",
            "picture korean a bonanza of pancakes 0.0\n",
            "-Normalized-\n",
            "picture korean a bonanza of contemplation times of trump s son 0.12\n",
            "picture korean a bonanza of pancakes 0.11\n",
            "\n",
            "-Greedy-\n",
            "on the catwalk in saudi arabia\n",
            "-Unnormalized-\n",
            "on the billboard chart 0.0\n",
            "on the catwalk in saudi arabia 0.0\n",
            "-Normalized-\n",
            "on the whole30 diet vowing to eat smarter carbs to be 0.27\n",
            "on the whole30 diet vowing to eat smarter carbs for because 0.26\n",
            "\n"
          ]
        }
      ],
      "source": [
        "sample_seeds = [\"to\", \"america\", \"people\", \"next\", \"picture\", \"on\"]\n",
        "max_gen_length = 10\n",
        "for seed in sample_seeds:\n",
        "    output, probs = greedy_decode(seed, vocab)\n",
        "    beams = beam_search_decode(seed, max_gen_length, vocab, beam_size=5, normalized=False)\n",
        "    beams_norm = beam_search_decode(seed, max_gen_length, vocab, beam_size=5, normalized=True)\n",
        "    \n",
        "    print('-Greedy-')\n",
        "    print(clean_output(output, eos_token))\n",
        "    print('-Unnormalized-')\n",
        "    print(' '.join(beams[0][0]), round(np.e**cal_score(beams[0][1], beams[0][2], normalized=False), 2) )\n",
        "    print(' '.join(beams[1][0]), round(np.e**cal_score(beams[1][1], beams[1][2], normalized=False), 2) )\n",
        "    print('-Normalized-')\n",
        "    print(' '.join(beams_norm[0][0]), round(np.e**cal_score(beams_norm[0][1], beams_norm[0][2], normalized=True), 2) )\n",
        "    print(' '.join(beams_norm[1][0]), round(np.e**cal_score(beams_norm[1][1], beams_norm[1][2], normalized=True), 2) )\n",
        "    print()\n",
        "    \n"
      ]
    },
    {
      "cell_type": "markdown",
      "source": [
        "Your output should be:\n",
        "\n",
        "\n",
        "```\n",
        "-Greedy-\n",
        "to encourage creativity in the new york bill  0.12\n",
        "-Unnormalized-\n",
        "To Consult Exploring Recipes For New Jersey 0.00\n",
        "To Consult Exploring Recipes Up The Pacific Northwest 0.00\n",
        "-Normalized-\n",
        "To Consult Exploring Recipes Up The Pacific Northwest 0.17\n",
        "To Consult Exploring Recipes Up The Least Of The Week 0.16\n",
        "\n",
        "-Greedy-\n",
        "america s lethal export  0.35\n",
        "-Unnormalized-\n",
        "America S Lethal Export 0.02\n",
        "America S Desert Aisles 0.01\n",
        "-Normalized-\n",
        "America S Lethal Export 0.25\n",
        "America S Desert Aisles 0.20\n",
        "\n",
        "-Greedy-\n",
        "people to balloon to make a criminal with a dog with a callous rival  0.16\n",
        "-Unnormalized-\n",
        "People To Balloon For A Criminal 0.00\n",
        "People To Balloon For A Criminal With Trump 0.00\n",
        "-Normalized-\n",
        "People To Balloon For A Criminal With A Second Fiddle 0.13\n",
        "People To Balloon For A Criminal With Trump 0.13\n",
        "\n",
        "-Greedy-\n",
        "next phenom english clubs 2 call another deal in the same arrivals  0.15\n",
        "-Unnormalized-\n",
        "Next S Blist Revue 0.00\n",
        "Next Phenom English Clubs 1 A Chance To Be Back 0.00\n",
        "-Normalized-\n",
        "Next S Blist Revue 0.14\n",
        "Next Phenom English Clubs 1 A Chance To Be Back 0.14\n",
        "\n",
        "-Greedy-\n",
        "picture perfect chapter a spot of view of banning care  0.09\n",
        "-Unnormalized-\n",
        "Picture Perfect Use Coffee 0.00\n",
        "Picture Korean A Bonanza Of Pancakes 0.00\n",
        "-Normalized-\n",
        "Picture Korean A Bonanza Of Contemplation Times Of Trump S Son 0.12\n",
        "Picture Korean A Bonanza Of Pancakes 0.07\n",
        "\n",
        "-Greedy-\n",
        "on the catwalk in saudi arabia  0.25\n",
        "-Unnormalized-\n",
        "On The Billboard Chart 0.00\n",
        "On The Catwalk In Saudi Arabia 0.00\n",
        "-Normalized-\n",
        "On The Whole30 Diet Vowing To Eat Smarter Carbs To Be 0.27\n",
        "On The Whole30 Diet Vowing To Eat Smarter Carbs For Because 0.26\n",
        "\n",
        "```\n",
        "\n"
      ],
      "metadata": {
        "id": "icfu6pOzWUSt"
      },
      "id": "icfu6pOzWUSt"
    },
    {
      "cell_type": "markdown",
      "source": [
        "# Answer Questions in MyCourseVille!\n",
        "\n",
        "Use the seed word \"usa\" to answer questions in MCV."
      ],
      "metadata": {
        "id": "tquJVskBeM9m"
      },
      "id": "tquJVskBeM9m"
    },
    {
      "cell_type": "code",
      "source": [
        "sample_seeds = [\"usa\"]\n",
        "max_gen_length = 10\n",
        "for seed in sample_seeds:\n",
        "    output, probs = greedy_decode(seed, vocab)\n",
        "    beams = beam_search_decode(seed, max_gen_length, vocab, beam_size=5, normalized=False)\n",
        "    beams_norm = beam_search_decode(seed, max_gen_length, vocab, beam_size=5, normalized=True)\n",
        "    \n",
        "    print('-Greedy-')\n",
        "    print(clean_output(output, eos_token))\n",
        "    print('-Unnormalized-')\n",
        "    print(' '.join(beams[0][0]), round(np.e**cal_score(beams[0][1], beams[0][2], normalized=False), 2) )\n",
        "    print(' '.join(beams[1][0]), round(np.e**cal_score(beams[1][1], beams[1][2], normalized=False), 2) )\n",
        "    print('-Normalized-')\n",
        "    print(' '.join(beams_norm[0][0]), round(np.e**cal_score(beams_norm[0][1], beams_norm[0][2], normalized=True), 2) )\n",
        "    print(' '.join(beams_norm[1][0]), round(np.e**cal_score(beams_norm[1][1], beams_norm[1][2], normalized=True), 2) )\n",
        "    print()\n",
        "    \n"
      ],
      "metadata": {
        "colab": {
          "base_uri": "https://localhost:8080/"
        },
        "id": "LW9nNmELtzDn",
        "outputId": "45a87617-9eca-4703-b784-0c9d1db0c62f"
      },
      "id": "LW9nNmELtzDn",
      "execution_count": 138,
      "outputs": [
        {
          "output_type": "stream",
          "name": "stdout",
          "text": [
            "-Greedy-\n",
            "usa s duty to investigate\n",
            "-Unnormalized-\n",
            "usa s duty to investigate 0.0\n",
            "usa s bleak season 3 episode 4 recap chicken 0.0\n",
            "-Normalized-\n",
            "usa s bleak season 1 episode 2 darkness descends 0.23\n",
            "usa s bleak season 3 episode 4 recap a seduction 0.21\n",
            "\n"
          ]
        }
      ]
    },
    {
      "cell_type": "code",
      "source": [],
      "metadata": {
        "id": "V37tG_F2t1kI"
      },
      "id": "V37tG_F2t1kI",
      "execution_count": null,
      "outputs": []
    }
  ],
  "metadata": {
    "kernelspec": {
      "display_name": "Python 3 (ipykernel)",
      "language": "python",
      "name": "python3"
    },
    "language_info": {
      "codemirror_mode": {
        "name": "ipython",
        "version": 3
      },
      "file_extension": ".py",
      "mimetype": "text/x-python",
      "name": "python",
      "nbconvert_exporter": "python",
      "pygments_lexer": "ipython3",
      "version": "3.7.11"
    },
    "colab": {
      "provenance": []
    },
    "accelerator": "GPU",
    "gpuClass": "standard"
  },
  "nbformat": 4,
  "nbformat_minor": 5
}