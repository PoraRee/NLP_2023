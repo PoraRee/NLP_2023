{
  "nbformat": 4,
  "nbformat_minor": 0,
  "metadata": {
    "kernelspec": {
      "display_name": "Python 3",
      "language": "python",
      "name": "python3"
    },
    "language_info": {
      "codemirror_mode": {
        "name": "ipython",
        "version": 3
      },
      "file_extension": ".py",
      "mimetype": "text/x-python",
      "name": "python",
      "nbconvert_exporter": "python",
      "pygments_lexer": "ipython3",
      "version": "3.6.4"
    },
    "colab": {
      "provenance": []
    }
  },
  "cells": [
    {
      "cell_type": "markdown",
      "metadata": {
        "id": "7EdbVSmE87En"
      },
      "source": [
        "# HW1: Dictionary-based Tokenization \n"
      ]
    },
    {
      "cell_type": "markdown",
      "metadata": {
        "id": "pJJLm1Ub87Et"
      },
      "source": [
        "In this exercise, you are to implement a dictionary-based word segmentation algorithm. There are two Python functions that you need to complete: \n",
        "<br>\n",
        "* maximal_matching\n",
        "* backtrack\n",
        "</br>\n",
        "\n",
        "Also, you have to find how to use word_tokenize() in PythaiNLP along with customer_dict by yourselves."
      ]
    },
    {
      "cell_type": "markdown",
      "metadata": {
        "id": "DF5Pme7CK3YF"
      },
      "source": [
        "## Part1) Your Maximal Matching with Your Dictionary"
      ]
    },
    {
      "cell_type": "markdown",
      "metadata": {
        "id": "xzs0R06q87Et"
      },
      "source": [
        "### Create a toy dictionary to test the algorithm\n",
        "\n",
        "This is based on the example shown in the lecture. \n",
        "You will tokenize the following text string: \"ไปหามเหสี!\"\n",
        "The toy dictoionary provided in this exercise includes all the charaters, syllables, and words that appear that the text string."
      ]
    },
    {
      "cell_type": "code",
      "metadata": {
        "id": "pq3W4p3z87Ev"
      },
      "source": [
        "thai_vocab = [\"ไ\",\"ป\",\"ห\",\"า\",\"ม\",\"เ\",\"ห\",\"ส\",\"ี\",\"ไป\",\"หา\",\"หาม\",\"เห\",\"สี\",\"มเหสี\",\"!\"]"
      ],
      "execution_count": 1,
      "outputs": []
    },
    {
      "cell_type": "markdown",
      "metadata": {
        "id": "ZornooGF87Ew"
      },
      "source": [
        "### Maximal matching \n",
        "Complete the maximal matching  function below to tokenize the input text\n"
      ]
    },
    {
      "cell_type": "code",
      "metadata": {
        "id": "Ao4d2E3387Ew"
      },
      "source": [
        "from math import inf #infinity\n",
        "def maximal_matching(c):\n",
        "    #Initialize an empty 2D list\n",
        "    d  =[[None]*len(c) for _ in range(len(c))]\n",
        "    \n",
        "    ####FILL CODE HERE####\n",
        "    for i in range(len(d)):\n",
        "      for j in range(i, len(d)):\n",
        "        if i==0 and (c[i:j+1] in thai_vocab):\n",
        "          d[i][j] = 1\n",
        "        elif c[i:j+1] in thai_vocab:\n",
        "          min_val = inf\n",
        "          for k in range(i):\n",
        "              min_val = min(min_val, d[k][i-1])\n",
        "          d[i][j] = 1 + min_val\n",
        "        else:\n",
        "          d[i][j] = inf\n",
        "    ######################\n",
        "    \n",
        "    return d"
      ],
      "execution_count": 2,
      "outputs": []
    },
    {
      "cell_type": "markdown",
      "metadata": {
        "id": "w7vBXfjM87Ew"
      },
      "source": [
        "### Backtracking\n",
        "Complete the backtracking function below to find the tokenzied words.\n",
        "It should return a list containing a pair of the beginning position and the ending position of each word.\n",
        "In this example, it should return: \n",
        "<br>\n",
        "[(0, 1),(2, 3),(4, 8),(9, 9)]\n",
        "<br> \n",
        "#### Each pair contains the position of each word as follows:\n",
        "(0, 1) ไป\n",
        "<br>\n",
        "(2, 3) หา\n",
        "<br>\n",
        "(4, 8) มเหสี\n",
        "<br>\n",
        "(9, 9) !\n"
      ]
    },
    {
      "cell_type": "code",
      "metadata": {
        "id": "SxNFf1IE87Ex"
      },
      "source": [
        "def backtrack(d):\n",
        "    eow = len(d)-1 # End of Word position\n",
        "    word_pos = [] # Word position\n",
        "    ####FILL CODE HERE####\n",
        "    while eow>=0:\n",
        "      sow = inf\n",
        "      sow_val = inf\n",
        "      for i in range(len(d)):\n",
        "        if d[i][eow] != None and d[i][eow] < sow_val:\n",
        "          sow_val = d[i][eow]\n",
        "          sow = i\n",
        "      word_pos.append((sow, eow))\n",
        "      eow = sow-1\n",
        "    ######################\n",
        "    word_pos.reverse()\n",
        "    return word_pos\n"
      ],
      "execution_count": 3,
      "outputs": []
    },
    {
      "cell_type": "markdown",
      "metadata": {
        "id": "q0MJkKsh87Ex"
      },
      "source": [
        "### Test your maximal matching algorithm on a toy dictionary\n",
        "\n",
        "Expected output:\n",
        "\n",
        "[1, 1, inf, inf, inf, inf, inf, inf, inf, inf] ไ\n",
        "<br>\n",
        "[None, 2, inf, inf, inf, inf, inf, inf, inf, inf] ป\n",
        "<br>\n",
        "[None, None, 2, 2, 2, inf, inf, inf, inf, inf] ห\n",
        "<br>\n",
        "[None, None, None, 3, inf, inf, inf, inf, inf, inf] า\n",
        "<br>\n",
        "[None, None, None, None, 3, inf, inf, inf, 3, inf] ม\n",
        "<br>\n",
        "[None, None, None, None, None, 3, 3, inf, inf, inf] เ\n",
        "<br>\n",
        "[None, None, None, None, None, None, 4, inf, inf, inf] ห\n",
        "<br>\n",
        "[None, None, None, None, None, None, None, 4, 4, inf] ส\n",
        "<br>\n",
        "[None, None, None, None, None, None, None, None, 5, inf] ี\n",
        "<br>\n",
        "[None, None, None, None, None, None, None, None, None, 4] !\n",
        "<br>"
      ]
    },
    {
      "cell_type": "code",
      "metadata": {
        "id": "tsmVQIKS87Ey",
        "colab": {
          "base_uri": "https://localhost:8080/"
        },
        "outputId": "8911e1c6-0736-4dcd-ab88-276ef0adb1f9"
      },
      "source": [
        "input_text = \"ไปหามเหสี!\"\n",
        "out = maximal_matching(input_text)\n",
        "for i in range(len(out)):\n",
        "    print(out[i],input_text[i])"
      ],
      "execution_count": 4,
      "outputs": [
        {
          "output_type": "stream",
          "name": "stdout",
          "text": [
            "[1, 1, inf, inf, inf, inf, inf, inf, inf, inf] ไ\n",
            "[None, 2, inf, inf, inf, inf, inf, inf, inf, inf] ป\n",
            "[None, None, 2, 2, 2, inf, inf, inf, inf, inf] ห\n",
            "[None, None, None, 3, inf, inf, inf, inf, inf, inf] า\n",
            "[None, None, None, None, 3, inf, inf, inf, 3, inf] ม\n",
            "[None, None, None, None, None, 3, 3, inf, inf, inf] เ\n",
            "[None, None, None, None, None, None, 4, inf, inf, inf] ห\n",
            "[None, None, None, None, None, None, None, 4, 4, inf] ส\n",
            "[None, None, None, None, None, None, None, None, 5, inf] ี\n",
            "[None, None, None, None, None, None, None, None, None, 4] !\n"
          ]
        }
      ]
    },
    {
      "cell_type": "markdown",
      "metadata": {
        "id": "IVhCMM4d87Ey"
      },
      "source": [
        "### Test your backtracking algorithm on a toy dictionary\n",
        "Expected output:\n",
        "<br>\n",
        "ไป|หา|มเหสี|!"
      ]
    },
    {
      "cell_type": "code",
      "metadata": {
        "id": "6Hurbm1f87Ey",
        "colab": {
          "base_uri": "https://localhost:8080/"
        },
        "outputId": "57cc57a7-719c-4076-d112-59282dd76777"
      },
      "source": [
        "def print_tokenized_text(d, input_text):\n",
        "    tokenized_text=[]\n",
        "    for pos in backtrack(d):\n",
        "        #print(pos)\n",
        "        tokenized_text.append(input_text[pos[0]:pos[1]+1])\n",
        "\n",
        "    print(\"|\".join(tokenized_text))\n",
        "    \n",
        "print_tokenized_text(out,input_text)"
      ],
      "execution_count": 5,
      "outputs": [
        {
          "output_type": "stream",
          "name": "stdout",
          "text": [
            "ไป|หา|มเหสี|!\n"
          ]
        }
      ]
    },
    {
      "cell_type": "code",
      "source": [
        "# Using the code from part one only, how many “words” did you get when tokenizing this input text.\n",
        "\n",
        "# ไปหาหมามเหสีมาหาม!\n",
        "\n",
        "input_text = \"ไปหาหมามเหสีมาหาม!\"\n",
        "out = maximal_matching(input_text)\n",
        "print_tokenized_text(out, input_text)\n",
        "\n",
        "tokenized_text = \"ไป|หา|ห|ม|า|มเหสี|ม|า|หาม|!\"\n",
        "print(len(tokenized_text.split(\"|\")))"
      ],
      "metadata": {
        "colab": {
          "base_uri": "https://localhost:8080/"
        },
        "id": "acd4yKIGDl4e",
        "outputId": "4f1898e6-2129-4bbd-d890-5f51f4849c05"
      },
      "execution_count": 10,
      "outputs": [
        {
          "output_type": "stream",
          "name": "stdout",
          "text": [
            "ไป|หา|ห|ม|า|มเหสี|ม|า|หาม|!\n",
            "10\n"
          ]
        }
      ]
    },
    {
      "cell_type": "markdown",
      "metadata": {
        "id": "57rP9cTU87Ez"
      },
      "source": [
        "## Part2) Your Maximal Matching with Real Dictionary"
      ]
    },
    {
      "cell_type": "markdown",
      "metadata": {
        "id": "V306h7AG87Ez"
      },
      "source": [
        "For UNIX-based OS users, the following cell will download a dictionary (it's just a list of thai words). Alternatively, you can download it from this link: https://raw.githubusercontent.com/PyThaiNLP/pythainlp/dev/pythainlp/corpus/words_th.txt"
      ]
    },
    {
      "cell_type": "code",
      "metadata": {
        "scrolled": true,
        "id": "EFVR9LO187Ez",
        "colab": {
          "base_uri": "https://localhost:8080/"
        },
        "outputId": "36e6ad5b-e474-4e33-d2a6-b0054bbef663"
      },
      "source": [
        "!wget https://raw.githubusercontent.com/PyThaiNLP/pythainlp/dev/pythainlp/corpus/words_th.txt"
      ],
      "execution_count": 11,
      "outputs": [
        {
          "output_type": "stream",
          "name": "stdout",
          "text": [
            "--2023-01-12 13:02:20--  https://raw.githubusercontent.com/PyThaiNLP/pythainlp/dev/pythainlp/corpus/words_th.txt\n",
            "Resolving raw.githubusercontent.com (raw.githubusercontent.com)... 185.199.110.133, 185.199.109.133, 185.199.111.133, ...\n",
            "Connecting to raw.githubusercontent.com (raw.githubusercontent.com)|185.199.110.133|:443... connected.\n",
            "HTTP request sent, awaiting response... 200 OK\n",
            "Length: 1519221 (1.4M) [text/plain]\n",
            "Saving to: ‘words_th.txt’\n",
            "\n",
            "\rwords_th.txt          0%[                    ]       0  --.-KB/s               \rwords_th.txt        100%[===================>]   1.45M  --.-KB/s    in 0.06s   \n",
            "\n",
            "2023-01-12 13:02:21 (26.3 MB/s) - ‘words_th.txt’ saved [1519221/1519221]\n",
            "\n"
          ]
        }
      ]
    },
    {
      "cell_type": "code",
      "metadata": {
        "id": "nqIQzVgE87E0",
        "colab": {
          "base_uri": "https://localhost:8080/"
        },
        "outputId": "4e64a3aa-a9eb-4b8c-f4bd-16f515ce3ff7"
      },
      "source": [
        "with open(\"words_th.txt\",encoding='utf-8-sig') as f:\n",
        "    thai_vocab = f.read().splitlines() \n",
        "print(\"Vocab size:\", len(thai_vocab))\n",
        "print(thai_vocab[:10])\n",
        "\n",
        "thai_vocab.extend([\"ๆ\",\"!\"])"
      ],
      "execution_count": 12,
      "outputs": [
        {
          "output_type": "stream",
          "name": "stdout",
          "text": [
            "Vocab size: 62069\n",
            "['ก ข ไม่กระดิกหู', 'ก.', 'ก.ค.', 'ก.ต.', 'ก.ป.ส.', 'ก.พ.', 'ก.พ.ด.', 'ก.ม.', 'ก.ย.', 'ก.ย']\n"
          ]
        }
      ]
    },
    {
      "cell_type": "markdown",
      "metadata": {
        "id": "Kpjwzw1w87E0"
      },
      "source": [
        "### The output of your maximal matching algoithm on a new dictionary\n",
        "Expected output:\n",
        "<br>\n",
        "[inf, 1, inf, 1, inf, inf, inf, inf, inf] ไ\n",
        "<br>\n",
        "[None, inf, inf, inf, inf, inf, inf, inf, inf] ป\n",
        "<br>\n",
        "[None, None, inf, 2, 2, inf, inf, inf, inf] ห\n",
        "<br>\n",
        "[None, None, None, inf, inf, inf, inf, inf, inf] า\n",
        "<br>\n",
        "[None, None, None, None, inf, inf, inf, inf, 2] ม\n",
        "<br>\n",
        "[None, None, None, None, None, inf, 3, inf, inf] เ\n",
        "<br>\n",
        "[None, None, None, None, None, None, inf, inf, inf] ห\n",
        "<br>\n",
        "[None, None, None, None, None, None, None, inf, 4] ส\n",
        "<br>\n",
        "[None, None, None, None, None, None, None, None, inf] ี \n",
        "\n"
      ]
    },
    {
      "cell_type": "code",
      "metadata": {
        "id": "lYD5ChIS87E0",
        "colab": {
          "base_uri": "https://localhost:8080/"
        },
        "outputId": "239b5378-521b-498e-d0b6-6df4ede3f77a"
      },
      "source": [
        "input_text = \"ไปหามเหสี\"\n",
        "out = maximal_matching(input_text)\n",
        "for i in range(len(out)):\n",
        "    print(out[i],input_text[i])"
      ],
      "execution_count": 13,
      "outputs": [
        {
          "output_type": "stream",
          "name": "stdout",
          "text": [
            "[inf, 1, inf, 1, inf, inf, inf, inf, inf] ไ\n",
            "[None, inf, inf, inf, inf, inf, inf, inf, inf] ป\n",
            "[None, None, inf, 2, 2, inf, inf, inf, inf] ห\n",
            "[None, None, None, inf, inf, inf, inf, inf, inf] า\n",
            "[None, None, None, None, inf, inf, inf, inf, 2] ม\n",
            "[None, None, None, None, None, inf, 3, inf, inf] เ\n",
            "[None, None, None, None, None, None, inf, inf, inf] ห\n",
            "[None, None, None, None, None, None, None, inf, 4] ส\n",
            "[None, None, None, None, None, None, None, None, inf] ี\n"
          ]
        }
      ]
    },
    {
      "cell_type": "markdown",
      "metadata": {
        "id": "BSqLuK7G87E0"
      },
      "source": [
        "### Expected tokenized text\n",
        "ไปหา|มเหสี"
      ]
    },
    {
      "cell_type": "code",
      "metadata": {
        "id": "TI077jmy87E0",
        "colab": {
          "base_uri": "https://localhost:8080/"
        },
        "outputId": "433655ae-d697-4149-ee4c-f15b1e835c40"
      },
      "source": [
        "# print('ไปหา' in thai_vocab)\n",
        "# print('มเหสี' in thai_vocab)\n",
        "# print('ปปป' in thai_vocab)\n",
        "print_tokenized_text(out,input_text)"
      ],
      "execution_count": 14,
      "outputs": [
        {
          "output_type": "stream",
          "name": "stdout",
          "text": [
            "ไปหา|มเหสี\n"
          ]
        }
      ]
    },
    {
      "cell_type": "code",
      "source": [
        "# Using the code from part two only, how many “words” did you get when tokenizing this input text.\n",
        "\n",
        "# ประเทศไทยรวมเลือดเนื้อชาติเชื้อไทยเป็นประชารัฐไผทของไทยทุกส่วนอยู่ดำรงคงไว้ได้ทั้งมวลด้วยไทยล้วนหมายรักสามัคคี\n",
        "\n",
        "input_text = \"ประเทศไทยรวมเลือดเนื้อชาติเชื้อไทยเป็นประชารัฐไผทของไทยทุกส่วนอยู่ดำรงคงไว้ได้ทั้งมวลด้วยไทยล้วนหมายรักสามัคคี\"\n",
        "out = maximal_matching(input_text)\n",
        "print_tokenized_text(out, input_text)\n",
        "\n",
        "tokenized_text = \"ประเทศ|ไทย|รวม|เลือดเนื้อ|ชาติ|เชื้อ|ไทย|เป็น|ประชา|รัฐ|ไผท|ของ|ไทย|ทุก|ส่วน|อยู่|ดำรง|คงไว้|ได้|ทั้งมวล|ด้วย|ไทย|ล้วน|หมาย|รัก|สามัคคี\"\n",
        "print(len(tokenized_text.split(\"|\")))"
      ],
      "metadata": {
        "colab": {
          "base_uri": "https://localhost:8080/"
        },
        "id": "fuimG27JExWS",
        "outputId": "721841cc-5318-413b-9838-c84391d94af4"
      },
      "execution_count": 16,
      "outputs": [
        {
          "output_type": "stream",
          "name": "stdout",
          "text": [
            "ประเทศ|ไทย|รวม|เลือดเนื้อ|ชาติ|เชื้อ|ไทย|เป็น|ประชา|รัฐ|ไผท|ของ|ไทย|ทุก|ส่วน|อยู่|ดำรง|คงไว้|ได้|ทั้งมวล|ด้วย|ไทย|ล้วน|หมาย|รัก|สามัคคี\n",
            "26\n"
          ]
        }
      ]
    },
    {
      "cell_type": "markdown",
      "metadata": {
        "id": "VLGgO8PrLSz6"
      },
      "source": [
        "## Part3) Maximal Matching from PythaiNLP"
      ]
    },
    {
      "cell_type": "markdown",
      "metadata": {
        "id": "LrZrzQoXLeUX"
      },
      "source": [
        "### Default dictionary\n",
        "\n",
        "Study word_tokenize() from PythaiNLP in the link below.\n",
        "\n",
        "https://pythainlp.github.io/docs/3.1/api/tokenize.html#pythainlp.tokenize.word_tokenize"
      ]
    },
    {
      "cell_type": "code",
      "metadata": {
        "id": "yXxPBOcNLXfm",
        "colab": {
          "base_uri": "https://localhost:8080/"
        },
        "outputId": "f2159429-dc1d-492e-c518-1a9659b83033"
      },
      "source": [
        "!pip install pythainlp\n",
        "!pip install marisa_trie"
      ],
      "execution_count": 17,
      "outputs": [
        {
          "output_type": "stream",
          "name": "stdout",
          "text": [
            "Looking in indexes: https://pypi.org/simple, https://us-python.pkg.dev/colab-wheels/public/simple/\n",
            "Collecting pythainlp\n",
            "  Downloading pythainlp-3.1.1-py3-none-any.whl (9.6 MB)\n",
            "\u001b[2K     \u001b[90m━━━━━━━━━━━━━━━━━━━━━━━━━━━━━━━━━━━━━━━━\u001b[0m \u001b[32m9.6/9.6 MB\u001b[0m \u001b[31m59.7 MB/s\u001b[0m eta \u001b[36m0:00:00\u001b[0m\n",
            "\u001b[?25hRequirement already satisfied: requests>=2.22.0 in /usr/local/lib/python3.8/dist-packages (from pythainlp) (2.25.1)\n",
            "Requirement already satisfied: idna<3,>=2.5 in /usr/local/lib/python3.8/dist-packages (from requests>=2.22.0->pythainlp) (2.10)\n",
            "Requirement already satisfied: chardet<5,>=3.0.2 in /usr/local/lib/python3.8/dist-packages (from requests>=2.22.0->pythainlp) (4.0.0)\n",
            "Requirement already satisfied: certifi>=2017.4.17 in /usr/local/lib/python3.8/dist-packages (from requests>=2.22.0->pythainlp) (2022.12.7)\n",
            "Requirement already satisfied: urllib3<1.27,>=1.21.1 in /usr/local/lib/python3.8/dist-packages (from requests>=2.22.0->pythainlp) (1.24.3)\n",
            "Installing collected packages: pythainlp\n",
            "Successfully installed pythainlp-3.1.1\n",
            "Looking in indexes: https://pypi.org/simple, https://us-python.pkg.dev/colab-wheels/public/simple/\n",
            "Collecting marisa_trie\n",
            "  Downloading marisa_trie-0.7.8-cp38-cp38-manylinux_2_17_x86_64.manylinux2014_x86_64.whl (1.2 MB)\n",
            "\u001b[2K     \u001b[90m━━━━━━━━━━━━━━━━━━━━━━━━━━━━━━━━━━━━━━━━\u001b[0m \u001b[32m1.2/1.2 MB\u001b[0m \u001b[31m16.9 MB/s\u001b[0m eta \u001b[36m0:00:00\u001b[0m\n",
            "\u001b[?25hRequirement already satisfied: setuptools in /usr/local/lib/python3.8/dist-packages (from marisa_trie) (57.4.0)\n",
            "Installing collected packages: marisa_trie\n",
            "Successfully installed marisa_trie-0.7.8\n"
          ]
        }
      ]
    },
    {
      "cell_type": "code",
      "metadata": {
        "id": "goQE5gFUL4KO",
        "colab": {
          "base_uri": "https://localhost:8080/"
        },
        "outputId": "1473fd7e-592c-470f-dfa0-c6dc9f0cabc3"
      },
      "source": [
        "from pythainlp.tokenize import word_tokenize\n",
        "text='นัดกินกันตอนไหนก็ได้ที่สามย่านมิตรทาวน์'\n",
        "\n",
        "####FILL CODE HERE####\n",
        "engines = [\"newmm\", \"newmm-safe\", \"mm\", \"longest\"]\n",
        "for engine in engines:\n",
        "  print(engine)\n",
        "  print(word_tokenize(text=text, engine=engine))\n",
        "######################"
      ],
      "execution_count": 18,
      "outputs": [
        {
          "output_type": "stream",
          "name": "stdout",
          "text": [
            "newmm\n",
            "['นัด', 'กินกัน', 'ตอน', 'ไหน', 'ก็', 'ได้ที่', 'สามย่าน', 'มิตร', 'ทาวน์']\n",
            "newmm-safe\n",
            "['นัด', 'กินกัน', 'ตอน', 'ไหน', 'ก็', 'ได้ที่', 'สามย่าน', 'มิตร', 'ทาวน์']\n",
            "mm\n",
            "['นัด', 'กินกัน', 'ตอน', 'ไหนก็ได้ที่สามย่านมิตรทาวน์']\n",
            "longest\n",
            "['นัด', 'กินกัน', 'ตอน', 'ไหน', 'ก็ได้', 'ที่สาม', 'ย่าน', 'มิตร', 'ทาวน์']\n"
          ]
        }
      ]
    },
    {
      "cell_type": "markdown",
      "metadata": {
        "id": "2SlX5cEBMHPd"
      },
      "source": [
        "### Custom dictionary\n",
        "\n",
        "Add 'สามย่านมิตรทาวน์' into dictionary and then tokenize again"
      ]
    },
    {
      "cell_type": "code",
      "metadata": {
        "id": "b4V9TqFaMPAj",
        "colab": {
          "base_uri": "https://localhost:8080/"
        },
        "outputId": "67bed197-ebfa-484c-a8da-de6918570ae5"
      },
      "source": [
        "####FILL CODE HERE####\n",
        "from pythainlp.corpus.common import thai_words\n",
        "from pythainlp.util import dict_trie\n",
        "\n",
        "custom_dict = set(thai_words())\n",
        "custom_dict.add('สามย่านมิตรทาวน์')\n",
        "trie = dict_trie(dict_source=custom_dict)\n",
        "\n",
        "print(word_tokenize(text, custom_dict=trie))\n",
        "######################"
      ],
      "execution_count": 19,
      "outputs": [
        {
          "output_type": "stream",
          "name": "stdout",
          "text": [
            "['นัด', 'กินกัน', 'ตอน', 'ไหน', 'ก็', 'ได้ที่', 'สามย่านมิตรทาวน์']\n"
          ]
        }
      ]
    },
    {
      "cell_type": "code",
      "source": [
        "# Using the code from part three only, how many “words” did you get when tokenizing this input text after adding the new vocabs.\n",
        "\n",
        "# new vocabs : \"ดิสนีย์ออนไอซ์\", \"ตีกอล์ฟ\", \"ธรรมมะ\"\n",
        "\n",
        "# อ๋อก็ว่าจะไปเรียนแต่งหน้านั่งสมาธิดำน้ำปลูกปะการังทำอาหารนวดสปาปลูกป่าดำนาดูดิสนีย์ออนไอซ์แรลลี่ตีกอล์ฟล่องเรือส่องสัตว์ช้อปปิ้งดูงิ้วดูละครเวทีดูคอนเสิร์ตดินเนอร์ทำขนมจัดดอกไม้เที่ยวตลาดน้ำเรียนถ่ายรูปดูกายกรรมชมเมืองเก่าเข้าสัมมนาทัวร์ธรรมมะเรียนเต้นแล้วก็ร้องเพลง\n",
        "\n",
        "from pythainlp.corpus.common import thai_words\n",
        "from pythainlp.util import dict_trie\n",
        "\n",
        "custom_dict = set(thai_words())\n",
        "custom_dict.add(\"ดิสนีย์ออนไอซ์\")\n",
        "custom_dict.add(\"ตีกอล์ฟ\")\n",
        "custom_dict.add(\"ธรรมมะ\")\n",
        "trie = dict_trie(dict_source=custom_dict)\n",
        "\n",
        "text = \"อ๋อก็ว่าจะไปเรียนแต่งหน้านั่งสมาธิดำน้ำปลูกปะการังทำอาหารนวดสปาปลูกป่าดำนาดูดิสนีย์ออนไอซ์แรลลี่ตีกอล์ฟล่องเรือส่องสัตว์ช้อปปิ้งดูงิ้วดูละครเวทีดูคอนเสิร์ตดินเนอร์ทำขนมจัดดอกไม้เที่ยวตลาดน้ำเรียนถ่ายรูปดูกายกรรมชมเมืองเก่าเข้าสัมมนาทัวร์ธรรมมะเรียนเต้นแล้วก็ร้องเพลง\"\n",
        "print(word_tokenize(text, custom_dict=trie))\n",
        "print(len(word_tokenize(text, custom_dict=trie)))"
      ],
      "metadata": {
        "id": "ECuw5ZST9Oux",
        "colab": {
          "base_uri": "https://localhost:8080/"
        },
        "outputId": "b5414dd5-c722-4a46-b623-84e4b236de01"
      },
      "execution_count": 23,
      "outputs": [
        {
          "output_type": "stream",
          "name": "stdout",
          "text": [
            "['อ๋อ', 'ก็', 'ว่า', 'จะ', 'ไป', 'เรียน', 'แต่งหน้า', 'นั่งสมาธิ', 'ดำน้ำ', 'ปลูก', 'ปะการัง', 'ทำอาหาร', 'นวด', 'สปา', 'ปลูกป่า', 'ดำนา', 'ดู', 'ดิสนีย์ออนไอซ์', 'แรลลี่', 'ตีกอล์ฟ', 'ล่องเรือ', 'ส่องสัตว์', 'ช้อปปิ้ง', 'ดู', 'งิ้ว', 'ดู', 'ละครเวที', 'ดู', 'คอนเสิร์ต', 'ดินเนอร์', 'ทำ', 'ขนม', 'จัด', 'ดอกไม้', 'เที่ยว', 'ตลาดน้ำ', 'เรียน', 'ถ่ายรูป', 'ดู', 'กายกรรม', 'ชม', 'เมือง', 'เก่า', 'เข้า', 'สัมมนา', 'ทัวร์', 'ธรรมมะ', 'เรียน', 'เต้น', 'แล้วก็', 'ร้องเพลง']\n",
            "51\n"
          ]
        }
      ]
    },
    {
      "cell_type": "code",
      "source": [],
      "metadata": {
        "id": "A71qGjzCFkkx"
      },
      "execution_count": null,
      "outputs": []
    }
  ]
}