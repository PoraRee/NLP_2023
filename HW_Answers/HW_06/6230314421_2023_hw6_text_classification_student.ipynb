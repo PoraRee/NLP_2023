{
  "cells": [
    {
      "cell_type": "markdown",
      "metadata": {
        "id": "VQ8FRFIYMc5X"
      },
      "source": [
        "# HOMEWORK 6: TEXT CLASSIFICATION\n",
        "In this homework, you will create models to classify texts from TRUE call-center. There are two classification tasks:\n",
        "1. Action Classification: Identify which action the customer would like to take (e.g. enquire, report, cancle)\n",
        "2. Object Classification: Identify which object the customer is referring to (e.g. payment, truemoney, internet, roaming) \n",
        "\n",
        "In this homework, you are asked to do the following tasks:\n",
        "1. Data Cleaning\n",
        "2. Preprocessing data for pytorch\n",
        "3. Build and evaluate a model for \"action\" classification\n",
        "4. Build and evaluate a model for \"object\" classification\n",
        "5. Build and evaluate a multi-task model that does both \"action\" and \"object\" classifications in one-go \n",
        "\n",
        "\n",
        "Note: we have removed phone numbers from the dataset for privacy purposes. "
      ]
    },
    {
      "cell_type": "code",
      "execution_count": 1,
      "metadata": {
        "colab": {
          "base_uri": "https://localhost:8080/"
        },
        "id": "kHqkFSyaNvOt",
        "outputId": "cf4e28e5-bd45-4f5d-a4f0-0153d0681aec"
      },
      "outputs": [
        {
          "output_type": "stream",
          "name": "stdout",
          "text": [
            "--2023-02-25 04:16:21--  https://www.dropbox.com/s/37u83g55p19kvrl/clean-phone-data-for-students.csv\n",
            "Resolving www.dropbox.com (www.dropbox.com)... 162.125.4.18, 2620:100:6019:18::a27d:412\n",
            "Connecting to www.dropbox.com (www.dropbox.com)|162.125.4.18|:443... connected.\n",
            "HTTP request sent, awaiting response... 302 Found\n",
            "Location: /s/raw/37u83g55p19kvrl/clean-phone-data-for-students.csv [following]\n",
            "--2023-02-25 04:16:22--  https://www.dropbox.com/s/raw/37u83g55p19kvrl/clean-phone-data-for-students.csv\n",
            "Reusing existing connection to www.dropbox.com:443.\n",
            "HTTP request sent, awaiting response... 302 Found\n",
            "Location: https://uc10b4ead02baa8197417f6ba57b.dl.dropboxusercontent.com/cd/0/inline/B3Ka2b6JX71WrsacavSLrKmNu0W1EkfU5uDqEedWXedhDYOCiUNMyS3jVlUSmLNojMqsei_Al9qUqUcJXqqnEqg1dqccjy2dsubJXWEQ596clic39lb2A8yQAfK_TvBoOvtTXVl-F2zE7547MSIfC6ZodgdqhG-yH_ZI4_3cr-7TYg/file# [following]\n",
            "--2023-02-25 04:16:22--  https://uc10b4ead02baa8197417f6ba57b.dl.dropboxusercontent.com/cd/0/inline/B3Ka2b6JX71WrsacavSLrKmNu0W1EkfU5uDqEedWXedhDYOCiUNMyS3jVlUSmLNojMqsei_Al9qUqUcJXqqnEqg1dqccjy2dsubJXWEQ596clic39lb2A8yQAfK_TvBoOvtTXVl-F2zE7547MSIfC6ZodgdqhG-yH_ZI4_3cr-7TYg/file\n",
            "Resolving uc10b4ead02baa8197417f6ba57b.dl.dropboxusercontent.com (uc10b4ead02baa8197417f6ba57b.dl.dropboxusercontent.com)... 162.125.4.15, 2620:100:601c:15::a27d:60f\n",
            "Connecting to uc10b4ead02baa8197417f6ba57b.dl.dropboxusercontent.com (uc10b4ead02baa8197417f6ba57b.dl.dropboxusercontent.com)|162.125.4.15|:443... connected.\n",
            "HTTP request sent, awaiting response... 200 OK\n",
            "Length: 2518977 (2.4M) [text/plain]\n",
            "Saving to: ‘clean-phone-data-for-students.csv.3’\n",
            "\n",
            "clean-phone-data-fo 100%[===================>]   2.40M  --.-KB/s    in 0.05s   \n",
            "\n",
            "2023-02-25 04:16:22 (45.4 MB/s) - ‘clean-phone-data-for-students.csv.3’ saved [2518977/2518977]\n",
            "\n"
          ]
        }
      ],
      "source": [
        "!wget --no-check-certificate https://www.dropbox.com/s/37u83g55p19kvrl/clean-phone-data-for-students.csv"
      ]
    },
    {
      "cell_type": "code",
      "execution_count": 2,
      "metadata": {
        "colab": {
          "base_uri": "https://localhost:8080/"
        },
        "id": "qRlx5Mb5zkXw",
        "outputId": "b9f84c1c-b03e-4053-c3a1-72758e9c4374"
      },
      "outputs": [
        {
          "output_type": "stream",
          "name": "stdout",
          "text": [
            "Looking in indexes: https://pypi.org/simple, https://us-python.pkg.dev/colab-wheels/public/simple/\n",
            "Requirement already satisfied: pythainlp in /usr/local/lib/python3.8/dist-packages (3.1.1)\n",
            "Requirement already satisfied: requests>=2.22.0 in /usr/local/lib/python3.8/dist-packages (from pythainlp) (2.25.1)\n",
            "Requirement already satisfied: chardet<5,>=3.0.2 in /usr/local/lib/python3.8/dist-packages (from requests>=2.22.0->pythainlp) (4.0.0)\n",
            "Requirement already satisfied: urllib3<1.27,>=1.21.1 in /usr/local/lib/python3.8/dist-packages (from requests>=2.22.0->pythainlp) (1.24.3)\n",
            "Requirement already satisfied: idna<3,>=2.5 in /usr/local/lib/python3.8/dist-packages (from requests>=2.22.0->pythainlp) (2.10)\n",
            "Requirement already satisfied: certifi>=2017.4.17 in /usr/local/lib/python3.8/dist-packages (from requests>=2.22.0->pythainlp) (2022.12.7)\n"
          ]
        }
      ],
      "source": [
        "!pip install pythainlp"
      ]
    },
    {
      "cell_type": "markdown",
      "metadata": {
        "id": "2YprqbOPMc5a"
      },
      "source": [
        "## Import Libs"
      ]
    },
    {
      "cell_type": "code",
      "execution_count": 3,
      "metadata": {
        "id": "heICP79cMc5e"
      },
      "outputs": [],
      "source": [
        "%matplotlib inline\n",
        "import pandas\n",
        "import sklearn\n",
        "import numpy as np\n",
        "import matplotlib.pyplot as plt\n",
        "import torch\n",
        "import pandas as pd \n",
        "\n",
        "from torch.utils.data import Dataset\n",
        "from IPython.display import display\n",
        "from pythainlp.tokenize import word_tokenize\n",
        "from collections import defaultdict\n",
        "from sklearn.metrics import accuracy_score, f1_score"
      ]
    },
    {
      "cell_type": "markdown",
      "metadata": {
        "id": "GPaUf4PLMc5k"
      },
      "source": [
        "## Loading data\n",
        "First, we load the data from disk into a Dataframe.\n",
        "\n",
        "A Dataframe is essentially a table, or 2D-array/Matrix with a name for each column."
      ]
    },
    {
      "cell_type": "code",
      "execution_count": 4,
      "metadata": {
        "id": "JhZ2eBAWMc5l"
      },
      "outputs": [],
      "source": [
        "data_df = pd.read_csv('clean-phone-data-for-students.csv')"
      ]
    },
    {
      "cell_type": "markdown",
      "metadata": {
        "id": "cje3yruTMc5p"
      },
      "source": [
        "Let's preview the data."
      ]
    },
    {
      "cell_type": "code",
      "execution_count": 5,
      "metadata": {
        "colab": {
          "base_uri": "https://localhost:8080/",
          "height": 363
        },
        "id": "aNqRNz1PMc5q",
        "outputId": "9d8ebdb6-5666-473d-d3fa-c661f2818730"
      },
      "outputs": [
        {
          "output_type": "display_data",
          "data": {
            "text/plain": [
              "                                  Sentence Utterance   Action        Object\n",
              "0   <PHONE_NUMBER_REMOVED> ผมไปจ่ายเงินที่ Counte...  enquire       payment\n",
              "1               internet ยังความเร็วอยุ่เท่าไหร ครับ  enquire       package\n",
              "2   ตะกี้ไปชำระค่าบริการไปแล้ว แต่ยังใช้งานไม่ได้...   report       suspend\n",
              "3   พี่ค่ะยังใช้ internet ไม่ได้เลยค่ะ เป็นเครื่อ...  enquire      internet\n",
              "4   ฮาโหล คะ พอดีว่าเมื่อวานเปิดซิมทรูมูฟ แต่มันโ...   report  phone_issues"
            ],
            "text/html": [
              "\n",
              "  <div id=\"df-6b117647-5789-4e9c-8117-bb19e787e8fd\">\n",
              "    <div class=\"colab-df-container\">\n",
              "      <div>\n",
              "<style scoped>\n",
              "    .dataframe tbody tr th:only-of-type {\n",
              "        vertical-align: middle;\n",
              "    }\n",
              "\n",
              "    .dataframe tbody tr th {\n",
              "        vertical-align: top;\n",
              "    }\n",
              "\n",
              "    .dataframe thead th {\n",
              "        text-align: right;\n",
              "    }\n",
              "</style>\n",
              "<table border=\"1\" class=\"dataframe\">\n",
              "  <thead>\n",
              "    <tr style=\"text-align: right;\">\n",
              "      <th></th>\n",
              "      <th>Sentence Utterance</th>\n",
              "      <th>Action</th>\n",
              "      <th>Object</th>\n",
              "    </tr>\n",
              "  </thead>\n",
              "  <tbody>\n",
              "    <tr>\n",
              "      <th>0</th>\n",
              "      <td>&lt;PHONE_NUMBER_REMOVED&gt; ผมไปจ่ายเงินที่ Counte...</td>\n",
              "      <td>enquire</td>\n",
              "      <td>payment</td>\n",
              "    </tr>\n",
              "    <tr>\n",
              "      <th>1</th>\n",
              "      <td>internet ยังความเร็วอยุ่เท่าไหร ครับ</td>\n",
              "      <td>enquire</td>\n",
              "      <td>package</td>\n",
              "    </tr>\n",
              "    <tr>\n",
              "      <th>2</th>\n",
              "      <td>ตะกี้ไปชำระค่าบริการไปแล้ว แต่ยังใช้งานไม่ได้...</td>\n",
              "      <td>report</td>\n",
              "      <td>suspend</td>\n",
              "    </tr>\n",
              "    <tr>\n",
              "      <th>3</th>\n",
              "      <td>พี่ค่ะยังใช้ internet ไม่ได้เลยค่ะ เป็นเครื่อ...</td>\n",
              "      <td>enquire</td>\n",
              "      <td>internet</td>\n",
              "    </tr>\n",
              "    <tr>\n",
              "      <th>4</th>\n",
              "      <td>ฮาโหล คะ พอดีว่าเมื่อวานเปิดซิมทรูมูฟ แต่มันโ...</td>\n",
              "      <td>report</td>\n",
              "      <td>phone_issues</td>\n",
              "    </tr>\n",
              "  </tbody>\n",
              "</table>\n",
              "</div>\n",
              "      <button class=\"colab-df-convert\" onclick=\"convertToInteractive('df-6b117647-5789-4e9c-8117-bb19e787e8fd')\"\n",
              "              title=\"Convert this dataframe to an interactive table.\"\n",
              "              style=\"display:none;\">\n",
              "        \n",
              "  <svg xmlns=\"http://www.w3.org/2000/svg\" height=\"24px\"viewBox=\"0 0 24 24\"\n",
              "       width=\"24px\">\n",
              "    <path d=\"M0 0h24v24H0V0z\" fill=\"none\"/>\n",
              "    <path d=\"M18.56 5.44l.94 2.06.94-2.06 2.06-.94-2.06-.94-.94-2.06-.94 2.06-2.06.94zm-11 1L8.5 8.5l.94-2.06 2.06-.94-2.06-.94L8.5 2.5l-.94 2.06-2.06.94zm10 10l.94 2.06.94-2.06 2.06-.94-2.06-.94-.94-2.06-.94 2.06-2.06.94z\"/><path d=\"M17.41 7.96l-1.37-1.37c-.4-.4-.92-.59-1.43-.59-.52 0-1.04.2-1.43.59L10.3 9.45l-7.72 7.72c-.78.78-.78 2.05 0 2.83L4 21.41c.39.39.9.59 1.41.59.51 0 1.02-.2 1.41-.59l7.78-7.78 2.81-2.81c.8-.78.8-2.07 0-2.86zM5.41 20L4 18.59l7.72-7.72 1.47 1.35L5.41 20z\"/>\n",
              "  </svg>\n",
              "      </button>\n",
              "      \n",
              "  <style>\n",
              "    .colab-df-container {\n",
              "      display:flex;\n",
              "      flex-wrap:wrap;\n",
              "      gap: 12px;\n",
              "    }\n",
              "\n",
              "    .colab-df-convert {\n",
              "      background-color: #E8F0FE;\n",
              "      border: none;\n",
              "      border-radius: 50%;\n",
              "      cursor: pointer;\n",
              "      display: none;\n",
              "      fill: #1967D2;\n",
              "      height: 32px;\n",
              "      padding: 0 0 0 0;\n",
              "      width: 32px;\n",
              "    }\n",
              "\n",
              "    .colab-df-convert:hover {\n",
              "      background-color: #E2EBFA;\n",
              "      box-shadow: 0px 1px 2px rgba(60, 64, 67, 0.3), 0px 1px 3px 1px rgba(60, 64, 67, 0.15);\n",
              "      fill: #174EA6;\n",
              "    }\n",
              "\n",
              "    [theme=dark] .colab-df-convert {\n",
              "      background-color: #3B4455;\n",
              "      fill: #D2E3FC;\n",
              "    }\n",
              "\n",
              "    [theme=dark] .colab-df-convert:hover {\n",
              "      background-color: #434B5C;\n",
              "      box-shadow: 0px 1px 3px 1px rgba(0, 0, 0, 0.15);\n",
              "      filter: drop-shadow(0px 1px 2px rgba(0, 0, 0, 0.3));\n",
              "      fill: #FFFFFF;\n",
              "    }\n",
              "  </style>\n",
              "\n",
              "      <script>\n",
              "        const buttonEl =\n",
              "          document.querySelector('#df-6b117647-5789-4e9c-8117-bb19e787e8fd button.colab-df-convert');\n",
              "        buttonEl.style.display =\n",
              "          google.colab.kernel.accessAllowed ? 'block' : 'none';\n",
              "\n",
              "        async function convertToInteractive(key) {\n",
              "          const element = document.querySelector('#df-6b117647-5789-4e9c-8117-bb19e787e8fd');\n",
              "          const dataTable =\n",
              "            await google.colab.kernel.invokeFunction('convertToInteractive',\n",
              "                                                     [key], {});\n",
              "          if (!dataTable) return;\n",
              "\n",
              "          const docLinkHtml = 'Like what you see? Visit the ' +\n",
              "            '<a target=\"_blank\" href=https://colab.research.google.com/notebooks/data_table.ipynb>data table notebook</a>'\n",
              "            + ' to learn more about interactive tables.';\n",
              "          element.innerHTML = '';\n",
              "          dataTable['output_type'] = 'display_data';\n",
              "          await google.colab.output.renderOutput(dataTable, element);\n",
              "          const docLink = document.createElement('div');\n",
              "          docLink.innerHTML = docLinkHtml;\n",
              "          element.appendChild(docLink);\n",
              "        }\n",
              "      </script>\n",
              "    </div>\n",
              "  </div>\n",
              "  "
            ]
          },
          "metadata": {}
        },
        {
          "output_type": "execute_result",
          "data": {
            "text/plain": [
              "       Sentence Utterance   Action   Object\n",
              "count               16175    16175    16175\n",
              "unique              13389       10       33\n",
              "top           บริการอื่นๆ  enquire  service\n",
              "freq                   97    10377     2525"
            ],
            "text/html": [
              "\n",
              "  <div id=\"df-8ea489c4-09dd-423a-878a-13eab6a8313e\">\n",
              "    <div class=\"colab-df-container\">\n",
              "      <div>\n",
              "<style scoped>\n",
              "    .dataframe tbody tr th:only-of-type {\n",
              "        vertical-align: middle;\n",
              "    }\n",
              "\n",
              "    .dataframe tbody tr th {\n",
              "        vertical-align: top;\n",
              "    }\n",
              "\n",
              "    .dataframe thead th {\n",
              "        text-align: right;\n",
              "    }\n",
              "</style>\n",
              "<table border=\"1\" class=\"dataframe\">\n",
              "  <thead>\n",
              "    <tr style=\"text-align: right;\">\n",
              "      <th></th>\n",
              "      <th>Sentence Utterance</th>\n",
              "      <th>Action</th>\n",
              "      <th>Object</th>\n",
              "    </tr>\n",
              "  </thead>\n",
              "  <tbody>\n",
              "    <tr>\n",
              "      <th>count</th>\n",
              "      <td>16175</td>\n",
              "      <td>16175</td>\n",
              "      <td>16175</td>\n",
              "    </tr>\n",
              "    <tr>\n",
              "      <th>unique</th>\n",
              "      <td>13389</td>\n",
              "      <td>10</td>\n",
              "      <td>33</td>\n",
              "    </tr>\n",
              "    <tr>\n",
              "      <th>top</th>\n",
              "      <td>บริการอื่นๆ</td>\n",
              "      <td>enquire</td>\n",
              "      <td>service</td>\n",
              "    </tr>\n",
              "    <tr>\n",
              "      <th>freq</th>\n",
              "      <td>97</td>\n",
              "      <td>10377</td>\n",
              "      <td>2525</td>\n",
              "    </tr>\n",
              "  </tbody>\n",
              "</table>\n",
              "</div>\n",
              "      <button class=\"colab-df-convert\" onclick=\"convertToInteractive('df-8ea489c4-09dd-423a-878a-13eab6a8313e')\"\n",
              "              title=\"Convert this dataframe to an interactive table.\"\n",
              "              style=\"display:none;\">\n",
              "        \n",
              "  <svg xmlns=\"http://www.w3.org/2000/svg\" height=\"24px\"viewBox=\"0 0 24 24\"\n",
              "       width=\"24px\">\n",
              "    <path d=\"M0 0h24v24H0V0z\" fill=\"none\"/>\n",
              "    <path d=\"M18.56 5.44l.94 2.06.94-2.06 2.06-.94-2.06-.94-.94-2.06-.94 2.06-2.06.94zm-11 1L8.5 8.5l.94-2.06 2.06-.94-2.06-.94L8.5 2.5l-.94 2.06-2.06.94zm10 10l.94 2.06.94-2.06 2.06-.94-2.06-.94-.94-2.06-.94 2.06-2.06.94z\"/><path d=\"M17.41 7.96l-1.37-1.37c-.4-.4-.92-.59-1.43-.59-.52 0-1.04.2-1.43.59L10.3 9.45l-7.72 7.72c-.78.78-.78 2.05 0 2.83L4 21.41c.39.39.9.59 1.41.59.51 0 1.02-.2 1.41-.59l7.78-7.78 2.81-2.81c.8-.78.8-2.07 0-2.86zM5.41 20L4 18.59l7.72-7.72 1.47 1.35L5.41 20z\"/>\n",
              "  </svg>\n",
              "      </button>\n",
              "      \n",
              "  <style>\n",
              "    .colab-df-container {\n",
              "      display:flex;\n",
              "      flex-wrap:wrap;\n",
              "      gap: 12px;\n",
              "    }\n",
              "\n",
              "    .colab-df-convert {\n",
              "      background-color: #E8F0FE;\n",
              "      border: none;\n",
              "      border-radius: 50%;\n",
              "      cursor: pointer;\n",
              "      display: none;\n",
              "      fill: #1967D2;\n",
              "      height: 32px;\n",
              "      padding: 0 0 0 0;\n",
              "      width: 32px;\n",
              "    }\n",
              "\n",
              "    .colab-df-convert:hover {\n",
              "      background-color: #E2EBFA;\n",
              "      box-shadow: 0px 1px 2px rgba(60, 64, 67, 0.3), 0px 1px 3px 1px rgba(60, 64, 67, 0.15);\n",
              "      fill: #174EA6;\n",
              "    }\n",
              "\n",
              "    [theme=dark] .colab-df-convert {\n",
              "      background-color: #3B4455;\n",
              "      fill: #D2E3FC;\n",
              "    }\n",
              "\n",
              "    [theme=dark] .colab-df-convert:hover {\n",
              "      background-color: #434B5C;\n",
              "      box-shadow: 0px 1px 3px 1px rgba(0, 0, 0, 0.15);\n",
              "      filter: drop-shadow(0px 1px 2px rgba(0, 0, 0, 0.3));\n",
              "      fill: #FFFFFF;\n",
              "    }\n",
              "  </style>\n",
              "\n",
              "      <script>\n",
              "        const buttonEl =\n",
              "          document.querySelector('#df-8ea489c4-09dd-423a-878a-13eab6a8313e button.colab-df-convert');\n",
              "        buttonEl.style.display =\n",
              "          google.colab.kernel.accessAllowed ? 'block' : 'none';\n",
              "\n",
              "        async function convertToInteractive(key) {\n",
              "          const element = document.querySelector('#df-8ea489c4-09dd-423a-878a-13eab6a8313e');\n",
              "          const dataTable =\n",
              "            await google.colab.kernel.invokeFunction('convertToInteractive',\n",
              "                                                     [key], {});\n",
              "          if (!dataTable) return;\n",
              "\n",
              "          const docLinkHtml = 'Like what you see? Visit the ' +\n",
              "            '<a target=\"_blank\" href=https://colab.research.google.com/notebooks/data_table.ipynb>data table notebook</a>'\n",
              "            + ' to learn more about interactive tables.';\n",
              "          element.innerHTML = '';\n",
              "          dataTable['output_type'] = 'display_data';\n",
              "          await google.colab.output.renderOutput(dataTable, element);\n",
              "          const docLink = document.createElement('div');\n",
              "          docLink.innerHTML = docLinkHtml;\n",
              "          element.appendChild(docLink);\n",
              "        }\n",
              "      </script>\n",
              "    </div>\n",
              "  </div>\n",
              "  "
            ]
          },
          "metadata": {},
          "execution_count": 5
        }
      ],
      "source": [
        "# Show the top 5 rows\n",
        "display(data_df.head())\n",
        "# Summarize the data\n",
        "data_df.describe()"
      ]
    },
    {
      "cell_type": "markdown",
      "metadata": {
        "id": "jGd8BNvMMc5y"
      },
      "source": [
        "## Data cleaning\n",
        "\n",
        "We call the DataFrame.describe() again.\n",
        "Notice that there are 33 unique labels/classes for object and 10 unique labels for action that the model will try to predict.\n",
        "But there are unwanted duplications e.g. Idd,idd,lotalty_card,Lotalty_card\n",
        "\n",
        "Also note that, there are 13389 unqiue sentence utterances from 16175 utterances. You have to clean that too!\n",
        "\n",
        "## #TODO 1: \n",
        "You will have to remove unwanted label duplications as well as duplications in text inputs. \n",
        "Also, you will have to trim out unwanted whitespaces from the text inputs. \n",
        "This shouldn't be too hard, as you have already seen it in the demo.\n",
        "\n"
      ]
    },
    {
      "cell_type": "code",
      "execution_count": 6,
      "metadata": {
        "colab": {
          "base_uri": "https://localhost:8080/",
          "height": 331
        },
        "id": "V0bGLblVMc5z",
        "outputId": "f0904091-f1c3-4646-9459-521621b05f24"
      },
      "outputs": [
        {
          "output_type": "display_data",
          "data": {
            "text/plain": [
              "       Sentence Utterance   Action   Object\n",
              "count               16175    16175    16175\n",
              "unique              13389       10       33\n",
              "top           บริการอื่นๆ  enquire  service\n",
              "freq                   97    10377     2525"
            ],
            "text/html": [
              "\n",
              "  <div id=\"df-ce5a96a6-c394-407b-a902-e65f6d486022\">\n",
              "    <div class=\"colab-df-container\">\n",
              "      <div>\n",
              "<style scoped>\n",
              "    .dataframe tbody tr th:only-of-type {\n",
              "        vertical-align: middle;\n",
              "    }\n",
              "\n",
              "    .dataframe tbody tr th {\n",
              "        vertical-align: top;\n",
              "    }\n",
              "\n",
              "    .dataframe thead th {\n",
              "        text-align: right;\n",
              "    }\n",
              "</style>\n",
              "<table border=\"1\" class=\"dataframe\">\n",
              "  <thead>\n",
              "    <tr style=\"text-align: right;\">\n",
              "      <th></th>\n",
              "      <th>Sentence Utterance</th>\n",
              "      <th>Action</th>\n",
              "      <th>Object</th>\n",
              "    </tr>\n",
              "  </thead>\n",
              "  <tbody>\n",
              "    <tr>\n",
              "      <th>count</th>\n",
              "      <td>16175</td>\n",
              "      <td>16175</td>\n",
              "      <td>16175</td>\n",
              "    </tr>\n",
              "    <tr>\n",
              "      <th>unique</th>\n",
              "      <td>13389</td>\n",
              "      <td>10</td>\n",
              "      <td>33</td>\n",
              "    </tr>\n",
              "    <tr>\n",
              "      <th>top</th>\n",
              "      <td>บริการอื่นๆ</td>\n",
              "      <td>enquire</td>\n",
              "      <td>service</td>\n",
              "    </tr>\n",
              "    <tr>\n",
              "      <th>freq</th>\n",
              "      <td>97</td>\n",
              "      <td>10377</td>\n",
              "      <td>2525</td>\n",
              "    </tr>\n",
              "  </tbody>\n",
              "</table>\n",
              "</div>\n",
              "      <button class=\"colab-df-convert\" onclick=\"convertToInteractive('df-ce5a96a6-c394-407b-a902-e65f6d486022')\"\n",
              "              title=\"Convert this dataframe to an interactive table.\"\n",
              "              style=\"display:none;\">\n",
              "        \n",
              "  <svg xmlns=\"http://www.w3.org/2000/svg\" height=\"24px\"viewBox=\"0 0 24 24\"\n",
              "       width=\"24px\">\n",
              "    <path d=\"M0 0h24v24H0V0z\" fill=\"none\"/>\n",
              "    <path d=\"M18.56 5.44l.94 2.06.94-2.06 2.06-.94-2.06-.94-.94-2.06-.94 2.06-2.06.94zm-11 1L8.5 8.5l.94-2.06 2.06-.94-2.06-.94L8.5 2.5l-.94 2.06-2.06.94zm10 10l.94 2.06.94-2.06 2.06-.94-2.06-.94-.94-2.06-.94 2.06-2.06.94z\"/><path d=\"M17.41 7.96l-1.37-1.37c-.4-.4-.92-.59-1.43-.59-.52 0-1.04.2-1.43.59L10.3 9.45l-7.72 7.72c-.78.78-.78 2.05 0 2.83L4 21.41c.39.39.9.59 1.41.59.51 0 1.02-.2 1.41-.59l7.78-7.78 2.81-2.81c.8-.78.8-2.07 0-2.86zM5.41 20L4 18.59l7.72-7.72 1.47 1.35L5.41 20z\"/>\n",
              "  </svg>\n",
              "      </button>\n",
              "      \n",
              "  <style>\n",
              "    .colab-df-container {\n",
              "      display:flex;\n",
              "      flex-wrap:wrap;\n",
              "      gap: 12px;\n",
              "    }\n",
              "\n",
              "    .colab-df-convert {\n",
              "      background-color: #E8F0FE;\n",
              "      border: none;\n",
              "      border-radius: 50%;\n",
              "      cursor: pointer;\n",
              "      display: none;\n",
              "      fill: #1967D2;\n",
              "      height: 32px;\n",
              "      padding: 0 0 0 0;\n",
              "      width: 32px;\n",
              "    }\n",
              "\n",
              "    .colab-df-convert:hover {\n",
              "      background-color: #E2EBFA;\n",
              "      box-shadow: 0px 1px 2px rgba(60, 64, 67, 0.3), 0px 1px 3px 1px rgba(60, 64, 67, 0.15);\n",
              "      fill: #174EA6;\n",
              "    }\n",
              "\n",
              "    [theme=dark] .colab-df-convert {\n",
              "      background-color: #3B4455;\n",
              "      fill: #D2E3FC;\n",
              "    }\n",
              "\n",
              "    [theme=dark] .colab-df-convert:hover {\n",
              "      background-color: #434B5C;\n",
              "      box-shadow: 0px 1px 3px 1px rgba(0, 0, 0, 0.15);\n",
              "      filter: drop-shadow(0px 1px 2px rgba(0, 0, 0, 0.3));\n",
              "      fill: #FFFFFF;\n",
              "    }\n",
              "  </style>\n",
              "\n",
              "      <script>\n",
              "        const buttonEl =\n",
              "          document.querySelector('#df-ce5a96a6-c394-407b-a902-e65f6d486022 button.colab-df-convert');\n",
              "        buttonEl.style.display =\n",
              "          google.colab.kernel.accessAllowed ? 'block' : 'none';\n",
              "\n",
              "        async function convertToInteractive(key) {\n",
              "          const element = document.querySelector('#df-ce5a96a6-c394-407b-a902-e65f6d486022');\n",
              "          const dataTable =\n",
              "            await google.colab.kernel.invokeFunction('convertToInteractive',\n",
              "                                                     [key], {});\n",
              "          if (!dataTable) return;\n",
              "\n",
              "          const docLinkHtml = 'Like what you see? Visit the ' +\n",
              "            '<a target=\"_blank\" href=https://colab.research.google.com/notebooks/data_table.ipynb>data table notebook</a>'\n",
              "            + ' to learn more about interactive tables.';\n",
              "          element.innerHTML = '';\n",
              "          dataTable['output_type'] = 'display_data';\n",
              "          await google.colab.output.renderOutput(dataTable, element);\n",
              "          const docLink = document.createElement('div');\n",
              "          docLink.innerHTML = docLinkHtml;\n",
              "          element.appendChild(docLink);\n",
              "        }\n",
              "      </script>\n",
              "    </div>\n",
              "  </div>\n",
              "  "
            ]
          },
          "metadata": {}
        },
        {
          "output_type": "display_data",
          "data": {
            "text/plain": [
              "array(['payment', 'package', 'suspend', 'internet', 'phone_issues',\n",
              "       'service', 'nonTrueMove', 'balance', 'detail', 'bill', 'credit',\n",
              "       'promotion', 'mobile_setting', 'iservice', 'roaming', 'truemoney',\n",
              "       'information', 'lost_stolen', 'balance_minutes', 'idd',\n",
              "       'TrueMoney', 'garbage', 'Payment', 'IDD', 'ringtone', 'Idd',\n",
              "       'rate', 'loyalty_card', 'contact', 'officer', 'Balance', 'Service',\n",
              "       'Loyalty_card'], dtype=object)"
            ]
          },
          "metadata": {}
        },
        {
          "output_type": "display_data",
          "data": {
            "text/plain": [
              "array(['enquire', 'report', 'cancel', 'Enquire', 'buy', 'activate',\n",
              "       'request', 'Report', 'garbage', 'change'], dtype=object)"
            ]
          },
          "metadata": {}
        }
      ],
      "source": [
        "display(data_df.describe())\n",
        "display(data_df.Object.unique())\n",
        "display(data_df.Action.unique())"
      ]
    },
    {
      "cell_type": "code",
      "execution_count": 7,
      "metadata": {
        "colab": {
          "base_uri": "https://localhost:8080/",
          "height": 313
        },
        "id": "19onNNUZMc54",
        "outputId": "c1384efe-1a88-43db-f4d6-fffd12854d4b"
      },
      "outputs": [
        {
          "output_type": "display_data",
          "data": {
            "text/plain": [
              "                                       Sentence Utterance action_label  \\\n",
              "count                                               13389        13389   \n",
              "unique                                              13389            8   \n",
              "top      <PHONE_NUMBER_REMOVED> ผมไปจ่ายเงินที่ Counte...      enquire   \n",
              "freq                                                    1         8658   \n",
              "\n",
              "       object_label  \n",
              "count         13389  \n",
              "unique           26  \n",
              "top         service  \n",
              "freq           2111  "
            ],
            "text/html": [
              "\n",
              "  <div id=\"df-b321ebf7-b2f8-428c-9b66-ebdd05b3037b\">\n",
              "    <div class=\"colab-df-container\">\n",
              "      <div>\n",
              "<style scoped>\n",
              "    .dataframe tbody tr th:only-of-type {\n",
              "        vertical-align: middle;\n",
              "    }\n",
              "\n",
              "    .dataframe tbody tr th {\n",
              "        vertical-align: top;\n",
              "    }\n",
              "\n",
              "    .dataframe thead th {\n",
              "        text-align: right;\n",
              "    }\n",
              "</style>\n",
              "<table border=\"1\" class=\"dataframe\">\n",
              "  <thead>\n",
              "    <tr style=\"text-align: right;\">\n",
              "      <th></th>\n",
              "      <th>Sentence Utterance</th>\n",
              "      <th>action_label</th>\n",
              "      <th>object_label</th>\n",
              "    </tr>\n",
              "  </thead>\n",
              "  <tbody>\n",
              "    <tr>\n",
              "      <th>count</th>\n",
              "      <td>13389</td>\n",
              "      <td>13389</td>\n",
              "      <td>13389</td>\n",
              "    </tr>\n",
              "    <tr>\n",
              "      <th>unique</th>\n",
              "      <td>13389</td>\n",
              "      <td>8</td>\n",
              "      <td>26</td>\n",
              "    </tr>\n",
              "    <tr>\n",
              "      <th>top</th>\n",
              "      <td>&lt;PHONE_NUMBER_REMOVED&gt; ผมไปจ่ายเงินที่ Counte...</td>\n",
              "      <td>enquire</td>\n",
              "      <td>service</td>\n",
              "    </tr>\n",
              "    <tr>\n",
              "      <th>freq</th>\n",
              "      <td>1</td>\n",
              "      <td>8658</td>\n",
              "      <td>2111</td>\n",
              "    </tr>\n",
              "  </tbody>\n",
              "</table>\n",
              "</div>\n",
              "      <button class=\"colab-df-convert\" onclick=\"convertToInteractive('df-b321ebf7-b2f8-428c-9b66-ebdd05b3037b')\"\n",
              "              title=\"Convert this dataframe to an interactive table.\"\n",
              "              style=\"display:none;\">\n",
              "        \n",
              "  <svg xmlns=\"http://www.w3.org/2000/svg\" height=\"24px\"viewBox=\"0 0 24 24\"\n",
              "       width=\"24px\">\n",
              "    <path d=\"M0 0h24v24H0V0z\" fill=\"none\"/>\n",
              "    <path d=\"M18.56 5.44l.94 2.06.94-2.06 2.06-.94-2.06-.94-.94-2.06-.94 2.06-2.06.94zm-11 1L8.5 8.5l.94-2.06 2.06-.94-2.06-.94L8.5 2.5l-.94 2.06-2.06.94zm10 10l.94 2.06.94-2.06 2.06-.94-2.06-.94-.94-2.06-.94 2.06-2.06.94z\"/><path d=\"M17.41 7.96l-1.37-1.37c-.4-.4-.92-.59-1.43-.59-.52 0-1.04.2-1.43.59L10.3 9.45l-7.72 7.72c-.78.78-.78 2.05 0 2.83L4 21.41c.39.39.9.59 1.41.59.51 0 1.02-.2 1.41-.59l7.78-7.78 2.81-2.81c.8-.78.8-2.07 0-2.86zM5.41 20L4 18.59l7.72-7.72 1.47 1.35L5.41 20z\"/>\n",
              "  </svg>\n",
              "      </button>\n",
              "      \n",
              "  <style>\n",
              "    .colab-df-container {\n",
              "      display:flex;\n",
              "      flex-wrap:wrap;\n",
              "      gap: 12px;\n",
              "    }\n",
              "\n",
              "    .colab-df-convert {\n",
              "      background-color: #E8F0FE;\n",
              "      border: none;\n",
              "      border-radius: 50%;\n",
              "      cursor: pointer;\n",
              "      display: none;\n",
              "      fill: #1967D2;\n",
              "      height: 32px;\n",
              "      padding: 0 0 0 0;\n",
              "      width: 32px;\n",
              "    }\n",
              "\n",
              "    .colab-df-convert:hover {\n",
              "      background-color: #E2EBFA;\n",
              "      box-shadow: 0px 1px 2px rgba(60, 64, 67, 0.3), 0px 1px 3px 1px rgba(60, 64, 67, 0.15);\n",
              "      fill: #174EA6;\n",
              "    }\n",
              "\n",
              "    [theme=dark] .colab-df-convert {\n",
              "      background-color: #3B4455;\n",
              "      fill: #D2E3FC;\n",
              "    }\n",
              "\n",
              "    [theme=dark] .colab-df-convert:hover {\n",
              "      background-color: #434B5C;\n",
              "      box-shadow: 0px 1px 3px 1px rgba(0, 0, 0, 0.15);\n",
              "      filter: drop-shadow(0px 1px 2px rgba(0, 0, 0, 0.3));\n",
              "      fill: #FFFFFF;\n",
              "    }\n",
              "  </style>\n",
              "\n",
              "      <script>\n",
              "        const buttonEl =\n",
              "          document.querySelector('#df-b321ebf7-b2f8-428c-9b66-ebdd05b3037b button.colab-df-convert');\n",
              "        buttonEl.style.display =\n",
              "          google.colab.kernel.accessAllowed ? 'block' : 'none';\n",
              "\n",
              "        async function convertToInteractive(key) {\n",
              "          const element = document.querySelector('#df-b321ebf7-b2f8-428c-9b66-ebdd05b3037b');\n",
              "          const dataTable =\n",
              "            await google.colab.kernel.invokeFunction('convertToInteractive',\n",
              "                                                     [key], {});\n",
              "          if (!dataTable) return;\n",
              "\n",
              "          const docLinkHtml = 'Like what you see? Visit the ' +\n",
              "            '<a target=\"_blank\" href=https://colab.research.google.com/notebooks/data_table.ipynb>data table notebook</a>'\n",
              "            + ' to learn more about interactive tables.';\n",
              "          element.innerHTML = '';\n",
              "          dataTable['output_type'] = 'display_data';\n",
              "          await google.colab.output.renderOutput(dataTable, element);\n",
              "          const docLink = document.createElement('div');\n",
              "          docLink.innerHTML = docLinkHtml;\n",
              "          element.appendChild(docLink);\n",
              "        }\n",
              "      </script>\n",
              "    </div>\n",
              "  </div>\n",
              "  "
            ]
          },
          "metadata": {}
        },
        {
          "output_type": "display_data",
          "data": {
            "text/plain": [
              "array(['enquire', 'report', 'cancel', 'buy', 'activate', 'request',\n",
              "       'garbage', 'change'], dtype=object)"
            ]
          },
          "metadata": {}
        },
        {
          "output_type": "display_data",
          "data": {
            "text/plain": [
              "array(['payment', 'package', 'suspend', 'internet', 'phone_issues',\n",
              "       'service', 'nontruemove', 'balance', 'detail', 'bill', 'credit',\n",
              "       'promotion', 'mobile_setting', 'iservice', 'roaming', 'truemoney',\n",
              "       'information', 'lost_stolen', 'balance_minutes', 'idd', 'garbage',\n",
              "       'ringtone', 'rate', 'loyalty_card', 'contact', 'officer'],\n",
              "      dtype=object)"
            ]
          },
          "metadata": {}
        }
      ],
      "source": [
        "# TODO1: Data cleaning\n",
        "data_df['action_label']=data_df['Action'].str.lower().copy()\n",
        "data_df['object_label']=data_df['Object'].str.lower().copy()\n",
        "data_df.drop('Action', axis=1, inplace=True)\n",
        "data_df.drop('Object', axis=1, inplace=True)\n",
        "data_df.drop_duplicates('Sentence Utterance', inplace=True)\n",
        "display(data_df.describe())\n",
        "display(data_df.action_label.unique())\n",
        "display(data_df.object_label.unique())"
      ]
    },
    {
      "cell_type": "code",
      "execution_count": 8,
      "metadata": {
        "colab": {
          "base_uri": "https://localhost:8080/"
        },
        "id": "mKTh_npgqPzv",
        "outputId": "3dcf1333-9309-4abe-b2a4-699603ff2004"
      },
      "outputs": [
        {
          "output_type": "stream",
          "name": "stdout",
          "text": [
            "Before\n",
            "[' <PHONE_NUMBER_REMOVED> ผมไปจ่ายเงินที่ Counter Services เค้าเช็ต 3276.25 บาท เมื่อวานที่ผมเช็คที่ศูนย์บอกมียอด 3057.79 บาท'\n",
            " ' internet ยังความเร็วอยุ่เท่าไหร ครับ'\n",
            " ' ตะกี้ไปชำระค่าบริการไปแล้ว แต่ยังใช้งานไม่ได้ ค่ะ' ...\n",
            " 'ยอดเงินเหลือเท่าไหร่ค่ะ' 'ยอดเงินในระบบ'\n",
            " 'สอบถามโปรโมชั่นปัจจุบันที่ใช้อยู่ค่ะ']\n",
            "After\n",
            "['<PHONE_NUMBER_REMOVED> ผมไปจ่ายเงินที่ Counter Services เค้าเช็ต 3276.25 บาท เมื่อวานที่ผมเช็คที่ศูนย์บอกมียอด 3057.79 บาท'\n",
            " 'internet ยังความเร็วอยุ่เท่าไหร ครับ'\n",
            " 'ตะกี้ไปชำระค่าบริการไปแล้ว แต่ยังใช้งานไม่ได้ ค่ะ' ...\n",
            " 'ยอดเงินเหลือเท่าไหร่ค่ะ' 'ยอดเงินในระบบ'\n",
            " 'สอบถามโปรโมชั่นปัจจุบันที่ใช้อยู่ค่ะ']\n"
          ]
        }
      ],
      "source": [
        "def strip_str(string):\n",
        "    return string.strip()\n",
        "data = data_df.to_numpy()\n",
        "\n",
        "print(\"Before\")\n",
        "print(data[:,0])\n",
        "data[:,0] = np.vectorize(strip_str)(data[:,0])\n",
        "print(\"After\")\n",
        "print(data[:,0])"
      ]
    },
    {
      "cell_type": "markdown",
      "metadata": {
        "id": "Oo1YByXlzr67"
      },
      "source": [
        "## TODO2 : Assign index to word and labels in each sentences. \n",
        "\n",
        "Note that please use **word_tokenize** (https://pythainlp.github.io/docs/2.0/api/tokenize.html) as a function to tokenize each sentences."
      ]
    },
    {
      "cell_type": "code",
      "execution_count": 9,
      "metadata": {
        "id": "crwlkeMVyHh_"
      },
      "outputs": [],
      "source": [
        "# TODO2: assign index to each words and labels in sentence. \n",
        "\n",
        "# assign index to labels\n",
        "unique_action = data_df.action_label.unique()\n",
        "unique_object = data_df.object_label.unique()\n",
        "\n",
        "action_2_num_map = dict(zip(unique_action, range(len(unique_action))))\n",
        "num_2_action = dict(zip(range(len(unique_action)), unique_action))\n",
        "data[:,1] = np.vectorize(action_2_num_map.get)(data[:,1])\n",
        "\n",
        "object_2_num_map = dict(zip(unique_object, range(len(unique_object))))\n",
        "num_2_object = dict(zip(range(len(unique_object)), unique_object))\n",
        "data[:,2] = np.vectorize(object_2_num_map.get)(data[:,2])\n"
      ]
    },
    {
      "cell_type": "code",
      "execution_count": 10,
      "metadata": {
        "id": "7KHqWTca2tzn"
      },
      "outputs": [],
      "source": [
        "# assign index to words\n",
        "from pythainlp.tokenize import word_tokenize\n",
        "data[:,0] = np.array([word_tokenize(sentence, engine=\"newmm\") for sentence in data[:,0]], dtype='object')\n",
        "\n",
        "word_2_idx = {}\n",
        "idx_2_word = {}\n",
        "for tokens in data[:,0]:\n",
        "  for word in tokens:\n",
        "    if word not in word_2_idx:\n",
        "      word_2_idx[word] = len(word_2_idx)+1\n",
        "      idx_2_word[len(word_2_idx)] = word\n",
        "word_2_idx['UNK'] = len(word_2_idx)+1\n",
        "idx_2_word[len(word_2_idx)] = 'UNK'\n",
        "data[:,0] = np.array([ np.array([word_2_idx[word] for word in tokens]) for tokens in data[:,0]], dtype='object')"
      ]
    },
    {
      "cell_type": "code",
      "execution_count": 11,
      "metadata": {
        "colab": {
          "base_uri": "https://localhost:8080/"
        },
        "id": "GGBlcHxEHR6V",
        "outputId": "ab99cc4c-4fd2-40ac-dab2-cfb9f6b4d7bb"
      },
      "outputs": [
        {
          "output_type": "stream",
          "name": "stdout",
          "text": [
            "sequence len: 6, action: 7, object: 1\n"
          ]
        }
      ],
      "source": [
        "idx = np.random.randint(data.shape[0])\n",
        "print(f'sequence len: {len(data[idx,0])}, action: {data[idx,1]}, object: {data[idx,2]}')"
      ]
    },
    {
      "cell_type": "code",
      "execution_count": 12,
      "metadata": {
        "id": "gy2m3hmVp17u"
      },
      "outputs": [],
      "source": [
        "X = data[:,0]\n",
        "ys = data[:,1:].astype('int64')"
      ]
    },
    {
      "cell_type": "code",
      "execution_count": 13,
      "metadata": {
        "id": "3y-9JJAkX4va"
      },
      "outputs": [],
      "source": [
        "# Pad the sequence length of X to be maxlen \n",
        "import torch \n",
        "from torch.nn.utils.rnn import pad_sequence\n",
        "\n",
        "X = [torch.LongTensor(x) for x in X]\n",
        "\n",
        "X = pad_sequence(X, batch_first=True).numpy()\n",
        "\n",
        "maxlen = X.shape[1]"
      ]
    },
    {
      "cell_type": "markdown",
      "metadata": {
        "id": "7BZZYPuIMc59"
      },
      "source": [
        "## TODO 2,3: Preprocessing data for pytorch\n",
        "You will be using pytorch in this assignment. Please show us how you prepare your dataloader for pytorch.\n",
        "Don't forget to split data into train, valdation, and test sets (normally the ratio will be 80:10:10 , respectively)"
      ]
    },
    {
      "cell_type": "code",
      "execution_count": 14,
      "metadata": {
        "id": "tYBrQCOX6tZb"
      },
      "outputs": [],
      "source": [
        "import torch\n",
        "import torch.nn as nn\n",
        "import torch.optim as optim\n",
        "import torch.nn.functional as F\n",
        "from torch.utils.data import Dataset, DataLoader"
      ]
    },
    {
      "cell_type": "code",
      "execution_count": 15,
      "metadata": {
        "id": "LdoK6l4QMYLE"
      },
      "outputs": [],
      "source": [
        "import pandas as pd\n",
        "from IPython.display import display\n",
        "import pandas as pd\n",
        "\n",
        "# for validation part \n",
        "def categorical_accuracy(preds, y):\n",
        "  preds = preds.argmax(dim=1).numpy()\n",
        "  y = y.numpy()\n",
        "  return accuracy_score(y, preds)\n",
        "\n",
        "def categorical_f1(preds, y):\n",
        "  preds = preds.argmax(dim=1).numpy()\n",
        "  y = y.numpy()\n",
        "  return f1_score(y, preds, average='weighted')\n"
      ]
    },
    {
      "cell_type": "code",
      "execution_count": 16,
      "metadata": {
        "id": "SycOJ6cDMc5_"
      },
      "outputs": [],
      "source": [
        "# TODO2: Preprocessing data for pytorch \n",
        "class TrueCallCenterDataset(Dataset):\n",
        "  def __init__(self, data, labels=None):\n",
        "    self.data = data\n",
        "    self.labels = labels\n",
        "\n",
        "    if labels is not None: \n",
        "      assert len(data) == len(labels)  \n",
        "\n",
        "  def __len__(self):\n",
        "    return len(self.data)\n",
        "    \n",
        "  def __getitem__(self, idx):\n",
        "    if self.labels is None: \n",
        "      return torch.LongTensor(self.data[idx])\n",
        "    else: \n",
        "      return (\n",
        "          torch.LongTensor(self.data[idx]), \n",
        "          torch.LongTensor([self.labels[idx]])\n",
        "      )"
      ]
    },
    {
      "cell_type": "markdown",
      "metadata": {
        "id": "R7Uf8UwWJkhz"
      },
      "source": [
        "\n",
        "## TODO 3: Split the data\n",
        "\n",
        "We recommend to use train_test_spilt from scikit-learn to split the data into train, validation, test set. \n",
        "\n",
        "In addition, it should split the data that distribution of the labels in train , validation, test set are similar. There is **stratify** variable handling this issue. \n",
        "\n",
        "In this case, you can choose whatever you want either \"**Action**\" or \"**Object**\" ;). \n",
        "\n",
        "https://scikit-learn.org/stable/modules/generated/sklearn.model_selection.train_test_split.html\n"
      ]
    },
    {
      "cell_type": "code",
      "execution_count": 17,
      "metadata": {
        "colab": {
          "base_uri": "https://localhost:8080/"
        },
        "id": "k2NPVYj5JU1H",
        "outputId": "0592cbec-4a7a-499e-a2cf-3fbb8cb8d551"
      },
      "outputs": [
        {
          "output_type": "stream",
          "name": "stdout",
          "text": [
            "X_train: (10711, 131), X_test: (1339, 131), X_val: (1339, 131)\n",
            "ys_train: (10711, 2), ys_test: (1339, 2), ys_val: (1339, 2)\n"
          ]
        }
      ],
      "source": [
        "# TODO3: split data into train, validation, test  \n",
        "from sklearn.model_selection import train_test_split\n",
        "X_train, X_test, ys_train, ys_test = train_test_split(X, ys, test_size=0.1, stratify=ys[:,0])\n",
        "X_train, X_val, ys_train, ys_val = train_test_split(X_train, ys_train, test_size=X_test.shape[0]/X_train.shape[0], stratify=ys_train[:,0])\n",
        "\n",
        "print(f'X_train: {X_train.shape}, X_test: {X_test.shape}, X_val: {X_val.shape}')\n",
        "print(f'ys_train: {ys_train.shape}, ys_test: {ys_test.shape}, ys_val: {ys_val.shape}')"
      ]
    },
    {
      "cell_type": "markdown",
      "metadata": {
        "id": "qKeikxDy5Ahs"
      },
      "source": [
        "## TODO 4: Build a model for classifying these texts.\n"
      ]
    },
    {
      "cell_type": "code",
      "execution_count": 18,
      "metadata": {
        "colab": {
          "base_uri": "https://localhost:8080/"
        },
        "id": "fwo3K42JDmxB",
        "outputId": "4e413600-5423-488f-9690-4d0580ed0e8e"
      },
      "outputs": [
        {
          "output_type": "stream",
          "name": "stdout",
          "text": [
            "Looking in indexes: https://pypi.org/simple, https://us-python.pkg.dev/colab-wheels/public/simple/\n",
            "Requirement already satisfied: torchinfo in /usr/local/lib/python3.8/dist-packages (1.7.2)\n"
          ]
        }
      ],
      "source": [
        "!pip install torchinfo "
      ]
    },
    {
      "cell_type": "code",
      "execution_count": 19,
      "metadata": {
        "id": "Us46u83w5kjX"
      },
      "outputs": [],
      "source": [
        "import torchinfo \n",
        "from torch import nn \n",
        "from torch.nn import Embedding, Dropout, GRU, LSTM, Linear, CrossEntropyLoss\n",
        "from torch.optim import Adam\n",
        "import torch.nn.functional as F\n",
        "\n",
        "class Encoder(nn.Module):\n",
        "  def __init__(self, word_2_idx, embedding_dim=48, _weight=None):\n",
        "    super(Encoder, self).__init__() \n",
        "    self.embed = Embedding(len(word_2_idx), embedding_dim, padding_idx=0, _weight=_weight)\n",
        "  def forward(self, x):\n",
        "    x = self.embed(x)\n",
        "    return x\n",
        "\n",
        "class Classifier(nn.Module):\n",
        "  def __init__(self, num_classes, embedding_dim=48):\n",
        "    super(Classifier, self).__init__() \n",
        "    self.ff = Linear(embedding_dim, 32) \n",
        "    self.classifier = Linear(32, len(num_classes))\n",
        "  def forward(self, x):\n",
        "    x = self.ff(x)\n",
        "    x = self.classifier(x)\n",
        "    return x\n",
        "\n",
        "class Model(nn.Module):\n",
        "  def __init__(self, encoder, classifier_1, classifier_2=None):\n",
        "    super().__init__()\n",
        "    self.encoder = encoder\n",
        "    self.classifier_1 = classifier_1\n",
        "    self.classifier_2 = classifier_2\n",
        "  def forward(self,x):\n",
        "    x = self.encoder(x)\n",
        "\n",
        "    mask = (x!=0)\n",
        "    x = (x*mask).sum(dim=1)/mask.sum(dim=1)\n",
        "\n",
        "    out_1 = self.classifier_1(x)\n",
        "    if self.classifier_2 == None:\n",
        "      return out_1 \n",
        "    else:\n",
        "      out_2 = self.classifier_2(x)\n",
        "      return (out_1, out_2)"
      ]
    },
    {
      "cell_type": "markdown",
      "metadata": {
        "id": "-tXZiLZ4Mc6E"
      },
      "source": [
        "## #TODO 3: Build and evaluate a model for \"action\" classification\n"
      ]
    },
    {
      "cell_type": "code",
      "execution_count": 20,
      "metadata": {
        "id": "4Dd0R-AiRvup"
      },
      "outputs": [],
      "source": [
        "## TODO 3.1: prepare dataloader\n",
        "train_action_dataset = TrueCallCenterDataset(X_train, ys_train[:,0]) \n",
        "val_action_dataset = TrueCallCenterDataset(X_val, ys_val[:,0])\n",
        "test_action_dataset = TrueCallCenterDataset(X_test)\n",
        "\n",
        "num_workers = 2\n",
        "batch_size = 64\n",
        "\n",
        "train_action_dataloader = DataLoader(train_action_dataset, batch_size=64, shuffle=True) \n",
        "val_action_dataloader = DataLoader(val_action_dataset, batch_size=64, shuffle=False) \n",
        "test_action_dataloader = DataLoader(test_action_dataset, batch_size=64, shuffle=False) "
      ]
    },
    {
      "cell_type": "code",
      "execution_count": 21,
      "metadata": {
        "colab": {
          "base_uri": "https://localhost:8080/"
        },
        "id": "Q3vnhyI1R-jd",
        "outputId": "5f5f3d1c-9e3d-443e-da36-5e8c8efa3889"
      },
      "outputs": [
        {
          "output_type": "stream",
          "name": "stdout",
          "text": [
            "=================================================================\n",
            "Layer (type:depth-idx)                   Param #\n",
            "=================================================================\n",
            "Model                                    --\n",
            "├─Encoder: 1-1                           --\n",
            "│    └─Embedding: 2-1                    199,728\n",
            "├─Classifier: 1-2                        --\n",
            "│    └─Linear: 2-2                       1,568\n",
            "│    └─Linear: 2-3                       264\n",
            "=================================================================\n",
            "Total params: 201,560\n",
            "Trainable params: 201,560\n",
            "Non-trainable params: 0\n",
            "=================================================================\n"
          ]
        }
      ],
      "source": [
        "## TODO 3.2: setup model \n",
        "device = 'cuda' if torch.cuda.is_available() else 'cpu'\n",
        "\n",
        "model_action = Model(encoder = Encoder(word_2_idx), classifier_1 = Classifier(unique_action)) \n",
        "model_action.to(device) \n",
        "\n",
        "optimizer = Adam(model_action.parameters(), lr=1e-3) \n",
        "criterion = CrossEntropyLoss()\n",
        "print(torchinfo.summary(model_action))"
      ]
    },
    {
      "cell_type": "code",
      "execution_count": 22,
      "metadata": {
        "id": "-d44tfc-ILPB"
      },
      "outputs": [],
      "source": [
        "from tqdm import tqdm"
      ]
    },
    {
      "cell_type": "code",
      "execution_count": 23,
      "metadata": {
        "colab": {
          "base_uri": "https://localhost:8080/"
        },
        "id": "Q4PX4GESRx3f",
        "outputId": "65cea54c-4933-4c69-cbfb-b93c8cb46541"
      },
      "outputs": [
        {
          "output_type": "stream",
          "name": "stderr",
          "text": [
            "100%|██████████| 168/168 [00:00<00:00, 213.49it/s]\n",
            "100%|██████████| 21/21 [00:00<00:00, 292.01it/s]\n"
          ]
        },
        {
          "output_type": "stream",
          "name": "stdout",
          "text": [
            "     epoch = 01,    training loss   = 1.395,     training acc    = 0.592,     validation loss = 1.067,     validation acc  = 0.672\n"
          ]
        },
        {
          "output_type": "stream",
          "name": "stderr",
          "text": [
            "100%|██████████| 168/168 [00:00<00:00, 245.42it/s]\n",
            "100%|██████████| 21/21 [00:00<00:00, 542.61it/s]\n"
          ]
        },
        {
          "output_type": "stream",
          "name": "stdout",
          "text": [
            "     epoch = 02,    training loss   = 0.891,     training acc    = 0.713,     validation loss = 0.770,     validation acc  = 0.757\n"
          ]
        },
        {
          "output_type": "stream",
          "name": "stderr",
          "text": [
            "100%|██████████| 168/168 [00:00<00:00, 268.15it/s]\n",
            "100%|██████████| 21/21 [00:00<00:00, 570.36it/s]\n"
          ]
        },
        {
          "output_type": "stream",
          "name": "stdout",
          "text": [
            "     epoch = 03,    training loss   = 0.679,     training acc    = 0.784,     validation loss = 0.651,     validation acc  = 0.794\n"
          ]
        },
        {
          "output_type": "stream",
          "name": "stderr",
          "text": [
            "100%|██████████| 168/168 [00:00<00:00, 265.98it/s]\n",
            "100%|██████████| 21/21 [00:00<00:00, 445.42it/s]\n"
          ]
        },
        {
          "output_type": "stream",
          "name": "stdout",
          "text": [
            "     epoch = 04,    training loss   = 0.586,     training acc    = 0.814,     validation loss = 0.599,     validation acc  = 0.805\n"
          ]
        },
        {
          "output_type": "stream",
          "name": "stderr",
          "text": [
            "100%|██████████| 168/168 [00:00<00:00, 259.10it/s]\n",
            "100%|██████████| 21/21 [00:00<00:00, 537.47it/s]\n"
          ]
        },
        {
          "output_type": "stream",
          "name": "stdout",
          "text": [
            "     epoch = 05,    training loss   = 0.530,     training acc    = 0.830,     validation loss = 0.563,     validation acc  = 0.816\n"
          ]
        },
        {
          "output_type": "stream",
          "name": "stderr",
          "text": [
            "100%|██████████| 168/168 [00:00<00:00, 268.81it/s]\n",
            "100%|██████████| 21/21 [00:00<00:00, 573.10it/s]\n"
          ]
        },
        {
          "output_type": "stream",
          "name": "stdout",
          "text": [
            "     epoch = 06,    training loss   = 0.492,     training acc    = 0.842,     validation loss = 0.541,     validation acc  = 0.827\n"
          ]
        },
        {
          "output_type": "stream",
          "name": "stderr",
          "text": [
            "100%|██████████| 168/168 [00:00<00:00, 188.27it/s]\n",
            "100%|██████████| 21/21 [00:00<00:00, 313.66it/s]\n"
          ]
        },
        {
          "output_type": "stream",
          "name": "stdout",
          "text": [
            "     epoch = 07,    training loss   = 0.463,     training acc    = 0.852,     validation loss = 0.524,     validation acc  = 0.824\n"
          ]
        },
        {
          "output_type": "stream",
          "name": "stderr",
          "text": [
            "100%|██████████| 168/168 [00:00<00:00, 184.23it/s]\n",
            "100%|██████████| 21/21 [00:00<00:00, 319.22it/s]\n"
          ]
        },
        {
          "output_type": "stream",
          "name": "stdout",
          "text": [
            "     epoch = 08,    training loss   = 0.439,     training acc    = 0.857,     validation loss = 0.517,     validation acc  = 0.826\n"
          ]
        },
        {
          "output_type": "stream",
          "name": "stderr",
          "text": [
            "100%|██████████| 168/168 [00:00<00:00, 229.41it/s]\n",
            "100%|██████████| 21/21 [00:00<00:00, 474.65it/s]\n"
          ]
        },
        {
          "output_type": "stream",
          "name": "stdout",
          "text": [
            "     epoch = 09,    training loss   = 0.421,     training acc    = 0.865,     validation loss = 0.505,     validation acc  = 0.830\n"
          ]
        },
        {
          "output_type": "stream",
          "name": "stderr",
          "text": [
            "100%|██████████| 168/168 [00:00<00:00, 270.87it/s]\n",
            "100%|██████████| 21/21 [00:00<00:00, 529.00it/s]\n"
          ]
        },
        {
          "output_type": "stream",
          "name": "stdout",
          "text": [
            "     epoch = 10,    training loss   = 0.401,     training acc    = 0.871,     validation loss = 0.504,     validation acc  = 0.833\n"
          ]
        },
        {
          "output_type": "stream",
          "name": "stderr",
          "text": [
            "100%|██████████| 168/168 [00:00<00:00, 263.26it/s]\n",
            "100%|██████████| 21/21 [00:00<00:00, 531.75it/s]\n"
          ]
        },
        {
          "output_type": "stream",
          "name": "stdout",
          "text": [
            "     epoch = 11,    training loss   = 0.385,     training acc    = 0.876,     validation loss = 0.499,     validation acc  = 0.830\n"
          ]
        },
        {
          "output_type": "stream",
          "name": "stderr",
          "text": [
            "100%|██████████| 168/168 [00:01<00:00, 159.61it/s]\n",
            "100%|██████████| 21/21 [00:00<00:00, 202.07it/s]\n"
          ]
        },
        {
          "output_type": "stream",
          "name": "stdout",
          "text": [
            "     epoch = 12,    training loss   = 0.369,     training acc    = 0.880,     validation loss = 0.494,     validation acc  = 0.837\n"
          ]
        },
        {
          "output_type": "stream",
          "name": "stderr",
          "text": [
            "100%|██████████| 168/168 [00:01<00:00, 122.76it/s]\n",
            "100%|██████████| 21/21 [00:00<00:00, 244.86it/s]\n"
          ]
        },
        {
          "output_type": "stream",
          "name": "stdout",
          "text": [
            "     epoch = 13,    training loss   = 0.356,     training acc    = 0.886,     validation loss = 0.492,     validation acc  = 0.832\n"
          ]
        },
        {
          "output_type": "stream",
          "name": "stderr",
          "text": [
            "100%|██████████| 168/168 [00:01<00:00, 140.12it/s]\n",
            "100%|██████████| 21/21 [00:00<00:00, 338.07it/s]\n"
          ]
        },
        {
          "output_type": "stream",
          "name": "stdout",
          "text": [
            "     epoch = 14,    training loss   = 0.344,     training acc    = 0.890,     validation loss = 0.492,     validation acc  = 0.836\n"
          ]
        },
        {
          "output_type": "stream",
          "name": "stderr",
          "text": [
            "100%|██████████| 168/168 [00:01<00:00, 139.26it/s]\n",
            "100%|██████████| 21/21 [00:00<00:00, 219.44it/s]\n"
          ]
        },
        {
          "output_type": "stream",
          "name": "stdout",
          "text": [
            "     epoch = 15,    training loss   = 0.331,     training acc    = 0.893,     validation loss = 0.494,     validation acc  = 0.836\n"
          ]
        },
        {
          "output_type": "stream",
          "name": "stderr",
          "text": [
            "100%|██████████| 168/168 [00:01<00:00, 139.01it/s]\n",
            "100%|██████████| 21/21 [00:00<00:00, 298.61it/s]\n"
          ]
        },
        {
          "output_type": "stream",
          "name": "stdout",
          "text": [
            "     epoch = 16,    training loss   = 0.321,     training acc    = 0.898,     validation loss = 0.497,     validation acc  = 0.839\n"
          ]
        },
        {
          "output_type": "stream",
          "name": "stderr",
          "text": [
            "100%|██████████| 168/168 [00:01<00:00, 150.72it/s]\n",
            "100%|██████████| 21/21 [00:00<00:00, 254.75it/s]\n"
          ]
        },
        {
          "output_type": "stream",
          "name": "stdout",
          "text": [
            "     epoch = 17,    training loss   = 0.309,     training acc    = 0.902,     validation loss = 0.499,     validation acc  = 0.838\n"
          ]
        },
        {
          "output_type": "stream",
          "name": "stderr",
          "text": [
            "100%|██████████| 168/168 [00:02<00:00, 73.61it/s]\n",
            "100%|██████████| 21/21 [00:00<00:00, 95.67it/s] \n"
          ]
        },
        {
          "output_type": "stream",
          "name": "stdout",
          "text": [
            "     epoch = 18,    training loss   = 0.301,     training acc    = 0.903,     validation loss = 0.503,     validation acc  = 0.836\n"
          ]
        },
        {
          "output_type": "stream",
          "name": "stderr",
          "text": [
            "100%|██████████| 168/168 [00:01<00:00, 111.10it/s]\n",
            "100%|██████████| 21/21 [00:00<00:00, 314.09it/s]\n"
          ]
        },
        {
          "output_type": "stream",
          "name": "stdout",
          "text": [
            "     epoch = 19,    training loss   = 0.292,     training acc    = 0.906,     validation loss = 0.509,     validation acc  = 0.834\n"
          ]
        },
        {
          "output_type": "stream",
          "name": "stderr",
          "text": [
            "100%|██████████| 168/168 [00:01<00:00, 100.18it/s]\n",
            "100%|██████████| 21/21 [00:00<00:00, 187.19it/s]"
          ]
        },
        {
          "output_type": "stream",
          "name": "stdout",
          "text": [
            "     epoch = 20,    training loss   = 0.281,     training acc    = 0.909,     validation loss = 0.515,     validation acc  = 0.830\n"
          ]
        },
        {
          "output_type": "stream",
          "name": "stderr",
          "text": [
            "\n"
          ]
        }
      ],
      "source": [
        "## TODO 3.3: training loop\n",
        "num_epochs = 20\n",
        "\n",
        "train_action_losses = [] \n",
        "train_action_accs = [] \n",
        "\n",
        "val_action_losses = [] \n",
        "val_action_accs = [] \n",
        "\n",
        "for epoch in range(1, num_epochs+1): \n",
        "\n",
        "  train_minibatch_losses = []\n",
        "\n",
        "  train_preds = []\n",
        "  train_targets = []\n",
        "\n",
        "  model_action.train() \n",
        "  for inputs, targets in tqdm(train_action_dataloader):\n",
        "    optimizer.zero_grad() \n",
        "\n",
        "    inputs, targets = inputs.to(device), targets.to(device)\n",
        "\n",
        "    pred = model_action(inputs)\n",
        "    \n",
        "    targets = targets.reshape(-1)\n",
        "\n",
        "    loss = criterion(pred, targets) \n",
        "\n",
        "    train_minibatch_losses.append(loss.item())\n",
        "\n",
        "    train_preds.append(pred)\n",
        "    train_targets.append(targets)\n",
        "    \n",
        "    loss.backward() \n",
        "    optimizer.step()\n",
        "\n",
        "  val_minibatch_losses = []\n",
        "\n",
        "  val_preds = []\n",
        "  val_targets = []\n",
        "\n",
        "  model_action.eval() \n",
        "  for inputs, vals in tqdm(val_action_dataloader): \n",
        "    inputs, vals = inputs.to(device), vals.to(device)\n",
        "    with torch.no_grad(): \n",
        "      pred = model_action(inputs)\n",
        "\n",
        "      pred = pred.reshape(-1, pred.size(-1))\n",
        "      vals = vals.reshape(-1)\n",
        "      \n",
        "\n",
        "      loss = criterion(pred, vals) \n",
        "\n",
        "      val_minibatch_losses.append(loss.item())\n",
        "\n",
        "      val_preds.append(pred)\n",
        "      val_targets.append(vals)\n",
        "      \n",
        "  train_preds = torch.cat(train_preds)\n",
        "  train_targets = torch.cat(train_targets)\n",
        "  val_preds = torch.cat(val_preds)\n",
        "  val_targets = torch.cat(val_targets)\n",
        "\n",
        "  train_action_losses.append(np.mean(train_minibatch_losses))\n",
        "  train_action_accs.append(categorical_accuracy(train_preds, train_targets))\n",
        "  val_action_losses.append(np.mean(val_minibatch_losses))\n",
        "  val_action_accs.append(categorical_accuracy(val_preds, val_targets))\n",
        "\n",
        "  print(f' \\\n",
        "    epoch = {epoch:02d},\\\n",
        "    training loss   = {train_action_losses[-1]:.3f}, \\\n",
        "    training acc    = {train_action_accs[-1]:.3f}, \\\n",
        "    validation loss = {val_action_losses[-1]:.3f}, \\\n",
        "    validation acc  = {val_action_accs[-1]:.3f}')\n",
        "       "
      ]
    },
    {
      "cell_type": "code",
      "execution_count": 24,
      "metadata": {
        "id": "t_aXPdGkR7NP",
        "colab": {
          "base_uri": "https://localhost:8080/",
          "height": 336
        },
        "outputId": "44981a66-2715-41b0-a397-7ee43324f853"
      },
      "outputs": [
        {
          "output_type": "display_data",
          "data": {
            "text/plain": [
              "<Figure size 1080x360 with 2 Axes>"
            ],
            "image/png": "[encoded data removed]"
          },
          "metadata": {
            "needs_background": "light"
          }
        }
      ],
      "source": [
        "## TODO 3.4: visualize peformance on train , validation set\n",
        "import matplotlib.pyplot as plt\n",
        "plt.figure(figsize=(15,5))\n",
        "plt.subplot(121)\n",
        "plt.plot(np.arange(len(train_action_losses)), train_action_losses)\n",
        "plt.plot(np.arange(len(val_action_losses)), val_action_losses)\n",
        "plt.legend(['train', 'val'])\n",
        "plt.title('loss')\n",
        "plt.subplot(122)\n",
        "plt.plot(np.arange(len(train_action_accs)), train_action_accs)\n",
        "plt.plot(np.arange(len(val_action_accs)), val_action_accs)\n",
        "plt.legend(['train', 'val'])\n",
        "plt.title('accuracy')\n",
        "plt.show()"
      ]
    },
    {
      "cell_type": "code",
      "execution_count": 25,
      "metadata": {
        "id": "I4eM-ZeySJVb",
        "colab": {
          "base_uri": "https://localhost:8080/"
        },
        "outputId": "0733089a-c07d-40c5-d84b-b360eb6a2871"
      },
      "outputs": [
        {
          "output_type": "stream",
          "name": "stdout",
          "text": [
            "test accuracy: 0.8461538461538461\n",
            "test f1      : 0.8391541666588023\n"
          ]
        }
      ],
      "source": [
        "## TODO 3.5: evalaute on test set  \n",
        "test_preds = []\n",
        "model_action.eval() \n",
        "for inputs in test_action_dataloader: \n",
        "  inputs = inputs.to(device)\n",
        "  with torch.no_grad(): \n",
        "    pred = model_action(inputs)\n",
        "    test_preds.append(pred)\n",
        "  \n",
        "test_preds = torch.cat(test_preds)\n",
        "test_targets = torch.DoubleTensor(ys_test[:,0])\n",
        "test_acc = categorical_accuracy(test_preds, test_targets)\n",
        "test_f1 = categorical_f1(test_preds, test_targets)\n",
        "print(f\"test accuracy: {test_acc}\")\n",
        "print(f\"test f1      : {test_f1}\")"
      ]
    },
    {
      "cell_type": "markdown",
      "metadata": {
        "id": "JLRUK0Q8Mc6J"
      },
      "source": [
        "## #TODO 4: Build and evaluate a model for \"object\" classification\n",
        "\n"
      ]
    },
    {
      "cell_type": "code",
      "execution_count": 26,
      "metadata": {
        "id": "9evsrIiKMc6K"
      },
      "outputs": [],
      "source": [
        "## TODO 4.1: prepare dataloader \n",
        "\n",
        "train_object_dataset = TrueCallCenterDataset(X_train, ys_train[:,1]) \n",
        "val_object_dataset = TrueCallCenterDataset(X_val, ys_val[:,1])\n",
        "test_object_dataset = TrueCallCenterDataset(X_test)\n",
        "\n",
        "num_workers = 2\n",
        "batch_size = 64\n",
        "\n",
        "train_object_dataloader = DataLoader(train_object_dataset, batch_size=64, shuffle=True) \n",
        "val_object_dataloader = DataLoader(val_object_dataset, batch_size=64, shuffle=False) \n",
        "test_object_dataloader = DataLoader(test_object_dataset, batch_size=64, shuffle=False) "
      ]
    },
    {
      "cell_type": "code",
      "execution_count": 27,
      "metadata": {
        "id": "GXwBr5YHTJxh",
        "colab": {
          "base_uri": "https://localhost:8080/"
        },
        "outputId": "128dfd4f-aaf4-442c-c1a4-7cb72781b516"
      },
      "outputs": [
        {
          "output_type": "stream",
          "name": "stdout",
          "text": [
            "=================================================================\n",
            "Layer (type:depth-idx)                   Param #\n",
            "=================================================================\n",
            "Model                                    --\n",
            "├─Encoder: 1-1                           --\n",
            "│    └─Embedding: 2-1                    199,728\n",
            "├─Classifier: 1-2                        --\n",
            "│    └─Linear: 2-2                       1,568\n",
            "│    └─Linear: 2-3                       858\n",
            "=================================================================\n",
            "Total params: 202,154\n",
            "Trainable params: 202,154\n",
            "Non-trainable params: 0\n",
            "=================================================================\n"
          ]
        }
      ],
      "source": [
        "## TODO 4.2: setup model \n",
        "device = 'cuda' if torch.cuda.is_available() else 'cpu'\n",
        "\n",
        "model_object = Model(encoder = Encoder(word_2_idx), classifier_1 = Classifier(unique_object)) \n",
        "model_object.to(device) \n",
        "\n",
        "optimizer = Adam(model_object.parameters(), lr=1e-3) \n",
        "criterion = CrossEntropyLoss()\n",
        "print(torchinfo.summary(model_object))"
      ]
    },
    {
      "cell_type": "code",
      "execution_count": 28,
      "metadata": {
        "colab": {
          "base_uri": "https://localhost:8080/"
        },
        "id": "jqf4m3C8TLBk",
        "outputId": "5665470a-0161-4829-9fcc-fb669e062fcb"
      },
      "outputs": [
        {
          "output_type": "stream",
          "name": "stderr",
          "text": [
            "100%|██████████| 168/168 [00:01<00:00, 119.68it/s]\n",
            "100%|██████████| 21/21 [00:00<00:00, 268.85it/s]\n"
          ]
        },
        {
          "output_type": "stream",
          "name": "stdout",
          "text": [
            "     epoch = 01,    training loss   = 2.704,     training acc    = 0.259,     validation loss = 2.299,     validation acc  = 0.374\n"
          ]
        },
        {
          "output_type": "stream",
          "name": "stderr",
          "text": [
            "100%|██████████| 168/168 [00:01<00:00, 121.43it/s]\n",
            "100%|██████████| 21/21 [00:00<00:00, 183.08it/s]\n"
          ]
        },
        {
          "output_type": "stream",
          "name": "stdout",
          "text": [
            "     epoch = 02,    training loss   = 2.075,     training acc    = 0.414,     validation loss = 1.850,     validation acc  = 0.457\n"
          ]
        },
        {
          "output_type": "stream",
          "name": "stderr",
          "text": [
            "100%|██████████| 168/168 [00:01<00:00, 135.12it/s]\n",
            "100%|██████████| 21/21 [00:00<00:00, 300.57it/s]\n"
          ]
        },
        {
          "output_type": "stream",
          "name": "stdout",
          "text": [
            "     epoch = 03,    training loss   = 1.684,     training acc    = 0.508,     validation loss = 1.567,     validation acc  = 0.537\n"
          ]
        },
        {
          "output_type": "stream",
          "name": "stderr",
          "text": [
            "100%|██████████| 168/168 [00:01<00:00, 135.06it/s]\n",
            "100%|██████████| 21/21 [00:00<00:00, 576.71it/s]\n"
          ]
        },
        {
          "output_type": "stream",
          "name": "stdout",
          "text": [
            "     epoch = 04,    training loss   = 1.443,     training acc    = 0.576,     validation loss = 1.406,     validation acc  = 0.579\n"
          ]
        },
        {
          "output_type": "stream",
          "name": "stderr",
          "text": [
            "100%|██████████| 168/168 [00:00<00:00, 182.45it/s]\n",
            "100%|██████████| 21/21 [00:00<00:00, 366.62it/s]\n"
          ]
        },
        {
          "output_type": "stream",
          "name": "stdout",
          "text": [
            "     epoch = 05,    training loss   = 1.284,     training acc    = 0.623,     validation loss = 1.300,     validation acc  = 0.611\n"
          ]
        },
        {
          "output_type": "stream",
          "name": "stderr",
          "text": [
            "100%|██████████| 168/168 [00:00<00:00, 185.74it/s]\n",
            "100%|██████████| 21/21 [00:00<00:00, 497.03it/s]\n"
          ]
        },
        {
          "output_type": "stream",
          "name": "stdout",
          "text": [
            "     epoch = 06,    training loss   = 1.171,     training acc    = 0.655,     validation loss = 1.233,     validation acc  = 0.642\n"
          ]
        },
        {
          "output_type": "stream",
          "name": "stderr",
          "text": [
            "100%|██████████| 168/168 [00:00<00:00, 294.70it/s]\n",
            "100%|██████████| 21/21 [00:00<00:00, 574.37it/s]\n"
          ]
        },
        {
          "output_type": "stream",
          "name": "stdout",
          "text": [
            "     epoch = 07,    training loss   = 1.090,     training acc    = 0.678,     validation loss = 1.187,     validation acc  = 0.654\n"
          ]
        },
        {
          "output_type": "stream",
          "name": "stderr",
          "text": [
            "100%|██████████| 168/168 [00:00<00:00, 278.74it/s]\n",
            "100%|██████████| 21/21 [00:00<00:00, 553.41it/s]\n"
          ]
        },
        {
          "output_type": "stream",
          "name": "stdout",
          "text": [
            "     epoch = 08,    training loss   = 1.023,     training acc    = 0.696,     validation loss = 1.149,     validation acc  = 0.671\n"
          ]
        },
        {
          "output_type": "stream",
          "name": "stderr",
          "text": [
            "100%|██████████| 168/168 [00:00<00:00, 258.09it/s]\n",
            "100%|██████████| 21/21 [00:00<00:00, 518.50it/s]\n"
          ]
        },
        {
          "output_type": "stream",
          "name": "stdout",
          "text": [
            "     epoch = 09,    training loss   = 0.970,     training acc    = 0.710,     validation loss = 1.120,     validation acc  = 0.678\n"
          ]
        },
        {
          "output_type": "stream",
          "name": "stderr",
          "text": [
            "100%|██████████| 168/168 [00:00<00:00, 294.00it/s]\n",
            "100%|██████████| 21/21 [00:00<00:00, 556.34it/s]\n"
          ]
        },
        {
          "output_type": "stream",
          "name": "stdout",
          "text": [
            "     epoch = 10,    training loss   = 0.924,     training acc    = 0.722,     validation loss = 1.097,     validation acc  = 0.680\n"
          ]
        },
        {
          "output_type": "stream",
          "name": "stderr",
          "text": [
            "100%|██████████| 168/168 [00:00<00:00, 296.43it/s]\n",
            "100%|██████████| 21/21 [00:00<00:00, 536.86it/s]\n"
          ]
        },
        {
          "output_type": "stream",
          "name": "stdout",
          "text": [
            "     epoch = 11,    training loss   = 0.883,     training acc    = 0.737,     validation loss = 1.080,     validation acc  = 0.683\n"
          ]
        },
        {
          "output_type": "stream",
          "name": "stderr",
          "text": [
            "100%|██████████| 168/168 [00:00<00:00, 268.68it/s]\n",
            "100%|██████████| 21/21 [00:00<00:00, 545.76it/s]\n"
          ]
        },
        {
          "output_type": "stream",
          "name": "stdout",
          "text": [
            "     epoch = 12,    training loss   = 0.849,     training acc    = 0.746,     validation loss = 1.067,     validation acc  = 0.687\n"
          ]
        },
        {
          "output_type": "stream",
          "name": "stderr",
          "text": [
            "100%|██████████| 168/168 [00:00<00:00, 285.57it/s]\n",
            "100%|██████████| 21/21 [00:00<00:00, 530.48it/s]\n"
          ]
        },
        {
          "output_type": "stream",
          "name": "stdout",
          "text": [
            "     epoch = 13,    training loss   = 0.818,     training acc    = 0.757,     validation loss = 1.061,     validation acc  = 0.699\n"
          ]
        },
        {
          "output_type": "stream",
          "name": "stderr",
          "text": [
            "100%|██████████| 168/168 [00:00<00:00, 269.60it/s]\n",
            "100%|██████████| 21/21 [00:00<00:00, 570.31it/s]\n"
          ]
        },
        {
          "output_type": "stream",
          "name": "stdout",
          "text": [
            "     epoch = 14,    training loss   = 0.787,     training acc    = 0.767,     validation loss = 1.052,     validation acc  = 0.695\n"
          ]
        },
        {
          "output_type": "stream",
          "name": "stderr",
          "text": [
            "100%|██████████| 168/168 [00:00<00:00, 277.58it/s]\n",
            "100%|██████████| 21/21 [00:00<00:00, 581.72it/s]\n"
          ]
        },
        {
          "output_type": "stream",
          "name": "stdout",
          "text": [
            "     epoch = 15,    training loss   = 0.760,     training acc    = 0.775,     validation loss = 1.044,     validation acc  = 0.698\n"
          ]
        },
        {
          "output_type": "stream",
          "name": "stderr",
          "text": [
            "100%|██████████| 168/168 [00:00<00:00, 272.92it/s]\n",
            "100%|██████████| 21/21 [00:00<00:00, 545.78it/s]\n"
          ]
        },
        {
          "output_type": "stream",
          "name": "stdout",
          "text": [
            "     epoch = 16,    training loss   = 0.736,     training acc    = 0.783,     validation loss = 1.042,     validation acc  = 0.706\n"
          ]
        },
        {
          "output_type": "stream",
          "name": "stderr",
          "text": [
            "100%|██████████| 168/168 [00:00<00:00, 279.67it/s]\n",
            "100%|██████████| 21/21 [00:00<00:00, 527.82it/s]\n"
          ]
        },
        {
          "output_type": "stream",
          "name": "stdout",
          "text": [
            "     epoch = 17,    training loss   = 0.709,     training acc    = 0.790,     validation loss = 1.037,     validation acc  = 0.701\n"
          ]
        },
        {
          "output_type": "stream",
          "name": "stderr",
          "text": [
            "100%|██████████| 168/168 [00:00<00:00, 258.41it/s]\n",
            "100%|██████████| 21/21 [00:00<00:00, 590.97it/s]\n"
          ]
        },
        {
          "output_type": "stream",
          "name": "stdout",
          "text": [
            "     epoch = 18,    training loss   = 0.688,     training acc    = 0.797,     validation loss = 1.033,     validation acc  = 0.704\n"
          ]
        },
        {
          "output_type": "stream",
          "name": "stderr",
          "text": [
            "100%|██████████| 168/168 [00:00<00:00, 251.80it/s]\n",
            "100%|██████████| 21/21 [00:00<00:00, 516.98it/s]\n"
          ]
        },
        {
          "output_type": "stream",
          "name": "stdout",
          "text": [
            "     epoch = 19,    training loss   = 0.666,     training acc    = 0.802,     validation loss = 1.037,     validation acc  = 0.703\n"
          ]
        },
        {
          "output_type": "stream",
          "name": "stderr",
          "text": [
            "100%|██████████| 168/168 [00:00<00:00, 280.65it/s]\n",
            "100%|██████████| 21/21 [00:00<00:00, 526.71it/s]"
          ]
        },
        {
          "output_type": "stream",
          "name": "stdout",
          "text": [
            "     epoch = 20,    training loss   = 0.646,     training acc    = 0.812,     validation loss = 1.030,     validation acc  = 0.708\n"
          ]
        },
        {
          "output_type": "stream",
          "name": "stderr",
          "text": [
            "\n"
          ]
        }
      ],
      "source": [
        "## TODO 4.3: training loop\n",
        "num_epochs = 20\n",
        "\n",
        "train_object_losses = [] \n",
        "train_object_accs = [] \n",
        "\n",
        "val_object_losses = [] \n",
        "val_object_accs = [] \n",
        "\n",
        "for epoch in range(1, num_epochs+1): \n",
        "\n",
        "  train_minibatch_losses = []\n",
        "\n",
        "  train_preds = []\n",
        "  train_targets = []\n",
        "\n",
        "  model_object.train() \n",
        "  for inputs, targets in tqdm(train_object_dataloader):\n",
        "    optimizer.zero_grad() \n",
        "\n",
        "    inputs, targets = inputs.to(device), targets.to(device)\n",
        "\n",
        "    pred = model_object(inputs)\n",
        "    \n",
        "    targets = targets.reshape(-1)\n",
        "\n",
        "    loss = criterion(pred, targets) \n",
        "\n",
        "    train_minibatch_losses.append(loss.item())\n",
        "\n",
        "    train_preds.append(pred)\n",
        "    train_targets.append(targets)\n",
        "    \n",
        "    loss.backward() \n",
        "    optimizer.step()\n",
        "\n",
        "  val_minibatch_losses = []\n",
        "\n",
        "  val_preds = []\n",
        "  val_targets = []\n",
        "\n",
        "  model_object.eval() \n",
        "  for inputs, vals in tqdm(val_object_dataloader): \n",
        "    inputs, vals = inputs.to(device), vals.to(device)\n",
        "    with torch.no_grad(): \n",
        "      pred = model_object(inputs)\n",
        "\n",
        "      pred = pred.reshape(-1, pred.size(-1))\n",
        "      vals = vals.reshape(-1)\n",
        "      \n",
        "\n",
        "      loss = criterion(pred, vals) \n",
        "\n",
        "      val_minibatch_losses.append(loss.item())\n",
        "\n",
        "      val_preds.append(pred)\n",
        "      val_targets.append(vals)\n",
        "      \n",
        "  train_preds = torch.cat(train_preds)\n",
        "  train_targets = torch.cat(train_targets)\n",
        "  val_preds = torch.cat(val_preds)\n",
        "  val_targets = torch.cat(val_targets)\n",
        "\n",
        "  train_object_losses.append(np.mean(train_minibatch_losses))\n",
        "  train_object_accs.append(categorical_accuracy(train_preds, train_targets))\n",
        "  val_object_losses.append(np.mean(val_minibatch_losses))\n",
        "  val_object_accs.append(categorical_accuracy(val_preds, val_targets))\n",
        "\n",
        "  print(f' \\\n",
        "    epoch = {epoch:02d},\\\n",
        "    training loss   = {train_object_losses[-1]:.3f}, \\\n",
        "    training acc    = {train_object_accs[-1]:.3f}, \\\n",
        "    validation loss = {val_object_losses[-1]:.3f}, \\\n",
        "    validation acc  = {val_object_accs[-1]:.3f}')\n",
        "       \n",
        "       "
      ]
    },
    {
      "cell_type": "code",
      "execution_count": 29,
      "metadata": {
        "colab": {
          "base_uri": "https://localhost:8080/",
          "height": 336
        },
        "id": "AADne6aGTM-c",
        "outputId": "dfe7faba-2f3b-4622-d92c-d836cf0932d1"
      },
      "outputs": [
        {
          "output_type": "display_data",
          "data": {
            "text/plain": [
              "<Figure size 1080x360 with 2 Axes>"
            ],
            "image/png": "[encoded data removed]"
          },
          "metadata": {
            "needs_background": "light"
          }
        }
      ],
      "source": [
        "## TODO 4.4: visualize peformance on train , validation set\n",
        "import matplotlib.pyplot as plt\n",
        "plt.figure(figsize=(15,5))\n",
        "plt.subplot(121)\n",
        "plt.plot(np.arange(len(train_object_losses)), train_object_losses)\n",
        "plt.plot(np.arange(len(val_object_losses)), val_object_losses)\n",
        "plt.legend(['train', 'val'])\n",
        "plt.title('loss')\n",
        "plt.subplot(122)\n",
        "plt.plot(np.arange(len(train_object_accs)), train_object_accs)\n",
        "plt.plot(np.arange(len(val_object_accs)), val_object_accs)\n",
        "plt.legend(['train', 'val'])\n",
        "plt.title('accuracy')\n",
        "plt.show()"
      ]
    },
    {
      "cell_type": "code",
      "execution_count": 30,
      "metadata": {
        "colab": {
          "base_uri": "https://localhost:8080/"
        },
        "id": "VGwjOiD8TQYh",
        "outputId": "4142999f-570e-4b94-848e-a520ace61c9b"
      },
      "outputs": [
        {
          "output_type": "stream",
          "name": "stdout",
          "text": [
            "test accuracy: 0.7079910380881255\n",
            "test f1      : 0.6995553751847722\n"
          ]
        }
      ],
      "source": [
        "## TODO 4.5: evalaute on test set  \n",
        "test_preds = []\n",
        "model_object.eval() \n",
        "for inputs in test_object_dataloader: \n",
        "  inputs = inputs.to(device)\n",
        "  with torch.no_grad(): \n",
        "    pred = model_object(inputs)\n",
        "    test_preds.append(pred)\n",
        "\n",
        "test_preds = torch.cat(test_preds)\n",
        "test_targets = torch.LongTensor(ys_test[:,1])\n",
        "test_acc = categorical_accuracy(test_preds, test_targets)\n",
        "test_f1 = categorical_f1(test_preds, test_targets)\n",
        "print(f\"test accuracy: {test_acc}\")\n",
        "print(f\"test f1      : {test_f1}\")"
      ]
    },
    {
      "cell_type": "markdown",
      "metadata": {
        "id": "bsAxmXfGMc6N"
      },
      "source": [
        "## #TODO 5: Build and evaluate a multi-task model that does both \"action\" and \"object\" classifications in one-go \n",
        "\n",
        "The model will have 2 separate output layers one for action classification task and another for object classification task. \n",
        "\n",
        "This is a rough sketch of what your model might look like:\n",
        "![image](https://raw.githubusercontent.com/ekapolc/nlp_course/master/HW5/multitask_sketch.png)"
      ]
    },
    {
      "cell_type": "code",
      "execution_count": 31,
      "metadata": {
        "id": "MZX6wx49Mc6P"
      },
      "outputs": [],
      "source": [
        "## TODO 5.1: prepare dataloader \n",
        "train_dataset = TrueCallCenterDataset(X_train, ys_train) \n",
        "val_dataset = TrueCallCenterDataset(X_val, ys_val)\n",
        "test_dataset = TrueCallCenterDataset(X_test)\n",
        "\n",
        "num_workers = 2\n",
        "batch_size = 64\n",
        "\n",
        "train_dataloader = DataLoader(train_dataset, batch_size=64, shuffle=True) \n",
        "val_dataloader = DataLoader(val_dataset, batch_size=64, shuffle=False) \n",
        "test_dataloader = DataLoader(test_dataset, batch_size=64, shuffle=False) "
      ]
    },
    {
      "cell_type": "code",
      "execution_count": 32,
      "metadata": {
        "colab": {
          "base_uri": "https://localhost:8080/"
        },
        "id": "UIgfxpcuTdKP",
        "outputId": "d9b30b75-fb46-4a44-9a92-ad7e8e48feb2"
      },
      "outputs": [
        {
          "output_type": "stream",
          "name": "stdout",
          "text": [
            "=================================================================\n",
            "Layer (type:depth-idx)                   Param #\n",
            "=================================================================\n",
            "Model                                    --\n",
            "├─Encoder: 1-1                           --\n",
            "│    └─Embedding: 2-1                    199,728\n",
            "├─Classifier: 1-2                        --\n",
            "│    └─Linear: 2-2                       1,568\n",
            "│    └─Linear: 2-3                       264\n",
            "├─Classifier: 1-3                        --\n",
            "│    └─Linear: 2-4                       1,568\n",
            "│    └─Linear: 2-5                       858\n",
            "=================================================================\n",
            "Total params: 203,986\n",
            "Trainable params: 203,986\n",
            "Non-trainable params: 0\n",
            "=================================================================\n"
          ]
        }
      ],
      "source": [
        "## TODO 5.2: setup model \n",
        "device = 'cuda' if torch.cuda.is_available() else 'cpu'\n",
        "\n",
        "model = Model(encoder = Encoder(word_2_idx), classifier_1 = Classifier(unique_action), classifier_2 = Classifier(unique_object)) \n",
        "model.to(device) \n",
        "\n",
        "optimizer = Adam(model.parameters(), lr=1e-3) \n",
        "criterion = CrossEntropyLoss()\n",
        "print(torchinfo.summary(model))"
      ]
    },
    {
      "cell_type": "code",
      "execution_count": 33,
      "metadata": {
        "id": "T3jfoAiZTej2",
        "colab": {
          "base_uri": "https://localhost:8080/"
        },
        "outputId": "84e28efb-7094-40da-e39b-14d817996c3b"
      },
      "outputs": [
        {
          "output_type": "stream",
          "name": "stderr",
          "text": [
            "  0%|          | 0/168 [00:00<?, ?it/s]<ipython-input-16-de8b8cdf41d7>:19: UserWarning: Creating a tensor from a list of numpy.ndarrays is extremely slow. Please consider converting the list to a single numpy.ndarray with numpy.array() before converting to a tensor. (Triggered internally at ../torch/csrc/utils/tensor_new.cpp:230.)\n",
            "  torch.LongTensor([self.labels[idx]])\n",
            "100%|██████████| 168/168 [00:00<00:00, 177.70it/s]\n",
            "100%|██████████| 21/21 [00:00<00:00, 322.05it/s]\n"
          ]
        },
        {
          "output_type": "stream",
          "name": "stdout",
          "text": [
            " \n",
            "    epoch = 01,    training loss   = 0.646,     training acc_0    = 0.627,     training acc_1    = 0.250,     validation loss = 1.030,     validation acc_0  = 0.686,     validation acc_1  = 0.358\n"
          ]
        },
        {
          "output_type": "stream",
          "name": "stderr",
          "text": [
            "100%|██████████| 168/168 [00:01<00:00, 157.84it/s]\n",
            "100%|██████████| 21/21 [00:00<00:00, 345.39it/s]\n"
          ]
        },
        {
          "output_type": "stream",
          "name": "stdout",
          "text": [
            " \n",
            "    epoch = 02,    training loss   = 0.646,     training acc_0    = 0.719,     training acc_1    = 0.389,     validation loss = 1.030,     validation acc_0  = 0.753,     validation acc_1  = 0.460\n"
          ]
        },
        {
          "output_type": "stream",
          "name": "stderr",
          "text": [
            "100%|██████████| 168/168 [00:00<00:00, 239.92it/s]\n",
            "100%|██████████| 21/21 [00:00<00:00, 367.78it/s]\n"
          ]
        },
        {
          "output_type": "stream",
          "name": "stdout",
          "text": [
            " \n",
            "    epoch = 03,    training loss   = 0.646,     training acc_0    = 0.775,     training acc_1    = 0.482,     validation loss = 1.030,     validation acc_0  = 0.793,     validation acc_1  = 0.531\n"
          ]
        },
        {
          "output_type": "stream",
          "name": "stderr",
          "text": [
            "100%|██████████| 168/168 [00:00<00:00, 225.10it/s]\n",
            "100%|██████████| 21/21 [00:00<00:00, 491.43it/s]\n"
          ]
        },
        {
          "output_type": "stream",
          "name": "stdout",
          "text": [
            " \n",
            "    epoch = 04,    training loss   = 0.646,     training acc_0    = 0.801,     training acc_1    = 0.548,     validation loss = 1.030,     validation acc_0  = 0.804,     validation acc_1  = 0.568\n"
          ]
        },
        {
          "output_type": "stream",
          "name": "stderr",
          "text": [
            "100%|██████████| 168/168 [00:00<00:00, 218.28it/s]\n",
            "100%|██████████| 21/21 [00:00<00:00, 466.18it/s]\n"
          ]
        },
        {
          "output_type": "stream",
          "name": "stdout",
          "text": [
            " \n",
            "    epoch = 05,    training loss   = 0.646,     training acc_0    = 0.818,     training acc_1    = 0.593,     validation loss = 1.030,     validation acc_0  = 0.814,     validation acc_1  = 0.599\n"
          ]
        },
        {
          "output_type": "stream",
          "name": "stderr",
          "text": [
            "100%|██████████| 168/168 [00:00<00:00, 222.20it/s]\n",
            "100%|██████████| 21/21 [00:00<00:00, 476.59it/s]\n"
          ]
        },
        {
          "output_type": "stream",
          "name": "stdout",
          "text": [
            " \n",
            "    epoch = 06,    training loss   = 0.646,     training acc_0    = 0.830,     training acc_1    = 0.626,     validation loss = 1.030,     validation acc_0  = 0.834,     validation acc_1  = 0.625\n"
          ]
        },
        {
          "output_type": "stream",
          "name": "stderr",
          "text": [
            "100%|██████████| 168/168 [00:00<00:00, 250.07it/s]\n",
            "100%|██████████| 21/21 [00:00<00:00, 485.43it/s]\n"
          ]
        },
        {
          "output_type": "stream",
          "name": "stdout",
          "text": [
            " \n",
            "    epoch = 07,    training loss   = 0.646,     training acc_0    = 0.839,     training acc_1    = 0.652,     validation loss = 1.030,     validation acc_0  = 0.838,     validation acc_1  = 0.628\n"
          ]
        },
        {
          "output_type": "stream",
          "name": "stderr",
          "text": [
            "100%|██████████| 168/168 [00:00<00:00, 237.27it/s]\n",
            "100%|██████████| 21/21 [00:00<00:00, 488.31it/s]\n"
          ]
        },
        {
          "output_type": "stream",
          "name": "stdout",
          "text": [
            " \n",
            "    epoch = 08,    training loss   = 0.646,     training acc_0    = 0.846,     training acc_1    = 0.673,     validation loss = 1.030,     validation acc_0  = 0.834,     validation acc_1  = 0.642\n"
          ]
        },
        {
          "output_type": "stream",
          "name": "stderr",
          "text": [
            "100%|██████████| 168/168 [00:00<00:00, 241.26it/s]\n",
            "100%|██████████| 21/21 [00:00<00:00, 510.00it/s]\n"
          ]
        },
        {
          "output_type": "stream",
          "name": "stdout",
          "text": [
            " \n",
            "    epoch = 09,    training loss   = 0.646,     training acc_0    = 0.853,     training acc_1    = 0.688,     validation loss = 1.030,     validation acc_0  = 0.832,     validation acc_1  = 0.653\n"
          ]
        },
        {
          "output_type": "stream",
          "name": "stderr",
          "text": [
            "100%|██████████| 168/168 [00:00<00:00, 222.10it/s]\n",
            "100%|██████████| 21/21 [00:00<00:00, 452.54it/s]\n"
          ]
        },
        {
          "output_type": "stream",
          "name": "stdout",
          "text": [
            " \n",
            "    epoch = 10,    training loss   = 0.646,     training acc_0    = 0.857,     training acc_1    = 0.702,     validation loss = 1.030,     validation acc_0  = 0.838,     validation acc_1  = 0.656\n"
          ]
        },
        {
          "output_type": "stream",
          "name": "stderr",
          "text": [
            "100%|██████████| 168/168 [00:00<00:00, 231.52it/s]\n",
            "100%|██████████| 21/21 [00:00<00:00, 497.23it/s]\n"
          ]
        },
        {
          "output_type": "stream",
          "name": "stdout",
          "text": [
            " \n",
            "    epoch = 11,    training loss   = 0.646,     training acc_0    = 0.863,     training acc_1    = 0.717,     validation loss = 1.030,     validation acc_0  = 0.839,     validation acc_1  = 0.662\n"
          ]
        },
        {
          "output_type": "stream",
          "name": "stderr",
          "text": [
            "100%|██████████| 168/168 [00:00<00:00, 231.73it/s]\n",
            "100%|██████████| 21/21 [00:00<00:00, 459.07it/s]\n"
          ]
        },
        {
          "output_type": "stream",
          "name": "stdout",
          "text": [
            " \n",
            "    epoch = 12,    training loss   = 0.646,     training acc_0    = 0.868,     training acc_1    = 0.729,     validation loss = 1.030,     validation acc_0  = 0.842,     validation acc_1  = 0.669\n"
          ]
        },
        {
          "output_type": "stream",
          "name": "stderr",
          "text": [
            "100%|██████████| 168/168 [00:00<00:00, 245.52it/s]\n",
            "100%|██████████| 21/21 [00:00<00:00, 466.84it/s]\n"
          ]
        },
        {
          "output_type": "stream",
          "name": "stdout",
          "text": [
            " \n",
            "    epoch = 13,    training loss   = 0.646,     training acc_0    = 0.872,     training acc_1    = 0.737,     validation loss = 1.030,     validation acc_0  = 0.839,     validation acc_1  = 0.673\n"
          ]
        },
        {
          "output_type": "stream",
          "name": "stderr",
          "text": [
            "100%|██████████| 168/168 [00:00<00:00, 244.26it/s]\n",
            "100%|██████████| 21/21 [00:00<00:00, 514.19it/s]\n"
          ]
        },
        {
          "output_type": "stream",
          "name": "stdout",
          "text": [
            " \n",
            "    epoch = 14,    training loss   = 0.646,     training acc_0    = 0.875,     training acc_1    = 0.745,     validation loss = 1.030,     validation acc_0  = 0.846,     validation acc_1  = 0.674\n"
          ]
        },
        {
          "output_type": "stream",
          "name": "stderr",
          "text": [
            "100%|██████████| 168/168 [00:00<00:00, 215.75it/s]\n",
            "100%|██████████| 21/21 [00:00<00:00, 258.32it/s]\n"
          ]
        },
        {
          "output_type": "stream",
          "name": "stdout",
          "text": [
            " \n",
            "    epoch = 15,    training loss   = 0.646,     training acc_0    = 0.878,     training acc_1    = 0.756,     validation loss = 1.030,     validation acc_0  = 0.847,     validation acc_1  = 0.679\n"
          ]
        },
        {
          "output_type": "stream",
          "name": "stderr",
          "text": [
            "100%|██████████| 168/168 [00:01<00:00, 163.26it/s]\n",
            "100%|██████████| 21/21 [00:00<00:00, 310.38it/s]\n"
          ]
        },
        {
          "output_type": "stream",
          "name": "stdout",
          "text": [
            " \n",
            "    epoch = 16,    training loss   = 0.646,     training acc_0    = 0.882,     training acc_1    = 0.765,     validation loss = 1.030,     validation acc_0  = 0.851,     validation acc_1  = 0.684\n"
          ]
        },
        {
          "output_type": "stream",
          "name": "stderr",
          "text": [
            "100%|██████████| 168/168 [00:00<00:00, 194.86it/s]\n",
            "100%|██████████| 21/21 [00:00<00:00, 437.69it/s]\n"
          ]
        },
        {
          "output_type": "stream",
          "name": "stdout",
          "text": [
            " \n",
            "    epoch = 17,    training loss   = 0.646,     training acc_0    = 0.883,     training acc_1    = 0.771,     validation loss = 1.030,     validation acc_0  = 0.848,     validation acc_1  = 0.682\n"
          ]
        },
        {
          "output_type": "stream",
          "name": "stderr",
          "text": [
            "100%|██████████| 168/168 [00:00<00:00, 236.96it/s]\n",
            "100%|██████████| 21/21 [00:00<00:00, 523.30it/s]\n"
          ]
        },
        {
          "output_type": "stream",
          "name": "stdout",
          "text": [
            " \n",
            "    epoch = 18,    training loss   = 0.646,     training acc_0    = 0.886,     training acc_1    = 0.779,     validation loss = 1.030,     validation acc_0  = 0.847,     validation acc_1  = 0.684\n"
          ]
        },
        {
          "output_type": "stream",
          "name": "stderr",
          "text": [
            "100%|██████████| 168/168 [00:00<00:00, 247.16it/s]\n",
            "100%|██████████| 21/21 [00:00<00:00, 439.11it/s]\n"
          ]
        },
        {
          "output_type": "stream",
          "name": "stdout",
          "text": [
            " \n",
            "    epoch = 19,    training loss   = 0.646,     training acc_0    = 0.890,     training acc_1    = 0.784,     validation loss = 1.030,     validation acc_0  = 0.850,     validation acc_1  = 0.681\n"
          ]
        },
        {
          "output_type": "stream",
          "name": "stderr",
          "text": [
            "100%|██████████| 168/168 [00:00<00:00, 234.78it/s]\n",
            "100%|██████████| 21/21 [00:00<00:00, 486.06it/s]"
          ]
        },
        {
          "output_type": "stream",
          "name": "stdout",
          "text": [
            " \n",
            "    epoch = 20,    training loss   = 0.646,     training acc_0    = 0.892,     training acc_1    = 0.792,     validation loss = 1.030,     validation acc_0  = 0.850,     validation acc_1  = 0.680\n"
          ]
        },
        {
          "output_type": "stream",
          "name": "stderr",
          "text": [
            "\n"
          ]
        }
      ],
      "source": [
        "## TODO 4.3: training loop\n",
        "num_epochs = 20\n",
        "\n",
        "train_losses = [] \n",
        "train_accs_0 = [] \n",
        "train_accs_1 = [] \n",
        "\n",
        "val_losses = [] \n",
        "val_accs_0 = [] \n",
        "val_accs_1 = [] \n",
        "\n",
        "for epoch in range(1, num_epochs+1): \n",
        "\n",
        "  train_minibatch_losses = []\n",
        "\n",
        "  train_preds_0 = []\n",
        "  train_preds_1 = []\n",
        "  train_targets_0 = []\n",
        "  train_targets_1 = []\n",
        "\n",
        "  model.train() \n",
        "  for inputs, targets in tqdm(train_dataloader):\n",
        "    optimizer.zero_grad() \n",
        "\n",
        "    inputs, targets = inputs.to(device), targets.to(device)\n",
        "\n",
        "    preds = model(inputs)\n",
        "    pred_0 = preds[0]\n",
        "    pred_1 = preds[1]\n",
        "    \n",
        "    target_0 = targets[:,:,0]\n",
        "    target_1 = targets[:,:,1]\n",
        "    target_0 = target_0.reshape(-1)\n",
        "    target_1 = target_1.reshape(-1)\n",
        "\n",
        "    loss = criterion(pred_0, target_0) + criterion(pred_1, target_1) \n",
        "\n",
        "    train_minibatch_losses.append(loss.item())\n",
        "\n",
        "    train_preds_0.append(pred_0)\n",
        "    train_preds_1.append(pred_1)\n",
        "    train_targets_0.append(target_0)\n",
        "    train_targets_1.append(target_1)\n",
        "    \n",
        "    loss.backward() \n",
        "    optimizer.step()\n",
        "\n",
        "  val_minibatch_losses = []\n",
        "\n",
        "  val_preds_0 = []\n",
        "  val_preds_1 = []\n",
        "  val_targets_0 = []\n",
        "  val_targets_1 = []\n",
        "\n",
        "  model.eval() \n",
        "  for inputs, vals in tqdm(val_dataloader): \n",
        "    inputs, vals = inputs.to(device), vals.to(device)\n",
        "    with torch.no_grad(): \n",
        "      preds = model(inputs)\n",
        "      pred_0 = preds[0]\n",
        "      pred_1 = preds[1]\n",
        "      \n",
        "      val_0 = vals[:,:,0]\n",
        "      val_1 = vals[:,:,1]\n",
        "      val_0 = val_0.reshape(-1)\n",
        "      val_1 = val_1.reshape(-1)\n",
        "      \n",
        "      loss = criterion(pred_0, val_0) + criterion(pred_1, val_1) \n",
        "\n",
        "      val_minibatch_losses.append(loss.item())\n",
        "\n",
        "      val_preds_0.append(pred_0)\n",
        "      val_preds_1.append(pred_1)\n",
        "      val_targets_0.append(val_0)\n",
        "      val_targets_1.append(val_1)\n",
        "      \n",
        "  train_preds_0 = torch.cat(train_preds_0)\n",
        "  train_preds_1 = torch.cat(train_preds_1)\n",
        "  train_targets_0 = torch.cat(train_targets_0)\n",
        "  train_targets_1 = torch.cat(train_targets_1)\n",
        "\n",
        "  val_preds_0 = torch.cat(val_preds_0)\n",
        "  val_preds_1 = torch.cat(val_preds_1)\n",
        "  val_targets_0 = torch.cat(val_targets_0)\n",
        "  val_targets_1 = torch.cat(val_targets_1)\n",
        "\n",
        "  train_losses.append(np.mean(train_minibatch_losses))\n",
        "  train_accs_0.append(categorical_accuracy(train_preds_0, train_targets_0))\n",
        "  train_accs_1.append(categorical_accuracy(train_preds_1, train_targets_1))\n",
        "  val_losses.append(np.mean(val_minibatch_losses))\n",
        "  val_accs_0.append(categorical_accuracy(val_preds_0, val_targets_0))\n",
        "  val_accs_1.append(categorical_accuracy(val_preds_1, val_targets_1))\n",
        "\n",
        "  print(f' \\n\\\n",
        "    epoch = {epoch:02d},\\\n",
        "    training loss   = {train_object_losses[-1]:.3f}, \\\n",
        "    training acc_0    = {train_accs_0[-1]:.3f}, \\\n",
        "    training acc_1    = {train_accs_1[-1]:.3f}, \\\n",
        "    validation loss = {val_object_losses[-1]:.3f}, \\\n",
        "    validation acc_0  = {val_accs_0[-1]:.3f}, \\\n",
        "    validation acc_1  = {val_accs_1[-1]:.3f}')"
      ]
    },
    {
      "cell_type": "code",
      "execution_count": 34,
      "metadata": {
        "id": "0Nnzdyb-TfgX",
        "colab": {
          "base_uri": "https://localhost:8080/",
          "height": 336
        },
        "outputId": "039d5065-a273-4fc6-c1be-21bc8471f288"
      },
      "outputs": [
        {
          "output_type": "display_data",
          "data": {
            "text/plain": [
              "<Figure size 1440x360 with 3 Axes>"
            ],
            "image/png": "[encoded data removed]"
          },
          "metadata": {
            "needs_background": "light"
          }
        }
      ],
      "source": [
        "## TODO 5.4: visualize peformance on train , validation set \n",
        "import matplotlib.pyplot as plt\n",
        "plt.figure(figsize=(20,5))\n",
        "plt.subplot(131)\n",
        "plt.plot(np.arange(len(train_losses)), train_losses)\n",
        "plt.plot(np.arange(len(val_losses)), val_losses)\n",
        "plt.legend(['train', 'val'])\n",
        "plt.title('loss')\n",
        "plt.subplot(132)\n",
        "plt.plot(np.arange(len(train_accs_0)), train_accs_0)\n",
        "plt.plot(np.arange(len(val_accs_0)), val_accs_0)\n",
        "plt.legend(['train', 'val'])\n",
        "plt.title('accuracy_action')\n",
        "plt.subplot(133)\n",
        "plt.plot(np.arange(len(train_accs_1)), train_accs_1)\n",
        "plt.plot(np.arange(len(val_accs_1)), val_accs_1)\n",
        "plt.legend(['train', 'val'])\n",
        "plt.title('accuracy_object')\n",
        "plt.show()"
      ]
    },
    {
      "cell_type": "code",
      "execution_count": 35,
      "metadata": {
        "id": "aujjRRRHTgzt",
        "colab": {
          "base_uri": "https://localhost:8080/"
        },
        "outputId": "ad2ebd6f-640a-463f-8720-47248379f7af"
      },
      "outputs": [
        {
          "output_type": "stream",
          "name": "stdout",
          "text": [
            "test accuracy action: 0.8483943241224795\n",
            "test accuracy object: 0.7035100821508589\n",
            "test f1 action    : 0.8423248984469277\n",
            "test f1 object    : 0.6962808335391831\n"
          ]
        }
      ],
      "source": [
        "## TODO 5.5: evalaute on test set  \n",
        "test_preds_0 = []\n",
        "test_preds_1 = []\n",
        "model.eval() \n",
        "for inputs in test_action_dataloader: \n",
        "  inputs = inputs.to(device)\n",
        "  with torch.no_grad(): \n",
        "    pred = model(inputs)\n",
        "    test_preds_0.append(pred[0])\n",
        "    test_preds_1.append(pred[1])\n",
        "  \n",
        "test_preds_0 = torch.cat(test_preds_0)\n",
        "test_preds_1 = torch.cat(test_preds_1)\n",
        "test_targets_0 = torch.DoubleTensor(ys_test[:,0])\n",
        "test_targets_1 = torch.DoubleTensor(ys_test[:,1])\n",
        "\n",
        "test_acc_0 = categorical_accuracy(test_preds_0, test_targets_0)\n",
        "test_acc_1 = categorical_accuracy(test_preds_1, test_targets_1)\n",
        "test_f1_0 = categorical_f1(test_preds_0, test_targets_0)\n",
        "test_f1_1 = categorical_f1(test_preds_1, test_targets_1)\n",
        "\n",
        "print(f\"test accuracy action: {test_acc_0}\")\n",
        "print(f\"test accuracy object: {test_acc_1}\")\n",
        "print(f\"test f1 action    : {test_f1_0}\")\n",
        "print(f\"test f1 object    : {test_f1_1}\")"
      ]
    },
    {
      "cell_type": "markdown",
      "metadata": {
        "id": "R3UNrA_yPXrG"
      },
      "source": [
        "## #TODO 6: report the result in each set-up "
      ]
    },
    {
      "cell_type": "markdown",
      "metadata": {
        "id": "dxJqwOZxNYwT"
      },
      "source": [
        "**Single Task learning**\n",
        "\n",
        "Action classification : \n",
        "Acc = 0.8461538461538461, f1 = 0.8391541666588023\n",
        "\n",
        "Object classification : \n",
        "Acc = 0.7079910380881255, f1 = 0.6995553751847722\n",
        "\n",
        "**Multi-task learning**\n",
        "\n",
        "Action classification : \n",
        "Acc =  0.8483943241224795, f1 = 0.8423248984469277\n",
        "\n",
        "Object classification : \n",
        "Acc =  0.7035100821508589, f1 = 0.6962808335391831"
      ]
    },
    {
      "cell_type": "markdown",
      "metadata": {
        "id": "iuAB51Q_AYnR"
      },
      "source": [
        "## TODO 7: Use pretraining word embedding & handling out of vocabulary words\n",
        "\n",
        "Pretrained word embeddings can be used to improve the performance of a classification model, as they provide the model better representation of the words. These embeddings can be used to initialize the weights of the neural network model, providing it with a more meaningful starting point for learning especially on smaller datasets.\n",
        "\n",
        "In this part, we will try to use pretrained word embedding to initialize the word embeddings in this corpus.\n",
        "\n",
        "\n",
        "\n",
        "\n",
        "\n",
        "In the previous labs, we have always been using a vector of zeros to initialize words for OOVs. However, that is usually not the best method. In this part of the homework, you will try to handle these OOVs better.\n",
        "\n",
        "**Note :** you can use any pretrained word embedding.\n",
        "\n",
        "Repeat the model in TODO 5 with pretrained word embedding. Use a better initialization than a vector of zeroes.\n",
        "\n",
        "Here are some ideas:\n",
        "\n",
        "1.   [average](https://nlp.stanford.edu/~johnhew/vocab-expansion.html)\n",
        "2.   [Using character n-grams from FastText](https://fasttext.cc/docs/en/unsupervised-tutorial.html)\n",
        "3.   [Use a character LSTM model](https://link.springer.com/chapter/10.1007/978-3-030-18305-9_60)"
      ]
    },
    {
      "cell_type": "code",
      "source": [
        "!wget https://www.dropbox.com/s/tuvrbsby4a5axe0/resources.zip\n",
        "!unzip resources.zip"
      ],
      "metadata": {
        "id": "vNI9mrsfuBmL"
      },
      "execution_count": null,
      "outputs": []
    },
    {
      "cell_type": "code",
      "source": [
        "from embeddings import emb_reader # load emb_reader.py from PATH\n",
        "pretrained_embeddings = emb_reader.get_embeddings()"
      ],
      "metadata": {
        "id": "81H_HACKuHZ-"
      },
      "execution_count": 43,
      "outputs": []
    },
    {
      "cell_type": "code",
      "source": [
        "## TODO 7.2: how to handle out of vocab\n",
        "\n",
        "# Use average embedding vector (64, )\n",
        "\n",
        "average_vector = np.zeros(64)\n",
        "for w in pretrained_embeddings:\n",
        "  if w!='UNK':\n",
        "    average_vector += pretrained_embeddings[w]\n",
        "average_vector /= len(pretrained_embeddings)-1 # ignore 'UNK'\n",
        "\n",
        "pretrained_embeddings_weight = [pretrained_embeddings['PAD']] + [ pretrained_embeddings[idx_2_word[idx]]\n",
        "                                if idx_2_word[idx] in pretrained_embeddings\n",
        "                                else average_vector\n",
        "                                for idx in idx_2_word\n",
        "                                ][:-1] # ignore 'UNK'\n",
        "pretrained_embeddings_weight = torch.Tensor(pretrained_embeddings_weight)\n",
        "\n",
        "print('Embedding shape            ', model.encoder.embed.weight.size())\n",
        "print('Vacab size                 ', len(word_2_idx))\n",
        "print('Pretrained embedding shape ', pretrained_embeddings_weight.size())"
      ],
      "metadata": {
        "colab": {
          "base_uri": "https://localhost:8080/"
        },
        "id": "r1fvAFHex2VW",
        "outputId": "70acc6cb-2630-47c8-ee39-7d07c2574a68"
      },
      "execution_count": 38,
      "outputs": [
        {
          "output_type": "stream",
          "name": "stdout",
          "text": [
            "Embedding shape             torch.Size([4161, 48])\n",
            "Vacab size                  4161\n",
            "Pretrained embedding shape  torch.Size([4161, 64])\n"
          ]
        }
      ]
    },
    {
      "cell_type": "code",
      "source": [
        "device = 'cuda' if torch.cuda.is_available() else 'cpu'\n",
        "\n",
        "model_pretrained = Model(encoder = Encoder(word_2_idx, embedding_dim=64,  _weight=pretrained_embeddings_weight),\n",
        "                         classifier_1 = Classifier(unique_action, embedding_dim=64),\n",
        "                         classifier_2 = Classifier(unique_object, embedding_dim=64))\n",
        "model_pretrained.to(device) \n",
        "\n",
        "optimizer = Adam(model_pretrained.parameters(), lr=1e-3) \n",
        "criterion = CrossEntropyLoss()\n",
        "print(torchinfo.summary(model_pretrained))"
      ],
      "metadata": {
        "colab": {
          "base_uri": "https://localhost:8080/"
        },
        "id": "VvirxzRZuQ7C",
        "outputId": "5684d986-b393-44d7-8bb4-da56aff31e86"
      },
      "execution_count": 39,
      "outputs": [
        {
          "output_type": "stream",
          "name": "stdout",
          "text": [
            "=================================================================\n",
            "Layer (type:depth-idx)                   Param #\n",
            "=================================================================\n",
            "Model                                    --\n",
            "├─Encoder: 1-1                           --\n",
            "│    └─Embedding: 2-1                    266,304\n",
            "├─Classifier: 1-2                        --\n",
            "│    └─Linear: 2-2                       2,080\n",
            "│    └─Linear: 2-3                       264\n",
            "├─Classifier: 1-3                        --\n",
            "│    └─Linear: 2-4                       2,080\n",
            "│    └─Linear: 2-5                       858\n",
            "=================================================================\n",
            "Total params: 271,586\n",
            "Trainable params: 271,586\n",
            "Non-trainable params: 0\n",
            "=================================================================\n"
          ]
        }
      ]
    },
    {
      "cell_type": "code",
      "source": [
        "num_epochs = 20\n",
        "\n",
        "train_losses = [] \n",
        "train_accs_0 = [] \n",
        "train_accs_1 = [] \n",
        "\n",
        "val_losses = [] \n",
        "val_accs_0 = [] \n",
        "val_accs_1 = [] \n",
        "\n",
        "for epoch in range(1, num_epochs+1): \n",
        "\n",
        "  train_minibatch_losses = []\n",
        "\n",
        "  train_preds_0 = []\n",
        "  train_preds_1 = []\n",
        "  train_targets_0 = []\n",
        "  train_targets_1 = []\n",
        "\n",
        "  model_pretrained.train() \n",
        "  for inputs, targets in tqdm(train_dataloader):\n",
        "    optimizer.zero_grad() \n",
        "\n",
        "    inputs, targets = inputs.to(device), targets.to(device)\n",
        "\n",
        "    preds = model_pretrained(inputs)\n",
        "    pred_0 = preds[0]\n",
        "    pred_1 = preds[1]\n",
        "    \n",
        "    target_0 = targets[:,:,0]\n",
        "    target_1 = targets[:,:,1]\n",
        "    target_0 = target_0.reshape(-1)\n",
        "    target_1 = target_1.reshape(-1)\n",
        "\n",
        "    loss = criterion(pred_0, target_0) + criterion(pred_1, target_1) \n",
        "\n",
        "    train_minibatch_losses.append(loss.item())\n",
        "\n",
        "    train_preds_0.append(pred_0)\n",
        "    train_preds_1.append(pred_1)\n",
        "    train_targets_0.append(target_0)\n",
        "    train_targets_1.append(target_1)\n",
        "    \n",
        "    loss.backward() \n",
        "    optimizer.step()\n",
        "\n",
        "  val_minibatch_losses = []\n",
        "\n",
        "  val_preds_0 = []\n",
        "  val_preds_1 = []\n",
        "  val_targets_0 = []\n",
        "  val_targets_1 = []\n",
        "\n",
        "  model_pretrained.eval() \n",
        "  for inputs, vals in tqdm(val_dataloader): \n",
        "    inputs, vals = inputs.to(device), vals.to(device)\n",
        "    with torch.no_grad(): \n",
        "      preds = model_pretrained(inputs)\n",
        "      pred_0 = preds[0]\n",
        "      pred_1 = preds[1]\n",
        "      \n",
        "      val_0 = vals[:,:,0]\n",
        "      val_1 = vals[:,:,1]\n",
        "      val_0 = val_0.reshape(-1)\n",
        "      val_1 = val_1.reshape(-1)\n",
        "      \n",
        "      loss = criterion(pred_0, val_0) + criterion(pred_1, val_1) \n",
        "\n",
        "      val_minibatch_losses.append(loss.item())\n",
        "\n",
        "      val_preds_0.append(pred_0)\n",
        "      val_preds_1.append(pred_1)\n",
        "      val_targets_0.append(val_0)\n",
        "      val_targets_1.append(val_1)\n",
        "      \n",
        "  train_preds_0 = torch.cat(train_preds_0)\n",
        "  train_preds_1 = torch.cat(train_preds_1)\n",
        "  train_targets_0 = torch.cat(train_targets_0)\n",
        "  train_targets_1 = torch.cat(train_targets_1)\n",
        "\n",
        "  val_preds_0 = torch.cat(val_preds_0)\n",
        "  val_preds_1 = torch.cat(val_preds_1)\n",
        "  val_targets_0 = torch.cat(val_targets_0)\n",
        "  val_targets_1 = torch.cat(val_targets_1)\n",
        "\n",
        "  train_losses.append(np.mean(train_minibatch_losses))\n",
        "  train_accs_0.append(categorical_accuracy(train_preds_0, train_targets_0))\n",
        "  train_accs_1.append(categorical_accuracy(train_preds_1, train_targets_1))\n",
        "  val_losses.append(np.mean(val_minibatch_losses))\n",
        "  val_accs_0.append(categorical_accuracy(val_preds_0, val_targets_0))\n",
        "  val_accs_1.append(categorical_accuracy(val_preds_1, val_targets_1))\n",
        "\n",
        "  print(f' \\n\\\n",
        "    epoch = {epoch:02d},\\\n",
        "    training loss   = {train_object_losses[-1]:.3f}, \\\n",
        "    training acc_0    = {train_accs_0[-1]:.3f}, \\\n",
        "    training acc_1    = {train_accs_1[-1]:.3f}, \\\n",
        "    validation loss = {val_object_losses[-1]:.3f}, \\\n",
        "    validation acc_0  = {val_accs_0[-1]:.3f}, \\\n",
        "    validation acc_1  = {val_accs_1[-1]:.3f}')"
      ],
      "metadata": {
        "colab": {
          "base_uri": "https://localhost:8080/"
        },
        "id": "T1fsBxQew7A6",
        "outputId": "cf58591d-bf3b-4280-9dc3-5ea65f3f13a7"
      },
      "execution_count": 40,
      "outputs": [
        {
          "output_type": "stream",
          "name": "stderr",
          "text": [
            "100%|██████████| 168/168 [00:00<00:00, 204.45it/s]\n",
            "100%|██████████| 21/21 [00:00<00:00, 355.62it/s]\n"
          ]
        },
        {
          "output_type": "stream",
          "name": "stdout",
          "text": [
            " \n",
            "    epoch = 01,    training loss   = 0.646,     training acc_0    = 0.589,     training acc_1    = 0.150,     validation loss = 1.030,     validation acc_0  = 0.647,     validation acc_1  = 0.162\n"
          ]
        },
        {
          "output_type": "stream",
          "name": "stderr",
          "text": [
            "100%|██████████| 168/168 [00:00<00:00, 187.73it/s]\n",
            "100%|██████████| 21/21 [00:00<00:00, 399.91it/s]\n"
          ]
        },
        {
          "output_type": "stream",
          "name": "stdout",
          "text": [
            " \n",
            "    epoch = 02,    training loss   = 0.646,     training acc_0    = 0.647,     training acc_1    = 0.160,     validation loss = 1.030,     validation acc_0  = 0.647,     validation acc_1  = 0.162\n"
          ]
        },
        {
          "output_type": "stream",
          "name": "stderr",
          "text": [
            "100%|██████████| 168/168 [00:00<00:00, 182.87it/s]\n",
            "100%|██████████| 21/21 [00:00<00:00, 330.30it/s]\n"
          ]
        },
        {
          "output_type": "stream",
          "name": "stdout",
          "text": [
            " \n",
            "    epoch = 03,    training loss   = 0.646,     training acc_0    = 0.647,     training acc_1    = 0.174,     validation loss = 1.030,     validation acc_0  = 0.647,     validation acc_1  = 0.181\n"
          ]
        },
        {
          "output_type": "stream",
          "name": "stderr",
          "text": [
            "100%|██████████| 168/168 [00:00<00:00, 181.48it/s]\n",
            "100%|██████████| 21/21 [00:00<00:00, 357.56it/s]\n"
          ]
        },
        {
          "output_type": "stream",
          "name": "stdout",
          "text": [
            " \n",
            "    epoch = 04,    training loss   = 0.646,     training acc_0    = 0.647,     training acc_1    = 0.212,     validation loss = 1.030,     validation acc_0  = 0.650,     validation acc_1  = 0.259\n"
          ]
        },
        {
          "output_type": "stream",
          "name": "stderr",
          "text": [
            "100%|██████████| 168/168 [00:00<00:00, 194.81it/s]\n",
            "100%|██████████| 21/21 [00:00<00:00, 384.07it/s]\n"
          ]
        },
        {
          "output_type": "stream",
          "name": "stdout",
          "text": [
            " \n",
            "    epoch = 05,    training loss   = 0.646,     training acc_0    = 0.666,     training acc_1    = 0.256,     validation loss = 1.030,     validation acc_0  = 0.708,     validation acc_1  = 0.289\n"
          ]
        },
        {
          "output_type": "stream",
          "name": "stderr",
          "text": [
            "100%|██████████| 168/168 [00:00<00:00, 197.65it/s]\n",
            "100%|██████████| 21/21 [00:00<00:00, 380.79it/s]\n"
          ]
        },
        {
          "output_type": "stream",
          "name": "stdout",
          "text": [
            " \n",
            "    epoch = 06,    training loss   = 0.646,     training acc_0    = 0.713,     training acc_1    = 0.297,     validation loss = 1.030,     validation acc_0  = 0.727,     validation acc_1  = 0.317\n"
          ]
        },
        {
          "output_type": "stream",
          "name": "stderr",
          "text": [
            "100%|██████████| 168/168 [00:00<00:00, 185.20it/s]\n",
            "100%|██████████| 21/21 [00:00<00:00, 417.22it/s]\n"
          ]
        },
        {
          "output_type": "stream",
          "name": "stdout",
          "text": [
            " \n",
            "    epoch = 07,    training loss   = 0.646,     training acc_0    = 0.732,     training acc_1    = 0.329,     validation loss = 1.030,     validation acc_0  = 0.745,     validation acc_1  = 0.355\n"
          ]
        },
        {
          "output_type": "stream",
          "name": "stderr",
          "text": [
            "100%|██████████| 168/168 [00:00<00:00, 174.12it/s]\n",
            "100%|██████████| 21/21 [00:00<00:00, 225.16it/s]\n"
          ]
        },
        {
          "output_type": "stream",
          "name": "stdout",
          "text": [
            " \n",
            "    epoch = 08,    training loss   = 0.646,     training acc_0    = 0.751,     training acc_1    = 0.373,     validation loss = 1.030,     validation acc_0  = 0.762,     validation acc_1  = 0.399\n"
          ]
        },
        {
          "output_type": "stream",
          "name": "stderr",
          "text": [
            "100%|██████████| 168/168 [00:01<00:00, 89.35it/s] \n",
            "100%|██████████| 21/21 [00:00<00:00, 274.67it/s]\n"
          ]
        },
        {
          "output_type": "stream",
          "name": "stdout",
          "text": [
            " \n",
            "    epoch = 09,    training loss   = 0.646,     training acc_0    = 0.777,     training acc_1    = 0.420,     validation loss = 1.030,     validation acc_0  = 0.784,     validation acc_1  = 0.452\n"
          ]
        },
        {
          "output_type": "stream",
          "name": "stderr",
          "text": [
            "100%|██████████| 168/168 [00:00<00:00, 169.78it/s]\n",
            "100%|██████████| 21/21 [00:00<00:00, 379.12it/s]\n"
          ]
        },
        {
          "output_type": "stream",
          "name": "stdout",
          "text": [
            " \n",
            "    epoch = 10,    training loss   = 0.646,     training acc_0    = 0.787,     training acc_1    = 0.468,     validation loss = 1.030,     validation acc_0  = 0.787,     validation acc_1  = 0.475\n"
          ]
        },
        {
          "output_type": "stream",
          "name": "stderr",
          "text": [
            "100%|██████████| 168/168 [00:00<00:00, 180.19it/s]\n",
            "100%|██████████| 21/21 [00:00<00:00, 336.59it/s]\n"
          ]
        },
        {
          "output_type": "stream",
          "name": "stdout",
          "text": [
            " \n",
            "    epoch = 11,    training loss   = 0.646,     training acc_0    = 0.794,     training acc_1    = 0.506,     validation loss = 1.030,     validation acc_0  = 0.789,     validation acc_1  = 0.515\n"
          ]
        },
        {
          "output_type": "stream",
          "name": "stderr",
          "text": [
            "100%|██████████| 168/168 [00:00<00:00, 196.07it/s]\n",
            "100%|██████████| 21/21 [00:00<00:00, 385.98it/s]\n"
          ]
        },
        {
          "output_type": "stream",
          "name": "stdout",
          "text": [
            " \n",
            "    epoch = 12,    training loss   = 0.646,     training acc_0    = 0.801,     training acc_1    = 0.536,     validation loss = 1.030,     validation acc_0  = 0.787,     validation acc_1  = 0.538\n"
          ]
        },
        {
          "output_type": "stream",
          "name": "stderr",
          "text": [
            "100%|██████████| 168/168 [00:00<00:00, 185.73it/s]\n",
            "100%|██████████| 21/21 [00:00<00:00, 384.42it/s]\n"
          ]
        },
        {
          "output_type": "stream",
          "name": "stdout",
          "text": [
            " \n",
            "    epoch = 13,    training loss   = 0.646,     training acc_0    = 0.805,     training acc_1    = 0.559,     validation loss = 1.030,     validation acc_0  = 0.790,     validation acc_1  = 0.553\n"
          ]
        },
        {
          "output_type": "stream",
          "name": "stderr",
          "text": [
            "100%|██████████| 168/168 [00:00<00:00, 187.66it/s]\n",
            "100%|██████████| 21/21 [00:00<00:00, 370.23it/s]\n"
          ]
        },
        {
          "output_type": "stream",
          "name": "stdout",
          "text": [
            " \n",
            "    epoch = 14,    training loss   = 0.646,     training acc_0    = 0.812,     training acc_1    = 0.577,     validation loss = 1.030,     validation acc_0  = 0.793,     validation acc_1  = 0.565\n"
          ]
        },
        {
          "output_type": "stream",
          "name": "stderr",
          "text": [
            "100%|██████████| 168/168 [00:00<00:00, 189.09it/s]\n",
            "100%|██████████| 21/21 [00:00<00:00, 408.68it/s]\n"
          ]
        },
        {
          "output_type": "stream",
          "name": "stdout",
          "text": [
            " \n",
            "    epoch = 15,    training loss   = 0.646,     training acc_0    = 0.815,     training acc_1    = 0.597,     validation loss = 1.030,     validation acc_0  = 0.797,     validation acc_1  = 0.582\n"
          ]
        },
        {
          "output_type": "stream",
          "name": "stderr",
          "text": [
            "100%|██████████| 168/168 [00:00<00:00, 200.79it/s]\n",
            "100%|██████████| 21/21 [00:00<00:00, 408.02it/s]\n"
          ]
        },
        {
          "output_type": "stream",
          "name": "stdout",
          "text": [
            " \n",
            "    epoch = 16,    training loss   = 0.646,     training acc_0    = 0.819,     training acc_1    = 0.615,     validation loss = 1.030,     validation acc_0  = 0.800,     validation acc_1  = 0.588\n"
          ]
        },
        {
          "output_type": "stream",
          "name": "stderr",
          "text": [
            "100%|██████████| 168/168 [00:00<00:00, 197.00it/s]\n",
            "100%|██████████| 21/21 [00:00<00:00, 345.41it/s]\n"
          ]
        },
        {
          "output_type": "stream",
          "name": "stdout",
          "text": [
            " \n",
            "    epoch = 17,    training loss   = 0.646,     training acc_0    = 0.827,     training acc_1    = 0.629,     validation loss = 1.030,     validation acc_0  = 0.804,     validation acc_1  = 0.598\n"
          ]
        },
        {
          "output_type": "stream",
          "name": "stderr",
          "text": [
            "100%|██████████| 168/168 [00:00<00:00, 188.29it/s]\n",
            "100%|██████████| 21/21 [00:00<00:00, 327.39it/s]\n"
          ]
        },
        {
          "output_type": "stream",
          "name": "stdout",
          "text": [
            " \n",
            "    epoch = 18,    training loss   = 0.646,     training acc_0    = 0.830,     training acc_1    = 0.641,     validation loss = 1.030,     validation acc_0  = 0.810,     validation acc_1  = 0.606\n"
          ]
        },
        {
          "output_type": "stream",
          "name": "stderr",
          "text": [
            "100%|██████████| 168/168 [00:00<00:00, 189.76it/s]\n",
            "100%|██████████| 21/21 [00:00<00:00, 416.53it/s]\n"
          ]
        },
        {
          "output_type": "stream",
          "name": "stdout",
          "text": [
            " \n",
            "    epoch = 19,    training loss   = 0.646,     training acc_0    = 0.837,     training acc_1    = 0.657,     validation loss = 1.030,     validation acc_0  = 0.809,     validation acc_1  = 0.613\n"
          ]
        },
        {
          "output_type": "stream",
          "name": "stderr",
          "text": [
            "100%|██████████| 168/168 [00:01<00:00, 158.83it/s]\n",
            "100%|██████████| 21/21 [00:00<00:00, 184.72it/s]"
          ]
        },
        {
          "output_type": "stream",
          "name": "stdout",
          "text": [
            " \n",
            "    epoch = 20,    training loss   = 0.646,     training acc_0    = 0.842,     training acc_1    = 0.669,     validation loss = 1.030,     validation acc_0  = 0.824,     validation acc_1  = 0.618\n"
          ]
        },
        {
          "output_type": "stream",
          "name": "stderr",
          "text": [
            "\n"
          ]
        }
      ]
    },
    {
      "cell_type": "code",
      "source": [
        "import matplotlib.pyplot as plt\n",
        "plt.figure(figsize=(20,5))\n",
        "plt.subplot(131)\n",
        "plt.plot(np.arange(len(train_losses)), train_losses)\n",
        "plt.plot(np.arange(len(val_losses)), val_losses)\n",
        "plt.legend(['train', 'val'])\n",
        "plt.title('loss')\n",
        "plt.subplot(132)\n",
        "plt.plot(np.arange(len(train_accs_0)), train_accs_0)\n",
        "plt.plot(np.arange(len(val_accs_0)), val_accs_0)\n",
        "plt.legend(['train', 'val'])\n",
        "plt.title('accuracy_action')\n",
        "plt.subplot(133)\n",
        "plt.plot(np.arange(len(train_accs_1)), train_accs_1)\n",
        "plt.plot(np.arange(len(val_accs_1)), val_accs_1)\n",
        "plt.legend(['train', 'val'])\n",
        "plt.title('accuracy_object')\n",
        "plt.show()"
      ],
      "metadata": {
        "colab": {
          "base_uri": "https://localhost:8080/",
          "height": 336
        },
        "id": "6gMXrbszxJg8",
        "outputId": "f82fe903-b9b7-4b44-bf93-5db20a19ca13"
      },
      "execution_count": 41,
      "outputs": [
        {
          "output_type": "display_data",
          "data": {
            "text/plain": [
              "<Figure size 1440x360 with 3 Axes>"
            ],
            "image/png": "[encoded data removed]"
          },
          "metadata": {
            "needs_background": "light"
          }
        }
      ]
    },
    {
      "cell_type": "code",
      "source": [
        "test_preds_0 = []\n",
        "test_preds_1 = []\n",
        "model_pretrained.eval() \n",
        "for inputs in test_action_dataloader: \n",
        "  inputs = inputs.to(device)\n",
        "  with torch.no_grad(): \n",
        "    pred = model_pretrained(inputs)\n",
        "    test_preds_0.append(pred[0])\n",
        "    test_preds_1.append(pred[1])\n",
        "  \n",
        "test_preds_0 = torch.cat(test_preds_0)\n",
        "test_preds_1 = torch.cat(test_preds_1)\n",
        "test_targets_0 = torch.DoubleTensor(ys_test[:,0])\n",
        "test_targets_1 = torch.DoubleTensor(ys_test[:,1])\n",
        "\n",
        "test_acc_0 = categorical_accuracy(test_preds_0, test_targets_0)\n",
        "test_acc_1 = categorical_accuracy(test_preds_1, test_targets_1)\n",
        "test_f1_0 = categorical_f1(test_preds_0, test_targets_0)\n",
        "test_f1_1 = categorical_f1(test_preds_1, test_targets_1)\n",
        "\n",
        "print(f\"test accuracy action: {test_acc_0}\")\n",
        "print(f\"test accuracy object: {test_acc_1}\")\n",
        "print(f\"test f1 action    : {test_f1_0}\")\n",
        "print(f\"test f1 object    : {test_f1_1}\")"
      ],
      "metadata": {
        "colab": {
          "base_uri": "https://localhost:8080/"
        },
        "id": "gHDblI4nxW1-",
        "outputId": "a1d7deca-3855-4f32-82a9-931e20a1b64d"
      },
      "execution_count": 42,
      "outputs": [
        {
          "output_type": "stream",
          "name": "stdout",
          "text": [
            "test accuracy action: 0.8162808065720687\n",
            "test accuracy object: 0.6392830470500374\n",
            "test f1 action    : 0.7964523837606332\n",
            "test f1 object    : 0.6043285439861027\n"
          ]
        }
      ]
    },
    {
      "cell_type": "markdown",
      "metadata": {
        "id": "fsglVix_LGyw"
      },
      "source": [
        "Describe what pretrained word embedding you used, and how you handle OOVs.\n",
        "\n",
        "**ANS** TODO 7.3\n",
        "We use embedding from POS Tagging assingment and we handle OOVs using average embedding vector"
      ]
    },
    {
      "cell_type": "code",
      "source": [],
      "metadata": {
        "id": "499WGWYzyOnj"
      },
      "execution_count": 42,
      "outputs": []
    }
  ],
  "metadata": {
    "colab": {
      "provenance": []
    },
    "gpuClass": "standard",
    "kernelspec": {
      "display_name": "Python 3",
      "language": "python",
      "name": "python3"
    },
    "language_info": {
      "codemirror_mode": {
        "name": "ipython",
        "version": 3
      },
      "file_extension": ".py",
      "mimetype": "text/x-python",
      "name": "python",
      "nbconvert_exporter": "python",
      "pygments_lexer": "ipython3",
      "version": "3.5.2"
    }
  },
  "nbformat": 4,
  "nbformat_minor": 0
}