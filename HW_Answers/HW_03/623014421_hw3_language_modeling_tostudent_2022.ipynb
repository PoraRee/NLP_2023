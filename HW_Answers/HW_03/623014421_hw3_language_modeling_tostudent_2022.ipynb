{
  "cells": [
    {
      "cell_type": "markdown",
      "metadata": {
        "collapsed": true,
        "id": "15QfB7RAuXAc"
      },
      "source": [
        "# Language Modeling using Ngram"
      ]
    },
    {
      "cell_type": "markdown",
      "metadata": {
        "id": "gucid6KNuXAe"
      },
      "source": [
        "In this Exercise, you are going to use NLTK which is a natural language processing library for python to create a bigram language model and its variation. You will build one model for each of the following type and calculate their perplexity:\n",
        "- Unigram Model\n",
        "- Bigram Model\n",
        "- Bigram Model with Laplace smoothing\n",
        "- Bigram Model with Interpolation\n",
        "- Bigram Model with Kneser-ney Interpolation\n",
        "- Neural LM (optional)\n",
        "\n"
      ]
    },
    {
      "cell_type": "code",
      "execution_count": 57,
      "metadata": {
        "colab": {
          "base_uri": "https://localhost:8080/"
        },
        "id": "MRRrn78ZjL54",
        "outputId": "394c1bc5-82d5-4926-bbfe-b506038e13e7"
      },
      "outputs": [],
      "source": [
        "#download corpus\n",
        "!wget --no-check-certificate https://github.com/ekapolc/nlp_2019/raw/master/HW4/BEST2010.zip\n",
        "!unzip BEST2010.zip"
      ]
    },
    {
      "cell_type": "code",
      "execution_count": 58,
      "metadata": {
        "id": "GjJDeG03uXAf"
      },
      "outputs": [],
      "source": [
        "#First we import necessary library such as math, nltk, bigram, and collections.\n",
        "import math\n",
        "import nltk\n",
        "import io\n",
        "import random\n",
        "from random import shuffle\n",
        "from nltk import bigrams, trigrams\n",
        "from collections import Counter, defaultdict\n",
        "random.seed(999)"
      ]
    },
    {
      "cell_type": "markdown",
      "metadata": {
        "id": "HugXBHNEuXAh"
      },
      "source": [
        "BEST2010 is a free Thai NLP dataset by NECTEC usually use as a standard benchmark for various NLP tasks includeing language modeling. BEST2010 is separated into 4 domain article, encyclopedia, news and novel. The data is already  tokenized using '|' as a separator.\n",
        "\n",
        "For example,\n",
        "\n",
        "ตาม|ที่|นางประนอม ทองจันทร์| |กับ| |ด.ช.กิตติพงษ์ แหลมผักแว่น| |และ| |ด.ญ.กาญจนา กรองแก้ว| |ป่วย|สงสัย|ติด|เชื้อ|ไข้|ขณะ|นี้|ยัง|ไม่|ดี|ขึ้น|"
      ]
    },
    {
      "cell_type": "code",
      "execution_count": 59,
      "metadata": {
        "id": "iu-AJSZZuXAi"
      },
      "outputs": [],
      "source": [
        "# We choose news domain as our dataset\n",
        "best2010=[]\n",
        "fp= io.open('BEST2010/news.txt','r',encoding='utf-8')\n",
        "for i,line in enumerate(fp):\n",
        "    best2010.append(line.strip()[:-1])\n",
        "fp.close()\n",
        "all_vocabulary =set()\n",
        "total_word_count =0\n",
        "for line in best2010:\n",
        "    for word in line.split('|'):        \n",
        "        all_vocabulary.add(word)\n",
        "        total_word_count+=1"
      ]
    },
    {
      "cell_type": "code",
      "execution_count": 60,
      "metadata": {
        "colab": {
          "base_uri": "https://localhost:8080/"
        },
        "id": "3WfpGgbruXAj",
        "outputId": "83702205-3bda-49b5-e469-045dd64c8cb9"
      },
      "outputs": [
        {
          "name": "stdout",
          "output_type": "stream",
          "text": [
            "Total sentences in BEST2010 news dataset :\t30969\n",
            "Total word counts in BEST2010 news dataset :\t1660190\n",
            "Total vocabulary in BEST2010 news dataset :\t35488\n"
          ]
        }
      ],
      "source": [
        "#For simplicity, we assumes that each line is a sentence.\n",
        "print ('Total sentences in BEST2010 news dataset :\\t'+ str(len(best2010)))\n",
        "print ('Total word counts in BEST2010 news dataset :\\t'+ str(total_word_count))\n",
        "print ('Total vocabulary in BEST2010 news dataset :\\t'+ str(len(all_vocabulary)))"
      ]
    },
    {
      "cell_type": "markdown",
      "metadata": {
        "id": "_JD9iXF1uXAm"
      },
      "source": [
        "We separate out input into 2 sets, train and test data with 70:30 ratio"
      ]
    },
    {
      "cell_type": "code",
      "execution_count": 61,
      "metadata": {
        "colab": {
          "base_uri": "https://localhost:8080/"
        },
        "id": "_WGcQq_juXAm",
        "outputId": "785beca9-558b-402b-b2e1-6a99fe2347be"
      },
      "outputs": [
        {
          "name": "stdout",
          "output_type": "stream",
          "text": [
            "Total sentences in BEST2010 news training dataset :\t21678\n",
            "Total word counts in BEST2010 news training dataset :\t1042797\n",
            "Total vocabuary in BEST2010 news training dataset :\t26240\n"
          ]
        }
      ],
      "source": [
        "sentences = best2010\n",
        "# The data is separated to train and test set with 70:30 ratio.\n",
        "train = sentences[:int(len(sentences)*0.7)]\n",
        "test = sentences[int(len(sentences)*0.7):]\n",
        "\n",
        "#Training data\n",
        "train_vocabulary =set()\n",
        "train_word_count =0\n",
        "for line in train:\n",
        "    for word in line.split('|'):        \n",
        "        train_vocabulary.add(word)\n",
        "        train_word_count+=1\n",
        "print ('Total sentences in BEST2010 news training dataset :\\t'+ str(len(train)))\n",
        "print ('Total word counts in BEST2010 news training dataset :\\t'+ str(train_word_count))\n",
        "print ('Total vocabuary in BEST2010 news training dataset :\\t'+ str(len(train_vocabulary)))\n",
        "# We will use 1/vocab_size as a default value for unknown word\n",
        "unk_value = math.pow(len(train_vocabulary),-1)"
      ]
    },
    {
      "cell_type": "markdown",
      "metadata": {
        "id": "_Yx3J-IHdUgI"
      },
      "source": [
        "# IMPORTANT. Use the dataset below to answer questions on Mycourseville\n",
        "\n",
        "The dataset has been tokenized for you (with the vocabulary above).\n",
        "\n",
        "Please download the provided vocabulary to confirm that you are using the same vocabulary. **Otherwise, you might get wrong answers.**"
      ]
    },
    {
      "cell_type": "code",
      "execution_count": 62,
      "metadata": {
        "id": "7QXUJ7mBdBJw"
      },
      "outputs": [],
      "source": [
        "!wget https://www.dropbox.com/s/jajdlqnp5h0ywvo/tokenized_wiki_sample.csv?dl=0 \n",
        "!wget https://www.dropbox.com/s/n7w7te0zc1vz67n/train_vocabulary.pickle"
      ]
    },
    {
      "cell_type": "code",
      "execution_count": 63,
      "metadata": {
        "id": "Gb-FOCnXeKoY"
      },
      "outputs": [],
      "source": [
        "import pickle\n",
        "with open(\"train_vocabulary.pickle\",\"rb\") as f:\n",
        "  old_vocab = pickle.load(f)"
      ]
    },
    {
      "cell_type": "code",
      "execution_count": 64,
      "metadata": {
        "id": "D4QjaypTejNT"
      },
      "outputs": [],
      "source": [
        "assert train_vocabulary == old_vocab #if nothing shows up, you are good to go"
      ]
    },
    {
      "cell_type": "markdown",
      "metadata": {
        "id": "pHtCMFMluXAo"
      },
      "source": [
        "# Unigram"
      ]
    },
    {
      "cell_type": "markdown",
      "metadata": {
        "id": "2V1WQTGzuXAp"
      },
      "source": [
        "In this section, we will demonstrate how to build a unigram language model <br>\n",
        "**Important note:** <br>\n",
        "**\\<s\\>** = sentence start symbol <br>\n",
        "**\\</s\\>** = sentence end symbol "
      ]
    },
    {
      "cell_type": "code",
      "execution_count": 65,
      "metadata": {
        "id": "vQjO4wX_uXAp"
      },
      "outputs": [],
      "source": [
        "def getUnigramModel(data):\n",
        "    model = defaultdict(lambda: 0)\n",
        "    word_count =0\n",
        "    for sentence in data:\n",
        "        sentence +=  u'|</s>' #for unigram model we can always ignore <s>, since p(w0=<s>)=1\n",
        "        for w1 in sentence.split('|'):\n",
        "            model[w1] +=1.0\n",
        "            word_count+=1\n",
        "    for w1 in model:\n",
        "        model[w1] = model[w1]/(word_count)\n",
        "    return model"
      ]
    },
    {
      "cell_type": "code",
      "execution_count": 66,
      "metadata": {
        "id": "dxoVqkfuuXAr"
      },
      "outputs": [],
      "source": [
        "model = getUnigramModel(train)"
      ]
    },
    {
      "cell_type": "code",
      "execution_count": 67,
      "metadata": {
        "id": "6coGxSY7uXAt"
      },
      "outputs": [],
      "source": [
        "def getLnValue(x):\n",
        "    if x >0.0:\n",
        "        return math.log(x)\n",
        "    else:\n",
        "        return math.log(unk_value)"
      ]
    },
    {
      "cell_type": "code",
      "execution_count": 68,
      "metadata": {
        "id": "cFy8yhZjuXAv"
      },
      "outputs": [
        {
          "name": "stdout",
          "output_type": "stream",
          "text": [
            "-6.551526663995246\n",
            "-10.175040243058024\n",
            "Problability of a sentence 5.617210748667918e-18\n"
          ]
        }
      ],
      "source": [
        "#problability of 'นายก'\n",
        "print(getLnValue(model[u'นายก']))\n",
        "#for example, problability of 'นายกรัฐมนตรี' which is an unknown word is equal to\n",
        "print(getLnValue(model[u'นายกรัฐมนตรี']))\n",
        "#problability of 'นายก' 'ได้' 'ให้' 'สัมภาษณ์' 'กับ' 'สื่อ'\n",
        "prob = getLnValue(model[u'นายก'])+getLnValue(model[u'ได้'])+ getLnValue(model[u'ให้'])+getLnValue(model[u'สัมภาษณ์'])+getLnValue(model[u'กับ'])+getLnValue(model[u'สื่อ'])+getLnValue(model['</s>'])\n",
        "print ('Problability of a sentence', math.exp(prob))"
      ]
    },
    {
      "cell_type": "markdown",
      "metadata": {
        "id": "D8EfqnDsuXAw"
      },
      "source": [
        "# Perplexity\n",
        "\n",
        "In order to compare language model we need to calculate perplexity. In this task you should write a perplexity calculation code for the unigram model. The result perplexity should be around 556.39 and\n",
        "476.07 on train and test data."
      ]
    },
    {
      "attachments": {},
      "cell_type": "markdown",
      "metadata": {
        "id": "qDbyLBEggie0"
      },
      "source": [
        "## TODO #0\n",
        "**Fill your name and ID here** <br>\n",
        "**Name**:ปรวีร์\n",
        "<br>\n",
        "**ID**:6230314421"
      ]
    },
    {
      "cell_type": "markdown",
      "metadata": {
        "id": "hZHQ-6tVuXAx"
      },
      "source": [
        "## TODO #1 **Calculate perplexity**"
      ]
    },
    {
      "cell_type": "code",
      "execution_count": 69,
      "metadata": {
        "id": "kh0DwzoouXAx"
      },
      "outputs": [],
      "source": [
        "def calculate_sentence_ln_prob(sentence, model):\n",
        "    word = sentence.split('|')\n",
        "    ln_prob = .0\n",
        "    for w in word:\n",
        "        ln_prob += getLnValue(model[w])\n",
        "    return ln_prob\n",
        "\n",
        "def perplexity(test, model):\n",
        "    ln_prob = .0\n",
        "    word_count = .0\n",
        "    for sentence in test:\n",
        "        sentence +=  u'|</s>'\n",
        "        ln_prob += calculate_sentence_ln_prob(sentence, model)\n",
        "        word_count += len(sentence.split('|'))\n",
        "    return math.exp(-ln_prob/word_count)"
      ]
    },
    {
      "cell_type": "code",
      "execution_count": 70,
      "metadata": {
        "id": "KTkIoVWsuXAz"
      },
      "outputs": [
        {
          "name": "stdout",
          "output_type": "stream",
          "text": [
            "556.3925994212195\n",
            "476.0687892303532\n"
          ]
        }
      ],
      "source": [
        "print(perplexity(train,model))\n",
        "print(perplexity(test,model))\n",
        "# 556.3925994212195\n",
        "# 476.0687892303532"
      ]
    },
    {
      "cell_type": "markdown",
      "metadata": {
        "id": "ZdrQwHnLfA9P"
      },
      "source": [
        "## MyCourseVille Question #1 \n",
        "How much perplexity do you get with the Unigram model on the tokenized_wiki_sample dataset?\n",
        "\n",
        "Please also leave the number below."
      ]
    },
    {
      "cell_type": "code",
      "execution_count": 71,
      "metadata": {
        "id": "u4cpkJcFfAdG"
      },
      "outputs": [
        {
          "name": "stdout",
          "output_type": "stream",
          "text": [
            "1215.7165914041525\n"
          ]
        }
      ],
      "source": [
        "import pandas as pd\n",
        "print(perplexity(pd.read_csv('tokenized_wiki_sample.csv')['tokenized'], model))"
      ]
    },
    {
      "cell_type": "markdown",
      "metadata": {
        "id": "gad1QuPAHUoK"
      },
      "source": [
        "## TODO #2 **Please explain why this model give us such a high perplexity.**"
      ]
    },
    {
      "attachments": {},
      "cell_type": "markdown",
      "metadata": {
        "id": "tMbhIO29HT6y"
      },
      "source": [
        "**Your answer**:  เพราะว่า Unigram model นั้นคำนวณด้วย Probability ของ word เพียง word เดียว จึงไม่เห็นความสัมพันธ์ของ word ก่อนหน้า ทำให้ค่า perplexity มีค่าสูง ซึ่งหมายถึงต้องใช้จำนวนการสุ่มหลายครั้งต่อ  1 token โดยเฉลี่ยเพื่อให้ได้คำตอบที่ถูกต้อง"
      ]
    },
    {
      "cell_type": "markdown",
      "metadata": {
        "id": "lK0gaMf0uXA2"
      },
      "source": [
        "# Bigram"
      ]
    },
    {
      "cell_type": "markdown",
      "metadata": {
        "id": "dmTkAY_QuXA3"
      },
      "source": [
        "Next, you will create a better language model than a unigram (which is not much to compare with). But first, it is very tedious to count every pair of words that occur in our corpus by ourselves. In this case, nltk provide us a simple library which will do it for us."
      ]
    },
    {
      "cell_type": "code",
      "execution_count": 72,
      "metadata": {
        "id": "Lv6r2LJ1uXA4"
      },
      "outputs": [
        {
          "name": "stdout",
          "output_type": "stream",
          "text": [
            "This is how nltk generate bigram.\n",
            "None I\n",
            "I always\n",
            "always search\n",
            "search google\n",
            "google for\n",
            "for an\n",
            "an answer\n",
            "answer .\n",
            ". None\n",
            "None is used as a start and end of sentence symbol.\n"
          ]
        }
      ],
      "source": [
        "#example of nltk usage for bigram\n",
        "sentence = 'I always search google for an answer .'\n",
        "\n",
        "print('This is how nltk generate bigram.')\n",
        "for w1,w2 in bigrams(sentence.split(), pad_right=True, pad_left=True):\n",
        "    print (w1,w2)\n",
        "print('None is used as a start and end of sentence symbol.')"
      ]
    },
    {
      "cell_type": "markdown",
      "metadata": {
        "id": "5R2T-6i9uXA6"
      },
      "source": [
        "Now, you should be able to implement a bigram model by yourself. Also, you must create a new perplexity calculation for bigram. The result perplexity should be around 58.79 and 146.27 on train and test data."
      ]
    },
    {
      "cell_type": "markdown",
      "metadata": {
        "id": "9aYkjzTzuXA7"
      },
      "source": [
        "## TODO #3 **Create a Bigram Model**"
      ]
    },
    {
      "cell_type": "code",
      "execution_count": 73,
      "metadata": {
        "id": "ZhnAa1XuuXA7"
      },
      "outputs": [],
      "source": [
        "def getBigramModel(data):\n",
        "    ###FILL YOUR CODE HERE###\n",
        "    unigram_count = defaultdict(lambda: 0.0)\n",
        "    bigram_count = defaultdict(lambda: 0.0)\n",
        "    for sentence in data:\n",
        "        for w1,w2 in bigrams(sentence.split('|'), pad_right=True, pad_left=True):\n",
        "            unigram_count[w1] += 1.0\n",
        "            bigram_count[w1, w2] += 1.0\n",
        "            \n",
        "    bigram_prop = defaultdict(lambda: 0.0)\n",
        "    for w1, w2 in bigram_count:\n",
        "        bigram_prop[w1, w2]  = bigram_count[w1, w2] / unigram_count[w1]\n",
        "        \n",
        "    return bigram_prop\n",
        "\n",
        "model = getBigramModel(train)"
      ]
    },
    {
      "cell_type": "markdown",
      "metadata": {
        "id": "i3_Cgu6guXA-"
      },
      "source": [
        "## TODO #4 **Calculate Perplexity for Bigram Model**\n",
        "\n"
      ]
    },
    {
      "cell_type": "code",
      "execution_count": 74,
      "metadata": {
        "id": "4i3NoQGfuXA-"
      },
      "outputs": [],
      "source": [
        "def calculate_sentence_ln_prob(sentence, model):\n",
        "    ln_prob = .0\n",
        "    for w1,w2 in bigrams(sentence.split('|'), pad_right=True, pad_left=True):\n",
        "        ln_prob += getLnValue(model[w1,w2])\n",
        "    return ln_prob\n",
        "\n",
        "def perplexity(test,model):\n",
        "    ln_prob = .0\n",
        "    word_count = .0\n",
        "    for sentence in test:\n",
        "        ln_prob += calculate_sentence_ln_prob(sentence, model)\n",
        "        word_count += len(sentence.split('|')) + 1\n",
        "    return math.exp(-ln_prob/word_count)"
      ]
    },
    {
      "cell_type": "code",
      "execution_count": 75,
      "metadata": {
        "id": "OC1L5YWfuXBA"
      },
      "outputs": [
        {
          "name": "stdout",
          "output_type": "stream",
          "text": [
            "58.78942889767147\n",
            "146.26539331038614\n"
          ]
        }
      ],
      "source": [
        "print(perplexity(train,model))\n",
        "print(perplexity(test, model))\n",
        "\n",
        "# 58.78942889767147\n",
        "# 146.26539331038614"
      ]
    },
    {
      "cell_type": "markdown",
      "metadata": {
        "id": "ODObYM_Rge0k"
      },
      "source": [
        "## MyCourseVille Question #2 \n",
        "How much perplexity do you get with the Bigram model on the tokenized_wiki_sample dataset?\n",
        "\n",
        "Please also leave the number below."
      ]
    },
    {
      "cell_type": "code",
      "execution_count": 76,
      "metadata": {},
      "outputs": [
        {
          "name": "stdout",
          "output_type": "stream",
          "text": [
            "744.3142671561902\n"
          ]
        }
      ],
      "source": [
        "print(perplexity(pd.read_csv('tokenized_wiki_sample.csv')['tokenized'], model))"
      ]
    },
    {
      "cell_type": "markdown",
      "metadata": {
        "id": "9BAF9DQbuXBC"
      },
      "source": [
        "# Smoothing"
      ]
    },
    {
      "cell_type": "markdown",
      "metadata": {
        "id": "jlm75BWLuXBC"
      },
      "source": [
        "Usually any ngram models have a sparsity problem, which means it does not have every possible ngram of words in the dataset. Smoothing techniques can alleviate this problem. In this section, you will implement two basic smoothing methods laplace smoothing and interpolation for bigram."
      ]
    },
    {
      "cell_type": "markdown",
      "metadata": {
        "id": "jwa7YQiouXBD"
      },
      "source": [
        "## TODO #5 **Bigram with Laplace smoothing (Add-One Smoothing)**"
      ]
    },
    {
      "cell_type": "code",
      "execution_count": 77,
      "metadata": {
        "id": "hnDlweIQuXBD"
      },
      "outputs": [
        {
          "name": "stdout",
          "output_type": "stream",
          "text": [
            "974.8134581679766\n",
            "1098.1622194979489\n"
          ]
        }
      ],
      "source": [
        "#Laplace Smoothing\n",
        "def getBigramWithLaplaceSmoothing(data):\n",
        "    #Fill code here\n",
        "    unigram_count = defaultdict(lambda: 0.0)\n",
        "    bigram_count = defaultdict(lambda: 0.0)\n",
        "    for sentence in data:\n",
        "        for w1,w2 in bigrams(sentence.split('|'), pad_right=True, pad_left=True):\n",
        "            unigram_count[w1] += 1.0\n",
        "            bigram_count[w1, w2] += 1.0\n",
        "            \n",
        "    bigram_prop = defaultdict(lambda: 0.0)\n",
        "    for w1, w2 in bigram_count:\n",
        "        bigram_prop[w1, w2]  = (bigram_count[w1, w2] + 1 )/(unigram_count[w1] + len(unigram_count))\n",
        "        \n",
        "    return bigram_prop\n",
        "\n",
        "model = getBigramWithLaplaceSmoothing(train)\n",
        "print(perplexity(train,model) )\n",
        "print(perplexity(test, model))\n",
        "\n",
        "# 974.8134581679766\n",
        "# 1098.1622194979489"
      ]
    },
    {
      "cell_type": "markdown",
      "metadata": {
        "id": "uPZBPKnPgutc"
      },
      "source": [
        "## MyCourseVille Question #3 \n",
        "How much perplexity do you get with the Bigram model with Laplace Smoothing on the tokenized_wiki_sample dataset?\n",
        "\n",
        "Please also leave the number below."
      ]
    },
    {
      "cell_type": "code",
      "execution_count": 78,
      "metadata": {
        "id": "b6Jsm5EZguEE"
      },
      "outputs": [
        {
          "name": "stdout",
          "output_type": "stream",
          "text": [
            "3372.3685309482216\n"
          ]
        }
      ],
      "source": [
        "print(perplexity(pd.read_csv('tokenized_wiki_sample.csv')['tokenized'], model))"
      ]
    },
    {
      "cell_type": "markdown",
      "metadata": {
        "id": "5JDswBSIuXBG"
      },
      "source": [
        "## TODO #6 **Bigram with Interpolation**\n",
        "lambda value is 0.7 for bigram, 0.25 for unigram, and 0.05 for unknown word"
      ]
    },
    {
      "cell_type": "code",
      "execution_count": 79,
      "metadata": {
        "id": "pskrwklHuXBI"
      },
      "outputs": [
        {
          "name": "stdout",
          "output_type": "stream",
          "text": [
            "73.54392427626321\n",
            "173.04288340104554\n"
          ]
        }
      ],
      "source": [
        "#interpolation\n",
        "def getBigramWithInterpolation(data):\n",
        "    #Fill code here\n",
        "    unigram_count = defaultdict(lambda: 0.0)\n",
        "    bigram_count = defaultdict(lambda: 0.0)\n",
        "    \n",
        "    for sentence in data:\n",
        "        for w1,w2 in bigrams(sentence.split('|'), pad_right=True, pad_left=True):\n",
        "                unigram_count[w1] += 1.0\n",
        "                bigram_count[w1, w2] += 1.0\n",
        "    \n",
        "    unigram_prop = defaultdict(lambda: 0.0)\n",
        "    bigram_prop = defaultdict(lambda: 0.0)\n",
        "    model = defaultdict(lambda: 0.0)\n",
        "    \n",
        "    total_wc = sum(unigram_count.values())\n",
        "    total_vocab = len(unigram_count)\n",
        "    unk_prop = 1/total_vocab\n",
        "    \n",
        "    for w1, w2 in bigram_count:\n",
        "        unigram_prop[w2] = unigram_count[w2]/total_wc\n",
        "        bigram_prop[w1, w2] = bigram_count[w1, w2]/unigram_count[w1]\n",
        "        model[w1, w2] = (0.7*bigram_prop[w1, w2]) + (0.25*unigram_prop[w2]) + (0.05 * unk_prop)\n",
        "    \n",
        "    return model\n",
        "    \n",
        "model = getBigramWithInterpolation(train)\n",
        "print(perplexity(train,model))        \n",
        "print(perplexity(test,model))\n",
        "\n",
        "# 73.38409869825665\n",
        "# 172.67485908813356"
      ]
    },
    {
      "cell_type": "markdown",
      "metadata": {
        "id": "Z1hBJsSMg0U_"
      },
      "source": [
        "## MyCourseVille Question #4 \n",
        "How much perplexity do you get with the Bigram model with Interpolation on the tokenized_wiki_sample dataset?\n",
        "\n",
        "Please also leave the number below."
      ]
    },
    {
      "cell_type": "code",
      "execution_count": 80,
      "metadata": {
        "id": "bbFS4GU5jjVy"
      },
      "outputs": [
        {
          "name": "stdout",
          "output_type": "stream",
          "text": [
            "821.2170455684426\n"
          ]
        }
      ],
      "source": [
        "print(perplexity(pd.read_csv('tokenized_wiki_sample.csv')['tokenized'], model))"
      ]
    },
    {
      "cell_type": "markdown",
      "metadata": {
        "id": "pUorP-EWuXBM"
      },
      "source": [
        "# Language modeling on multiple domains\n",
        "\n",
        "Sometimes, we do not have enough data to create a language model for a new domain. In that case, we can improvised by combining several models to improve result on the new domain.\n",
        "\n",
        "In this exercise you will try to merge two language models from news and article domains to create a language model for the encyclopedia domain."
      ]
    },
    {
      "cell_type": "code",
      "execution_count": 81,
      "metadata": {
        "id": "Jel9Hx69uXBN"
      },
      "outputs": [],
      "source": [
        "# create article data\n",
        "encyclo_data=[]\n",
        "fp= io.open('BEST2010/encyclopedia.txt','r',encoding='utf-8')\n",
        "for i,line in enumerate(fp):\n",
        "    encyclo_data.append(line.strip()[:-1])\n",
        "fp.close()"
      ]
    },
    {
      "cell_type": "markdown",
      "metadata": {
        "id": "9skdgo8muXBO"
      },
      "source": [
        "First, you should try to calculate perplexity of your bigram with interpolation using \"news data\" (train) on \"encyclopedia data\" (test). The result perplexity should be around 727.35.\n",
        "\n",
        "For your information, a bigram model with interpolation using \"article data\" (train) to test on \"encyclopedia data\" (test) has a perplexity of 505.80."
      ]
    },
    {
      "cell_type": "code",
      "execution_count": 82,
      "metadata": {
        "id": "x0l91qLEuXBP"
      },
      "outputs": [
        {
          "name": "stdout",
          "output_type": "stream",
          "text": [
            "728.8985182322733\n"
          ]
        }
      ],
      "source": [
        "# print perplexity of bigram with interpolation on article data        \n",
        "# 928.8461907933413\n",
        "print(perplexity(encyclo_data,model))"
      ]
    },
    {
      "cell_type": "markdown",
      "metadata": {
        "id": "hwV9j9U-uXBR"
      },
      "source": [
        "## TODO #7 \n",
        "Write a model that produce 450.0 or less perplexity on encyclopedia data without using data from the encyclopedia as training data. (Hint : Try to combine a model with news data and a model with article data together.)"
      ]
    },
    {
      "cell_type": "code",
      "execution_count": 83,
      "metadata": {
        "id": "wBjmLhUcuXBS"
      },
      "outputs": [
        {
          "name": "stdout",
          "output_type": "stream",
          "text": [
            "Perplexity of combine Bigram model with interpolation smoothing on encyclopedia test data 428.3308600402633\n"
          ]
        }
      ],
      "source": [
        "# Fill code here\n",
        "combine_data = []\n",
        "fp= io.open('BEST2010/news.txt','r',encoding='utf-8')\n",
        "for i,line in enumerate(fp):\n",
        "    combine_data.append(line.strip()[:-1])\n",
        "fp.close()\n",
        "fp= io.open('BEST2010/article.txt','r',encoding='utf-8')\n",
        "for i,line in enumerate(fp):\n",
        "    combine_data.append(line.strip()[:-1])\n",
        "fp.close()\n",
        "combined_model = getBigramWithInterpolation(combine_data)\n",
        "# 428.8525 (on combined data)\n",
        "print('Perplexity of combine Bigram model with interpolation smoothing on encyclopedia test data',perplexity(encyclo_data, combined_model))"
      ]
    },
    {
      "cell_type": "markdown",
      "metadata": {
        "id": "XNPEhD7WuXBV"
      },
      "source": [
        "## TODO #8 \n",
        "## Kneser-ney on \"News\"\n",
        "\n",
        "<!-- Reimplement equation 4.33 in SLP textbook (https://lagunita.stanford.edu/c4x/Engineering/CS-224N/asset/slp4.pdf) -->\n",
        "\n",
        "Implement Bigram Knerser-ney LM. The result perplexity should be around 75.51 and 183.35 on train and test data. \n"
      ]
    },
    {
      "cell_type": "code",
      "execution_count": 84,
      "metadata": {
        "id": "2CzvIQ9ho7MR"
      },
      "outputs": [
        {
          "name": "stdout",
          "output_type": "stream",
          "text": [
            "75.30841982599252\n",
            "113.1949457396857\n"
          ]
        }
      ],
      "source": [
        "# Fill codehere\n",
        "def calculate_sentence_ln_prob(sentence, model):\n",
        "    ln_prob = .0\n",
        "    for w1,w2 in bigrams(sentence.split('|'), pad_right=True, pad_left=True):\n",
        "        if (w1,w2) in model['bigram']:\n",
        "            ln_prob += getLnValue(model['bigram'][w1,w2])\n",
        "        else:\n",
        "            ln_prob += getLnValue(model['unigram'][w2])\n",
        "    return ln_prob\n",
        "\n",
        "def perplexity(test,model):\n",
        "    ln_prob = .0\n",
        "    word_count = .0\n",
        "    for sentence in test:\n",
        "        ln_prob += calculate_sentence_ln_prob(sentence, model)\n",
        "        word_count += len(sentence.split('|')) + 1\n",
        "    return math.exp(-ln_prob/word_count)\n",
        "#------------------------------------------\n",
        "# create unigram & bigram counting tables\n",
        "#------------------------------------------\n",
        "def getBigramWithInterpolation(data):\n",
        "    unigram_count = defaultdict(lambda: 0.0)\n",
        "    bigram_count = defaultdict(lambda: 0.0)\n",
        "    bigram_cn_count = defaultdict(lambda: 0.0)\n",
        "    unigram_cn_count = defaultdict(lambda: 0.0)\n",
        "\n",
        "    #------------------------------------------\n",
        "    # Kneserney\n",
        "    #------------------------------------------\n",
        "    # 1) counting all elements\n",
        "    for sentence in train:\n",
        "        for w1,w2 in bigrams(sentence.split('|'), pad_right=True, pad_left=True):\n",
        "                unigram_count[w1] += 1.0\n",
        "                bigram_count[w1, w2] += 1.0\n",
        "    # 2) compute p_cn (continuation prob)\n",
        "    d = 0.75\n",
        "    unk_value = 1/len(unigram_count)\n",
        "    all_words = sum(unigram_count.values())\n",
        "    for w1 in unigram_count:\n",
        "        unigram_cn_count[w1] = ( max(unigram_count[w1] - d, 0) / all_words ) + (d/all_words) * (unk_value)\n",
        "    # 3) compute p_kn (kneser-ney prob)\n",
        "    for w1,w2 in bigram_count:\n",
        "        bigram_cn_count[w1,w2] = ( (max(bigram_count[w1,w2] - d, 0) ) / unigram_count[w1])+ (d/unigram_count[w1]) * unigram_cn_count[w1]\n",
        "    return {'bigram':bigram_cn_count, 'unigram':unigram_cn_count}\n",
        "\n",
        "model = getBigramWithInterpolation(train)\n",
        "\n",
        "print (perplexity(train,model))        \n",
        "print (perplexity(test,model))\n",
        "\n",
        "# 75.5096977631044\n",
        "# 183.34798416569242"
      ]
    },
    {
      "cell_type": "markdown",
      "metadata": {
        "id": "FZhan6vfnqvA"
      },
      "source": [
        "## MyCourseVille Question #5 \n",
        "How much perplexity do you get with the Kneser-Ney model on the tokenized_wiki_sample dataset?\n",
        "\n",
        "Please also leave the number below."
      ]
    },
    {
      "cell_type": "code",
      "execution_count": 85,
      "metadata": {
        "id": "E-RL683YkY88"
      },
      "outputs": [
        {
          "name": "stdout",
          "output_type": "stream",
          "text": [
            "579.768937177985\n"
          ]
        }
      ],
      "source": [
        "print(perplexity(pd.read_csv('tokenized_wiki_sample.csv')['tokenized'], model))"
      ]
    },
    {
      "cell_type": "markdown",
      "metadata": {
        "id": "1At2_uPzrS7d"
      },
      "source": [
        "# Neural LM"
      ]
    },
    {
      "cell_type": "markdown",
      "metadata": {
        "id": "iAtK3fic_DlB"
      },
      "source": [
        "## TODO #9 (Optional)\n",
        "\n",
        "\n",
        "We will be using Pytorch Lightning (PL) to implement our neural LM and torchtext to create our vocabulary.\n",
        "\n",
        "PL basically makes our life easier by reducing the need for writing boilerplate codes."
      ]
    },
    {
      "cell_type": "code",
      "execution_count": 86,
      "metadata": {
        "id": "PC_rcBS0e4Ub"
      },
      "outputs": [
        {
          "name": "stdout",
          "output_type": "stream",
          "text": [
            "Collecting pytorch-lightning\n",
            "  Downloading pytorch_lightning-1.9.0-py3-none-any.whl (825 kB)\n",
            "Requirement already satisfied: wandb in c:\\users\\poraree\\.conda\\envs\\intern\\lib\\site-packages (0.12.21)\n",
            "Requirement already satisfied: numpy>=1.17.2 in c:\\users\\poraree\\.conda\\envs\\intern\\lib\\site-packages (from pytorch-lightning) (1.22.4)\n",
            "Requirement already satisfied: typing-extensions>=4.0.0 in c:\\users\\poraree\\.conda\\envs\\intern\\lib\\site-packages (from pytorch-lightning) (4.1.1)\n",
            "Collecting lightning-utilities>=0.4.2\n",
            "  Downloading lightning_utilities-0.6.0.post0-py3-none-any.whl (18 kB)\n",
            "Collecting torchmetrics>=0.7.0\n",
            "  Downloading torchmetrics-0.11.0-py3-none-any.whl (512 kB)\n",
            "Requirement already satisfied: packaging>=17.1 in c:\\users\\poraree\\.conda\\envs\\intern\\lib\\site-packages (from pytorch-lightning) (21.3)\n",
            "Requirement already satisfied: torch>=1.10.0 in c:\\users\\poraree\\.conda\\envs\\intern\\lib\\site-packages (from pytorch-lightning) (1.11.0)\n",
            "Requirement already satisfied: PyYAML>=5.4 in c:\\users\\poraree\\.conda\\envs\\intern\\lib\\site-packages (from pytorch-lightning) (6.0)\n",
            "Collecting fsspec[http]>2021.06.0\n",
            "  Downloading fsspec-2023.1.0-py3-none-any.whl (143 kB)\n",
            "Requirement already satisfied: tqdm>=4.57.0 in c:\\users\\poraree\\.conda\\envs\\intern\\lib\\site-packages (from pytorch-lightning) (4.64.0)\n",
            "Requirement already satisfied: six>=1.13.0 in c:\\users\\poraree\\.conda\\envs\\intern\\lib\\site-packages (from wandb) (1.16.0)\n",
            "Requirement already satisfied: shortuuid>=0.5.0 in c:\\users\\poraree\\.conda\\envs\\intern\\lib\\site-packages (from wandb) (1.0.9)\n",
            "Requirement already satisfied: psutil>=5.0.0 in c:\\users\\poraree\\.conda\\envs\\intern\\lib\\site-packages (from wandb) (5.9.1)\n",
            "Requirement already satisfied: pathtools in c:\\users\\poraree\\.conda\\envs\\intern\\lib\\site-packages (from wandb) (0.1.2)\n",
            "Requirement already satisfied: protobuf<4.0dev,>=3.12.0 in c:\\users\\poraree\\.conda\\envs\\intern\\lib\\site-packages (from wandb) (3.19.4)\n",
            "Requirement already satisfied: setproctitle in c:\\users\\poraree\\.conda\\envs\\intern\\lib\\site-packages (from wandb) (1.2.3)\n",
            "Requirement already satisfied: setuptools in c:\\users\\poraree\\.conda\\envs\\intern\\lib\\site-packages (from wandb) (61.2.0)\n",
            "Requirement already satisfied: requests<3,>=2.0.0 in c:\\users\\poraree\\.conda\\envs\\intern\\lib\\site-packages (from wandb) (2.27.1)\n",
            "Requirement already satisfied: promise<3,>=2.0 in c:\\users\\poraree\\.conda\\envs\\intern\\lib\\site-packages (from wandb) (2.3)\n",
            "Requirement already satisfied: sentry-sdk>=1.0.0 in c:\\users\\poraree\\.conda\\envs\\intern\\lib\\site-packages (from wandb) (1.7.1)\n",
            "Requirement already satisfied: GitPython>=1.0.0 in c:\\users\\poraree\\.conda\\envs\\intern\\lib\\site-packages (from wandb) (3.1.27)\n",
            "Requirement already satisfied: Click!=8.0.0,>=7.0 in c:\\users\\poraree\\.conda\\envs\\intern\\lib\\site-packages (from wandb) (7.1.2)\n",
            "Requirement already satisfied: docker-pycreds>=0.4.0 in c:\\users\\poraree\\.conda\\envs\\intern\\lib\\site-packages (from wandb) (0.4.0)\n",
            "Collecting aiohttp!=4.0.0a0,!=4.0.0a1\n",
            "  Downloading aiohttp-3.8.3-cp38-cp38-win_amd64.whl (324 kB)\n",
            "Collecting async-timeout<5.0,>=4.0.0a3\n",
            "  Downloading async_timeout-4.0.2-py3-none-any.whl (5.8 kB)\n",
            "Collecting multidict<7.0,>=4.5\n",
            "  Downloading multidict-6.0.4-cp38-cp38-win_amd64.whl (28 kB)\n",
            "Collecting aiosignal>=1.1.2\n",
            "  Downloading aiosignal-1.3.1-py3-none-any.whl (7.6 kB)\n",
            "Requirement already satisfied: attrs>=17.3.0 in c:\\users\\poraree\\.conda\\envs\\intern\\lib\\site-packages (from aiohttp!=4.0.0a0,!=4.0.0a1->fsspec[http]>2021.06.0->pytorch-lightning) (21.4.0)\n",
            "Collecting yarl<2.0,>=1.0\n",
            "  Downloading yarl-1.8.2-cp38-cp38-win_amd64.whl (56 kB)\n",
            "Collecting frozenlist>=1.1.1\n",
            "  Downloading frozenlist-1.3.3-cp38-cp38-win_amd64.whl (34 kB)\n",
            "Requirement already satisfied: charset-normalizer<3.0,>=2.0 in c:\\users\\poraree\\.conda\\envs\\intern\\lib\\site-packages (from aiohttp!=4.0.0a0,!=4.0.0a1->fsspec[http]>2021.06.0->pytorch-lightning) (2.0.12)\n",
            "Requirement already satisfied: gitdb<5,>=4.0.1 in c:\\users\\poraree\\.conda\\envs\\intern\\lib\\site-packages (from GitPython>=1.0.0->wandb) (4.0.9)\n",
            "Requirement already satisfied: smmap<6,>=3.0.1 in c:\\users\\poraree\\.conda\\envs\\intern\\lib\\site-packages (from gitdb<5,>=4.0.1->GitPython>=1.0.0->wandb) (5.0.0)\n",
            "Requirement already satisfied: pyparsing!=3.0.5,>=2.0.2 in c:\\users\\poraree\\.conda\\envs\\intern\\lib\\site-packages (from packaging>=17.1->pytorch-lightning) (3.0.9)\n",
            "Requirement already satisfied: certifi>=2017.4.17 in c:\\users\\poraree\\.conda\\envs\\intern\\lib\\site-packages (from requests<3,>=2.0.0->wandb) (2022.5.18.1)\n",
            "Requirement already satisfied: idna<4,>=2.5 in c:\\users\\poraree\\.conda\\envs\\intern\\lib\\site-packages (from requests<3,>=2.0.0->wandb) (3.3)\n",
            "Requirement already satisfied: urllib3<1.27,>=1.21.1 in c:\\users\\poraree\\.conda\\envs\\intern\\lib\\site-packages (from requests<3,>=2.0.0->wandb) (1.26.9)\n",
            "Requirement already satisfied: colorama in c:\\users\\poraree\\.conda\\envs\\intern\\lib\\site-packages (from tqdm>=4.57.0->pytorch-lightning) (0.4.4)\n",
            "Installing collected packages: multidict, frozenlist, yarl, async-timeout, aiosignal, fsspec, aiohttp, torchmetrics, lightning-utilities, pytorch-lightning\n",
            "Successfully installed aiohttp-3.8.3 aiosignal-1.3.1 async-timeout-4.0.2 frozenlist-1.3.3 fsspec-2023.1.0 lightning-utilities-0.6.0.post0 multidict-6.0.4 pytorch-lightning-1.9.0 torchmetrics-0.11.0 yarl-1.8.2\n"
          ]
        },
        {
          "name": "stderr",
          "output_type": "stream",
          "text": [
            "WARNING: Ignoring invalid distribution -rotobuf (c:\\users\\poraree\\.conda\\envs\\intern\\lib\\site-packages)\n",
            "WARNING: Ignoring invalid distribution -pencv-python (c:\\users\\poraree\\.conda\\envs\\intern\\lib\\site-packages)\n",
            "WARNING: Ignoring invalid distribution -rotobuf (c:\\users\\poraree\\.conda\\envs\\intern\\lib\\site-packages)\n",
            "WARNING: Ignoring invalid distribution -pencv-python (c:\\users\\poraree\\.conda\\envs\\intern\\lib\\site-packages)\n",
            "WARNING: Ignoring invalid distribution -rotobuf (c:\\users\\poraree\\.conda\\envs\\intern\\lib\\site-packages)\n",
            "WARNING: Ignoring invalid distribution -pencv-python (c:\\users\\poraree\\.conda\\envs\\intern\\lib\\site-packages)\n",
            "WARNING: Ignoring invalid distribution -rotobuf (c:\\users\\poraree\\.conda\\envs\\intern\\lib\\site-packages)\n",
            "WARNING: Ignoring invalid distribution -pencv-python (c:\\users\\poraree\\.conda\\envs\\intern\\lib\\site-packages)\n",
            "WARNING: Ignoring invalid distribution -rotobuf (c:\\users\\poraree\\.conda\\envs\\intern\\lib\\site-packages)\n",
            "WARNING: Ignoring invalid distribution -pencv-python (c:\\users\\poraree\\.conda\\envs\\intern\\lib\\site-packages)\n",
            "WARNING: Ignoring invalid distribution -rotobuf (c:\\users\\poraree\\.conda\\envs\\intern\\lib\\site-packages)\n",
            "WARNING: Ignoring invalid distribution -pencv-python (c:\\users\\poraree\\.conda\\envs\\intern\\lib\\site-packages)\n",
            "WARNING: Ignoring invalid distribution -rotobuf (c:\\users\\poraree\\.conda\\envs\\intern\\lib\\site-packages)\n",
            "WARNING: Ignoring invalid distribution -pencv-python (c:\\users\\poraree\\.conda\\envs\\intern\\lib\\site-packages)\n",
            "WARNING: Ignoring invalid distribution -rotobuf (c:\\users\\poraree\\.conda\\envs\\intern\\lib\\site-packages)\n",
            "WARNING: Ignoring invalid distribution -pencv-python (c:\\users\\poraree\\.conda\\envs\\intern\\lib\\site-packages)\n",
            "WARNING: Ignoring invalid distribution -rotobuf (c:\\users\\poraree\\.conda\\envs\\intern\\lib\\site-packages)\n",
            "WARNING: Ignoring invalid distribution -pencv-python (c:\\users\\poraree\\.conda\\envs\\intern\\lib\\site-packages)\n",
            "WARNING: Ignoring invalid distribution -rotobuf (c:\\users\\poraree\\.conda\\envs\\intern\\lib\\site-packages)\n",
            "WARNING: Ignoring invalid distribution -pencv-python (c:\\users\\poraree\\.conda\\envs\\intern\\lib\\site-packages)\n",
            "WARNING: Ignoring invalid distribution -rotobuf (c:\\users\\poraree\\.conda\\envs\\intern\\lib\\site-packages)\n",
            "WARNING: Ignoring invalid distribution -pencv-python (c:\\users\\poraree\\.conda\\envs\\intern\\lib\\site-packages)\n",
            "WARNING: Ignoring invalid distribution -rotobuf (c:\\users\\poraree\\.conda\\envs\\intern\\lib\\site-packages)\n",
            "WARNING: Ignoring invalid distribution -pencv-python (c:\\users\\poraree\\.conda\\envs\\intern\\lib\\site-packages)\n",
            "WARNING: Ignoring invalid distribution -rotobuf (c:\\users\\poraree\\.conda\\envs\\intern\\lib\\site-packages)\n",
            "WARNING: Ignoring invalid distribution -pencv-python (c:\\users\\poraree\\.conda\\envs\\intern\\lib\\site-packages)\n",
            "WARNING: Ignoring invalid distribution -rotobuf (c:\\users\\poraree\\.conda\\envs\\intern\\lib\\site-packages)\n",
            "WARNING: Ignoring invalid distribution -pencv-python (c:\\users\\poraree\\.conda\\envs\\intern\\lib\\site-packages)\n",
            "WARNING: Ignoring invalid distribution -rotobuf (c:\\users\\poraree\\.conda\\envs\\intern\\lib\\site-packages)\n",
            "WARNING: Ignoring invalid distribution -pencv-python (c:\\users\\poraree\\.conda\\envs\\intern\\lib\\site-packages)\n",
            "WARNING: Ignoring invalid distribution -rotobuf (c:\\users\\poraree\\.conda\\envs\\intern\\lib\\site-packages)\n",
            "WARNING: Ignoring invalid distribution -pencv-python (c:\\users\\poraree\\.conda\\envs\\intern\\lib\\site-packages)\n"
          ]
        }
      ],
      "source": [
        "!pip install pytorch-lightning wandb"
      ]
    },
    {
      "cell_type": "code",
      "execution_count": 87,
      "metadata": {
        "id": "13ogUdQzo7pq"
      },
      "outputs": [
        {
          "name": "stderr",
          "output_type": "stream",
          "text": [
            "wandb: Currently logged in as: poraree. Use `wandb login --relogin` to force relogin\n"
          ]
        }
      ],
      "source": [
        "!wandb login"
      ]
    },
    {
      "cell_type": "code",
      "execution_count": 88,
      "metadata": {
        "id": "0c_Aq0Iof-Wi"
      },
      "outputs": [
        {
          "ename": "ModuleNotFoundError",
          "evalue": "No module named 'torchtext'",
          "output_type": "error",
          "traceback": [
            "\u001b[1;31m---------------------------------------------------------------------------\u001b[0m",
            "\u001b[1;31mModuleNotFoundError\u001b[0m                       Traceback (most recent call last)",
            "\u001b[1;32mc:\\Users\\PoraRee\\Desktop\\NLP_2023\\HW_Answers\\HW_03\\623014421_hw3_language_modeling_tostudent_2022.ipynb Cell 64\u001b[0m in \u001b[0;36m<cell line: 1>\u001b[1;34m()\u001b[0m\n\u001b[1;32m----> <a href='vscode-notebook-cell:/c%3A/Users/PoraRee/Desktop/NLP_2023/HW_Answers/HW_03/623014421_hw3_language_modeling_tostudent_2022.ipynb#Y120sZmlsZQ%3D%3D?line=0'>1</a>\u001b[0m \u001b[39mimport\u001b[39;00m \u001b[39mtorchtext\u001b[39;00m\n\u001b[0;32m      <a href='vscode-notebook-cell:/c%3A/Users/PoraRee/Desktop/NLP_2023/HW_Answers/HW_03/623014421_hw3_language_modeling_tostudent_2022.ipynb#Y120sZmlsZQ%3D%3D?line=1'>2</a>\u001b[0m \u001b[39mimport\u001b[39;00m \u001b[39mtorch\u001b[39;00m\n\u001b[0;32m      <a href='vscode-notebook-cell:/c%3A/Users/PoraRee/Desktop/NLP_2023/HW_Answers/HW_03/623014421_hw3_language_modeling_tostudent_2022.ipynb#Y120sZmlsZQ%3D%3D?line=2'>3</a>\u001b[0m \u001b[39mimport\u001b[39;00m \u001b[39mtorch\u001b[39;00m\u001b[39m.\u001b[39;00m\u001b[39mnn\u001b[39;00m \u001b[39mas\u001b[39;00m \u001b[39mnn\u001b[39;00m\n",
            "\u001b[1;31mModuleNotFoundError\u001b[0m: No module named 'torchtext'"
          ]
        }
      ],
      "source": [
        "import torchtext\n",
        "import torch\n",
        "import torch.nn as nn\n",
        "from torch.utils.data import Dataset, DataLoader\n",
        "import torch.optim as optim\n",
        "import pytorch_lightning as pl\n",
        "from tqdm import tqdm"
      ]
    },
    {
      "cell_type": "code",
      "execution_count": null,
      "metadata": {
        "id": "wbQNhZUPfO0z"
      },
      "outputs": [],
      "source": [
        "# FILL CODE HERE#\n",
        "vocab = torchtext.vocab.build_vocab_from_iterator(...)\n",
        "vocab.insert_token('<unk>', 0) #add <unk> token to index 0\n",
        "vocab.insert_token('<eos>', 1) #add <eos> token to index 1\n",
        "vocab.set_default_index(vocab['<unk>']) #make index 0 the default index (when encountering unknown words)\n",
        "print(f\"Vocabulary Size: {len(vocab)}\")                         \n",
        "print(vocab.get_itos()[:10]) #get first 10 words  "
      ]
    },
    {
      "cell_type": "code",
      "execution_count": null,
      "metadata": {
        "id": "EQT0yfPPgM9W"
      },
      "outputs": [],
      "source": [
        "#the standart pytorch dataset\n",
        "class TextDataset(Dataset):\n",
        "  def __init__(self, data, seq_len = 128):\n",
        "  # TODO: create a text dataset with max sequence length of 128 tokens \n",
        "  # to use with pytorch dataloader. dont forget to add an <eos> token.\n",
        "  # for efficiency, you can fill sequences that are shorter than the \n",
        "  # max seq_len with tokens from other sentences. (not necessary, can just use pad token)\n",
        "\n",
        "  #  now data looks like this\n",
        "    #  [sent1, \n",
        "    #   sent2,\n",
        "    #   ...,\n",
        "    #  ]\n",
        "\n",
        "  # 1. encode the sentences\n",
        "  # 2. add eos token\n",
        "  # 3. pad/fill the sequences\n",
        "  # so that is looks like this\n",
        "  # [ [1,2,3, ... , 128] (this is just an example, not actual input_ids)\n",
        "  #   [1,2,3, ... , 128]\n",
        "  #   [1,2,3, ... , 128]\n",
        "  # ]\n",
        "\n",
        "  # FILL CODE HERE\n",
        "    self.encoded = ...\n",
        "\n",
        "  def __getitem__(self, idx):\n",
        "    return self.encoded[idx]\n",
        "\n",
        "  def __len__(self):\n",
        "    return len(self.encoded)"
      ]
    },
    {
      "cell_type": "code",
      "execution_count": null,
      "metadata": {
        "id": "cCMwdX_liA_5"
      },
      "outputs": [],
      "source": [
        "#we create a datamodule class to manage everythink about our dataset.\n",
        "class TextDataModule(pl.LightningDataModule):\n",
        "\n",
        "  def __init__(self, train_data, test_data, seq_len, batch_size, num_workers=0):\n",
        "      super().__init__()\n",
        "      # note that we don't use validation here. \n",
        "      # This is because:\n",
        "      #   1. In practice, language modelling requires A LOT of data (now (2022) researchers use up to multiple TBs of text). \n",
        "      #      Therefore, it won't overfit on training data anyway (there are research that show that SOTA LMs today are actually undertrained, e.g. https://arxiv.org/pdf/2203.15556.pdf)\n",
        "      #   2. This is just an example\n",
        "      self.train_data = train_data\n",
        "      self.test_data = test_data\n",
        "      self.seq_len = seq_len\n",
        "      self.batch_size = batch_size\n",
        "      self.num_workers = num_workers\n",
        " \n",
        "\n",
        "  def setup(self, stage: str):\n",
        "    # this is actually not the proper way to use this method\n",
        "    # https://pytorch-lightning.readthedocs.io/en/stable/data/datamodule.html#what-is-a-datamodule\n",
        "    # the proper way is to setup data here\n",
        "    # e.g. \n",
        "    # if stage == 'train':\n",
        "    #   self.train_data = load_data()\n",
        "    pass\n",
        "\n",
        "  def train_dataloader(self):\n",
        "     \n",
        "      # FILL CODE HERE\n",
        "      # create your own dataset and dataloader\n",
        "      # you can refer to this guide https://pytorch.org/tutorials/beginner/basics/data_tutorial.html\n",
        "      train_dataset = TextDataset(...)\n",
        "      train_loader = DataLoader(...)\n",
        "\n",
        "      return train_loader\n",
        "    \n",
        "  def test_dataloader(self):\n",
        "      \n",
        "      # FILL CODE HERE\n",
        "      # create your own dataset and dataloader\n",
        "      test_dataset = TextDataset(...)\n",
        "      test_loader = DataLoader(...)\n",
        "      \n",
        "      return test_loader"
      ]
    },
    {
      "cell_type": "code",
      "execution_count": null,
      "metadata": {
        "id": "amHKkV4Mia2z"
      },
      "outputs": [],
      "source": [
        "class LSTM(pl.LightningModule):\n",
        "    def __init__(self, vocab_size, embedding_dim, hidden_dim, num_layers, dropout_rate, learning_rate, criterion):\n",
        "                \n",
        "        super().__init__()\n",
        "        self.num_layers = num_layers\n",
        "        self.hidden_dim = hidden_dim\n",
        "        self.embedding_dim = embedding_dim\n",
        "\n",
        "        # add layers into your model.\n",
        "        # You will need at least one of each of the following:\n",
        "        # 1. embedding layer (nn.Embedding)\n",
        "        # 2. RNN layer (nn.RNN, nn.LSTM, ..)\n",
        "        # 3. Dropout layer (optional but recommended; nn.Dropout)\n",
        "        # 4. Linear layer (nn.Linear)\n",
        "        # FILL CODE HERE\n",
        "\n",
        "        self.embedding = nn.Embedding(...)\n",
        "\n",
        "        self.learning_rate = learning_rate\n",
        "        self.criterion = criterion\n",
        "\n",
        "        \n",
        "\n",
        "    def forward(self, src): #standard model forward pass\n",
        "      # Write the forward pass logic.\n",
        "      # e.g.\n",
        "      # output1 = self.layer_1(input)\n",
        "      # output2 = self.layer_2(output1)\n",
        "      # ...\n",
        "      # return output2; the output shape should be (batch_size, seq_len-1, vocab_size)\n",
        "      # FILL CODE HERE\n",
        "\n",
        "    def training_step(self, batch, batch_idx): #all we need to write is how is the loss calculated\n",
        "\n",
        "        src = batch[:, :-1]  #[batch_size (64) , seq_len-1 (127)] except last words\n",
        "        target = batch[:, 1:] #[batch_size (64) , seq_len-1 (127)] except first words\n",
        "        prediction = self(src) #do forward pass\n",
        "        prediction = prediction.reshape(-1, vocab_size)\n",
        "        target = target.reshape(-1)\n",
        "        loss = self.criterion(prediction, target)\n",
        "        self.log(\"train_loss\", loss)\n",
        "        return loss #PL do loss.backward() for you\n",
        "\n",
        "    def test_step(self, batch, batch_idx):\n",
        "        #PL calls model.eval() for you\n",
        "        src = batch[:, :-1]  #[batch_size (64) , seq_len-1 (127)] except last words\n",
        "        target = batch[:, 1:] #[batch_size (64) , seq_len-1 (127)] except first words\n",
        "        with torch.no_grad(): #disable gradient calculation for faster inference (this is already called under the hood but just for clarity)\n",
        "          prediction = self(src) #[batch_size (64), seq_len-1 (127) , vocab size (9000)]\n",
        "        prediction = prediction.reshape(-1, vocab_size) #[batch_size*(seq_len-1) (8128) , vocab]\n",
        "        target = target.reshape(-1) #[batch_size (64), seq_len-1 (127)] -> [batch_size*(seq_len-1) (8128)]\n",
        "        loss = self.criterion(prediction, target)\n",
        "        self.log(\"test_loss\", loss)\n",
        "        return loss\n",
        "\n",
        "    def configure_optimizers(self):\n",
        "        return optim.Adam(self.parameters(), lr=self.learning_rate)"
      ]
    },
    {
      "cell_type": "code",
      "execution_count": null,
      "metadata": {
        "id": "IhKvM7ZqjwHo"
      },
      "outputs": [],
      "source": [
        "seq_len = 128\n",
        "batch_size = 64\n",
        "vocab_size = len(vocab)\n",
        "\n",
        "#Feel free to customize your model\n",
        "embedding_dim = 200             \n",
        "hidden_dim = 512          \n",
        "num_layers = 3                  \n",
        "dropout_rate = 0.65              \n",
        "lr = 1e-3       \n",
        "  \n",
        "# FILL CODE HERE\n",
        "data_module = TextDataModule(..., ..., seq_len=seq_len, batch_size=batch_size,num_workers=0)"
      ]
    },
    {
      "cell_type": "code",
      "execution_count": null,
      "metadata": {
        "id": "hU7keLikj5ft"
      },
      "outputs": [],
      "source": [
        "criterion = nn.CrossEntropyLoss()\n",
        "model = LSTM(vocab_size, embedding_dim, hidden_dim, num_layers, dropout_rate, lr, criterion)"
      ]
    },
    {
      "cell_type": "code",
      "execution_count": null,
      "metadata": {
        "id": "jr9XanRUE_rv"
      },
      "outputs": [],
      "source": [
        "from pytorch_lightning import Trainer"
      ]
    },
    {
      "cell_type": "code",
      "execution_count": null,
      "metadata": {
        "id": "kTeS6bzUpCFT"
      },
      "outputs": [],
      "source": [
        "from pytorch_lightning.loggers import WandbLogger\n",
        "wandb_logger = WandbLogger(project=...)"
      ]
    },
    {
      "cell_type": "code",
      "execution_count": null,
      "metadata": {
        "id": "AP9ms70rpFZW"
      },
      "outputs": [],
      "source": [
        "wandb_logger.experiment.config.update({\"vocab_size\": vocab_size, \n",
        "                                       \"embedding_dim\": embedding_dim,\n",
        "                                       \"hidden_dim\": hidden_dim,\n",
        "                                       \"num_layers\": num_layers,\n",
        "                                       \"dropout_rate\": dropout_rate,\n",
        "                                       \"lr\": lr,\n",
        "                                       })"
      ]
    },
    {
      "cell_type": "code",
      "execution_count": null,
      "metadata": {
        "id": "kr0zdeMAjD1U"
      },
      "outputs": [],
      "source": [
        "trainer = Trainer(\n",
        "    max_epochs=20,\n",
        "    gpus=1,\n",
        "    logger=wandb_logger #with Pytorch Lightning, this is all we need to do to log simple metrics such as train loss\n",
        "    #for more logging, refer to https://pytorch-lightning.readthedocs.io/en/stable/api/pytorch_lightning.loggers.wandb.html\n",
        ")"
      ]
    },
    {
      "cell_type": "code",
      "execution_count": null,
      "metadata": {
        "id": "nRe27W7ij-oc"
      },
      "outputs": [],
      "source": [
        "#this will probably take around 10min?\n",
        "trainer.fit(model, data_module)"
      ]
    },
    {
      "cell_type": "code",
      "execution_count": null,
      "metadata": {
        "id": "WXVj9ewNqweZ"
      },
      "outputs": [],
      "source": [
        "test_result = trainer.test(model, data_module)"
      ]
    },
    {
      "cell_type": "code",
      "execution_count": null,
      "metadata": {
        "id": "4pVjEyYDtnc-"
      },
      "outputs": [],
      "source": [
        "import numpy as np"
      ]
    },
    {
      "cell_type": "markdown",
      "metadata": {
        "id": "ePoEWCOtk-VK"
      },
      "source": [
        "the perplexity of a 3-layer LSTM should be around ~90 (winner method)."
      ]
    },
    {
      "cell_type": "code",
      "execution_count": null,
      "metadata": {
        "id": "uuIPToGQs-ZG"
      },
      "outputs": [],
      "source": [
        "#Calculate perplexity"
      ]
    },
    {
      "cell_type": "markdown",
      "metadata": {
        "id": "CDrvBWPjkKoG"
      },
      "source": [
        "Let's test our model by generating some text."
      ]
    },
    {
      "cell_type": "code",
      "execution_count": null,
      "metadata": {
        "id": "pAZwiRqsnOPe"
      },
      "outputs": [],
      "source": [
        "model.eval() #disable dropout"
      ]
    },
    {
      "cell_type": "code",
      "execution_count": null,
      "metadata": {
        "id": "GKBgDdVBnbkZ"
      },
      "outputs": [],
      "source": [
        "itos = vocab.get_itos() #integer to string"
      ]
    },
    {
      "cell_type": "code",
      "execution_count": null,
      "metadata": {
        "id": "hj-V4OsDqpBO"
      },
      "outputs": [],
      "source": [
        "def generate_seq(context, itos, max_new_token = 10):\n",
        "  encoded = vocab(context)\n",
        "  with torch.no_grad():\n",
        "      for i in range(max_new_token):\n",
        "          src = torch.LongTensor([encoded]).to(model.device)\n",
        "          prediction = model(src)\n",
        "          probs = torch.softmax(prediction[:, -1] / 1, dim=-1)  \n",
        "          prediction = torch.multinomial(probs, num_samples=1).item()    \n",
        "          \n",
        "          while prediction == vocab['<unk>']:\n",
        "              prediction = torch.multinomial(probs, num_samples=1).item()\n",
        "\n",
        "          if prediction == vocab['<eos>']:\n",
        "              break\n",
        "\n",
        "          encoded.append(prediction)\n",
        "\n",
        "  return \"|\".join([itos[e] for e in encoded])"
      ]
    },
    {
      "cell_type": "code",
      "execution_count": null,
      "metadata": {
        "id": "u20r9w8zvJi4"
      },
      "outputs": [],
      "source": [
        "context = [\"วัน\", \"จันทร์\"]\n",
        "generate_seq(context, itos, 20)"
      ]
    }
  ],
  "metadata": {
    "colab": {
      "provenance": [],
      "toc_visible": true
    },
    "kernelspec": {
      "display_name": "intern",
      "language": "python",
      "name": "python3"
    },
    "language_info": {
      "codemirror_mode": {
        "name": "ipython",
        "version": 3
      },
      "file_extension": ".py",
      "mimetype": "text/x-python",
      "name": "python",
      "nbconvert_exporter": "python",
      "pygments_lexer": "ipython3",
      "version": "3.8.13 (default, Mar 28 2022, 06:59:08) [MSC v.1916 64 bit (AMD64)]"
    },
    "vscode": {
      "interpreter": {
        "hash": "d6f7e087fbcf0898426fc59a799b806dc7832e070a5be5ba7c31cc55a1e4b0cf"
      }
    }
  },
  "nbformat": 4,
  "nbformat_minor": 0
}
