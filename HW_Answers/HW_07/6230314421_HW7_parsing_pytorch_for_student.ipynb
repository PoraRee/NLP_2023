{
  "nbformat": 4,
  "nbformat_minor": 0,
  "metadata": {
    "kernelspec": {
      "display_name": "Python 3",
      "language": "python",
      "name": "python3"
    },
    "language_info": {
      "codemirror_mode": {
        "name": "ipython",
        "version": 3
      },
      "file_extension": ".py",
      "mimetype": "text/x-python",
      "name": "python",
      "nbconvert_exporter": "python",
      "pygments_lexer": "ipython3",
      "version": "3.5.2"
    },
    "colab": {
      "provenance": []
    },
    "gpuClass": "standard",
    "widgets": {
      "application/vnd.jupyter.widget-state+json": {
        "4e78d335a70942ba9aab7d49be4ac0c7": {
          "model_module": "@jupyter-widgets/controls",
          "model_name": "HBoxModel",
          "model_module_version": "1.5.0",
          "state": {
            "_dom_classes": [],
            "_model_module": "@jupyter-widgets/controls",
            "_model_module_version": "1.5.0",
            "_model_name": "HBoxModel",
            "_view_count": null,
            "_view_module": "@jupyter-widgets/controls",
            "_view_module_version": "1.5.0",
            "_view_name": "HBoxView",
            "box_style": "",
            "children": [
              "IPY_MODEL_4c6cd850e2b84f2d933e605f296c29e8",
              "IPY_MODEL_49c65b8b0c0948368986e85600616981",
              "IPY_MODEL_f641458a4d754014a81eba8eac0838bf"
            ],
            "layout": "IPY_MODEL_3b73bd6a793245679b2c2e5a08e7d81d"
          }
        },
        "4c6cd850e2b84f2d933e605f296c29e8": {
          "model_module": "@jupyter-widgets/controls",
          "model_name": "HTMLModel",
          "model_module_version": "1.5.0",
          "state": {
            "_dom_classes": [],
            "_model_module": "@jupyter-widgets/controls",
            "_model_module_version": "1.5.0",
            "_model_name": "HTMLModel",
            "_view_count": null,
            "_view_module": "@jupyter-widgets/controls",
            "_view_module_version": "1.5.0",
            "_view_name": "HTMLView",
            "description": "",
            "description_tooltip": null,
            "layout": "IPY_MODEL_6bf1683d09104cea89aee69fd2df3a44",
            "placeholder": "​",
            "style": "IPY_MODEL_bf989d2c55af4431abf295b715f68337",
            "value": "100%"
          }
        },
        "49c65b8b0c0948368986e85600616981": {
          "model_module": "@jupyter-widgets/controls",
          "model_name": "FloatProgressModel",
          "model_module_version": "1.5.0",
          "state": {
            "_dom_classes": [],
            "_model_module": "@jupyter-widgets/controls",
            "_model_module_version": "1.5.0",
            "_model_name": "FloatProgressModel",
            "_view_count": null,
            "_view_module": "@jupyter-widgets/controls",
            "_view_module_version": "1.5.0",
            "_view_name": "ProgressView",
            "bar_style": "success",
            "description": "",
            "description_tooltip": null,
            "layout": "IPY_MODEL_f9cacc8d9e7c4a8b81f563308559390c",
            "max": 757,
            "min": 0,
            "orientation": "horizontal",
            "style": "IPY_MODEL_b7bfb2801546434aa3d8562d0dda7e3f",
            "value": 757
          }
        },
        "f641458a4d754014a81eba8eac0838bf": {
          "model_module": "@jupyter-widgets/controls",
          "model_name": "HTMLModel",
          "model_module_version": "1.5.0",
          "state": {
            "_dom_classes": [],
            "_model_module": "@jupyter-widgets/controls",
            "_model_module_version": "1.5.0",
            "_model_name": "HTMLModel",
            "_view_count": null,
            "_view_module": "@jupyter-widgets/controls",
            "_view_module_version": "1.5.0",
            "_view_name": "HTMLView",
            "description": "",
            "description_tooltip": null,
            "layout": "IPY_MODEL_707cdc668b03470f9e35a858140aac4e",
            "placeholder": "​",
            "style": "IPY_MODEL_8f4a4f4f8d744a47936eda7341a419b8",
            "value": " 757/757 [00:07&lt;00:00, 115.57it/s]"
          }
        },
        "3b73bd6a793245679b2c2e5a08e7d81d": {
          "model_module": "@jupyter-widgets/base",
          "model_name": "LayoutModel",
          "model_module_version": "1.2.0",
          "state": {
            "_model_module": "@jupyter-widgets/base",
            "_model_module_version": "1.2.0",
            "_model_name": "LayoutModel",
            "_view_count": null,
            "_view_module": "@jupyter-widgets/base",
            "_view_module_version": "1.2.0",
            "_view_name": "LayoutView",
            "align_content": null,
            "align_items": null,
            "align_self": null,
            "border": null,
            "bottom": null,
            "display": null,
            "flex": null,
            "flex_flow": null,
            "grid_area": null,
            "grid_auto_columns": null,
            "grid_auto_flow": null,
            "grid_auto_rows": null,
            "grid_column": null,
            "grid_gap": null,
            "grid_row": null,
            "grid_template_areas": null,
            "grid_template_columns": null,
            "grid_template_rows": null,
            "height": null,
            "justify_content": null,
            "justify_items": null,
            "left": null,
            "margin": null,
            "max_height": null,
            "max_width": null,
            "min_height": null,
            "min_width": null,
            "object_fit": null,
            "object_position": null,
            "order": null,
            "overflow": null,
            "overflow_x": null,
            "overflow_y": null,
            "padding": null,
            "right": null,
            "top": null,
            "visibility": null,
            "width": null
          }
        },
        "6bf1683d09104cea89aee69fd2df3a44": {
          "model_module": "@jupyter-widgets/base",
          "model_name": "LayoutModel",
          "model_module_version": "1.2.0",
          "state": {
            "_model_module": "@jupyter-widgets/base",
            "_model_module_version": "1.2.0",
            "_model_name": "LayoutModel",
            "_view_count": null,
            "_view_module": "@jupyter-widgets/base",
            "_view_module_version": "1.2.0",
            "_view_name": "LayoutView",
            "align_content": null,
            "align_items": null,
            "align_self": null,
            "border": null,
            "bottom": null,
            "display": null,
            "flex": null,
            "flex_flow": null,
            "grid_area": null,
            "grid_auto_columns": null,
            "grid_auto_flow": null,
            "grid_auto_rows": null,
            "grid_column": null,
            "grid_gap": null,
            "grid_row": null,
            "grid_template_areas": null,
            "grid_template_columns": null,
            "grid_template_rows": null,
            "height": null,
            "justify_content": null,
            "justify_items": null,
            "left": null,
            "margin": null,
            "max_height": null,
            "max_width": null,
            "min_height": null,
            "min_width": null,
            "object_fit": null,
            "object_position": null,
            "order": null,
            "overflow": null,
            "overflow_x": null,
            "overflow_y": null,
            "padding": null,
            "right": null,
            "top": null,
            "visibility": null,
            "width": null
          }
        },
        "bf989d2c55af4431abf295b715f68337": {
          "model_module": "@jupyter-widgets/controls",
          "model_name": "DescriptionStyleModel",
          "model_module_version": "1.5.0",
          "state": {
            "_model_module": "@jupyter-widgets/controls",
            "_model_module_version": "1.5.0",
            "_model_name": "DescriptionStyleModel",
            "_view_count": null,
            "_view_module": "@jupyter-widgets/base",
            "_view_module_version": "1.2.0",
            "_view_name": "StyleView",
            "description_width": ""
          }
        },
        "f9cacc8d9e7c4a8b81f563308559390c": {
          "model_module": "@jupyter-widgets/base",
          "model_name": "LayoutModel",
          "model_module_version": "1.2.0",
          "state": {
            "_model_module": "@jupyter-widgets/base",
            "_model_module_version": "1.2.0",
            "_model_name": "LayoutModel",
            "_view_count": null,
            "_view_module": "@jupyter-widgets/base",
            "_view_module_version": "1.2.0",
            "_view_name": "LayoutView",
            "align_content": null,
            "align_items": null,
            "align_self": null,
            "border": null,
            "bottom": null,
            "display": null,
            "flex": null,
            "flex_flow": null,
            "grid_area": null,
            "grid_auto_columns": null,
            "grid_auto_flow": null,
            "grid_auto_rows": null,
            "grid_column": null,
            "grid_gap": null,
            "grid_row": null,
            "grid_template_areas": null,
            "grid_template_columns": null,
            "grid_template_rows": null,
            "height": null,
            "justify_content": null,
            "justify_items": null,
            "left": null,
            "margin": null,
            "max_height": null,
            "max_width": null,
            "min_height": null,
            "min_width": null,
            "object_fit": null,
            "object_position": null,
            "order": null,
            "overflow": null,
            "overflow_x": null,
            "overflow_y": null,
            "padding": null,
            "right": null,
            "top": null,
            "visibility": null,
            "width": null
          }
        },
        "b7bfb2801546434aa3d8562d0dda7e3f": {
          "model_module": "@jupyter-widgets/controls",
          "model_name": "ProgressStyleModel",
          "model_module_version": "1.5.0",
          "state": {
            "_model_module": "@jupyter-widgets/controls",
            "_model_module_version": "1.5.0",
            "_model_name": "ProgressStyleModel",
            "_view_count": null,
            "_view_module": "@jupyter-widgets/base",
            "_view_module_version": "1.2.0",
            "_view_name": "StyleView",
            "bar_color": null,
            "description_width": ""
          }
        },
        "707cdc668b03470f9e35a858140aac4e": {
          "model_module": "@jupyter-widgets/base",
          "model_name": "LayoutModel",
          "model_module_version": "1.2.0",
          "state": {
            "_model_module": "@jupyter-widgets/base",
            "_model_module_version": "1.2.0",
            "_model_name": "LayoutModel",
            "_view_count": null,
            "_view_module": "@jupyter-widgets/base",
            "_view_module_version": "1.2.0",
            "_view_name": "LayoutView",
            "align_content": null,
            "align_items": null,
            "align_self": null,
            "border": null,
            "bottom": null,
            "display": null,
            "flex": null,
            "flex_flow": null,
            "grid_area": null,
            "grid_auto_columns": null,
            "grid_auto_flow": null,
            "grid_auto_rows": null,
            "grid_column": null,
            "grid_gap": null,
            "grid_row": null,
            "grid_template_areas": null,
            "grid_template_columns": null,
            "grid_template_rows": null,
            "height": null,
            "justify_content": null,
            "justify_items": null,
            "left": null,
            "margin": null,
            "max_height": null,
            "max_width": null,
            "min_height": null,
            "min_width": null,
            "object_fit": null,
            "object_position": null,
            "order": null,
            "overflow": null,
            "overflow_x": null,
            "overflow_y": null,
            "padding": null,
            "right": null,
            "top": null,
            "visibility": null,
            "width": null
          }
        },
        "8f4a4f4f8d744a47936eda7341a419b8": {
          "model_module": "@jupyter-widgets/controls",
          "model_name": "DescriptionStyleModel",
          "model_module_version": "1.5.0",
          "state": {
            "_model_module": "@jupyter-widgets/controls",
            "_model_module_version": "1.5.0",
            "_model_name": "DescriptionStyleModel",
            "_view_count": null,
            "_view_module": "@jupyter-widgets/base",
            "_view_module_version": "1.2.0",
            "_view_name": "StyleView",
            "description_width": ""
          }
        },
        "d92b62ccf3a04392ac87de24692899b7": {
          "model_module": "@jupyter-widgets/controls",
          "model_name": "HBoxModel",
          "model_module_version": "1.5.0",
          "state": {
            "_dom_classes": [],
            "_model_module": "@jupyter-widgets/controls",
            "_model_module_version": "1.5.0",
            "_model_name": "HBoxModel",
            "_view_count": null,
            "_view_module": "@jupyter-widgets/controls",
            "_view_module_version": "1.5.0",
            "_view_name": "HBoxView",
            "box_style": "",
            "children": [
              "IPY_MODEL_a42a2eac436143df976460d579e46f58",
              "IPY_MODEL_7f09671e17a64b60b5e50813893aaf47",
              "IPY_MODEL_6397b6b1ff3a44a1a891792188bb0d19"
            ],
            "layout": "IPY_MODEL_2bc5494be84847f98504a9b6402f0c35"
          }
        },
        "a42a2eac436143df976460d579e46f58": {
          "model_module": "@jupyter-widgets/controls",
          "model_name": "HTMLModel",
          "model_module_version": "1.5.0",
          "state": {
            "_dom_classes": [],
            "_model_module": "@jupyter-widgets/controls",
            "_model_module_version": "1.5.0",
            "_model_name": "HTMLModel",
            "_view_count": null,
            "_view_module": "@jupyter-widgets/controls",
            "_view_module_version": "1.5.0",
            "_view_name": "HTMLView",
            "description": "",
            "description_tooltip": null,
            "layout": "IPY_MODEL_f54e90729d9b41bf866a3fe4963d646b",
            "placeholder": "​",
            "style": "IPY_MODEL_d30a304239204a50b2c9b8d05fb7fb48",
            "value": "100%"
          }
        },
        "7f09671e17a64b60b5e50813893aaf47": {
          "model_module": "@jupyter-widgets/controls",
          "model_name": "FloatProgressModel",
          "model_module_version": "1.5.0",
          "state": {
            "_dom_classes": [],
            "_model_module": "@jupyter-widgets/controls",
            "_model_module_version": "1.5.0",
            "_model_name": "FloatProgressModel",
            "_view_count": null,
            "_view_module": "@jupyter-widgets/controls",
            "_view_module_version": "1.5.0",
            "_view_name": "ProgressView",
            "bar_style": "success",
            "description": "",
            "description_tooltip": null,
            "layout": "IPY_MODEL_e3aefc0eb1d846b3ba174ed82a94726d",
            "max": 757,
            "min": 0,
            "orientation": "horizontal",
            "style": "IPY_MODEL_7ae4f1e7739b4884be7860da4fe33766",
            "value": 757
          }
        },
        "6397b6b1ff3a44a1a891792188bb0d19": {
          "model_module": "@jupyter-widgets/controls",
          "model_name": "HTMLModel",
          "model_module_version": "1.5.0",
          "state": {
            "_dom_classes": [],
            "_model_module": "@jupyter-widgets/controls",
            "_model_module_version": "1.5.0",
            "_model_name": "HTMLModel",
            "_view_count": null,
            "_view_module": "@jupyter-widgets/controls",
            "_view_module_version": "1.5.0",
            "_view_name": "HTMLView",
            "description": "",
            "description_tooltip": null,
            "layout": "IPY_MODEL_c4b91696d9b9498889970a6cf0d87b11",
            "placeholder": "​",
            "style": "IPY_MODEL_69036a478a1c456cacb8f1215be26aec",
            "value": " 757/757 [00:11&lt;00:00, 68.02it/s]"
          }
        },
        "2bc5494be84847f98504a9b6402f0c35": {
          "model_module": "@jupyter-widgets/base",
          "model_name": "LayoutModel",
          "model_module_version": "1.2.0",
          "state": {
            "_model_module": "@jupyter-widgets/base",
            "_model_module_version": "1.2.0",
            "_model_name": "LayoutModel",
            "_view_count": null,
            "_view_module": "@jupyter-widgets/base",
            "_view_module_version": "1.2.0",
            "_view_name": "LayoutView",
            "align_content": null,
            "align_items": null,
            "align_self": null,
            "border": null,
            "bottom": null,
            "display": null,
            "flex": null,
            "flex_flow": null,
            "grid_area": null,
            "grid_auto_columns": null,
            "grid_auto_flow": null,
            "grid_auto_rows": null,
            "grid_column": null,
            "grid_gap": null,
            "grid_row": null,
            "grid_template_areas": null,
            "grid_template_columns": null,
            "grid_template_rows": null,
            "height": null,
            "justify_content": null,
            "justify_items": null,
            "left": null,
            "margin": null,
            "max_height": null,
            "max_width": null,
            "min_height": null,
            "min_width": null,
            "object_fit": null,
            "object_position": null,
            "order": null,
            "overflow": null,
            "overflow_x": null,
            "overflow_y": null,
            "padding": null,
            "right": null,
            "top": null,
            "visibility": null,
            "width": null
          }
        },
        "f54e90729d9b41bf866a3fe4963d646b": {
          "model_module": "@jupyter-widgets/base",
          "model_name": "LayoutModel",
          "model_module_version": "1.2.0",
          "state": {
            "_model_module": "@jupyter-widgets/base",
            "_model_module_version": "1.2.0",
            "_model_name": "LayoutModel",
            "_view_count": null,
            "_view_module": "@jupyter-widgets/base",
            "_view_module_version": "1.2.0",
            "_view_name": "LayoutView",
            "align_content": null,
            "align_items": null,
            "align_self": null,
            "border": null,
            "bottom": null,
            "display": null,
            "flex": null,
            "flex_flow": null,
            "grid_area": null,
            "grid_auto_columns": null,
            "grid_auto_flow": null,
            "grid_auto_rows": null,
            "grid_column": null,
            "grid_gap": null,
            "grid_row": null,
            "grid_template_areas": null,
            "grid_template_columns": null,
            "grid_template_rows": null,
            "height": null,
            "justify_content": null,
            "justify_items": null,
            "left": null,
            "margin": null,
            "max_height": null,
            "max_width": null,
            "min_height": null,
            "min_width": null,
            "object_fit": null,
            "object_position": null,
            "order": null,
            "overflow": null,
            "overflow_x": null,
            "overflow_y": null,
            "padding": null,
            "right": null,
            "top": null,
            "visibility": null,
            "width": null
          }
        },
        "d30a304239204a50b2c9b8d05fb7fb48": {
          "model_module": "@jupyter-widgets/controls",
          "model_name": "DescriptionStyleModel",
          "model_module_version": "1.5.0",
          "state": {
            "_model_module": "@jupyter-widgets/controls",
            "_model_module_version": "1.5.0",
            "_model_name": "DescriptionStyleModel",
            "_view_count": null,
            "_view_module": "@jupyter-widgets/base",
            "_view_module_version": "1.2.0",
            "_view_name": "StyleView",
            "description_width": ""
          }
        },
        "e3aefc0eb1d846b3ba174ed82a94726d": {
          "model_module": "@jupyter-widgets/base",
          "model_name": "LayoutModel",
          "model_module_version": "1.2.0",
          "state": {
            "_model_module": "@jupyter-widgets/base",
            "_model_module_version": "1.2.0",
            "_model_name": "LayoutModel",
            "_view_count": null,
            "_view_module": "@jupyter-widgets/base",
            "_view_module_version": "1.2.0",
            "_view_name": "LayoutView",
            "align_content": null,
            "align_items": null,
            "align_self": null,
            "border": null,
            "bottom": null,
            "display": null,
            "flex": null,
            "flex_flow": null,
            "grid_area": null,
            "grid_auto_columns": null,
            "grid_auto_flow": null,
            "grid_auto_rows": null,
            "grid_column": null,
            "grid_gap": null,
            "grid_row": null,
            "grid_template_areas": null,
            "grid_template_columns": null,
            "grid_template_rows": null,
            "height": null,
            "justify_content": null,
            "justify_items": null,
            "left": null,
            "margin": null,
            "max_height": null,
            "max_width": null,
            "min_height": null,
            "min_width": null,
            "object_fit": null,
            "object_position": null,
            "order": null,
            "overflow": null,
            "overflow_x": null,
            "overflow_y": null,
            "padding": null,
            "right": null,
            "top": null,
            "visibility": null,
            "width": null
          }
        },
        "7ae4f1e7739b4884be7860da4fe33766": {
          "model_module": "@jupyter-widgets/controls",
          "model_name": "ProgressStyleModel",
          "model_module_version": "1.5.0",
          "state": {
            "_model_module": "@jupyter-widgets/controls",
            "_model_module_version": "1.5.0",
            "_model_name": "ProgressStyleModel",
            "_view_count": null,
            "_view_module": "@jupyter-widgets/base",
            "_view_module_version": "1.2.0",
            "_view_name": "StyleView",
            "bar_color": null,
            "description_width": ""
          }
        },
        "c4b91696d9b9498889970a6cf0d87b11": {
          "model_module": "@jupyter-widgets/base",
          "model_name": "LayoutModel",
          "model_module_version": "1.2.0",
          "state": {
            "_model_module": "@jupyter-widgets/base",
            "_model_module_version": "1.2.0",
            "_model_name": "LayoutModel",
            "_view_count": null,
            "_view_module": "@jupyter-widgets/base",
            "_view_module_version": "1.2.0",
            "_view_name": "LayoutView",
            "align_content": null,
            "align_items": null,
            "align_self": null,
            "border": null,
            "bottom": null,
            "display": null,
            "flex": null,
            "flex_flow": null,
            "grid_area": null,
            "grid_auto_columns": null,
            "grid_auto_flow": null,
            "grid_auto_rows": null,
            "grid_column": null,
            "grid_gap": null,
            "grid_row": null,
            "grid_template_areas": null,
            "grid_template_columns": null,
            "grid_template_rows": null,
            "height": null,
            "justify_content": null,
            "justify_items": null,
            "left": null,
            "margin": null,
            "max_height": null,
            "max_width": null,
            "min_height": null,
            "min_width": null,
            "object_fit": null,
            "object_position": null,
            "order": null,
            "overflow": null,
            "overflow_x": null,
            "overflow_y": null,
            "padding": null,
            "right": null,
            "top": null,
            "visibility": null,
            "width": null
          }
        },
        "69036a478a1c456cacb8f1215be26aec": {
          "model_module": "@jupyter-widgets/controls",
          "model_name": "DescriptionStyleModel",
          "model_module_version": "1.5.0",
          "state": {
            "_model_module": "@jupyter-widgets/controls",
            "_model_module_version": "1.5.0",
            "_model_name": "DescriptionStyleModel",
            "_view_count": null,
            "_view_module": "@jupyter-widgets/base",
            "_view_module_version": "1.2.0",
            "_view_name": "StyleView",
            "description_width": ""
          }
        },
        "0e041c8ec9ba4dd599a89458de9de2d0": {
          "model_module": "@jupyter-widgets/controls",
          "model_name": "HBoxModel",
          "model_module_version": "1.5.0",
          "state": {
            "_dom_classes": [],
            "_model_module": "@jupyter-widgets/controls",
            "_model_module_version": "1.5.0",
            "_model_name": "HBoxModel",
            "_view_count": null,
            "_view_module": "@jupyter-widgets/controls",
            "_view_module_version": "1.5.0",
            "_view_name": "HBoxView",
            "box_style": "",
            "children": [
              "IPY_MODEL_9e4a7e628fb14494b8578f54f606cce0",
              "IPY_MODEL_1b987f2dba7e4ddfb769cfa0976e54a9",
              "IPY_MODEL_8fc9a7bed43a45b28ff7848339804b77"
            ],
            "layout": "IPY_MODEL_3d9e273f447c4b48adec2e307b24ca61"
          }
        },
        "9e4a7e628fb14494b8578f54f606cce0": {
          "model_module": "@jupyter-widgets/controls",
          "model_name": "HTMLModel",
          "model_module_version": "1.5.0",
          "state": {
            "_dom_classes": [],
            "_model_module": "@jupyter-widgets/controls",
            "_model_module_version": "1.5.0",
            "_model_name": "HTMLModel",
            "_view_count": null,
            "_view_module": "@jupyter-widgets/controls",
            "_view_module_version": "1.5.0",
            "_view_name": "HTMLView",
            "description": "",
            "description_tooltip": null,
            "layout": "IPY_MODEL_220b90334af746f0831acc3f710abace",
            "placeholder": "​",
            "style": "IPY_MODEL_1a50a663d5c6491bb6ea76e0680a79cf",
            "value": "100%"
          }
        },
        "1b987f2dba7e4ddfb769cfa0976e54a9": {
          "model_module": "@jupyter-widgets/controls",
          "model_name": "FloatProgressModel",
          "model_module_version": "1.5.0",
          "state": {
            "_dom_classes": [],
            "_model_module": "@jupyter-widgets/controls",
            "_model_module_version": "1.5.0",
            "_model_name": "FloatProgressModel",
            "_view_count": null,
            "_view_module": "@jupyter-widgets/controls",
            "_view_module_version": "1.5.0",
            "_view_name": "ProgressView",
            "bar_style": "success",
            "description": "",
            "description_tooltip": null,
            "layout": "IPY_MODEL_e233ff522279495aa58afe41e0b338d8",
            "max": 757,
            "min": 0,
            "orientation": "horizontal",
            "style": "IPY_MODEL_3b335bb50dcf49adb8d730cd82d434c5",
            "value": 757
          }
        },
        "8fc9a7bed43a45b28ff7848339804b77": {
          "model_module": "@jupyter-widgets/controls",
          "model_name": "HTMLModel",
          "model_module_version": "1.5.0",
          "state": {
            "_dom_classes": [],
            "_model_module": "@jupyter-widgets/controls",
            "_model_module_version": "1.5.0",
            "_model_name": "HTMLModel",
            "_view_count": null,
            "_view_module": "@jupyter-widgets/controls",
            "_view_module_version": "1.5.0",
            "_view_name": "HTMLView",
            "description": "",
            "description_tooltip": null,
            "layout": "IPY_MODEL_1443a4ef22604f18a503dc90d73127b9",
            "placeholder": "​",
            "style": "IPY_MODEL_f689b5d3d3be4107ab6db3fa2dd2ea43",
            "value": " 757/757 [00:07&lt;00:00, 104.11it/s]"
          }
        },
        "3d9e273f447c4b48adec2e307b24ca61": {
          "model_module": "@jupyter-widgets/base",
          "model_name": "LayoutModel",
          "model_module_version": "1.2.0",
          "state": {
            "_model_module": "@jupyter-widgets/base",
            "_model_module_version": "1.2.0",
            "_model_name": "LayoutModel",
            "_view_count": null,
            "_view_module": "@jupyter-widgets/base",
            "_view_module_version": "1.2.0",
            "_view_name": "LayoutView",
            "align_content": null,
            "align_items": null,
            "align_self": null,
            "border": null,
            "bottom": null,
            "display": null,
            "flex": null,
            "flex_flow": null,
            "grid_area": null,
            "grid_auto_columns": null,
            "grid_auto_flow": null,
            "grid_auto_rows": null,
            "grid_column": null,
            "grid_gap": null,
            "grid_row": null,
            "grid_template_areas": null,
            "grid_template_columns": null,
            "grid_template_rows": null,
            "height": null,
            "justify_content": null,
            "justify_items": null,
            "left": null,
            "margin": null,
            "max_height": null,
            "max_width": null,
            "min_height": null,
            "min_width": null,
            "object_fit": null,
            "object_position": null,
            "order": null,
            "overflow": null,
            "overflow_x": null,
            "overflow_y": null,
            "padding": null,
            "right": null,
            "top": null,
            "visibility": null,
            "width": null
          }
        },
        "220b90334af746f0831acc3f710abace": {
          "model_module": "@jupyter-widgets/base",
          "model_name": "LayoutModel",
          "model_module_version": "1.2.0",
          "state": {
            "_model_module": "@jupyter-widgets/base",
            "_model_module_version": "1.2.0",
            "_model_name": "LayoutModel",
            "_view_count": null,
            "_view_module": "@jupyter-widgets/base",
            "_view_module_version": "1.2.0",
            "_view_name": "LayoutView",
            "align_content": null,
            "align_items": null,
            "align_self": null,
            "border": null,
            "bottom": null,
            "display": null,
            "flex": null,
            "flex_flow": null,
            "grid_area": null,
            "grid_auto_columns": null,
            "grid_auto_flow": null,
            "grid_auto_rows": null,
            "grid_column": null,
            "grid_gap": null,
            "grid_row": null,
            "grid_template_areas": null,
            "grid_template_columns": null,
            "grid_template_rows": null,
            "height": null,
            "justify_content": null,
            "justify_items": null,
            "left": null,
            "margin": null,
            "max_height": null,
            "max_width": null,
            "min_height": null,
            "min_width": null,
            "object_fit": null,
            "object_position": null,
            "order": null,
            "overflow": null,
            "overflow_x": null,
            "overflow_y": null,
            "padding": null,
            "right": null,
            "top": null,
            "visibility": null,
            "width": null
          }
        },
        "1a50a663d5c6491bb6ea76e0680a79cf": {
          "model_module": "@jupyter-widgets/controls",
          "model_name": "DescriptionStyleModel",
          "model_module_version": "1.5.0",
          "state": {
            "_model_module": "@jupyter-widgets/controls",
            "_model_module_version": "1.5.0",
            "_model_name": "DescriptionStyleModel",
            "_view_count": null,
            "_view_module": "@jupyter-widgets/base",
            "_view_module_version": "1.2.0",
            "_view_name": "StyleView",
            "description_width": ""
          }
        },
        "e233ff522279495aa58afe41e0b338d8": {
          "model_module": "@jupyter-widgets/base",
          "model_name": "LayoutModel",
          "model_module_version": "1.2.0",
          "state": {
            "_model_module": "@jupyter-widgets/base",
            "_model_module_version": "1.2.0",
            "_model_name": "LayoutModel",
            "_view_count": null,
            "_view_module": "@jupyter-widgets/base",
            "_view_module_version": "1.2.0",
            "_view_name": "LayoutView",
            "align_content": null,
            "align_items": null,
            "align_self": null,
            "border": null,
            "bottom": null,
            "display": null,
            "flex": null,
            "flex_flow": null,
            "grid_area": null,
            "grid_auto_columns": null,
            "grid_auto_flow": null,
            "grid_auto_rows": null,
            "grid_column": null,
            "grid_gap": null,
            "grid_row": null,
            "grid_template_areas": null,
            "grid_template_columns": null,
            "grid_template_rows": null,
            "height": null,
            "justify_content": null,
            "justify_items": null,
            "left": null,
            "margin": null,
            "max_height": null,
            "max_width": null,
            "min_height": null,
            "min_width": null,
            "object_fit": null,
            "object_position": null,
            "order": null,
            "overflow": null,
            "overflow_x": null,
            "overflow_y": null,
            "padding": null,
            "right": null,
            "top": null,
            "visibility": null,
            "width": null
          }
        },
        "3b335bb50dcf49adb8d730cd82d434c5": {
          "model_module": "@jupyter-widgets/controls",
          "model_name": "ProgressStyleModel",
          "model_module_version": "1.5.0",
          "state": {
            "_model_module": "@jupyter-widgets/controls",
            "_model_module_version": "1.5.0",
            "_model_name": "ProgressStyleModel",
            "_view_count": null,
            "_view_module": "@jupyter-widgets/base",
            "_view_module_version": "1.2.0",
            "_view_name": "StyleView",
            "bar_color": null,
            "description_width": ""
          }
        },
        "1443a4ef22604f18a503dc90d73127b9": {
          "model_module": "@jupyter-widgets/base",
          "model_name": "LayoutModel",
          "model_module_version": "1.2.0",
          "state": {
            "_model_module": "@jupyter-widgets/base",
            "_model_module_version": "1.2.0",
            "_model_name": "LayoutModel",
            "_view_count": null,
            "_view_module": "@jupyter-widgets/base",
            "_view_module_version": "1.2.0",
            "_view_name": "LayoutView",
            "align_content": null,
            "align_items": null,
            "align_self": null,
            "border": null,
            "bottom": null,
            "display": null,
            "flex": null,
            "flex_flow": null,
            "grid_area": null,
            "grid_auto_columns": null,
            "grid_auto_flow": null,
            "grid_auto_rows": null,
            "grid_column": null,
            "grid_gap": null,
            "grid_row": null,
            "grid_template_areas": null,
            "grid_template_columns": null,
            "grid_template_rows": null,
            "height": null,
            "justify_content": null,
            "justify_items": null,
            "left": null,
            "margin": null,
            "max_height": null,
            "max_width": null,
            "min_height": null,
            "min_width": null,
            "object_fit": null,
            "object_position": null,
            "order": null,
            "overflow": null,
            "overflow_x": null,
            "overflow_y": null,
            "padding": null,
            "right": null,
            "top": null,
            "visibility": null,
            "width": null
          }
        },
        "f689b5d3d3be4107ab6db3fa2dd2ea43": {
          "model_module": "@jupyter-widgets/controls",
          "model_name": "DescriptionStyleModel",
          "model_module_version": "1.5.0",
          "state": {
            "_model_module": "@jupyter-widgets/controls",
            "_model_module_version": "1.5.0",
            "_model_name": "DescriptionStyleModel",
            "_view_count": null,
            "_view_module": "@jupyter-widgets/base",
            "_view_module_version": "1.2.0",
            "_view_name": "StyleView",
            "description_width": ""
          }
        },
        "b52a02ea54e14dd5a45c4b4ff7e71bb4": {
          "model_module": "@jupyter-widgets/controls",
          "model_name": "HBoxModel",
          "model_module_version": "1.5.0",
          "state": {
            "_dom_classes": [],
            "_model_module": "@jupyter-widgets/controls",
            "_model_module_version": "1.5.0",
            "_model_name": "HBoxModel",
            "_view_count": null,
            "_view_module": "@jupyter-widgets/controls",
            "_view_module_version": "1.5.0",
            "_view_name": "HBoxView",
            "box_style": "",
            "children": [
              "IPY_MODEL_dfaa68eb02964ea9b8a32a6754bf28e5",
              "IPY_MODEL_c7863e88f18b419f9a0b43690e5872df",
              "IPY_MODEL_9534ebf8156f4f44975427aa9faf80ee"
            ],
            "layout": "IPY_MODEL_e9e454c6a6644dfbb2700282ae2bf52a"
          }
        },
        "dfaa68eb02964ea9b8a32a6754bf28e5": {
          "model_module": "@jupyter-widgets/controls",
          "model_name": "HTMLModel",
          "model_module_version": "1.5.0",
          "state": {
            "_dom_classes": [],
            "_model_module": "@jupyter-widgets/controls",
            "_model_module_version": "1.5.0",
            "_model_name": "HTMLModel",
            "_view_count": null,
            "_view_module": "@jupyter-widgets/controls",
            "_view_module_version": "1.5.0",
            "_view_name": "HTMLView",
            "description": "",
            "description_tooltip": null,
            "layout": "IPY_MODEL_40c6de77fd8641458388bec02568c4a3",
            "placeholder": "​",
            "style": "IPY_MODEL_beaa0a913b864cd8bd06cc1108787017",
            "value": "100%"
          }
        },
        "c7863e88f18b419f9a0b43690e5872df": {
          "model_module": "@jupyter-widgets/controls",
          "model_name": "FloatProgressModel",
          "model_module_version": "1.5.0",
          "state": {
            "_dom_classes": [],
            "_model_module": "@jupyter-widgets/controls",
            "_model_module_version": "1.5.0",
            "_model_name": "FloatProgressModel",
            "_view_count": null,
            "_view_module": "@jupyter-widgets/controls",
            "_view_module_version": "1.5.0",
            "_view_name": "ProgressView",
            "bar_style": "success",
            "description": "",
            "description_tooltip": null,
            "layout": "IPY_MODEL_1d52878b2714457a8373a6fb4487a3cb",
            "max": 757,
            "min": 0,
            "orientation": "horizontal",
            "style": "IPY_MODEL_2b2321d75a794339b34bc1f12ad3a692",
            "value": 757
          }
        },
        "9534ebf8156f4f44975427aa9faf80ee": {
          "model_module": "@jupyter-widgets/controls",
          "model_name": "HTMLModel",
          "model_module_version": "1.5.0",
          "state": {
            "_dom_classes": [],
            "_model_module": "@jupyter-widgets/controls",
            "_model_module_version": "1.5.0",
            "_model_name": "HTMLModel",
            "_view_count": null,
            "_view_module": "@jupyter-widgets/controls",
            "_view_module_version": "1.5.0",
            "_view_name": "HTMLView",
            "description": "",
            "description_tooltip": null,
            "layout": "IPY_MODEL_7ec00799ac3c4ec088052dccc348ac84",
            "placeholder": "​",
            "style": "IPY_MODEL_4a0ce459fc134d76b46fb15baea47a2d",
            "value": " 757/757 [00:07&lt;00:00, 112.14it/s]"
          }
        },
        "e9e454c6a6644dfbb2700282ae2bf52a": {
          "model_module": "@jupyter-widgets/base",
          "model_name": "LayoutModel",
          "model_module_version": "1.2.0",
          "state": {
            "_model_module": "@jupyter-widgets/base",
            "_model_module_version": "1.2.0",
            "_model_name": "LayoutModel",
            "_view_count": null,
            "_view_module": "@jupyter-widgets/base",
            "_view_module_version": "1.2.0",
            "_view_name": "LayoutView",
            "align_content": null,
            "align_items": null,
            "align_self": null,
            "border": null,
            "bottom": null,
            "display": null,
            "flex": null,
            "flex_flow": null,
            "grid_area": null,
            "grid_auto_columns": null,
            "grid_auto_flow": null,
            "grid_auto_rows": null,
            "grid_column": null,
            "grid_gap": null,
            "grid_row": null,
            "grid_template_areas": null,
            "grid_template_columns": null,
            "grid_template_rows": null,
            "height": null,
            "justify_content": null,
            "justify_items": null,
            "left": null,
            "margin": null,
            "max_height": null,
            "max_width": null,
            "min_height": null,
            "min_width": null,
            "object_fit": null,
            "object_position": null,
            "order": null,
            "overflow": null,
            "overflow_x": null,
            "overflow_y": null,
            "padding": null,
            "right": null,
            "top": null,
            "visibility": null,
            "width": null
          }
        },
        "40c6de77fd8641458388bec02568c4a3": {
          "model_module": "@jupyter-widgets/base",
          "model_name": "LayoutModel",
          "model_module_version": "1.2.0",
          "state": {
            "_model_module": "@jupyter-widgets/base",
            "_model_module_version": "1.2.0",
            "_model_name": "LayoutModel",
            "_view_count": null,
            "_view_module": "@jupyter-widgets/base",
            "_view_module_version": "1.2.0",
            "_view_name": "LayoutView",
            "align_content": null,
            "align_items": null,
            "align_self": null,
            "border": null,
            "bottom": null,
            "display": null,
            "flex": null,
            "flex_flow": null,
            "grid_area": null,
            "grid_auto_columns": null,
            "grid_auto_flow": null,
            "grid_auto_rows": null,
            "grid_column": null,
            "grid_gap": null,
            "grid_row": null,
            "grid_template_areas": null,
            "grid_template_columns": null,
            "grid_template_rows": null,
            "height": null,
            "justify_content": null,
            "justify_items": null,
            "left": null,
            "margin": null,
            "max_height": null,
            "max_width": null,
            "min_height": null,
            "min_width": null,
            "object_fit": null,
            "object_position": null,
            "order": null,
            "overflow": null,
            "overflow_x": null,
            "overflow_y": null,
            "padding": null,
            "right": null,
            "top": null,
            "visibility": null,
            "width": null
          }
        },
        "beaa0a913b864cd8bd06cc1108787017": {
          "model_module": "@jupyter-widgets/controls",
          "model_name": "DescriptionStyleModel",
          "model_module_version": "1.5.0",
          "state": {
            "_model_module": "@jupyter-widgets/controls",
            "_model_module_version": "1.5.0",
            "_model_name": "DescriptionStyleModel",
            "_view_count": null,
            "_view_module": "@jupyter-widgets/base",
            "_view_module_version": "1.2.0",
            "_view_name": "StyleView",
            "description_width": ""
          }
        },
        "1d52878b2714457a8373a6fb4487a3cb": {
          "model_module": "@jupyter-widgets/base",
          "model_name": "LayoutModel",
          "model_module_version": "1.2.0",
          "state": {
            "_model_module": "@jupyter-widgets/base",
            "_model_module_version": "1.2.0",
            "_model_name": "LayoutModel",
            "_view_count": null,
            "_view_module": "@jupyter-widgets/base",
            "_view_module_version": "1.2.0",
            "_view_name": "LayoutView",
            "align_content": null,
            "align_items": null,
            "align_self": null,
            "border": null,
            "bottom": null,
            "display": null,
            "flex": null,
            "flex_flow": null,
            "grid_area": null,
            "grid_auto_columns": null,
            "grid_auto_flow": null,
            "grid_auto_rows": null,
            "grid_column": null,
            "grid_gap": null,
            "grid_row": null,
            "grid_template_areas": null,
            "grid_template_columns": null,
            "grid_template_rows": null,
            "height": null,
            "justify_content": null,
            "justify_items": null,
            "left": null,
            "margin": null,
            "max_height": null,
            "max_width": null,
            "min_height": null,
            "min_width": null,
            "object_fit": null,
            "object_position": null,
            "order": null,
            "overflow": null,
            "overflow_x": null,
            "overflow_y": null,
            "padding": null,
            "right": null,
            "top": null,
            "visibility": null,
            "width": null
          }
        },
        "2b2321d75a794339b34bc1f12ad3a692": {
          "model_module": "@jupyter-widgets/controls",
          "model_name": "ProgressStyleModel",
          "model_module_version": "1.5.0",
          "state": {
            "_model_module": "@jupyter-widgets/controls",
            "_model_module_version": "1.5.0",
            "_model_name": "ProgressStyleModel",
            "_view_count": null,
            "_view_module": "@jupyter-widgets/base",
            "_view_module_version": "1.2.0",
            "_view_name": "StyleView",
            "bar_color": null,
            "description_width": ""
          }
        },
        "7ec00799ac3c4ec088052dccc348ac84": {
          "model_module": "@jupyter-widgets/base",
          "model_name": "LayoutModel",
          "model_module_version": "1.2.0",
          "state": {
            "_model_module": "@jupyter-widgets/base",
            "_model_module_version": "1.2.0",
            "_model_name": "LayoutModel",
            "_view_count": null,
            "_view_module": "@jupyter-widgets/base",
            "_view_module_version": "1.2.0",
            "_view_name": "LayoutView",
            "align_content": null,
            "align_items": null,
            "align_self": null,
            "border": null,
            "bottom": null,
            "display": null,
            "flex": null,
            "flex_flow": null,
            "grid_area": null,
            "grid_auto_columns": null,
            "grid_auto_flow": null,
            "grid_auto_rows": null,
            "grid_column": null,
            "grid_gap": null,
            "grid_row": null,
            "grid_template_areas": null,
            "grid_template_columns": null,
            "grid_template_rows": null,
            "height": null,
            "justify_content": null,
            "justify_items": null,
            "left": null,
            "margin": null,
            "max_height": null,
            "max_width": null,
            "min_height": null,
            "min_width": null,
            "object_fit": null,
            "object_position": null,
            "order": null,
            "overflow": null,
            "overflow_x": null,
            "overflow_y": null,
            "padding": null,
            "right": null,
            "top": null,
            "visibility": null,
            "width": null
          }
        },
        "4a0ce459fc134d76b46fb15baea47a2d": {
          "model_module": "@jupyter-widgets/controls",
          "model_name": "DescriptionStyleModel",
          "model_module_version": "1.5.0",
          "state": {
            "_model_module": "@jupyter-widgets/controls",
            "_model_module_version": "1.5.0",
            "_model_name": "DescriptionStyleModel",
            "_view_count": null,
            "_view_module": "@jupyter-widgets/base",
            "_view_module_version": "1.2.0",
            "_view_name": "StyleView",
            "description_width": ""
          }
        },
        "ee32893a76d34fb4b5bd773c6afd1360": {
          "model_module": "@jupyter-widgets/controls",
          "model_name": "HBoxModel",
          "model_module_version": "1.5.0",
          "state": {
            "_dom_classes": [],
            "_model_module": "@jupyter-widgets/controls",
            "_model_module_version": "1.5.0",
            "_model_name": "HBoxModel",
            "_view_count": null,
            "_view_module": "@jupyter-widgets/controls",
            "_view_module_version": "1.5.0",
            "_view_name": "HBoxView",
            "box_style": "",
            "children": [
              "IPY_MODEL_a4b595dfedd749018902d13ae584894b",
              "IPY_MODEL_e703afa84a3a4461a1201144d8355954",
              "IPY_MODEL_aaabc4b6e3a147fa81bf4eaf50aff841"
            ],
            "layout": "IPY_MODEL_73e514ae75aa4b7a96a184251244c7b3"
          }
        },
        "a4b595dfedd749018902d13ae584894b": {
          "model_module": "@jupyter-widgets/controls",
          "model_name": "HTMLModel",
          "model_module_version": "1.5.0",
          "state": {
            "_dom_classes": [],
            "_model_module": "@jupyter-widgets/controls",
            "_model_module_version": "1.5.0",
            "_model_name": "HTMLModel",
            "_view_count": null,
            "_view_module": "@jupyter-widgets/controls",
            "_view_module_version": "1.5.0",
            "_view_name": "HTMLView",
            "description": "",
            "description_tooltip": null,
            "layout": "IPY_MODEL_d808f9a006bb47abba40f9142484d9d4",
            "placeholder": "​",
            "style": "IPY_MODEL_13afcf7c20134b1d97173078eea1c826",
            "value": "100%"
          }
        },
        "e703afa84a3a4461a1201144d8355954": {
          "model_module": "@jupyter-widgets/controls",
          "model_name": "FloatProgressModel",
          "model_module_version": "1.5.0",
          "state": {
            "_dom_classes": [],
            "_model_module": "@jupyter-widgets/controls",
            "_model_module_version": "1.5.0",
            "_model_name": "FloatProgressModel",
            "_view_count": null,
            "_view_module": "@jupyter-widgets/controls",
            "_view_module_version": "1.5.0",
            "_view_name": "ProgressView",
            "bar_style": "success",
            "description": "",
            "description_tooltip": null,
            "layout": "IPY_MODEL_e261769f63a34c418e00ca7a1f4c94be",
            "max": 757,
            "min": 0,
            "orientation": "horizontal",
            "style": "IPY_MODEL_9568affe25b140899c2340481ce65aa3",
            "value": 757
          }
        },
        "aaabc4b6e3a147fa81bf4eaf50aff841": {
          "model_module": "@jupyter-widgets/controls",
          "model_name": "HTMLModel",
          "model_module_version": "1.5.0",
          "state": {
            "_dom_classes": [],
            "_model_module": "@jupyter-widgets/controls",
            "_model_module_version": "1.5.0",
            "_model_name": "HTMLModel",
            "_view_count": null,
            "_view_module": "@jupyter-widgets/controls",
            "_view_module_version": "1.5.0",
            "_view_name": "HTMLView",
            "description": "",
            "description_tooltip": null,
            "layout": "IPY_MODEL_a897cdcdb7d840d0a420bd96eb98db26",
            "placeholder": "​",
            "style": "IPY_MODEL_784a02ee982f44a7ada6dc9216222b17",
            "value": " 757/757 [00:07&lt;00:00, 115.84it/s]"
          }
        },
        "73e514ae75aa4b7a96a184251244c7b3": {
          "model_module": "@jupyter-widgets/base",
          "model_name": "LayoutModel",
          "model_module_version": "1.2.0",
          "state": {
            "_model_module": "@jupyter-widgets/base",
            "_model_module_version": "1.2.0",
            "_model_name": "LayoutModel",
            "_view_count": null,
            "_view_module": "@jupyter-widgets/base",
            "_view_module_version": "1.2.0",
            "_view_name": "LayoutView",
            "align_content": null,
            "align_items": null,
            "align_self": null,
            "border": null,
            "bottom": null,
            "display": null,
            "flex": null,
            "flex_flow": null,
            "grid_area": null,
            "grid_auto_columns": null,
            "grid_auto_flow": null,
            "grid_auto_rows": null,
            "grid_column": null,
            "grid_gap": null,
            "grid_row": null,
            "grid_template_areas": null,
            "grid_template_columns": null,
            "grid_template_rows": null,
            "height": null,
            "justify_content": null,
            "justify_items": null,
            "left": null,
            "margin": null,
            "max_height": null,
            "max_width": null,
            "min_height": null,
            "min_width": null,
            "object_fit": null,
            "object_position": null,
            "order": null,
            "overflow": null,
            "overflow_x": null,
            "overflow_y": null,
            "padding": null,
            "right": null,
            "top": null,
            "visibility": null,
            "width": null
          }
        },
        "d808f9a006bb47abba40f9142484d9d4": {
          "model_module": "@jupyter-widgets/base",
          "model_name": "LayoutModel",
          "model_module_version": "1.2.0",
          "state": {
            "_model_module": "@jupyter-widgets/base",
            "_model_module_version": "1.2.0",
            "_model_name": "LayoutModel",
            "_view_count": null,
            "_view_module": "@jupyter-widgets/base",
            "_view_module_version": "1.2.0",
            "_view_name": "LayoutView",
            "align_content": null,
            "align_items": null,
            "align_self": null,
            "border": null,
            "bottom": null,
            "display": null,
            "flex": null,
            "flex_flow": null,
            "grid_area": null,
            "grid_auto_columns": null,
            "grid_auto_flow": null,
            "grid_auto_rows": null,
            "grid_column": null,
            "grid_gap": null,
            "grid_row": null,
            "grid_template_areas": null,
            "grid_template_columns": null,
            "grid_template_rows": null,
            "height": null,
            "justify_content": null,
            "justify_items": null,
            "left": null,
            "margin": null,
            "max_height": null,
            "max_width": null,
            "min_height": null,
            "min_width": null,
            "object_fit": null,
            "object_position": null,
            "order": null,
            "overflow": null,
            "overflow_x": null,
            "overflow_y": null,
            "padding": null,
            "right": null,
            "top": null,
            "visibility": null,
            "width": null
          }
        },
        "13afcf7c20134b1d97173078eea1c826": {
          "model_module": "@jupyter-widgets/controls",
          "model_name": "DescriptionStyleModel",
          "model_module_version": "1.5.0",
          "state": {
            "_model_module": "@jupyter-widgets/controls",
            "_model_module_version": "1.5.0",
            "_model_name": "DescriptionStyleModel",
            "_view_count": null,
            "_view_module": "@jupyter-widgets/base",
            "_view_module_version": "1.2.0",
            "_view_name": "StyleView",
            "description_width": ""
          }
        },
        "e261769f63a34c418e00ca7a1f4c94be": {
          "model_module": "@jupyter-widgets/base",
          "model_name": "LayoutModel",
          "model_module_version": "1.2.0",
          "state": {
            "_model_module": "@jupyter-widgets/base",
            "_model_module_version": "1.2.0",
            "_model_name": "LayoutModel",
            "_view_count": null,
            "_view_module": "@jupyter-widgets/base",
            "_view_module_version": "1.2.0",
            "_view_name": "LayoutView",
            "align_content": null,
            "align_items": null,
            "align_self": null,
            "border": null,
            "bottom": null,
            "display": null,
            "flex": null,
            "flex_flow": null,
            "grid_area": null,
            "grid_auto_columns": null,
            "grid_auto_flow": null,
            "grid_auto_rows": null,
            "grid_column": null,
            "grid_gap": null,
            "grid_row": null,
            "grid_template_areas": null,
            "grid_template_columns": null,
            "grid_template_rows": null,
            "height": null,
            "justify_content": null,
            "justify_items": null,
            "left": null,
            "margin": null,
            "max_height": null,
            "max_width": null,
            "min_height": null,
            "min_width": null,
            "object_fit": null,
            "object_position": null,
            "order": null,
            "overflow": null,
            "overflow_x": null,
            "overflow_y": null,
            "padding": null,
            "right": null,
            "top": null,
            "visibility": null,
            "width": null
          }
        },
        "9568affe25b140899c2340481ce65aa3": {
          "model_module": "@jupyter-widgets/controls",
          "model_name": "ProgressStyleModel",
          "model_module_version": "1.5.0",
          "state": {
            "_model_module": "@jupyter-widgets/controls",
            "_model_module_version": "1.5.0",
            "_model_name": "ProgressStyleModel",
            "_view_count": null,
            "_view_module": "@jupyter-widgets/base",
            "_view_module_version": "1.2.0",
            "_view_name": "StyleView",
            "bar_color": null,
            "description_width": ""
          }
        },
        "a897cdcdb7d840d0a420bd96eb98db26": {
          "model_module": "@jupyter-widgets/base",
          "model_name": "LayoutModel",
          "model_module_version": "1.2.0",
          "state": {
            "_model_module": "@jupyter-widgets/base",
            "_model_module_version": "1.2.0",
            "_model_name": "LayoutModel",
            "_view_count": null,
            "_view_module": "@jupyter-widgets/base",
            "_view_module_version": "1.2.0",
            "_view_name": "LayoutView",
            "align_content": null,
            "align_items": null,
            "align_self": null,
            "border": null,
            "bottom": null,
            "display": null,
            "flex": null,
            "flex_flow": null,
            "grid_area": null,
            "grid_auto_columns": null,
            "grid_auto_flow": null,
            "grid_auto_rows": null,
            "grid_column": null,
            "grid_gap": null,
            "grid_row": null,
            "grid_template_areas": null,
            "grid_template_columns": null,
            "grid_template_rows": null,
            "height": null,
            "justify_content": null,
            "justify_items": null,
            "left": null,
            "margin": null,
            "max_height": null,
            "max_width": null,
            "min_height": null,
            "min_width": null,
            "object_fit": null,
            "object_position": null,
            "order": null,
            "overflow": null,
            "overflow_x": null,
            "overflow_y": null,
            "padding": null,
            "right": null,
            "top": null,
            "visibility": null,
            "width": null
          }
        },
        "784a02ee982f44a7ada6dc9216222b17": {
          "model_module": "@jupyter-widgets/controls",
          "model_name": "DescriptionStyleModel",
          "model_module_version": "1.5.0",
          "state": {
            "_model_module": "@jupyter-widgets/controls",
            "_model_module_version": "1.5.0",
            "_model_name": "DescriptionStyleModel",
            "_view_count": null,
            "_view_module": "@jupyter-widgets/base",
            "_view_module_version": "1.2.0",
            "_view_name": "StyleView",
            "description_width": ""
          }
        },
        "074fcddfa2dd4751961ba956cdf7cdaf": {
          "model_module": "@jupyter-widgets/controls",
          "model_name": "HBoxModel",
          "model_module_version": "1.5.0",
          "state": {
            "_dom_classes": [],
            "_model_module": "@jupyter-widgets/controls",
            "_model_module_version": "1.5.0",
            "_model_name": "HBoxModel",
            "_view_count": null,
            "_view_module": "@jupyter-widgets/controls",
            "_view_module_version": "1.5.0",
            "_view_name": "HBoxView",
            "box_style": "",
            "children": [
              "IPY_MODEL_8fc630f5c6dd4f68898929bbeb22c2c9",
              "IPY_MODEL_20b45c2a017141309c6b3ba81d7cf280",
              "IPY_MODEL_d2c0c32793ec41ef97b38cb40cd3e8a0"
            ],
            "layout": "IPY_MODEL_4118ed2efc5545ab9877e243e775fe4b"
          }
        },
        "8fc630f5c6dd4f68898929bbeb22c2c9": {
          "model_module": "@jupyter-widgets/controls",
          "model_name": "HTMLModel",
          "model_module_version": "1.5.0",
          "state": {
            "_dom_classes": [],
            "_model_module": "@jupyter-widgets/controls",
            "_model_module_version": "1.5.0",
            "_model_name": "HTMLModel",
            "_view_count": null,
            "_view_module": "@jupyter-widgets/controls",
            "_view_module_version": "1.5.0",
            "_view_name": "HTMLView",
            "description": "",
            "description_tooltip": null,
            "layout": "IPY_MODEL_c80316880ff34334a365a0ca36fd6dd6",
            "placeholder": "​",
            "style": "IPY_MODEL_af3e16062b43444190c591e499180f40",
            "value": "100%"
          }
        },
        "20b45c2a017141309c6b3ba81d7cf280": {
          "model_module": "@jupyter-widgets/controls",
          "model_name": "FloatProgressModel",
          "model_module_version": "1.5.0",
          "state": {
            "_dom_classes": [],
            "_model_module": "@jupyter-widgets/controls",
            "_model_module_version": "1.5.0",
            "_model_name": "FloatProgressModel",
            "_view_count": null,
            "_view_module": "@jupyter-widgets/controls",
            "_view_module_version": "1.5.0",
            "_view_name": "ProgressView",
            "bar_style": "success",
            "description": "",
            "description_tooltip": null,
            "layout": "IPY_MODEL_6c4981cdd17a4a55ae5e3998ba715d9f",
            "max": 757,
            "min": 0,
            "orientation": "horizontal",
            "style": "IPY_MODEL_0f0c8cbe72ef4f8eb83cb3ace02b8812",
            "value": 757
          }
        },
        "d2c0c32793ec41ef97b38cb40cd3e8a0": {
          "model_module": "@jupyter-widgets/controls",
          "model_name": "HTMLModel",
          "model_module_version": "1.5.0",
          "state": {
            "_dom_classes": [],
            "_model_module": "@jupyter-widgets/controls",
            "_model_module_version": "1.5.0",
            "_model_name": "HTMLModel",
            "_view_count": null,
            "_view_module": "@jupyter-widgets/controls",
            "_view_module_version": "1.5.0",
            "_view_name": "HTMLView",
            "description": "",
            "description_tooltip": null,
            "layout": "IPY_MODEL_92ffe944b9a84d27a32f99350252411f",
            "placeholder": "​",
            "style": "IPY_MODEL_8400386fce9d48fda9a60134ad279ce8",
            "value": " 757/757 [00:07&lt;00:00, 108.83it/s]"
          }
        },
        "4118ed2efc5545ab9877e243e775fe4b": {
          "model_module": "@jupyter-widgets/base",
          "model_name": "LayoutModel",
          "model_module_version": "1.2.0",
          "state": {
            "_model_module": "@jupyter-widgets/base",
            "_model_module_version": "1.2.0",
            "_model_name": "LayoutModel",
            "_view_count": null,
            "_view_module": "@jupyter-widgets/base",
            "_view_module_version": "1.2.0",
            "_view_name": "LayoutView",
            "align_content": null,
            "align_items": null,
            "align_self": null,
            "border": null,
            "bottom": null,
            "display": null,
            "flex": null,
            "flex_flow": null,
            "grid_area": null,
            "grid_auto_columns": null,
            "grid_auto_flow": null,
            "grid_auto_rows": null,
            "grid_column": null,
            "grid_gap": null,
            "grid_row": null,
            "grid_template_areas": null,
            "grid_template_columns": null,
            "grid_template_rows": null,
            "height": null,
            "justify_content": null,
            "justify_items": null,
            "left": null,
            "margin": null,
            "max_height": null,
            "max_width": null,
            "min_height": null,
            "min_width": null,
            "object_fit": null,
            "object_position": null,
            "order": null,
            "overflow": null,
            "overflow_x": null,
            "overflow_y": null,
            "padding": null,
            "right": null,
            "top": null,
            "visibility": null,
            "width": null
          }
        },
        "c80316880ff34334a365a0ca36fd6dd6": {
          "model_module": "@jupyter-widgets/base",
          "model_name": "LayoutModel",
          "model_module_version": "1.2.0",
          "state": {
            "_model_module": "@jupyter-widgets/base",
            "_model_module_version": "1.2.0",
            "_model_name": "LayoutModel",
            "_view_count": null,
            "_view_module": "@jupyter-widgets/base",
            "_view_module_version": "1.2.0",
            "_view_name": "LayoutView",
            "align_content": null,
            "align_items": null,
            "align_self": null,
            "border": null,
            "bottom": null,
            "display": null,
            "flex": null,
            "flex_flow": null,
            "grid_area": null,
            "grid_auto_columns": null,
            "grid_auto_flow": null,
            "grid_auto_rows": null,
            "grid_column": null,
            "grid_gap": null,
            "grid_row": null,
            "grid_template_areas": null,
            "grid_template_columns": null,
            "grid_template_rows": null,
            "height": null,
            "justify_content": null,
            "justify_items": null,
            "left": null,
            "margin": null,
            "max_height": null,
            "max_width": null,
            "min_height": null,
            "min_width": null,
            "object_fit": null,
            "object_position": null,
            "order": null,
            "overflow": null,
            "overflow_x": null,
            "overflow_y": null,
            "padding": null,
            "right": null,
            "top": null,
            "visibility": null,
            "width": null
          }
        },
        "af3e16062b43444190c591e499180f40": {
          "model_module": "@jupyter-widgets/controls",
          "model_name": "DescriptionStyleModel",
          "model_module_version": "1.5.0",
          "state": {
            "_model_module": "@jupyter-widgets/controls",
            "_model_module_version": "1.5.0",
            "_model_name": "DescriptionStyleModel",
            "_view_count": null,
            "_view_module": "@jupyter-widgets/base",
            "_view_module_version": "1.2.0",
            "_view_name": "StyleView",
            "description_width": ""
          }
        },
        "6c4981cdd17a4a55ae5e3998ba715d9f": {
          "model_module": "@jupyter-widgets/base",
          "model_name": "LayoutModel",
          "model_module_version": "1.2.0",
          "state": {
            "_model_module": "@jupyter-widgets/base",
            "_model_module_version": "1.2.0",
            "_model_name": "LayoutModel",
            "_view_count": null,
            "_view_module": "@jupyter-widgets/base",
            "_view_module_version": "1.2.0",
            "_view_name": "LayoutView",
            "align_content": null,
            "align_items": null,
            "align_self": null,
            "border": null,
            "bottom": null,
            "display": null,
            "flex": null,
            "flex_flow": null,
            "grid_area": null,
            "grid_auto_columns": null,
            "grid_auto_flow": null,
            "grid_auto_rows": null,
            "grid_column": null,
            "grid_gap": null,
            "grid_row": null,
            "grid_template_areas": null,
            "grid_template_columns": null,
            "grid_template_rows": null,
            "height": null,
            "justify_content": null,
            "justify_items": null,
            "left": null,
            "margin": null,
            "max_height": null,
            "max_width": null,
            "min_height": null,
            "min_width": null,
            "object_fit": null,
            "object_position": null,
            "order": null,
            "overflow": null,
            "overflow_x": null,
            "overflow_y": null,
            "padding": null,
            "right": null,
            "top": null,
            "visibility": null,
            "width": null
          }
        },
        "0f0c8cbe72ef4f8eb83cb3ace02b8812": {
          "model_module": "@jupyter-widgets/controls",
          "model_name": "ProgressStyleModel",
          "model_module_version": "1.5.0",
          "state": {
            "_model_module": "@jupyter-widgets/controls",
            "_model_module_version": "1.5.0",
            "_model_name": "ProgressStyleModel",
            "_view_count": null,
            "_view_module": "@jupyter-widgets/base",
            "_view_module_version": "1.2.0",
            "_view_name": "StyleView",
            "bar_color": null,
            "description_width": ""
          }
        },
        "92ffe944b9a84d27a32f99350252411f": {
          "model_module": "@jupyter-widgets/base",
          "model_name": "LayoutModel",
          "model_module_version": "1.2.0",
          "state": {
            "_model_module": "@jupyter-widgets/base",
            "_model_module_version": "1.2.0",
            "_model_name": "LayoutModel",
            "_view_count": null,
            "_view_module": "@jupyter-widgets/base",
            "_view_module_version": "1.2.0",
            "_view_name": "LayoutView",
            "align_content": null,
            "align_items": null,
            "align_self": null,
            "border": null,
            "bottom": null,
            "display": null,
            "flex": null,
            "flex_flow": null,
            "grid_area": null,
            "grid_auto_columns": null,
            "grid_auto_flow": null,
            "grid_auto_rows": null,
            "grid_column": null,
            "grid_gap": null,
            "grid_row": null,
            "grid_template_areas": null,
            "grid_template_columns": null,
            "grid_template_rows": null,
            "height": null,
            "justify_content": null,
            "justify_items": null,
            "left": null,
            "margin": null,
            "max_height": null,
            "max_width": null,
            "min_height": null,
            "min_width": null,
            "object_fit": null,
            "object_position": null,
            "order": null,
            "overflow": null,
            "overflow_x": null,
            "overflow_y": null,
            "padding": null,
            "right": null,
            "top": null,
            "visibility": null,
            "width": null
          }
        },
        "8400386fce9d48fda9a60134ad279ce8": {
          "model_module": "@jupyter-widgets/controls",
          "model_name": "DescriptionStyleModel",
          "model_module_version": "1.5.0",
          "state": {
            "_model_module": "@jupyter-widgets/controls",
            "_model_module_version": "1.5.0",
            "_model_name": "DescriptionStyleModel",
            "_view_count": null,
            "_view_module": "@jupyter-widgets/base",
            "_view_module_version": "1.2.0",
            "_view_name": "StyleView",
            "description_width": ""
          }
        },
        "7c6e9039d3a04595a55ccc3b73095ad9": {
          "model_module": "@jupyter-widgets/controls",
          "model_name": "HBoxModel",
          "model_module_version": "1.5.0",
          "state": {
            "_dom_classes": [],
            "_model_module": "@jupyter-widgets/controls",
            "_model_module_version": "1.5.0",
            "_model_name": "HBoxModel",
            "_view_count": null,
            "_view_module": "@jupyter-widgets/controls",
            "_view_module_version": "1.5.0",
            "_view_name": "HBoxView",
            "box_style": "",
            "children": [
              "IPY_MODEL_1e9e8d1471504f57bc84218e0255b5b8",
              "IPY_MODEL_50b37f2f09fa4d96a6e9d4bdc27bcf97",
              "IPY_MODEL_0a6724b425b046b88bbdee93bed9fcb3"
            ],
            "layout": "IPY_MODEL_719a4b5ec4644cc883190eb1980d5346"
          }
        },
        "1e9e8d1471504f57bc84218e0255b5b8": {
          "model_module": "@jupyter-widgets/controls",
          "model_name": "HTMLModel",
          "model_module_version": "1.5.0",
          "state": {
            "_dom_classes": [],
            "_model_module": "@jupyter-widgets/controls",
            "_model_module_version": "1.5.0",
            "_model_name": "HTMLModel",
            "_view_count": null,
            "_view_module": "@jupyter-widgets/controls",
            "_view_module_version": "1.5.0",
            "_view_name": "HTMLView",
            "description": "",
            "description_tooltip": null,
            "layout": "IPY_MODEL_08f26845701c4c7e980a46288a502d84",
            "placeholder": "​",
            "style": "IPY_MODEL_ad8654c4c4ef4faab3234b81ae1bf754",
            "value": "100%"
          }
        },
        "50b37f2f09fa4d96a6e9d4bdc27bcf97": {
          "model_module": "@jupyter-widgets/controls",
          "model_name": "FloatProgressModel",
          "model_module_version": "1.5.0",
          "state": {
            "_dom_classes": [],
            "_model_module": "@jupyter-widgets/controls",
            "_model_module_version": "1.5.0",
            "_model_name": "FloatProgressModel",
            "_view_count": null,
            "_view_module": "@jupyter-widgets/controls",
            "_view_module_version": "1.5.0",
            "_view_name": "ProgressView",
            "bar_style": "success",
            "description": "",
            "description_tooltip": null,
            "layout": "IPY_MODEL_f88df4063afc4491801e9b2ab1784d73",
            "max": 757,
            "min": 0,
            "orientation": "horizontal",
            "style": "IPY_MODEL_933aeabd2caa42738c05bd539d3835a8",
            "value": 757
          }
        },
        "0a6724b425b046b88bbdee93bed9fcb3": {
          "model_module": "@jupyter-widgets/controls",
          "model_name": "HTMLModel",
          "model_module_version": "1.5.0",
          "state": {
            "_dom_classes": [],
            "_model_module": "@jupyter-widgets/controls",
            "_model_module_version": "1.5.0",
            "_model_name": "HTMLModel",
            "_view_count": null,
            "_view_module": "@jupyter-widgets/controls",
            "_view_module_version": "1.5.0",
            "_view_name": "HTMLView",
            "description": "",
            "description_tooltip": null,
            "layout": "IPY_MODEL_92ccd130a5b449efb0b0d08931c5307e",
            "placeholder": "​",
            "style": "IPY_MODEL_1da4c3ccb4a04a828101ff8209a47ddf",
            "value": " 757/757 [00:07&lt;00:00, 77.98it/s]"
          }
        },
        "719a4b5ec4644cc883190eb1980d5346": {
          "model_module": "@jupyter-widgets/base",
          "model_name": "LayoutModel",
          "model_module_version": "1.2.0",
          "state": {
            "_model_module": "@jupyter-widgets/base",
            "_model_module_version": "1.2.0",
            "_model_name": "LayoutModel",
            "_view_count": null,
            "_view_module": "@jupyter-widgets/base",
            "_view_module_version": "1.2.0",
            "_view_name": "LayoutView",
            "align_content": null,
            "align_items": null,
            "align_self": null,
            "border": null,
            "bottom": null,
            "display": null,
            "flex": null,
            "flex_flow": null,
            "grid_area": null,
            "grid_auto_columns": null,
            "grid_auto_flow": null,
            "grid_auto_rows": null,
            "grid_column": null,
            "grid_gap": null,
            "grid_row": null,
            "grid_template_areas": null,
            "grid_template_columns": null,
            "grid_template_rows": null,
            "height": null,
            "justify_content": null,
            "justify_items": null,
            "left": null,
            "margin": null,
            "max_height": null,
            "max_width": null,
            "min_height": null,
            "min_width": null,
            "object_fit": null,
            "object_position": null,
            "order": null,
            "overflow": null,
            "overflow_x": null,
            "overflow_y": null,
            "padding": null,
            "right": null,
            "top": null,
            "visibility": null,
            "width": null
          }
        },
        "08f26845701c4c7e980a46288a502d84": {
          "model_module": "@jupyter-widgets/base",
          "model_name": "LayoutModel",
          "model_module_version": "1.2.0",
          "state": {
            "_model_module": "@jupyter-widgets/base",
            "_model_module_version": "1.2.0",
            "_model_name": "LayoutModel",
            "_view_count": null,
            "_view_module": "@jupyter-widgets/base",
            "_view_module_version": "1.2.0",
            "_view_name": "LayoutView",
            "align_content": null,
            "align_items": null,
            "align_self": null,
            "border": null,
            "bottom": null,
            "display": null,
            "flex": null,
            "flex_flow": null,
            "grid_area": null,
            "grid_auto_columns": null,
            "grid_auto_flow": null,
            "grid_auto_rows": null,
            "grid_column": null,
            "grid_gap": null,
            "grid_row": null,
            "grid_template_areas": null,
            "grid_template_columns": null,
            "grid_template_rows": null,
            "height": null,
            "justify_content": null,
            "justify_items": null,
            "left": null,
            "margin": null,
            "max_height": null,
            "max_width": null,
            "min_height": null,
            "min_width": null,
            "object_fit": null,
            "object_position": null,
            "order": null,
            "overflow": null,
            "overflow_x": null,
            "overflow_y": null,
            "padding": null,
            "right": null,
            "top": null,
            "visibility": null,
            "width": null
          }
        },
        "ad8654c4c4ef4faab3234b81ae1bf754": {
          "model_module": "@jupyter-widgets/controls",
          "model_name": "DescriptionStyleModel",
          "model_module_version": "1.5.0",
          "state": {
            "_model_module": "@jupyter-widgets/controls",
            "_model_module_version": "1.5.0",
            "_model_name": "DescriptionStyleModel",
            "_view_count": null,
            "_view_module": "@jupyter-widgets/base",
            "_view_module_version": "1.2.0",
            "_view_name": "StyleView",
            "description_width": ""
          }
        },
        "f88df4063afc4491801e9b2ab1784d73": {
          "model_module": "@jupyter-widgets/base",
          "model_name": "LayoutModel",
          "model_module_version": "1.2.0",
          "state": {
            "_model_module": "@jupyter-widgets/base",
            "_model_module_version": "1.2.0",
            "_model_name": "LayoutModel",
            "_view_count": null,
            "_view_module": "@jupyter-widgets/base",
            "_view_module_version": "1.2.0",
            "_view_name": "LayoutView",
            "align_content": null,
            "align_items": null,
            "align_self": null,
            "border": null,
            "bottom": null,
            "display": null,
            "flex": null,
            "flex_flow": null,
            "grid_area": null,
            "grid_auto_columns": null,
            "grid_auto_flow": null,
            "grid_auto_rows": null,
            "grid_column": null,
            "grid_gap": null,
            "grid_row": null,
            "grid_template_areas": null,
            "grid_template_columns": null,
            "grid_template_rows": null,
            "height": null,
            "justify_content": null,
            "justify_items": null,
            "left": null,
            "margin": null,
            "max_height": null,
            "max_width": null,
            "min_height": null,
            "min_width": null,
            "object_fit": null,
            "object_position": null,
            "order": null,
            "overflow": null,
            "overflow_x": null,
            "overflow_y": null,
            "padding": null,
            "right": null,
            "top": null,
            "visibility": null,
            "width": null
          }
        },
        "933aeabd2caa42738c05bd539d3835a8": {
          "model_module": "@jupyter-widgets/controls",
          "model_name": "ProgressStyleModel",
          "model_module_version": "1.5.0",
          "state": {
            "_model_module": "@jupyter-widgets/controls",
            "_model_module_version": "1.5.0",
            "_model_name": "ProgressStyleModel",
            "_view_count": null,
            "_view_module": "@jupyter-widgets/base",
            "_view_module_version": "1.2.0",
            "_view_name": "StyleView",
            "bar_color": null,
            "description_width": ""
          }
        },
        "92ccd130a5b449efb0b0d08931c5307e": {
          "model_module": "@jupyter-widgets/base",
          "model_name": "LayoutModel",
          "model_module_version": "1.2.0",
          "state": {
            "_model_module": "@jupyter-widgets/base",
            "_model_module_version": "1.2.0",
            "_model_name": "LayoutModel",
            "_view_count": null,
            "_view_module": "@jupyter-widgets/base",
            "_view_module_version": "1.2.0",
            "_view_name": "LayoutView",
            "align_content": null,
            "align_items": null,
            "align_self": null,
            "border": null,
            "bottom": null,
            "display": null,
            "flex": null,
            "flex_flow": null,
            "grid_area": null,
            "grid_auto_columns": null,
            "grid_auto_flow": null,
            "grid_auto_rows": null,
            "grid_column": null,
            "grid_gap": null,
            "grid_row": null,
            "grid_template_areas": null,
            "grid_template_columns": null,
            "grid_template_rows": null,
            "height": null,
            "justify_content": null,
            "justify_items": null,
            "left": null,
            "margin": null,
            "max_height": null,
            "max_width": null,
            "min_height": null,
            "min_width": null,
            "object_fit": null,
            "object_position": null,
            "order": null,
            "overflow": null,
            "overflow_x": null,
            "overflow_y": null,
            "padding": null,
            "right": null,
            "top": null,
            "visibility": null,
            "width": null
          }
        },
        "1da4c3ccb4a04a828101ff8209a47ddf": {
          "model_module": "@jupyter-widgets/controls",
          "model_name": "DescriptionStyleModel",
          "model_module_version": "1.5.0",
          "state": {
            "_model_module": "@jupyter-widgets/controls",
            "_model_module_version": "1.5.0",
            "_model_name": "DescriptionStyleModel",
            "_view_count": null,
            "_view_module": "@jupyter-widgets/base",
            "_view_module_version": "1.2.0",
            "_view_name": "StyleView",
            "description_width": ""
          }
        },
        "7ba83015e08940b48bbb0d6ad81b9e94": {
          "model_module": "@jupyter-widgets/controls",
          "model_name": "HBoxModel",
          "model_module_version": "1.5.0",
          "state": {
            "_dom_classes": [],
            "_model_module": "@jupyter-widgets/controls",
            "_model_module_version": "1.5.0",
            "_model_name": "HBoxModel",
            "_view_count": null,
            "_view_module": "@jupyter-widgets/controls",
            "_view_module_version": "1.5.0",
            "_view_name": "HBoxView",
            "box_style": "",
            "children": [
              "IPY_MODEL_783ea65fced14b0ab09ca2b87a07bd6a",
              "IPY_MODEL_5f184e49d9224786bec63e152750c74c",
              "IPY_MODEL_fde7edc201804e9ab78685d7bd08d5e8"
            ],
            "layout": "IPY_MODEL_90f4a81b5e5e4742b130e37ad08fee8a"
          }
        },
        "783ea65fced14b0ab09ca2b87a07bd6a": {
          "model_module": "@jupyter-widgets/controls",
          "model_name": "HTMLModel",
          "model_module_version": "1.5.0",
          "state": {
            "_dom_classes": [],
            "_model_module": "@jupyter-widgets/controls",
            "_model_module_version": "1.5.0",
            "_model_name": "HTMLModel",
            "_view_count": null,
            "_view_module": "@jupyter-widgets/controls",
            "_view_module_version": "1.5.0",
            "_view_name": "HTMLView",
            "description": "",
            "description_tooltip": null,
            "layout": "IPY_MODEL_faa93785e78b47bca8bf9f9843f01bc9",
            "placeholder": "​",
            "style": "IPY_MODEL_64b4c3a284734017833c800fa2632c67",
            "value": "100%"
          }
        },
        "5f184e49d9224786bec63e152750c74c": {
          "model_module": "@jupyter-widgets/controls",
          "model_name": "FloatProgressModel",
          "model_module_version": "1.5.0",
          "state": {
            "_dom_classes": [],
            "_model_module": "@jupyter-widgets/controls",
            "_model_module_version": "1.5.0",
            "_model_name": "FloatProgressModel",
            "_view_count": null,
            "_view_module": "@jupyter-widgets/controls",
            "_view_module_version": "1.5.0",
            "_view_name": "ProgressView",
            "bar_style": "success",
            "description": "",
            "description_tooltip": null,
            "layout": "IPY_MODEL_3ac43d4afd5d4ac79eb5fc10c6e4eb61",
            "max": 757,
            "min": 0,
            "orientation": "horizontal",
            "style": "IPY_MODEL_1a1b70fd9ed747f4ae09aa481905c2e5",
            "value": 757
          }
        },
        "fde7edc201804e9ab78685d7bd08d5e8": {
          "model_module": "@jupyter-widgets/controls",
          "model_name": "HTMLModel",
          "model_module_version": "1.5.0",
          "state": {
            "_dom_classes": [],
            "_model_module": "@jupyter-widgets/controls",
            "_model_module_version": "1.5.0",
            "_model_name": "HTMLModel",
            "_view_count": null,
            "_view_module": "@jupyter-widgets/controls",
            "_view_module_version": "1.5.0",
            "_view_name": "HTMLView",
            "description": "",
            "description_tooltip": null,
            "layout": "IPY_MODEL_ac66df136501481595a5de5200a492b4",
            "placeholder": "​",
            "style": "IPY_MODEL_54c58f9acea04748beda80b5c73dce1e",
            "value": " 757/757 [00:07&lt;00:00, 114.60it/s]"
          }
        },
        "90f4a81b5e5e4742b130e37ad08fee8a": {
          "model_module": "@jupyter-widgets/base",
          "model_name": "LayoutModel",
          "model_module_version": "1.2.0",
          "state": {
            "_model_module": "@jupyter-widgets/base",
            "_model_module_version": "1.2.0",
            "_model_name": "LayoutModel",
            "_view_count": null,
            "_view_module": "@jupyter-widgets/base",
            "_view_module_version": "1.2.0",
            "_view_name": "LayoutView",
            "align_content": null,
            "align_items": null,
            "align_self": null,
            "border": null,
            "bottom": null,
            "display": null,
            "flex": null,
            "flex_flow": null,
            "grid_area": null,
            "grid_auto_columns": null,
            "grid_auto_flow": null,
            "grid_auto_rows": null,
            "grid_column": null,
            "grid_gap": null,
            "grid_row": null,
            "grid_template_areas": null,
            "grid_template_columns": null,
            "grid_template_rows": null,
            "height": null,
            "justify_content": null,
            "justify_items": null,
            "left": null,
            "margin": null,
            "max_height": null,
            "max_width": null,
            "min_height": null,
            "min_width": null,
            "object_fit": null,
            "object_position": null,
            "order": null,
            "overflow": null,
            "overflow_x": null,
            "overflow_y": null,
            "padding": null,
            "right": null,
            "top": null,
            "visibility": null,
            "width": null
          }
        },
        "faa93785e78b47bca8bf9f9843f01bc9": {
          "model_module": "@jupyter-widgets/base",
          "model_name": "LayoutModel",
          "model_module_version": "1.2.0",
          "state": {
            "_model_module": "@jupyter-widgets/base",
            "_model_module_version": "1.2.0",
            "_model_name": "LayoutModel",
            "_view_count": null,
            "_view_module": "@jupyter-widgets/base",
            "_view_module_version": "1.2.0",
            "_view_name": "LayoutView",
            "align_content": null,
            "align_items": null,
            "align_self": null,
            "border": null,
            "bottom": null,
            "display": null,
            "flex": null,
            "flex_flow": null,
            "grid_area": null,
            "grid_auto_columns": null,
            "grid_auto_flow": null,
            "grid_auto_rows": null,
            "grid_column": null,
            "grid_gap": null,
            "grid_row": null,
            "grid_template_areas": null,
            "grid_template_columns": null,
            "grid_template_rows": null,
            "height": null,
            "justify_content": null,
            "justify_items": null,
            "left": null,
            "margin": null,
            "max_height": null,
            "max_width": null,
            "min_height": null,
            "min_width": null,
            "object_fit": null,
            "object_position": null,
            "order": null,
            "overflow": null,
            "overflow_x": null,
            "overflow_y": null,
            "padding": null,
            "right": null,
            "top": null,
            "visibility": null,
            "width": null
          }
        },
        "64b4c3a284734017833c800fa2632c67": {
          "model_module": "@jupyter-widgets/controls",
          "model_name": "DescriptionStyleModel",
          "model_module_version": "1.5.0",
          "state": {
            "_model_module": "@jupyter-widgets/controls",
            "_model_module_version": "1.5.0",
            "_model_name": "DescriptionStyleModel",
            "_view_count": null,
            "_view_module": "@jupyter-widgets/base",
            "_view_module_version": "1.2.0",
            "_view_name": "StyleView",
            "description_width": ""
          }
        },
        "3ac43d4afd5d4ac79eb5fc10c6e4eb61": {
          "model_module": "@jupyter-widgets/base",
          "model_name": "LayoutModel",
          "model_module_version": "1.2.0",
          "state": {
            "_model_module": "@jupyter-widgets/base",
            "_model_module_version": "1.2.0",
            "_model_name": "LayoutModel",
            "_view_count": null,
            "_view_module": "@jupyter-widgets/base",
            "_view_module_version": "1.2.0",
            "_view_name": "LayoutView",
            "align_content": null,
            "align_items": null,
            "align_self": null,
            "border": null,
            "bottom": null,
            "display": null,
            "flex": null,
            "flex_flow": null,
            "grid_area": null,
            "grid_auto_columns": null,
            "grid_auto_flow": null,
            "grid_auto_rows": null,
            "grid_column": null,
            "grid_gap": null,
            "grid_row": null,
            "grid_template_areas": null,
            "grid_template_columns": null,
            "grid_template_rows": null,
            "height": null,
            "justify_content": null,
            "justify_items": null,
            "left": null,
            "margin": null,
            "max_height": null,
            "max_width": null,
            "min_height": null,
            "min_width": null,
            "object_fit": null,
            "object_position": null,
            "order": null,
            "overflow": null,
            "overflow_x": null,
            "overflow_y": null,
            "padding": null,
            "right": null,
            "top": null,
            "visibility": null,
            "width": null
          }
        },
        "1a1b70fd9ed747f4ae09aa481905c2e5": {
          "model_module": "@jupyter-widgets/controls",
          "model_name": "ProgressStyleModel",
          "model_module_version": "1.5.0",
          "state": {
            "_model_module": "@jupyter-widgets/controls",
            "_model_module_version": "1.5.0",
            "_model_name": "ProgressStyleModel",
            "_view_count": null,
            "_view_module": "@jupyter-widgets/base",
            "_view_module_version": "1.2.0",
            "_view_name": "StyleView",
            "bar_color": null,
            "description_width": ""
          }
        },
        "ac66df136501481595a5de5200a492b4": {
          "model_module": "@jupyter-widgets/base",
          "model_name": "LayoutModel",
          "model_module_version": "1.2.0",
          "state": {
            "_model_module": "@jupyter-widgets/base",
            "_model_module_version": "1.2.0",
            "_model_name": "LayoutModel",
            "_view_count": null,
            "_view_module": "@jupyter-widgets/base",
            "_view_module_version": "1.2.0",
            "_view_name": "LayoutView",
            "align_content": null,
            "align_items": null,
            "align_self": null,
            "border": null,
            "bottom": null,
            "display": null,
            "flex": null,
            "flex_flow": null,
            "grid_area": null,
            "grid_auto_columns": null,
            "grid_auto_flow": null,
            "grid_auto_rows": null,
            "grid_column": null,
            "grid_gap": null,
            "grid_row": null,
            "grid_template_areas": null,
            "grid_template_columns": null,
            "grid_template_rows": null,
            "height": null,
            "justify_content": null,
            "justify_items": null,
            "left": null,
            "margin": null,
            "max_height": null,
            "max_width": null,
            "min_height": null,
            "min_width": null,
            "object_fit": null,
            "object_position": null,
            "order": null,
            "overflow": null,
            "overflow_x": null,
            "overflow_y": null,
            "padding": null,
            "right": null,
            "top": null,
            "visibility": null,
            "width": null
          }
        },
        "54c58f9acea04748beda80b5c73dce1e": {
          "model_module": "@jupyter-widgets/controls",
          "model_name": "DescriptionStyleModel",
          "model_module_version": "1.5.0",
          "state": {
            "_model_module": "@jupyter-widgets/controls",
            "_model_module_version": "1.5.0",
            "_model_name": "DescriptionStyleModel",
            "_view_count": null,
            "_view_module": "@jupyter-widgets/base",
            "_view_module_version": "1.2.0",
            "_view_name": "StyleView",
            "description_width": ""
          }
        },
        "c904e749d0ee4c6c9edee71ab0b0615c": {
          "model_module": "@jupyter-widgets/controls",
          "model_name": "HBoxModel",
          "model_module_version": "1.5.0",
          "state": {
            "_dom_classes": [],
            "_model_module": "@jupyter-widgets/controls",
            "_model_module_version": "1.5.0",
            "_model_name": "HBoxModel",
            "_view_count": null,
            "_view_module": "@jupyter-widgets/controls",
            "_view_module_version": "1.5.0",
            "_view_name": "HBoxView",
            "box_style": "",
            "children": [
              "IPY_MODEL_03500a17f75340908415f477f3d26d8f",
              "IPY_MODEL_7c0b353abcf64439b841cbb4cadc4cca",
              "IPY_MODEL_6cdade77f36c4de59ba1f796fd38cbfa"
            ],
            "layout": "IPY_MODEL_b58403b2590947178fa467f51d4bab3a"
          }
        },
        "03500a17f75340908415f477f3d26d8f": {
          "model_module": "@jupyter-widgets/controls",
          "model_name": "HTMLModel",
          "model_module_version": "1.5.0",
          "state": {
            "_dom_classes": [],
            "_model_module": "@jupyter-widgets/controls",
            "_model_module_version": "1.5.0",
            "_model_name": "HTMLModel",
            "_view_count": null,
            "_view_module": "@jupyter-widgets/controls",
            "_view_module_version": "1.5.0",
            "_view_name": "HTMLView",
            "description": "",
            "description_tooltip": null,
            "layout": "IPY_MODEL_ce1dd9460916495187be16648425608a",
            "placeholder": "​",
            "style": "IPY_MODEL_ec45b79734ca46ee9d2fc8cfe42f1a3f",
            "value": "100%"
          }
        },
        "7c0b353abcf64439b841cbb4cadc4cca": {
          "model_module": "@jupyter-widgets/controls",
          "model_name": "FloatProgressModel",
          "model_module_version": "1.5.0",
          "state": {
            "_dom_classes": [],
            "_model_module": "@jupyter-widgets/controls",
            "_model_module_version": "1.5.0",
            "_model_name": "FloatProgressModel",
            "_view_count": null,
            "_view_module": "@jupyter-widgets/controls",
            "_view_module_version": "1.5.0",
            "_view_name": "ProgressView",
            "bar_style": "success",
            "description": "",
            "description_tooltip": null,
            "layout": "IPY_MODEL_25547759de034ca580121d3191a9f187",
            "max": 757,
            "min": 0,
            "orientation": "horizontal",
            "style": "IPY_MODEL_467edc387f254b71815698a0c409392d",
            "value": 757
          }
        },
        "6cdade77f36c4de59ba1f796fd38cbfa": {
          "model_module": "@jupyter-widgets/controls",
          "model_name": "HTMLModel",
          "model_module_version": "1.5.0",
          "state": {
            "_dom_classes": [],
            "_model_module": "@jupyter-widgets/controls",
            "_model_module_version": "1.5.0",
            "_model_name": "HTMLModel",
            "_view_count": null,
            "_view_module": "@jupyter-widgets/controls",
            "_view_module_version": "1.5.0",
            "_view_name": "HTMLView",
            "description": "",
            "description_tooltip": null,
            "layout": "IPY_MODEL_21c18b6d0fe941659e8a61061da30f55",
            "placeholder": "​",
            "style": "IPY_MODEL_0dec70f7689e4a3c96aecb24c540b2ff",
            "value": " 757/757 [00:07&lt;00:00, 97.35it/s]"
          }
        },
        "b58403b2590947178fa467f51d4bab3a": {
          "model_module": "@jupyter-widgets/base",
          "model_name": "LayoutModel",
          "model_module_version": "1.2.0",
          "state": {
            "_model_module": "@jupyter-widgets/base",
            "_model_module_version": "1.2.0",
            "_model_name": "LayoutModel",
            "_view_count": null,
            "_view_module": "@jupyter-widgets/base",
            "_view_module_version": "1.2.0",
            "_view_name": "LayoutView",
            "align_content": null,
            "align_items": null,
            "align_self": null,
            "border": null,
            "bottom": null,
            "display": null,
            "flex": null,
            "flex_flow": null,
            "grid_area": null,
            "grid_auto_columns": null,
            "grid_auto_flow": null,
            "grid_auto_rows": null,
            "grid_column": null,
            "grid_gap": null,
            "grid_row": null,
            "grid_template_areas": null,
            "grid_template_columns": null,
            "grid_template_rows": null,
            "height": null,
            "justify_content": null,
            "justify_items": null,
            "left": null,
            "margin": null,
            "max_height": null,
            "max_width": null,
            "min_height": null,
            "min_width": null,
            "object_fit": null,
            "object_position": null,
            "order": null,
            "overflow": null,
            "overflow_x": null,
            "overflow_y": null,
            "padding": null,
            "right": null,
            "top": null,
            "visibility": null,
            "width": null
          }
        },
        "ce1dd9460916495187be16648425608a": {
          "model_module": "@jupyter-widgets/base",
          "model_name": "LayoutModel",
          "model_module_version": "1.2.0",
          "state": {
            "_model_module": "@jupyter-widgets/base",
            "_model_module_version": "1.2.0",
            "_model_name": "LayoutModel",
            "_view_count": null,
            "_view_module": "@jupyter-widgets/base",
            "_view_module_version": "1.2.0",
            "_view_name": "LayoutView",
            "align_content": null,
            "align_items": null,
            "align_self": null,
            "border": null,
            "bottom": null,
            "display": null,
            "flex": null,
            "flex_flow": null,
            "grid_area": null,
            "grid_auto_columns": null,
            "grid_auto_flow": null,
            "grid_auto_rows": null,
            "grid_column": null,
            "grid_gap": null,
            "grid_row": null,
            "grid_template_areas": null,
            "grid_template_columns": null,
            "grid_template_rows": null,
            "height": null,
            "justify_content": null,
            "justify_items": null,
            "left": null,
            "margin": null,
            "max_height": null,
            "max_width": null,
            "min_height": null,
            "min_width": null,
            "object_fit": null,
            "object_position": null,
            "order": null,
            "overflow": null,
            "overflow_x": null,
            "overflow_y": null,
            "padding": null,
            "right": null,
            "top": null,
            "visibility": null,
            "width": null
          }
        },
        "ec45b79734ca46ee9d2fc8cfe42f1a3f": {
          "model_module": "@jupyter-widgets/controls",
          "model_name": "DescriptionStyleModel",
          "model_module_version": "1.5.0",
          "state": {
            "_model_module": "@jupyter-widgets/controls",
            "_model_module_version": "1.5.0",
            "_model_name": "DescriptionStyleModel",
            "_view_count": null,
            "_view_module": "@jupyter-widgets/base",
            "_view_module_version": "1.2.0",
            "_view_name": "StyleView",
            "description_width": ""
          }
        },
        "25547759de034ca580121d3191a9f187": {
          "model_module": "@jupyter-widgets/base",
          "model_name": "LayoutModel",
          "model_module_version": "1.2.0",
          "state": {
            "_model_module": "@jupyter-widgets/base",
            "_model_module_version": "1.2.0",
            "_model_name": "LayoutModel",
            "_view_count": null,
            "_view_module": "@jupyter-widgets/base",
            "_view_module_version": "1.2.0",
            "_view_name": "LayoutView",
            "align_content": null,
            "align_items": null,
            "align_self": null,
            "border": null,
            "bottom": null,
            "display": null,
            "flex": null,
            "flex_flow": null,
            "grid_area": null,
            "grid_auto_columns": null,
            "grid_auto_flow": null,
            "grid_auto_rows": null,
            "grid_column": null,
            "grid_gap": null,
            "grid_row": null,
            "grid_template_areas": null,
            "grid_template_columns": null,
            "grid_template_rows": null,
            "height": null,
            "justify_content": null,
            "justify_items": null,
            "left": null,
            "margin": null,
            "max_height": null,
            "max_width": null,
            "min_height": null,
            "min_width": null,
            "object_fit": null,
            "object_position": null,
            "order": null,
            "overflow": null,
            "overflow_x": null,
            "overflow_y": null,
            "padding": null,
            "right": null,
            "top": null,
            "visibility": null,
            "width": null
          }
        },
        "467edc387f254b71815698a0c409392d": {
          "model_module": "@jupyter-widgets/controls",
          "model_name": "ProgressStyleModel",
          "model_module_version": "1.5.0",
          "state": {
            "_model_module": "@jupyter-widgets/controls",
            "_model_module_version": "1.5.0",
            "_model_name": "ProgressStyleModel",
            "_view_count": null,
            "_view_module": "@jupyter-widgets/base",
            "_view_module_version": "1.2.0",
            "_view_name": "StyleView",
            "bar_color": null,
            "description_width": ""
          }
        },
        "21c18b6d0fe941659e8a61061da30f55": {
          "model_module": "@jupyter-widgets/base",
          "model_name": "LayoutModel",
          "model_module_version": "1.2.0",
          "state": {
            "_model_module": "@jupyter-widgets/base",
            "_model_module_version": "1.2.0",
            "_model_name": "LayoutModel",
            "_view_count": null,
            "_view_module": "@jupyter-widgets/base",
            "_view_module_version": "1.2.0",
            "_view_name": "LayoutView",
            "align_content": null,
            "align_items": null,
            "align_self": null,
            "border": null,
            "bottom": null,
            "display": null,
            "flex": null,
            "flex_flow": null,
            "grid_area": null,
            "grid_auto_columns": null,
            "grid_auto_flow": null,
            "grid_auto_rows": null,
            "grid_column": null,
            "grid_gap": null,
            "grid_row": null,
            "grid_template_areas": null,
            "grid_template_columns": null,
            "grid_template_rows": null,
            "height": null,
            "justify_content": null,
            "justify_items": null,
            "left": null,
            "margin": null,
            "max_height": null,
            "max_width": null,
            "min_height": null,
            "min_width": null,
            "object_fit": null,
            "object_position": null,
            "order": null,
            "overflow": null,
            "overflow_x": null,
            "overflow_y": null,
            "padding": null,
            "right": null,
            "top": null,
            "visibility": null,
            "width": null
          }
        },
        "0dec70f7689e4a3c96aecb24c540b2ff": {
          "model_module": "@jupyter-widgets/controls",
          "model_name": "DescriptionStyleModel",
          "model_module_version": "1.5.0",
          "state": {
            "_model_module": "@jupyter-widgets/controls",
            "_model_module_version": "1.5.0",
            "_model_name": "DescriptionStyleModel",
            "_view_count": null,
            "_view_module": "@jupyter-widgets/base",
            "_view_module_version": "1.2.0",
            "_view_name": "StyleView",
            "description_width": ""
          }
        },
        "a62bd5043a764d23869aed4cc3831aaf": {
          "model_module": "@jupyter-widgets/controls",
          "model_name": "HBoxModel",
          "model_module_version": "1.5.0",
          "state": {
            "_dom_classes": [],
            "_model_module": "@jupyter-widgets/controls",
            "_model_module_version": "1.5.0",
            "_model_name": "HBoxModel",
            "_view_count": null,
            "_view_module": "@jupyter-widgets/controls",
            "_view_module_version": "1.5.0",
            "_view_name": "HBoxView",
            "box_style": "",
            "children": [
              "IPY_MODEL_e0573870139a4da2bc164fe2ed219d0a",
              "IPY_MODEL_c17549eb50a347d2ad4cd6d59d75f472",
              "IPY_MODEL_242f44ea61e7488b87d8df2e95b92e4c"
            ],
            "layout": "IPY_MODEL_eff9f0bbccd84609a152be2ef829b8a3"
          }
        },
        "e0573870139a4da2bc164fe2ed219d0a": {
          "model_module": "@jupyter-widgets/controls",
          "model_name": "HTMLModel",
          "model_module_version": "1.5.0",
          "state": {
            "_dom_classes": [],
            "_model_module": "@jupyter-widgets/controls",
            "_model_module_version": "1.5.0",
            "_model_name": "HTMLModel",
            "_view_count": null,
            "_view_module": "@jupyter-widgets/controls",
            "_view_module_version": "1.5.0",
            "_view_name": "HTMLView",
            "description": "",
            "description_tooltip": null,
            "layout": "IPY_MODEL_19fd356040bb4913875df1bf46f47448",
            "placeholder": "​",
            "style": "IPY_MODEL_ee338518c7de431d990f4fe07bd41ac4",
            "value": "100%"
          }
        },
        "c17549eb50a347d2ad4cd6d59d75f472": {
          "model_module": "@jupyter-widgets/controls",
          "model_name": "FloatProgressModel",
          "model_module_version": "1.5.0",
          "state": {
            "_dom_classes": [],
            "_model_module": "@jupyter-widgets/controls",
            "_model_module_version": "1.5.0",
            "_model_name": "FloatProgressModel",
            "_view_count": null,
            "_view_module": "@jupyter-widgets/controls",
            "_view_module_version": "1.5.0",
            "_view_name": "ProgressView",
            "bar_style": "success",
            "description": "",
            "description_tooltip": null,
            "layout": "IPY_MODEL_b090f89016f04765bc15e3dca2ae1f73",
            "max": 757,
            "min": 0,
            "orientation": "horizontal",
            "style": "IPY_MODEL_73d3e0a43ffc441d82d3061616af8900",
            "value": 757
          }
        },
        "242f44ea61e7488b87d8df2e95b92e4c": {
          "model_module": "@jupyter-widgets/controls",
          "model_name": "HTMLModel",
          "model_module_version": "1.5.0",
          "state": {
            "_dom_classes": [],
            "_model_module": "@jupyter-widgets/controls",
            "_model_module_version": "1.5.0",
            "_model_name": "HTMLModel",
            "_view_count": null,
            "_view_module": "@jupyter-widgets/controls",
            "_view_module_version": "1.5.0",
            "_view_name": "HTMLView",
            "description": "",
            "description_tooltip": null,
            "layout": "IPY_MODEL_26788ac47af74a54b31ea65a9596717f",
            "placeholder": "​",
            "style": "IPY_MODEL_ec3b4814a973492ebb6fa30d823ffc3d",
            "value": " 757/757 [00:06&lt;00:00, 112.37it/s]"
          }
        },
        "eff9f0bbccd84609a152be2ef829b8a3": {
          "model_module": "@jupyter-widgets/base",
          "model_name": "LayoutModel",
          "model_module_version": "1.2.0",
          "state": {
            "_model_module": "@jupyter-widgets/base",
            "_model_module_version": "1.2.0",
            "_model_name": "LayoutModel",
            "_view_count": null,
            "_view_module": "@jupyter-widgets/base",
            "_view_module_version": "1.2.0",
            "_view_name": "LayoutView",
            "align_content": null,
            "align_items": null,
            "align_self": null,
            "border": null,
            "bottom": null,
            "display": null,
            "flex": null,
            "flex_flow": null,
            "grid_area": null,
            "grid_auto_columns": null,
            "grid_auto_flow": null,
            "grid_auto_rows": null,
            "grid_column": null,
            "grid_gap": null,
            "grid_row": null,
            "grid_template_areas": null,
            "grid_template_columns": null,
            "grid_template_rows": null,
            "height": null,
            "justify_content": null,
            "justify_items": null,
            "left": null,
            "margin": null,
            "max_height": null,
            "max_width": null,
            "min_height": null,
            "min_width": null,
            "object_fit": null,
            "object_position": null,
            "order": null,
            "overflow": null,
            "overflow_x": null,
            "overflow_y": null,
            "padding": null,
            "right": null,
            "top": null,
            "visibility": null,
            "width": null
          }
        },
        "19fd356040bb4913875df1bf46f47448": {
          "model_module": "@jupyter-widgets/base",
          "model_name": "LayoutModel",
          "model_module_version": "1.2.0",
          "state": {
            "_model_module": "@jupyter-widgets/base",
            "_model_module_version": "1.2.0",
            "_model_name": "LayoutModel",
            "_view_count": null,
            "_view_module": "@jupyter-widgets/base",
            "_view_module_version": "1.2.0",
            "_view_name": "LayoutView",
            "align_content": null,
            "align_items": null,
            "align_self": null,
            "border": null,
            "bottom": null,
            "display": null,
            "flex": null,
            "flex_flow": null,
            "grid_area": null,
            "grid_auto_columns": null,
            "grid_auto_flow": null,
            "grid_auto_rows": null,
            "grid_column": null,
            "grid_gap": null,
            "grid_row": null,
            "grid_template_areas": null,
            "grid_template_columns": null,
            "grid_template_rows": null,
            "height": null,
            "justify_content": null,
            "justify_items": null,
            "left": null,
            "margin": null,
            "max_height": null,
            "max_width": null,
            "min_height": null,
            "min_width": null,
            "object_fit": null,
            "object_position": null,
            "order": null,
            "overflow": null,
            "overflow_x": null,
            "overflow_y": null,
            "padding": null,
            "right": null,
            "top": null,
            "visibility": null,
            "width": null
          }
        },
        "ee338518c7de431d990f4fe07bd41ac4": {
          "model_module": "@jupyter-widgets/controls",
          "model_name": "DescriptionStyleModel",
          "model_module_version": "1.5.0",
          "state": {
            "_model_module": "@jupyter-widgets/controls",
            "_model_module_version": "1.5.0",
            "_model_name": "DescriptionStyleModel",
            "_view_count": null,
            "_view_module": "@jupyter-widgets/base",
            "_view_module_version": "1.2.0",
            "_view_name": "StyleView",
            "description_width": ""
          }
        },
        "b090f89016f04765bc15e3dca2ae1f73": {
          "model_module": "@jupyter-widgets/base",
          "model_name": "LayoutModel",
          "model_module_version": "1.2.0",
          "state": {
            "_model_module": "@jupyter-widgets/base",
            "_model_module_version": "1.2.0",
            "_model_name": "LayoutModel",
            "_view_count": null,
            "_view_module": "@jupyter-widgets/base",
            "_view_module_version": "1.2.0",
            "_view_name": "LayoutView",
            "align_content": null,
            "align_items": null,
            "align_self": null,
            "border": null,
            "bottom": null,
            "display": null,
            "flex": null,
            "flex_flow": null,
            "grid_area": null,
            "grid_auto_columns": null,
            "grid_auto_flow": null,
            "grid_auto_rows": null,
            "grid_column": null,
            "grid_gap": null,
            "grid_row": null,
            "grid_template_areas": null,
            "grid_template_columns": null,
            "grid_template_rows": null,
            "height": null,
            "justify_content": null,
            "justify_items": null,
            "left": null,
            "margin": null,
            "max_height": null,
            "max_width": null,
            "min_height": null,
            "min_width": null,
            "object_fit": null,
            "object_position": null,
            "order": null,
            "overflow": null,
            "overflow_x": null,
            "overflow_y": null,
            "padding": null,
            "right": null,
            "top": null,
            "visibility": null,
            "width": null
          }
        },
        "73d3e0a43ffc441d82d3061616af8900": {
          "model_module": "@jupyter-widgets/controls",
          "model_name": "ProgressStyleModel",
          "model_module_version": "1.5.0",
          "state": {
            "_model_module": "@jupyter-widgets/controls",
            "_model_module_version": "1.5.0",
            "_model_name": "ProgressStyleModel",
            "_view_count": null,
            "_view_module": "@jupyter-widgets/base",
            "_view_module_version": "1.2.0",
            "_view_name": "StyleView",
            "bar_color": null,
            "description_width": ""
          }
        },
        "26788ac47af74a54b31ea65a9596717f": {
          "model_module": "@jupyter-widgets/base",
          "model_name": "LayoutModel",
          "model_module_version": "1.2.0",
          "state": {
            "_model_module": "@jupyter-widgets/base",
            "_model_module_version": "1.2.0",
            "_model_name": "LayoutModel",
            "_view_count": null,
            "_view_module": "@jupyter-widgets/base",
            "_view_module_version": "1.2.0",
            "_view_name": "LayoutView",
            "align_content": null,
            "align_items": null,
            "align_self": null,
            "border": null,
            "bottom": null,
            "display": null,
            "flex": null,
            "flex_flow": null,
            "grid_area": null,
            "grid_auto_columns": null,
            "grid_auto_flow": null,
            "grid_auto_rows": null,
            "grid_column": null,
            "grid_gap": null,
            "grid_row": null,
            "grid_template_areas": null,
            "grid_template_columns": null,
            "grid_template_rows": null,
            "height": null,
            "justify_content": null,
            "justify_items": null,
            "left": null,
            "margin": null,
            "max_height": null,
            "max_width": null,
            "min_height": null,
            "min_width": null,
            "object_fit": null,
            "object_position": null,
            "order": null,
            "overflow": null,
            "overflow_x": null,
            "overflow_y": null,
            "padding": null,
            "right": null,
            "top": null,
            "visibility": null,
            "width": null
          }
        },
        "ec3b4814a973492ebb6fa30d823ffc3d": {
          "model_module": "@jupyter-widgets/controls",
          "model_name": "DescriptionStyleModel",
          "model_module_version": "1.5.0",
          "state": {
            "_model_module": "@jupyter-widgets/controls",
            "_model_module_version": "1.5.0",
            "_model_name": "DescriptionStyleModel",
            "_view_count": null,
            "_view_module": "@jupyter-widgets/base",
            "_view_module_version": "1.2.0",
            "_view_name": "StyleView",
            "description_width": ""
          }
        }
      }
    }
  },
  "cells": [
    {
      "cell_type": "markdown",
      "metadata": {
        "id": "eB0lBzkJy_l6"
      },
      "source": [
        "# HW7: Neural Transition-Based Dependency Parsing\n"
      ]
    },
    {
      "cell_type": "markdown",
      "source": [],
      "metadata": {
        "id": "hVIGPHwmYCMF"
      }
    },
    {
      "cell_type": "markdown",
      "metadata": {
        "id": "hwbJPnBmy_l-"
      },
      "source": [
        "In this exercise, you are going to build a deep learning model for Neural Networks Transition-Based Dependency Parsing. A dependency parser analyzes the grammatical structure of a sentence, establishing relationships between “head” words and words which modify those heads. Your implementation will be a transition-based parser, which incrementally builds up a parse one step at a time."
      ]
    },
    {
      "cell_type": "markdown",
      "metadata": {
        "id": "iTop7w0Wy_mT"
      },
      "source": [
        "To complete this exercise, you will need to complete the code and build a deep learning model for dependency parsing. We will evaluate the model on the subset of Penn Treebank (annotated with Universal Dependencies). \n",
        "\n",
        "We provide the code for data preparation and the skeleton for PartialParse class. You do not need to understand the code outside of this notebook. \n",
        "\n",
        "This homework and the starter codes are adopt from Stanford University class CS224n."
      ]
    },
    {
      "cell_type": "markdown",
      "metadata": {
        "id": "3RJMmaCSy_mV"
      },
      "source": [
        "This homework does not require you to use Google Colab or Google Cloud as the model is quite small (but you can still use it if you want)"
      ]
    },
    {
      "cell_type": "markdown",
      "metadata": {
        "id": "lzF49xKny_mX"
      },
      "source": [
        "## 1. Transition-Based Dependency Parsing"
      ]
    },
    {
      "cell_type": "markdown",
      "metadata": {
        "id": "PwH68mjMy_mY"
      },
      "source": [
        "Your implementation will be a transition-based parser, which incrementally builds\n",
        "up a parse one step at a time. At every step it maintains a partial parse, which is represented as follows:\n",
        "- A stack of words that are currently being processed.\n",
        "- A buffer of words yet to be processed.\n",
        "- A list of dependencies predicted by the parser.\n",
        "\n",
        "Initially, the stack only contains ROOT, the dependencies lists is empty, and the buffer contains all words\n",
        "of the sentence in order. At each step, the parse applies a transition to the partial parse until its buffer is\n",
        "empty and the stack is size 1. The following transitions can be applied:\n",
        "- SHIFT: removes the first word from the buffer and pushes it onto the stack.\n",
        "- LEFT-ARC: marks the second (second most recently added) item on the stack as a dependent of the\n",
        "first item and removes the second item from the stack.\n",
        "- RIGHT-ARC: marks the first (most recently added) item on the stack as a dependent of the second\n",
        "item and removes the first item from the stack.\n",
        "\n",
        "Your parser will decide among transitions at each state using a neural network classifier."
      ]
    },
    {
      "cell_type": "markdown",
      "metadata": {
        "id": "Ab3kn2OVy_mb"
      },
      "source": [
        "### TODO 1 (Written):\n",
        "Go through the sequence of transitions needed for parsing the sentence “I parsed\n",
        "this sentence correctly”. The dependency tree for the sentence is shown below. At each step, give the\n",
        "configuration of the stack and buffer, as well as what transition was applied this step and what new\n",
        "dependency was added (if any). The first three steps are provided below as an example."
      ]
    },
    {
      "cell_type": "markdown",
      "metadata": {
        "id": "aTkSbSf6y_ma"
      },
      "source": [
        "<img src=\"https://github.com/ekapolc/NLP_2020/blob/master/HW7/images/img1.jpg?raw=true\">"
      ]
    },
    {
      "cell_type": "markdown",
      "metadata": {
        "id": "OPmRQbXky_mc"
      },
      "source": [
        "Complete the following table (double click the table and fill in the rest):\n",
        "\n",
        "| stack    |  buffer |  new dependency | transition |\n",
        "| :------: |:------: | :-------------: | :--------: |\n",
        "| \\[ROOT\\]            | \\[I, parsed, this, sentence, correctly\\] |          | Initial Configuration |\n",
        "| \\[ROOT, I\\]         | \\[parsed, this, sentence, correctly\\]    |          | SHIFT |\n",
        "| \\[ROOT, I, parsed\\] | \\[this, sentence, correctly\\]            |          | SHIFT |\n",
        "| \\[ROOT, parsed\\]    | \\[this, sentence, correctly\\]            | parsed→I | LEFT-ARC |\n",
        "| \\[ROOT, parsed, this\\]| \\[sentence, correctly\\]| | SHIFT|\n",
        "| \\[ROOT, parsed, this, sentence\\]| \\[correctly\\]| | SHIFT|\n",
        "| \\[ROOT, parsed, sentence\\]| \\[correctly\\]| sentence → this| LEFT-ARC|\n",
        "| \\[ROOT, parsed\\]|  \\[correctly\\]| parsed → sentence| RIGHT-ARC|\n",
        "| \\[ROOT, parsed, correctly\\]|  \\[\\]| | SHIFT|\n",
        "| \\[ROOT, parsed\\]|  \\[\\]| parsed → correctly| RIGHT-ARC|\n",
        "| \\[ROOT\\]|  \\[\\]| ROOT → parsed| RIGHT-ARC|"
      ]
    },
    {
      "cell_type": "markdown",
      "metadata": {
        "id": "-h6PmOd6y_me"
      },
      "source": [
        "### TODO 2 (Coding):\n",
        "Implement the __\\_\\_init\\_\\___ and __parse_step__ functions in the PartialParse class. Your code must past both of the following tests."
      ]
    },
    {
      "cell_type": "code",
      "source": [
        "%load_ext autoreload\n",
        "%autoreload 2"
      ],
      "metadata": {
        "id": "RxUntnKUMpG3"
      },
      "execution_count": null,
      "outputs": []
    },
    {
      "cell_type": "code",
      "metadata": {
        "id": "WXhOjsN_y_mf"
      },
      "source": [
        "class PartialParse(object):\n",
        "    def __init__(self, sentence):\n",
        "        \"\"\"Initializes this partial parse.\n",
        "\n",
        "        Your code should initialize the following fields:\n",
        "            self.stack: The current stack represented as a list with the top of the stack as the\n",
        "                        last element of the list.\n",
        "            self.buffer: The current buffer represented as a list with the first item on the\n",
        "                         buffer as the first item of the list\n",
        "            self.dependencies: The list of dependencies produced so far. Represented as a list of\n",
        "                    tuples where each tuple is of the form (head, dependent).\n",
        "                    Order for this list doesn't matter.\n",
        "\n",
        "        The root token should be represented with the string \"ROOT\"\n",
        "\n",
        "        Args:\n",
        "            sentence: The sentence to be parsed as a list of words.\n",
        "                      Your code should not modify the sentence.\n",
        "        \"\"\"\n",
        "        # The sentence being parsed is kept for bookkeeping purposes. Do not use it in your code.\n",
        "        self.sentence = sentence\n",
        "\n",
        "        ### YOUR CODE HERE\n",
        "        self.stack = [\"ROOT\"] # [..., top_of_stack], should start with [\"ROOT\"]\n",
        "        self.buffer = sentence[:] # [w1, w2, ... wn]\n",
        "        self.dependencies = [] # [... , (head_i, dependent_i), ...]\n",
        "        ### END YOUR CODE\n",
        "\n",
        "    def parse_step(self, transition):\n",
        "        \"\"\"Performs a single parse step by applying the given transition to this partial parse\n",
        "\n",
        "        Args:\n",
        "            transition: A string that equals \"S\", \"LA\", or \"RA\" representing the shift, left-arc,\n",
        "                        and right-arc transitions. You can assume the provided transition is a legal\n",
        "                        transition.\n",
        "        \"\"\"\n",
        "        ### YOUR CODE HERE\n",
        "        if transition == \"S\": # shift transition\n",
        "          if len(self.buffer) > 0:\n",
        "            self.stack.append(self.buffer.pop(0))\n",
        "        elif transition == \"LA\": # left-arc transition\n",
        "          r = self.stack.pop() ; l = self.stack.pop()\n",
        "          self.dependencies.append( (r, l) )\n",
        "          self.stack.append(r)\n",
        "        elif transition == \"RA\": # right-arc transition\n",
        "          r = self.stack.pop() ; l = self.stack.pop()\n",
        "          self.dependencies.append( (l, r) )\n",
        "          self.stack.append(l)\n",
        "        ### END YOUR CODE\n",
        "\n",
        "    def parse(self, transitions):\n",
        "        \"\"\"Applies the provided transitions to this PartialParse\n",
        "\n",
        "        Args:\n",
        "            transitions: The list of transitions in the order they should be applied\n",
        "        Returns:\n",
        "            dependencies: The list of dependencies produced when parsing the sentence. Represented\n",
        "                          as a list of tuples where each tuple is of the form (head, dependent)\n",
        "        \"\"\"\n",
        "        for transition in transitions:\n",
        "            self.parse_step(transition)\n",
        "        return self.dependencies"
      ],
      "execution_count": null,
      "outputs": []
    },
    {
      "cell_type": "code",
      "metadata": {
        "id": "_kF_8ESPy_mk"
      },
      "source": [
        "# Do not modify this code\n",
        "def test_step(name, transition, stack, buf, deps,\n",
        "              ex_stack, ex_buf, ex_deps):\n",
        "    \"\"\"Tests that a single parse step returns the expected output\"\"\"\n",
        "    pp = PartialParse([])\n",
        "    pp.stack, pp.buffer, pp.dependencies = stack, buf, deps\n",
        "\n",
        "    pp.parse_step(transition)\n",
        "    stack, buf, deps = (tuple(pp.stack), tuple(pp.buffer), tuple(sorted(pp.dependencies)))\n",
        "    assert stack == ex_stack, \\\n",
        "        \"{:} test resulted in stack {:}, expected {:}\".format(name, stack, ex_stack)\n",
        "    assert buf == ex_buf, \\\n",
        "        \"{:} test resulted in buffer {:}, expected {:}\".format(name, buf, ex_buf)\n",
        "    assert deps == ex_deps, \\\n",
        "        \"{:} test resulted in dependency list {:}, expected {:}\".format(name, deps, ex_deps)\n",
        "    print(\"{:} test passed!\".format(name))\n",
        "\n",
        "\n",
        "def test_parse_step():\n",
        "    \"\"\"Simple tests for the PartialParse.parse_step function\n",
        "    Warning: these are not exhaustive\n",
        "    \"\"\"\n",
        "    test_step(\"SHIFT\", \"S\", [\"ROOT\", \"the\"], [\"cat\", \"sat\"], [],\n",
        "              (\"ROOT\", \"the\", \"cat\"), (\"sat\",), ())\n",
        "    test_step(\"LEFT-ARC\", \"LA\", [\"ROOT\", \"the\", \"cat\"], [\"sat\"], [],\n",
        "              (\"ROOT\", \"cat\",), (\"sat\",), ((\"cat\", \"the\"),))\n",
        "    test_step(\"RIGHT-ARC\", \"RA\", [\"ROOT\", \"run\", \"fast\"], [], [],\n",
        "              (\"ROOT\", \"run\",), (), ((\"run\", \"fast\"),))\n",
        "\n",
        "\n",
        "def test_parse():\n",
        "    \"\"\"Simple tests for the PartialParse.parse function\n",
        "    Warning: these are not exhaustive\n",
        "    \"\"\"\n",
        "    sentence = [\"parse\", \"this\", \"sentence\"]\n",
        "    dependencies = PartialParse(sentence).parse([\"S\", \"S\", \"S\", \"LA\", \"RA\", \"RA\"])\n",
        "    dependencies = tuple(sorted(dependencies))\n",
        "    expected = (('ROOT', 'parse'), ('parse', 'sentence'), ('sentence', 'this'))\n",
        "    assert dependencies == expected,  \\\n",
        "        \"parse test resulted in dependencies {:}, expected {:}\".format(dependencies, expected)\n",
        "    assert tuple(sentence) == (\"parse\", \"this\", \"sentence\"), \\\n",
        "        \"parse test failed: the input sentence should not be modified\"\n",
        "    print(\"parse test passed!\")"
      ],
      "execution_count": null,
      "outputs": []
    },
    {
      "cell_type": "code",
      "metadata": {
        "id": "MwNZjFgey_mn",
        "colab": {
          "base_uri": "https://localhost:8080/"
        },
        "outputId": "094f26a5-9bfe-4d62-f7dc-e79b038de511"
      },
      "source": [
        "test_parse_step()\n",
        "test_parse()"
      ],
      "execution_count": null,
      "outputs": [
        {
          "output_type": "stream",
          "name": "stdout",
          "text": [
            "SHIFT test passed!\n",
            "LEFT-ARC test passed!\n",
            "RIGHT-ARC test passed!\n",
            "parse test passed!\n"
          ]
        }
      ]
    },
    {
      "cell_type": "markdown",
      "metadata": {
        "id": "0lx3xP_Zy_mr"
      },
      "source": [
        "### TODO 3 (Coding):\n",
        "Our network will predict which transition should be applied next to a partial parse. We could use it to parse a single sentence by applying predicted transitions until the parse is complete. However, neural networks run much more efficiently when making predictions about batches of data at a time (i.e., predicting the next transition for a many different partial parses simultaneously). We can parse sentences in minibatches with the following algorithm."
      ]
    },
    {
      "cell_type": "markdown",
      "metadata": {
        "id": "4oTyD-Dcy_ms"
      },
      "source": [
        "<img src=\"https://github.com/ekapolc/NLP_2020/blob/master/HW7/images/img2.jpg?raw=true\">"
      ]
    },
    {
      "cell_type": "markdown",
      "metadata": {
        "id": "BhRpDDXay_mt"
      },
      "source": [
        "Implement this algorithm in the minibatch parse function and run the following test."
      ]
    },
    {
      "cell_type": "code",
      "metadata": {
        "id": "gio_qpS5y_mu"
      },
      "source": [
        "def minibatch_parse(sentences, model, batch_size):\n",
        "    \"\"\"Parses a list of sentences in minibatches using a model.\n",
        "\n",
        "    Args:\n",
        "        sentences: A list of sentences to be parsed (each sentence is a list of words)\n",
        "        model: The model that makes parsing decisions. It is assumed to have a function\n",
        "               model.predict(partial_parses) that takes in a list of PartialParses as input and\n",
        "               returns a list of transitions predicted for each parse. That is, after calling\n",
        "                   transitions = model.predict(partial_parses)\n",
        "               transitions[i] will be the next transition to apply to partial_parses[i].\n",
        "        batch_size: The number of PartialParses to include in each minibatch\n",
        "    Returns:\n",
        "        dependencies: A list where each element is the dependencies list for a parsed sentence.\n",
        "                      Ordering should be the same as in sentences (i.e., dependencies[i] should\n",
        "                      contain the parse for sentences[i]).\n",
        "    \"\"\"\n",
        "\n",
        "    ### YOUR CODE HERE\n",
        "    partial_parses = [PartialParse(sentence) for sentence in sentences]\n",
        "    dependencies = [None]*len(partial_parses)\n",
        "    unfinished_parses = partial_parses[:]\n",
        "    unfinished_parses_indices = list(range(len(unfinished_parses)))\n",
        "\n",
        "    while len(unfinished_parses) > 0:\n",
        "      transitions = model.predict(unfinished_parses[:batch_size])\n",
        "\n",
        "      for idx, transition in enumerate(transitions):\n",
        "        unfinished_parses[idx].parse_step(transition)\n",
        "    \n",
        "      for pp in unfinished_parses[:batch_size]:\n",
        "        if len(pp.stack) == 1 and len(pp.buffer) == 0:\n",
        "          real_idx = unfinished_parses_indices[unfinished_parses.index(pp)]\n",
        "          dependencies[real_idx] = pp.dependencies\n",
        "          unfinished_parses.remove(pp)\n",
        "          unfinished_parses_indices.remove(real_idx)\n",
        "    ### END YOUR CODE\n",
        "\n",
        "    return dependencies"
      ],
      "execution_count": null,
      "outputs": []
    },
    {
      "cell_type": "code",
      "metadata": {
        "id": "lXNoWwaWy_mx"
      },
      "source": [
        "# Do not modify this code\n",
        "class DummyModel(object):\n",
        "    \"\"\"Dummy model for testing the minibatch_parse function\n",
        "    First shifts everything onto the stack and then does exclusively right arcs if the first word of\n",
        "    the sentence is \"right\", \"left\" if otherwise.\n",
        "    \"\"\"\n",
        "    def predict(self, partial_parses):\n",
        "        return [(\"RA\" if pp.stack[1] == \"right\" else \"LA\") if len(pp.buffer) == 0 else \"S\"\n",
        "                for pp in partial_parses]\n",
        "\n",
        "\n",
        "def test_dependencies(name, deps, ex_deps):\n",
        "    \"\"\"Tests the provided dependencies match the expected dependencies\"\"\"\n",
        "    deps = tuple(sorted(deps))\n",
        "    assert deps == ex_deps, \\\n",
        "        \"{:} test resulted in dependency list {:}, expected {:}\".format(name, deps, ex_deps)\n",
        "\n",
        "\n",
        "def test_minibatch_parse():\n",
        "    \"\"\"Simple tests for the minibatch_parse function\n",
        "    Warning: these are not exhaustive\n",
        "    \"\"\"\n",
        "    sentences = [[\"right\", \"arcs\", \"only\"],\n",
        "                 [\"right\", \"arcs\", \"only\", \"again\"],\n",
        "                 [\"left\", \"arcs\", \"only\"],\n",
        "                 [\"left\", \"arcs\", \"only\", \"again\"]]\n",
        "    deps = minibatch_parse(sentences, DummyModel(), 2)\n",
        "    test_dependencies(\"minibatch_parse\", deps[0],\n",
        "                      (('ROOT', 'right'), ('arcs', 'only'), ('right', 'arcs')))\n",
        "    test_dependencies(\"minibatch_parse\", deps[1],\n",
        "                      (('ROOT', 'right'), ('arcs', 'only'), ('only', 'again'), ('right', 'arcs')))\n",
        "    test_dependencies(\"minibatch_parse\", deps[2],\n",
        "                      (('only', 'ROOT'), ('only', 'arcs'), ('only', 'left')))\n",
        "    test_dependencies(\"minibatch_parse\", deps[3],\n",
        "                      (('again', 'ROOT'), ('again', 'arcs'), ('again', 'left'), ('again', 'only')))\n",
        "    print(\"minibatch_parse test passed!\")"
      ],
      "execution_count": null,
      "outputs": []
    },
    {
      "cell_type": "code",
      "metadata": {
        "id": "V-13VeiKy_m1",
        "colab": {
          "base_uri": "https://localhost:8080/"
        },
        "outputId": "15d6f4e2-52f5-4352-8042-45e6807da32b"
      },
      "source": [
        "test_minibatch_parse()"
      ],
      "execution_count": null,
      "outputs": [
        {
          "output_type": "stream",
          "name": "stdout",
          "text": [
            "minibatch_parse test passed!\n"
          ]
        }
      ]
    },
    {
      "cell_type": "markdown",
      "metadata": {
        "id": "EL5kIWKXy_m4"
      },
      "source": [
        "## 2. Setup and Preprocessing"
      ]
    },
    {
      "cell_type": "code",
      "metadata": {
        "id": "4yFeYrRBEpcF",
        "colab": {
          "base_uri": "https://localhost:8080/"
        },
        "outputId": "a9922e1b-57f3-47a3-acf6-cc0c3b6d9f45"
      },
      "source": [
        "!pip install gdown --upgrade \n",
        "!gdown --id 1FjSFEDZiLGM-D92VMliu_1KAA2AJXh5k\n",
        "!unzip HW7_torch.zip"
      ],
      "execution_count": null,
      "outputs": [
        {
          "output_type": "stream",
          "name": "stdout",
          "text": [
            "Looking in indexes: https://pypi.org/simple, https://us-python.pkg.dev/colab-wheels/public/simple/\n",
            "Requirement already satisfied: gdown in /usr/local/lib/python3.8/dist-packages (4.6.4)\n",
            "Requirement already satisfied: beautifulsoup4 in /usr/local/lib/python3.8/dist-packages (from gdown) (4.6.3)\n",
            "Requirement already satisfied: six in /usr/local/lib/python3.8/dist-packages (from gdown) (1.15.0)\n",
            "Requirement already satisfied: tqdm in /usr/local/lib/python3.8/dist-packages (from gdown) (4.64.1)\n",
            "Requirement already satisfied: requests[socks] in /usr/local/lib/python3.8/dist-packages (from gdown) (2.25.1)\n",
            "Requirement already satisfied: filelock in /usr/local/lib/python3.8/dist-packages (from gdown) (3.9.0)\n",
            "Requirement already satisfied: certifi>=2017.4.17 in /usr/local/lib/python3.8/dist-packages (from requests[socks]->gdown) (2022.12.7)\n",
            "Requirement already satisfied: chardet<5,>=3.0.2 in /usr/local/lib/python3.8/dist-packages (from requests[socks]->gdown) (4.0.0)\n",
            "Requirement already satisfied: idna<3,>=2.5 in /usr/local/lib/python3.8/dist-packages (from requests[socks]->gdown) (2.10)\n",
            "Requirement already satisfied: urllib3<1.27,>=1.21.1 in /usr/local/lib/python3.8/dist-packages (from requests[socks]->gdown) (1.26.14)\n",
            "Requirement already satisfied: PySocks!=1.5.7,>=1.5.6 in /usr/local/lib/python3.8/dist-packages (from requests[socks]->gdown) (1.7.1)\n",
            "/usr/local/lib/python3.8/dist-packages/gdown/cli.py:121: FutureWarning: Option `--id` was deprecated in version 4.3.1 and will be removed in 5.0. You don't need to pass it anymore to use a file ID.\n",
            "  warnings.warn(\n",
            "Downloading...\n",
            "From: https://drive.google.com/uc?id=1FjSFEDZiLGM-D92VMliu_1KAA2AJXh5k\n",
            "To: /content/HW7_torch.zip\n",
            "100% 38.9M/38.9M [00:10<00:00, 3.88MB/s]\n",
            "Archive:  HW7_torch.zip\n",
            "replace __MACOSX/._data? [y]es, [n]o, [A]ll, [N]one, [r]ename: A\n",
            "  inflating: __MACOSX/._data         \n",
            "  inflating: data/train.gold.conll   \n",
            "  inflating: __MACOSX/data/._train.gold.conll  \n",
            "  inflating: data/dev.conll          \n",
            "  inflating: __MACOSX/data/._dev.conll  \n",
            "  inflating: data/test.gold.conll    \n",
            "  inflating: __MACOSX/data/._test.gold.conll  \n",
            "  inflating: data/dev.gold.conll     \n",
            "  inflating: __MACOSX/data/._dev.gold.conll  \n",
            "  inflating: data/en-cw.txt          \n",
            "  inflating: __MACOSX/data/._en-cw.txt  \n",
            "  inflating: data/test.conll         \n",
            "  inflating: __MACOSX/data/._test.conll  \n",
            "  inflating: data/train.conll        \n",
            "  inflating: __MACOSX/data/._train.conll  \n",
            "  inflating: __MACOSX/._utils        \n",
            "  inflating: utils/general_utils.py  \n",
            "  inflating: __MACOSX/utils/._general_utils.py  \n",
            "  inflating: utils/.DS_Store         \n",
            "  inflating: __MACOSX/utils/._.DS_Store  \n",
            "  inflating: utils/parser_utils.py   \n",
            "  inflating: __MACOSX/utils/._parser_utils.py  \n",
            " extracting: utils/__init__.py       \n",
            "  inflating: __MACOSX/utils/.___init__.py  \n",
            "  inflating: __MACOSX/utils/._.ipynb_checkpoints  \n",
            "  inflating: utils/.ipynb_checkpoints/general_utils-checkpoint.py  \n",
            "  inflating: __MACOSX/utils/.ipynb_checkpoints/._general_utils-checkpoint.py  \n",
            "  inflating: utils/.ipynb_checkpoints/parser_utils-checkpoint.py  \n",
            "  inflating: __MACOSX/utils/.ipynb_checkpoints/._parser_utils-checkpoint.py  \n"
          ]
        }
      ]
    },
    {
      "cell_type": "code",
      "metadata": {
        "id": "zemNby1uy_m5"
      },
      "source": [
        "from utils.parser_utils import minibatches, load_and_preprocess_data"
      ],
      "execution_count": null,
      "outputs": []
    },
    {
      "cell_type": "markdown",
      "metadata": {
        "id": "RksEEdJvy_m8"
      },
      "source": [
        "Preparing data. We will use a subset of Penn Treebank and pretrained embeddings in this task"
      ]
    },
    {
      "cell_type": "markdown",
      "metadata": {
        "id": "5XNgGpMUy_m9"
      },
      "source": [
        "We are now going to train a neural network to predict, given the state of the stack, buffer, and dependencies, which transition should be applied next. First, the model extracts a feature vector representing the current state. We will be using the feature set presented in the original neural dependency parsing paper: A Fast and Accurate Dependency Parser using Neural Networks. \n",
        "\n",
        "The function extracting these features has been implemented for you in parser_utils. This feature vector consists of a list of tokens (e.g., the last word in the stack, first word in the buffer, dependent of the second-to-last word in the stack if there is one, etc.). They can be represented as a list of integers."
      ]
    },
    {
      "cell_type": "code",
      "metadata": {
        "id": "JhqbGTYpy_m-",
        "colab": {
          "base_uri": "https://localhost:8080/"
        },
        "outputId": "cd3099ae-3aa9-4187-cc40-8228bec01d9b"
      },
      "source": [
        "parser, embeddings, train_examples, dev_set, test_set = load_and_preprocess_data(True)"
      ],
      "execution_count": null,
      "outputs": [
        {
          "output_type": "stream",
          "name": "stdout",
          "text": [
            "Loading data...\n",
            "took 3.59 seconds\n",
            "Building parser...\n",
            "took 0.07 seconds\n",
            "Loading pretrained embeddings...\n",
            "took 2.83 seconds\n",
            "Vectorizing data...\n",
            "took 0.07 seconds\n",
            "Preprocessing training data...\n",
            "took 5.74 seconds\n"
          ]
        }
      ]
    },
    {
      "cell_type": "code",
      "metadata": {
        "id": "D-VYL2rKy_nB",
        "colab": {
          "base_uri": "https://localhost:8080/"
        },
        "outputId": "a9e7ca8a-74c4-4fb7-c1db-cf597b80d453"
      },
      "source": [
        "print(len(train_examples), len(dev_set), len(test_set))"
      ],
      "execution_count": null,
      "outputs": [
        {
          "output_type": "stream",
          "name": "stdout",
          "text": [
            "48390 500 500\n"
          ]
        }
      ]
    },
    {
      "cell_type": "code",
      "metadata": {
        "id": "FubWDIsNy_nE",
        "colab": {
          "base_uri": "https://localhost:8080/"
        },
        "outputId": "055a70ef-5472-416a-ccbb-2aaffb2bde85"
      },
      "source": [
        "print(embeddings.shape)"
      ],
      "execution_count": null,
      "outputs": [
        {
          "output_type": "stream",
          "name": "stdout",
          "text": [
            "(5157, 50)\n"
          ]
        }
      ]
    },
    {
      "cell_type": "markdown",
      "metadata": {
        "id": "ZBD3A4yVy_nI"
      },
      "source": [
        "Get the full batch of our subset data"
      ]
    },
    {
      "cell_type": "code",
      "metadata": {
        "id": "8vNwux9by_nJ"
      },
      "source": [
        "minibatch_gen = minibatches(train_examples, len(train_examples))\n",
        "x_train, y_train = minibatch_gen.__next__()"
      ],
      "execution_count": null,
      "outputs": []
    },
    {
      "cell_type": "code",
      "source": [
        "x_train[0], y_train[0]"
      ],
      "metadata": {
        "colab": {
          "base_uri": "https://localhost:8080/"
        },
        "id": "NQ59L-55G61t",
        "outputId": "7fecae49-4e9f-477c-d4f2-31d550da6394"
      },
      "execution_count": null,
      "outputs": [
        {
          "output_type": "execute_result",
          "data": {
            "text/plain": [
              "(array([ 921,   89,  112,  414,  129,  155, 5155, 5155, 5155, 5155, 5155,\n",
              "        5155, 5155, 5155, 5155, 5155, 5155, 5155,   49,   52,   65,   49,\n",
              "          49,   63,   83,   83,   83,   83,   83,   83,   83,   83,   83,\n",
              "          83,   83,   83]), array([1., 0., 0.]))"
            ]
          },
          "metadata": {},
          "execution_count": 14
        }
      ]
    },
    {
      "cell_type": "code",
      "metadata": {
        "id": "i__8jliGy_nM",
        "colab": {
          "base_uri": "https://localhost:8080/"
        },
        "outputId": "a36e42e4-573f-4fc1-fa0f-b00c6c3cb439"
      },
      "source": [
        "print(x_train.shape)\n",
        "print(y_train.shape)"
      ],
      "execution_count": null,
      "outputs": [
        {
          "output_type": "stream",
          "name": "stdout",
          "text": [
            "(48390, 36)\n",
            "(48390, 3)\n"
          ]
        }
      ]
    },
    {
      "cell_type": "code",
      "metadata": {
        "id": "2LerZSYby_nP",
        "colab": {
          "base_uri": "https://localhost:8080/"
        },
        "outputId": "d8428d00-8e51-46a5-a451-2c9a21b07328"
      },
      "source": [
        "# Sample features\n",
        "print(x_train[0])"
      ],
      "execution_count": null,
      "outputs": [
        {
          "output_type": "stream",
          "name": "stdout",
          "text": [
            "[ 921   89  112  414  129  155 5155 5155 5155 5155 5155 5155 5155 5155\n",
            " 5155 5155 5155 5155   49   52   65   49   49   63   83   83   83   83\n",
            "   83   83   83   83   83   83   83   83]\n"
          ]
        }
      ]
    },
    {
      "cell_type": "markdown",
      "metadata": {
        "id": "17eqeESxy_nR"
      },
      "source": [
        "## 3. Model"
      ]
    },
    {
      "cell_type": "code",
      "source": [
        "!pip install torchinfo"
      ],
      "metadata": {
        "id": "QYRaJSd8GGZl",
        "colab": {
          "base_uri": "https://localhost:8080/"
        },
        "outputId": "cbbec703-9402-47f7-d256-e79d0a55897e"
      },
      "execution_count": null,
      "outputs": [
        {
          "output_type": "stream",
          "name": "stdout",
          "text": [
            "Looking in indexes: https://pypi.org/simple, https://us-python.pkg.dev/colab-wheels/public/simple/\n",
            "Requirement already satisfied: torchinfo in /usr/local/lib/python3.8/dist-packages (1.7.2)\n"
          ]
        }
      ]
    },
    {
      "cell_type": "code",
      "metadata": {
        "id": "T5mqcz1qy_nT"
      },
      "source": [
        "import torch \n",
        "from torch import nn \n",
        "from torch.nn import Embedding, Linear, Dropout\n",
        "import torch.nn.functional as F \n",
        "from torch.optim import Adam \n",
        "from torch.utils.data import Dataset, DataLoader\n",
        "\n",
        "\n",
        "import torchinfo \n",
        "from tqdm.notebook import tqdm "
      ],
      "execution_count": null,
      "outputs": []
    },
    {
      "cell_type": "markdown",
      "metadata": {
        "id": "5sW29Rhvy_nX"
      },
      "source": [
        "### TODO 4 (Coding):\n",
        "Build and train a pytorch model to predict an action for each state of of the input. This is a simple classification task. \n",
        "- The input and output of the model must match the dimention of x_train and y_train.\n",
        "- The model must use the provided pretrained embeddings\n",
        "- The model could comprise of only a feedforward layer and a dropout\n",
        "- Training loss should be around 0.1 or below, and training categorical_accuracy above 0.94"
      ]
    },
    {
      "cell_type": "code",
      "source": [
        "class ParserDataset(Dataset):\n",
        "  def __init__(self, data, labels): \n",
        "    self.data = data \n",
        "    self.labels = labels\n",
        "    assert len(self.data) == len(self.labels) \n",
        "\n",
        "  def __getitem__(self, idx): \n",
        "    return torch.LongTensor(self.data[idx]), torch.FloatTensor(self.labels[idx])\n",
        "\n",
        "  def __len__(self): \n",
        "    return len(self.data) \n",
        "\n",
        "\n",
        "train_dataset = ParserDataset(x_train, y_train) \n",
        "train_loader = DataLoader(train_dataset, batch_size=64, num_workers=2)"
      ],
      "metadata": {
        "id": "CAgZ3Kj_BFP-"
      },
      "execution_count": null,
      "outputs": []
    },
    {
      "cell_type": "code",
      "source": [
        "def categorical_accuracy(preds, y):\n",
        "  preds = preds.argmax(dim=1) # get the index of the max probability\n",
        "  y = y.argmax(dim=1)\n",
        "  correct = preds.eq(y) \n",
        "  return correct.sum() / y.shape[0]"
      ],
      "metadata": {
        "id": "nkhNSo1VH6VD"
      },
      "execution_count": null,
      "outputs": []
    },
    {
      "cell_type": "code",
      "source": [
        "# Write your code here\n",
        "import torchinfo \n",
        "import numpy as np\n",
        "from torch import nn \n",
        "from torch.nn import Embedding, Dropout, GRU, LSTM, Linear, CrossEntropyLoss\n",
        "from torch.optim import Adam\n",
        "import torch.nn.functional as F\n",
        "\n",
        "VOCAB_LEN = 5157\n",
        "PARSE_DIM = 36\n",
        "EMB_DIM = 50\n",
        "HIDDEN_LAYER = 32\n",
        "\n",
        "# build a parser model  \n",
        "class ParserModel(nn.Module):\n",
        "  def __init__(self, _emb_weight = None):\n",
        "    super().__init__()\n",
        "    self.emb = nn.Embedding(num_embeddings=VOCAB_LEN, embedding_dim=EMB_DIM, _weight=_emb_weight)\n",
        "    self.ff = nn.Linear(PARSE_DIM*EMB_DIM, HIDDEN_LAYER)\n",
        "    self.classifier = nn.Linear(HIDDEN_LAYER, 3)\n",
        "    \n",
        "  def forward(self,x):\n",
        "    x = self.emb(x)\n",
        "    x = torch.flatten(x, start_dim=1)\n",
        "    x = self.ff(x)\n",
        "    x = self.classifier(x)\n",
        "    return x\n",
        "\n",
        "device = 'cuda' if torch.cuda.is_available() else 'cpu'\n",
        "\n",
        "model = ParserModel(_emb_weight = torch.Tensor(embeddings))\n",
        "model.to(device) \n",
        "\n",
        "optimizer = Adam(model.parameters(), lr=1e-3) \n",
        "criterion = CrossEntropyLoss()\n",
        "print(torchinfo.summary(model))\n",
        "\n",
        "# training loop \n",
        "\n",
        "num_epochs = 10\n",
        "train_losses = []\n",
        "train_accs   = []\n",
        "\n",
        "for epoch in range(1, num_epochs+1): \n",
        "\n",
        "  train_loss = []\n",
        "  train_acc  = []\n",
        "\n",
        "  model.train() \n",
        "  for inputs, targets in tqdm(train_loader):\n",
        "    optimizer.zero_grad() \n",
        "\n",
        "    inputs, targets = inputs.to(device), targets.to(device)\n",
        "\n",
        "    pred = model(inputs)\n",
        "\n",
        "    loss = criterion(pred, targets.argmax(dim=1))\n",
        "    acc = categorical_accuracy(pred, targets)\n",
        "    \n",
        "    train_loss.append(loss.item())\n",
        "    train_acc.append(acc)\n",
        "\n",
        "    loss.backward() \n",
        "    optimizer.step()\n",
        "\n",
        "  train_loss = np.mean(train_loss)\n",
        "  train_losses.append(train_loss)\n",
        "  train_acc = np.mean(train_acc)\n",
        "  train_accs.append(train_acc)\n",
        "\n",
        "  print(f' \\\n",
        "    epoch = {epoch:02d},\\\n",
        "    training loss     = {train_loss:.3f},\\\n",
        "    training accuracy = {train_acc:.3f}')\n",
        "       "
      ],
      "metadata": {
        "id": "kG8cZjquEk4a",
        "colab": {
          "base_uri": "https://localhost:8080/",
          "height": 719,
          "referenced_widgets": [
            "4e78d335a70942ba9aab7d49be4ac0c7",
            "4c6cd850e2b84f2d933e605f296c29e8",
            "49c65b8b0c0948368986e85600616981",
            "f641458a4d754014a81eba8eac0838bf",
            "3b73bd6a793245679b2c2e5a08e7d81d",
            "6bf1683d09104cea89aee69fd2df3a44",
            "bf989d2c55af4431abf295b715f68337",
            "f9cacc8d9e7c4a8b81f563308559390c",
            "b7bfb2801546434aa3d8562d0dda7e3f",
            "707cdc668b03470f9e35a858140aac4e",
            "8f4a4f4f8d744a47936eda7341a419b8",
            "d92b62ccf3a04392ac87de24692899b7",
            "a42a2eac436143df976460d579e46f58",
            "7f09671e17a64b60b5e50813893aaf47",
            "6397b6b1ff3a44a1a891792188bb0d19",
            "2bc5494be84847f98504a9b6402f0c35",
            "f54e90729d9b41bf866a3fe4963d646b",
            "d30a304239204a50b2c9b8d05fb7fb48",
            "e3aefc0eb1d846b3ba174ed82a94726d",
            "7ae4f1e7739b4884be7860da4fe33766",
            "c4b91696d9b9498889970a6cf0d87b11",
            "69036a478a1c456cacb8f1215be26aec",
            "0e041c8ec9ba4dd599a89458de9de2d0",
            "9e4a7e628fb14494b8578f54f606cce0",
            "1b987f2dba7e4ddfb769cfa0976e54a9",
            "8fc9a7bed43a45b28ff7848339804b77",
            "3d9e273f447c4b48adec2e307b24ca61",
            "220b90334af746f0831acc3f710abace",
            "1a50a663d5c6491bb6ea76e0680a79cf",
            "e233ff522279495aa58afe41e0b338d8",
            "3b335bb50dcf49adb8d730cd82d434c5",
            "1443a4ef22604f18a503dc90d73127b9",
            "f689b5d3d3be4107ab6db3fa2dd2ea43",
            "b52a02ea54e14dd5a45c4b4ff7e71bb4",
            "dfaa68eb02964ea9b8a32a6754bf28e5",
            "c7863e88f18b419f9a0b43690e5872df",
            "9534ebf8156f4f44975427aa9faf80ee",
            "e9e454c6a6644dfbb2700282ae2bf52a",
            "40c6de77fd8641458388bec02568c4a3",
            "beaa0a913b864cd8bd06cc1108787017",
            "1d52878b2714457a8373a6fb4487a3cb",
            "2b2321d75a794339b34bc1f12ad3a692",
            "7ec00799ac3c4ec088052dccc348ac84",
            "4a0ce459fc134d76b46fb15baea47a2d",
            "ee32893a76d34fb4b5bd773c6afd1360",
            "a4b595dfedd749018902d13ae584894b",
            "e703afa84a3a4461a1201144d8355954",
            "aaabc4b6e3a147fa81bf4eaf50aff841",
            "73e514ae75aa4b7a96a184251244c7b3",
            "d808f9a006bb47abba40f9142484d9d4",
            "13afcf7c20134b1d97173078eea1c826",
            "e261769f63a34c418e00ca7a1f4c94be",
            "9568affe25b140899c2340481ce65aa3",
            "a897cdcdb7d840d0a420bd96eb98db26",
            "784a02ee982f44a7ada6dc9216222b17",
            "074fcddfa2dd4751961ba956cdf7cdaf",
            "8fc630f5c6dd4f68898929bbeb22c2c9",
            "20b45c2a017141309c6b3ba81d7cf280",
            "d2c0c32793ec41ef97b38cb40cd3e8a0",
            "4118ed2efc5545ab9877e243e775fe4b",
            "c80316880ff34334a365a0ca36fd6dd6",
            "af3e16062b43444190c591e499180f40",
            "6c4981cdd17a4a55ae5e3998ba715d9f",
            "0f0c8cbe72ef4f8eb83cb3ace02b8812",
            "92ffe944b9a84d27a32f99350252411f",
            "8400386fce9d48fda9a60134ad279ce8",
            "7c6e9039d3a04595a55ccc3b73095ad9",
            "1e9e8d1471504f57bc84218e0255b5b8",
            "50b37f2f09fa4d96a6e9d4bdc27bcf97",
            "0a6724b425b046b88bbdee93bed9fcb3",
            "719a4b5ec4644cc883190eb1980d5346",
            "08f26845701c4c7e980a46288a502d84",
            "ad8654c4c4ef4faab3234b81ae1bf754",
            "f88df4063afc4491801e9b2ab1784d73",
            "933aeabd2caa42738c05bd539d3835a8",
            "92ccd130a5b449efb0b0d08931c5307e",
            "1da4c3ccb4a04a828101ff8209a47ddf",
            "7ba83015e08940b48bbb0d6ad81b9e94",
            "783ea65fced14b0ab09ca2b87a07bd6a",
            "5f184e49d9224786bec63e152750c74c",
            "fde7edc201804e9ab78685d7bd08d5e8",
            "90f4a81b5e5e4742b130e37ad08fee8a",
            "faa93785e78b47bca8bf9f9843f01bc9",
            "64b4c3a284734017833c800fa2632c67",
            "3ac43d4afd5d4ac79eb5fc10c6e4eb61",
            "1a1b70fd9ed747f4ae09aa481905c2e5",
            "ac66df136501481595a5de5200a492b4",
            "54c58f9acea04748beda80b5c73dce1e",
            "c904e749d0ee4c6c9edee71ab0b0615c",
            "03500a17f75340908415f477f3d26d8f",
            "7c0b353abcf64439b841cbb4cadc4cca",
            "6cdade77f36c4de59ba1f796fd38cbfa",
            "b58403b2590947178fa467f51d4bab3a",
            "ce1dd9460916495187be16648425608a",
            "ec45b79734ca46ee9d2fc8cfe42f1a3f",
            "25547759de034ca580121d3191a9f187",
            "467edc387f254b71815698a0c409392d",
            "21c18b6d0fe941659e8a61061da30f55",
            "0dec70f7689e4a3c96aecb24c540b2ff",
            "a62bd5043a764d23869aed4cc3831aaf",
            "e0573870139a4da2bc164fe2ed219d0a",
            "c17549eb50a347d2ad4cd6d59d75f472",
            "242f44ea61e7488b87d8df2e95b92e4c",
            "eff9f0bbccd84609a152be2ef829b8a3",
            "19fd356040bb4913875df1bf46f47448",
            "ee338518c7de431d990f4fe07bd41ac4",
            "b090f89016f04765bc15e3dca2ae1f73",
            "73d3e0a43ffc441d82d3061616af8900",
            "26788ac47af74a54b31ea65a9596717f",
            "ec3b4814a973492ebb6fa30d823ffc3d"
          ]
        },
        "outputId": "a55611d7-255d-4775-a081-c5de97898c9e"
      },
      "execution_count": null,
      "outputs": [
        {
          "output_type": "stream",
          "name": "stdout",
          "text": [
            "=================================================================\n",
            "Layer (type:depth-idx)                   Param #\n",
            "=================================================================\n",
            "ParserModel                              --\n",
            "├─Embedding: 1-1                         257,850\n",
            "├─Linear: 1-2                            57,632\n",
            "├─Linear: 1-3                            99\n",
            "=================================================================\n",
            "Total params: 315,581\n",
            "Trainable params: 315,581\n",
            "Non-trainable params: 0\n",
            "=================================================================\n"
          ]
        },
        {
          "output_type": "display_data",
          "data": {
            "text/plain": [
              "  0%|          | 0/757 [00:00<?, ?it/s]"
            ],
            "application/vnd.jupyter.widget-view+json": {
              "version_major": 2,
              "version_minor": 0,
              "model_id": "4e78d335a70942ba9aab7d49be4ac0c7"
            }
          },
          "metadata": {}
        },
        {
          "output_type": "stream",
          "name": "stdout",
          "text": [
            "     epoch = 01,    training loss     = 0.331,    training accuracy = 0.868\n"
          ]
        },
        {
          "output_type": "display_data",
          "data": {
            "text/plain": [
              "  0%|          | 0/757 [00:00<?, ?it/s]"
            ],
            "application/vnd.jupyter.widget-view+json": {
              "version_major": 2,
              "version_minor": 0,
              "model_id": "d92b62ccf3a04392ac87de24692899b7"
            }
          },
          "metadata": {}
        },
        {
          "output_type": "stream",
          "name": "stdout",
          "text": [
            "     epoch = 02,    training loss     = 0.244,    training accuracy = 0.907\n"
          ]
        },
        {
          "output_type": "display_data",
          "data": {
            "text/plain": [
              "  0%|          | 0/757 [00:00<?, ?it/s]"
            ],
            "application/vnd.jupyter.widget-view+json": {
              "version_major": 2,
              "version_minor": 0,
              "model_id": "0e041c8ec9ba4dd599a89458de9de2d0"
            }
          },
          "metadata": {}
        },
        {
          "output_type": "stream",
          "name": "stdout",
          "text": [
            "     epoch = 03,    training loss     = 0.208,    training accuracy = 0.921\n"
          ]
        },
        {
          "output_type": "display_data",
          "data": {
            "text/plain": [
              "  0%|          | 0/757 [00:00<?, ?it/s]"
            ],
            "application/vnd.jupyter.widget-view+json": {
              "version_major": 2,
              "version_minor": 0,
              "model_id": "b52a02ea54e14dd5a45c4b4ff7e71bb4"
            }
          },
          "metadata": {}
        },
        {
          "output_type": "stream",
          "name": "stdout",
          "text": [
            "     epoch = 04,    training loss     = 0.180,    training accuracy = 0.933\n"
          ]
        },
        {
          "output_type": "display_data",
          "data": {
            "text/plain": [
              "  0%|          | 0/757 [00:00<?, ?it/s]"
            ],
            "application/vnd.jupyter.widget-view+json": {
              "version_major": 2,
              "version_minor": 0,
              "model_id": "ee32893a76d34fb4b5bd773c6afd1360"
            }
          },
          "metadata": {}
        },
        {
          "output_type": "stream",
          "name": "stdout",
          "text": [
            "     epoch = 05,    training loss     = 0.158,    training accuracy = 0.944\n"
          ]
        },
        {
          "output_type": "display_data",
          "data": {
            "text/plain": [
              "  0%|          | 0/757 [00:00<?, ?it/s]"
            ],
            "application/vnd.jupyter.widget-view+json": {
              "version_major": 2,
              "version_minor": 0,
              "model_id": "074fcddfa2dd4751961ba956cdf7cdaf"
            }
          },
          "metadata": {}
        },
        {
          "output_type": "stream",
          "name": "stdout",
          "text": [
            "     epoch = 06,    training loss     = 0.138,    training accuracy = 0.953\n"
          ]
        },
        {
          "output_type": "display_data",
          "data": {
            "text/plain": [
              "  0%|          | 0/757 [00:00<?, ?it/s]"
            ],
            "application/vnd.jupyter.widget-view+json": {
              "version_major": 2,
              "version_minor": 0,
              "model_id": "7c6e9039d3a04595a55ccc3b73095ad9"
            }
          },
          "metadata": {}
        },
        {
          "output_type": "stream",
          "name": "stdout",
          "text": [
            "     epoch = 07,    training loss     = 0.119,    training accuracy = 0.960\n"
          ]
        },
        {
          "output_type": "display_data",
          "data": {
            "text/plain": [
              "  0%|          | 0/757 [00:00<?, ?it/s]"
            ],
            "application/vnd.jupyter.widget-view+json": {
              "version_major": 2,
              "version_minor": 0,
              "model_id": "7ba83015e08940b48bbb0d6ad81b9e94"
            }
          },
          "metadata": {}
        },
        {
          "output_type": "stream",
          "name": "stdout",
          "text": [
            "     epoch = 08,    training loss     = 0.102,    training accuracy = 0.967\n"
          ]
        },
        {
          "output_type": "display_data",
          "data": {
            "text/plain": [
              "  0%|          | 0/757 [00:00<?, ?it/s]"
            ],
            "application/vnd.jupyter.widget-view+json": {
              "version_major": 2,
              "version_minor": 0,
              "model_id": "c904e749d0ee4c6c9edee71ab0b0615c"
            }
          },
          "metadata": {}
        },
        {
          "output_type": "stream",
          "name": "stdout",
          "text": [
            "     epoch = 09,    training loss     = 0.087,    training accuracy = 0.973\n"
          ]
        },
        {
          "output_type": "display_data",
          "data": {
            "text/plain": [
              "  0%|          | 0/757 [00:00<?, ?it/s]"
            ],
            "application/vnd.jupyter.widget-view+json": {
              "version_major": 2,
              "version_minor": 0,
              "model_id": "a62bd5043a764d23869aed4cc3831aaf"
            }
          },
          "metadata": {}
        },
        {
          "output_type": "stream",
          "name": "stdout",
          "text": [
            "     epoch = 10,    training loss     = 0.074,    training accuracy = 0.978\n"
          ]
        }
      ]
    },
    {
      "cell_type": "markdown",
      "metadata": {
        "id": "332SL84Yy_nf"
      },
      "source": [
        "## 4. Evaluation"
      ]
    },
    {
      "cell_type": "markdown",
      "metadata": {
        "id": "HohiOHZUy_nf"
      },
      "source": [
        "For Dependency Parsing, we usually report attachment score of the model for evaluation. There are two possible metrics UAS and LAS."
      ]
    },
    {
      "cell_type": "markdown",
      "metadata": {
        "id": "R3hmM0Kly_ng"
      },
      "source": [
        "### TODO 5 (Written and Coding):\n",
        "Explain how attachment score is calculated and the difference between unlabeled attachment score (UAS) and labeled attachment score (LAS). Which one should we use here?"
      ]
    },
    {
      "cell_type": "markdown",
      "metadata": {
        "id": "rENVVVUhy_nh"
      },
      "source": [
        "__Answer here__:\n",
        "\n",
        "Attachment score is calculated by using the amount of correct dependency divided by a number of total dependencies. UAS only considers that the dependencies are correct. However, LAS also considered the tag the parsed dependency. The one we use in this dataset is UAS, since the tag for the dependencies is not available in a current setting. "
      ]
    },
    {
      "cell_type": "markdown",
      "metadata": {
        "id": "HE2HQT4Vy_ni"
      },
      "source": [
        "Report the score using appropriate metric on dev_set and test_set. The function for calculating scores are provided in parser.parse and the dataset can be passed in as-is."
      ]
    },
    {
      "cell_type": "markdown",
      "metadata": {
        "id": "r4JJmrsGy_nj"
      },
      "source": [
        "dev_score:"
      ]
    },
    {
      "cell_type": "code",
      "metadata": {
        "id": "SOTPTqf7y_nj"
      },
      "source": [
        "# Write your code here\n",
        "dev_UAS, dev_dependencies  = parser.parse(dev_set, model, minibatch_parse, 2)"
      ],
      "execution_count": null,
      "outputs": []
    },
    {
      "cell_type": "code",
      "source": [
        "dev_UAS"
      ],
      "metadata": {
        "colab": {
          "base_uri": "https://localhost:8080/"
        },
        "id": "pp6hzhVWQLQ8",
        "outputId": "8b3fae39-2e25-4516-bfb3-8d13d5047b40"
      },
      "execution_count": null,
      "outputs": [
        {
          "output_type": "execute_result",
          "data": {
            "text/plain": [
              "0.6383404148962759"
            ]
          },
          "metadata": {},
          "execution_count": 23
        }
      ]
    },
    {
      "cell_type": "markdown",
      "metadata": {
        "id": "DlCJGdLWy_nm"
      },
      "source": [
        "test_score:"
      ]
    },
    {
      "cell_type": "code",
      "metadata": {
        "id": "o2bJf_1oy_nn"
      },
      "source": [
        "# Write your code here\n",
        "test_UAS, test_dependencies  = parser.parse(test_set, model, minibatch_parse, 2)"
      ],
      "execution_count": null,
      "outputs": []
    },
    {
      "cell_type": "code",
      "source": [
        "test_UAS"
      ],
      "metadata": {
        "colab": {
          "base_uri": "https://localhost:8080/"
        },
        "id": "NLrJrU7NQ41_",
        "outputId": "a1353982-3c93-47ba-ad01-0aefd4afe79e"
      },
      "execution_count": null,
      "outputs": [
        {
          "output_type": "execute_result",
          "data": {
            "text/plain": [
              "0.6399495374264087"
            ]
          },
          "metadata": {},
          "execution_count": 25
        }
      ]
    },
    {
      "cell_type": "markdown",
      "metadata": {
        "id": "SLcAa-fLy_nq"
      },
      "source": [
        "Also, print one sample sentence (in English) in the test set and its predicted dependencies from the model.\n",
        "You can use __parser.id2tok\\[word_id\\]__ to lookup the word in English.\n",
        "\n",
        "__Draw a picture of this sentence with arrows and upload it to my couseville__"
      ]
    },
    {
      "cell_type": "code",
      "metadata": {
        "id": "eY6li-u5y_nq"
      },
      "source": [
        "def dependencies_id2tok(dependencies, idx_2_wordidx):\n",
        "  dependencies = [ (idx_2_wordidx[dependency[0]], idx_2_wordidx[dependency[1]])  for dependency in dependencies]\n",
        "  return [ (parser.id2tok[dependency[0]], parser.id2tok[dependency[1]]) for dependency in dependencies]"
      ],
      "execution_count": null,
      "outputs": []
    },
    {
      "cell_type": "code",
      "source": [
        "def tokens2sentences(tokens):\n",
        "  return [parser.id2tok[token] for token in tokens]"
      ],
      "metadata": {
        "id": "ceDVGfbVVqHq"
      },
      "execution_count": null,
      "outputs": []
    },
    {
      "cell_type": "code",
      "source": [
        "# random_idx = np.random.randint(len(test_set))\n",
        "random_idx = 28\n",
        "sample_dependencies = test_dependencies[random_idx]\n",
        "sample_id2word = test_set[random_idx]['word']\n",
        "print(tokens2sentences(test_set[random_idx]['word']))\n",
        "print((dependencies_id2tok(sample_dependencies, sample_id2word)))"
      ],
      "metadata": {
        "colab": {
          "base_uri": "https://localhost:8080/"
        },
        "id": "vOTQL-unTu5i",
        "outputId": "d2432d07-4370-4ee2-caae-f86749ef132d"
      },
      "execution_count": null,
      "outputs": [
        {
          "output_type": "stream",
          "name": "stdout",
          "text": [
            "['<ROOT>', 'at', 'this', 'point', ',', 'the', 'dow', 'was', 'down', 'about', '35', 'points', '.']\n",
            "[('point', 'this'), ('point', 'at'), ('was', 'dow'), ('down', 'was'), ('down', 'the'), ('35', 'about'), ('points', '35'), ('down', 'points'), ('down', '.'), (',', 'down'), ('point', ','), ('<ROOT>', 'point')]\n"
          ]
        }
      ]
    },
    {
      "cell_type": "markdown",
      "source": [
        "![image.png](data:image/png;base64,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)"
      ],
      "metadata": {
        "id": "VmY7SzESb3c7"
      }
    },
    {
      "cell_type": "code",
      "metadata": {
        "id": "jHCFblXJQODi"
      },
      "source": [],
      "execution_count": null,
      "outputs": []
    }
  ]
}